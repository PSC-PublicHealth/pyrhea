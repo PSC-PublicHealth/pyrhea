{
 "cells": [
  {
   "cell_type": "code",
   "execution_count": 2,
   "metadata": {
    "collapsed": true
   },
   "outputs": [],
   "source": [
    "import cPickle\n",
    "import numpy as np"
   ]
  },
  {
   "cell_type": "code",
   "execution_count": 2,
   "metadata": {
    "collapsed": false
   },
   "outputs": [
    {
     "name": "stdout",
     "output_type": "stream",
     "text": [
      "6\n"
     ]
    }
   ],
   "source": [
    "wanted = {'MOUN_2028_H': 6, 'C1051': 619, 'C1057': 610, 'FRAN_20201_H': 2, 'C1058': 368, 'MANO_2145_S': 28, 'TRI_2500_S': 3, 'HEAT_15600_S': 2, 'APPL_21020_S': 2, 'PRAI_345_S': 2, 'RENA_10935_S': 30, 'ADVO_1775_H': 2, 'EVER_10124_S': 14, 'COOK_1901_H': 1, 'MANO_11860_S': 1, 'ROSE_45_H': 2, 'ADVO_836_H': 5, 'JOSE_1127_H': 6, 'SOUT_2649_S': 19, 'THC_4058_L': 5, 'PROV_3450_S': 1, 'COUN_1125_S': 2, 'THC_6130_L': 5, 'CONT_5336_S': 1, 'CRES_14255_S': 13, 'WIND_16000_S': 1, 'C1047': 241, 'RIDG_12550_S': 1, 'ALDE_255_S': 3, 'RENA_4437_S': 1, 'SOUT_1010_S': 14, 'THE_5841_H': 21, 'PALO_12251_H': 1, 'THE_2732_S': 1, 'HOLY_2701_H': 3, 'RML_5601_L': 4, 'LEXI_10300_S': 20, 'JACK_7531_H': 6, 'BELH_11401_S': 4, 'NORT_251_H': 7, 'THE_2425_S': 33, 'C1046': 320, 'THC_2544_L': 4, 'THE_1740_H': 6, 'LITT_2800_H': 2, 'REST_16300_S': 17, 'SOUT_8012_H': 2, 'ALDE_16450_S': 2, 'THC_365_L': 1, 'ELMB_127_S': 0, 'GLEN_19330_S': 2, 'BRIT_8700_S': 1, 'MANO_7850_S': 2, 'WARR_66_S': 2, 'C1026': 397, 'MANO_6300_S': 8, 'LORE_645_H': 1, 'CHEV_3400_S': 3, 'PLAZ_3249_S': 2, 'MANO_9401_S': 16, 'PRES_1127_H': 1, 'DOLT_14325_S': 2, 'MONT_5550_S': 1, 'ADVO_2320_H': 192, 'WATE_7750_S': 8, 'TRIL_1251_S': 5, 'COMM_4314_S': 1, 'ALDE_201_S': 10, 'PINN_2222_S': 1, 'CLAR_1366_S': 1, 'CALI_2829_S': 4, 'MCAL_18300_S': 1, 'FRAN_5454_H': 22, 'C1043': 259, 'C1045': 339, 'MSMC_12935_H': 4, 'RENA_2940_S': 3, 'C1049': 271, 'ADVO_17800_H': 11, 'ADVO_3435_L': 1, 'ADVO_4440_H': 50, 'MERC_2525_H': 10, 'THI_5400_S': 19, 'COMM_5645_H': 1, 'COUN_1635_S': 5, 'THE_1_H': 7, 'FORT_4621_S': 1, 'C1050': 291, 'RUSH_1653_H': 10, 'MST_120_S': 1}\n",
    "print wanted['MOUN_2028_H']"
   ]
  },
  {
   "cell_type": "code",
   "execution_count": 3,
   "metadata": {
    "collapsed": false
   },
   "outputs": [
    {
     "name": "stdout",
     "output_type": "stream",
     "text": [
      "ABBI_31_S: 0\n",
      "ADAM_119_S: 0\n",
      "ADVE_120_H: 0\n",
      "ADVE_500_H: 0\n",
      "ADVE_5101_H: 0\n",
      "ADVE_701_H: 0\n",
      "ADVO_1775_H: 2\n",
      "ADVO_17800_H: 11\n",
      "ADVO_2320_H: 192\n",
      "ADVO_3435_L: 1\n",
      "ADVO_3815_H: 0\n",
      "ADVO_4440_H: 50\n",
      "ADVO_450_H: 0\n",
      "ADVO_801_H: 0\n",
      "ADVO_836_H: 5\n",
      "ALDE_1221_S: 0\n",
      "ALDE_1420_S: 0\n",
      "ALDE_1535_S: 0\n",
      "ALDE_1545_S: 0\n",
      "ALDE_16450_S: 2\n",
      "ALDE_201_S: 10\n",
      "ALDE_2021_S: 0\n",
      "ALDE_2520_S: 0\n",
      "ALDE_255_S: 3\n",
      "ALDE_275_S: 0\n",
      "ALDE_4660_S: 0\n",
      "ALDE_504_S: 0\n",
      "ALDE_5050_S: 0\n",
      "ALDE_5831_S: 0\n",
      "ALDE_6120_S: 0\n",
      "ALDE_803_S: 0\n",
      "ALDE_820_V: 0\n",
      "ALDE_BOX_S: 0\n",
      "ALEX_800_H: 0\n",
      "ALSH_2840_S: 0\n",
      "AMBA_4900_S: 0\n",
      "ANN_225_C: 0\n",
      "APPL_21020_S: 2\n",
      "ARBO_1512_S: 0\n",
      "ARBO_535_S: 0\n",
      "ASTA_134_S: 0\n",
      "ASTO_6300_S: 0\n",
      "ATRI_1425_S: 0\n",
      "AURO_10400_H: 0\n",
      "AURO_1601_S: 0\n",
      "AVEN_4505_S: 0\n",
      "BALL_9300_V: 0\n",
      "BALM_2055_S: 0\n",
      "BAYS_1100_S: 0\n",
      "BEEC_1201_S: 0\n",
      "BELH_11401_S: 4\n",
      "BERK_6909_S: 0\n",
      "BERK_8200_S: 0\n",
      "BETH_3298_S: 0\n",
      "BETH_5025_H: 0\n",
      "BETH_8425_S: 0\n",
      "BEVE_1703_S: 0\n",
      "BIRC_1426_S: 0\n",
      "BMO_10602_S: 0\n",
      "BOUR_133_S: 0\n",
      "BRAD_650_S: 0\n",
      "BRAV_1800_S: 0\n",
      "BRAV_2355_S: 0\n",
      "BRAV_3401_S: 0\n",
      "BRAV_4101_S: 0\n",
      "BRAV_850_S: 0\n",
      "BREN_3705_S: 0\n",
      "BRIA_6800_S: 0\n",
      "BRID_8100_S: 0\n",
      "BRIG_4538_S: 0\n",
      "BRIT_8700_S: 1\n",
      "BROO_1800_S: 0\n",
      "BROO_3506_S: 0\n",
      "BUCK_2625_S: 0\n",
      "BURN_14500_S: 0\n",
      "BUTT_339_S: 0\n",
      "BUTT_431_S: 0\n",
      "BUTT_720_S: 0\n",
      "CALI_2829_S: 4\n",
      "CAPI_7250_S: 0\n",
      "CARL_725_S: 0\n",
      "CCL_2401_S: 0\n",
      "CENT_1401_S: 0\n",
      "CENT_2450_S: 0\n",
      "CENT_25_H: 0\n",
      "CENT_4747_S: 0\n",
      "CHAT_7050_S: 0\n",
      "CHEV_3400_S: 3\n",
      "CHIC_1415_S: 0\n",
      "CHIC_6685_S: 0\n",
      "CHUR_2000_S: 0\n",
      "CITY_5825_S: 0\n",
      "CLAR_1366_S: 1\n",
      "CLAR_150_S: 0\n",
      "CLAR_700_S: 0\n",
      "CLAR_7433_S: 0\n",
      "CLAR_829_S: 0\n",
      "COLU_901_S: 0\n",
      "COMM_1136_S: 0\n",
      "COMM_4314_S: 1\n",
      "COMM_503_S: 0\n",
      "COMM_5645_H: 1\n",
      "CONC_9401_S: 0\n",
      "CONS_1000_S: 0\n",
      "CONT_5336_S: 1\n",
      "COOK_15900_H: 0\n",
      "COOK_1901_H: 1\n",
      "COOK_500_H: 0\n",
      "COPL_2000_H: 0\n",
      "COUN_1125_S: 2\n",
      "COUN_1635_S: 5\n",
      "COUN_2330_S: 0\n",
      "COUN_2406_S: 0\n",
      "COUN_421_S: 0\n",
      "COUN_9700_S: 0\n",
      "COUR_3601_S: 0\n",
      "COVE_2625_S: 0\n",
      "COVE_700_S: 0\n",
      "CRES_13301_S: 0\n",
      "CRES_14255_S: 13\n",
      "CRYS_335_S: 0\n",
      "DECA_353_S: 0\n",
      "DEER_306_S: 0\n",
      "DEKA_1316_H: 0\n",
      "DEKA_2600_S: 0\n",
      "DEKA_2944_S: 0\n",
      "DELN_300_H: 0\n",
      "DOBS_120_S: 0\n",
      "DOLT_14325_S: 2\n",
      "DUPA_400_S: 0\n",
      "EDWA_801_H: 0\n",
      "ELMB_127_S: 0\n",
      "ELMH_200_H: 0\n",
      "ELMH_200_S: 0\n",
      "ELMW_1017_S: 0\n",
      "ELMW_7733_V: 0\n",
      "EMBA_555_S: 0\n",
      "EMER_6801_S: 0\n",
      "EVAN_1300_S: 0\n",
      "EVAN_350_S: 0\n",
      "EVER_10124_S: 14\n",
      "EXCE_5701_S: 0\n",
      "EXTE_8633_S: 0\n",
      "FAIR_222_S: 0\n",
      "FAIR_5061_S: 0\n",
      "FAL_9630_S: 0\n",
      "FORE_6840_S: 0\n",
      "FORT_4621_S: 1\n",
      "FOUN_1000_S: 0\n",
      "FRAN_1055_S: 0\n",
      "FRAN_1201_H: 0\n",
      "FRAN_1270_S: 0\n",
      "FRAN_1423_H: 0\n",
      "FRAN_20201_H: 2\n",
      "FRAN_24_H: 0\n",
      "FRAN_301_H: 0\n",
      "FRAN_4021_S: 0\n",
      "FRAN_40_S: 0\n",
      "FRAN_5454_H: 22\n",
      "FRAN_555_S: 0\n",
      "FRAN_701_H: 0\n",
      "GENE_3856_S: 0\n",
      "GEOR_3623_S: 0\n",
      "GLEN_1511_S: 0\n",
      "GLEN_19330_S: 2\n",
      "GLEN_22660_V: 0\n",
      "GLEN_2451_V: 0\n",
      "GLEN_270_S: 0\n",
      "GLEN_3901_S: 0\n",
      "GLEN_4340_S: 0\n",
      "GLEN_8333_V: 0\n",
      "GOTT_701_H: 0\n",
      "GRAS_4621_S: 0\n",
      "GREE_220_S: 0\n",
      "GROS_6601_S: 0\n",
      "GROV_701_S: 0\n",
      "GROV_9000_S: 0\n",
      "HANC_101_S: 0\n",
      "HANC_203_S: 0\n",
      "HARM_3919_S: 0\n",
      "HEAL_5801_S: 0\n",
      "HEAR_3100_S: 0\n",
      "HEAT_15600_S: 2\n",
      "HELI_1308_S: 0\n",
      "HEND_1700_S: 0\n",
      "HEND_1900_S: 0\n",
      "HEND_251_S: 0\n",
      "HEND_3175_S: 0\n",
      "HEND_8800_S: 0\n",
      "HERI_355_S: 0\n",
      "HERI_5888_S: 0\n",
      "HICK_9246_S: 0\n",
      "HIGH_50_S: 0\n",
      "HILL_1740_S: 0\n",
      "HILL_777_S: 0\n",
      "HOLY_12220_S: 0\n",
      "HOLY_2701_H: 3\n",
      "IMPE_3300_S: 0\n",
      "INDI_1007_H: 0\n",
      "INTE_4815_S: 0\n",
      "JACK_5130_S: 0\n",
      "JACK_7531_H: 6\n",
      "JASP_1104_H: 0\n",
      "JOHN_1367_S: 0\n",
      "JOHN_2901_S: 0\n",
      "JOHN_5909_S: 0\n",
      "JOLI_2230_S: 0\n",
      "JOSE_1127_H: 6\n",
      "KANK_100_S: 0\n",
      "KENS_3405_S: 0\n",
      "KENW_7434_S: 0\n",
      "KIND_2300_S: 0\n",
      "KIND_3415_S: 0\n",
      "KIND_8400_S: 0\n",
      "KISH_ONE_H: 0\n",
      "LAKE_14718_S: 0\n",
      "LAKE_263_S: 0\n",
      "LAKE_7200_S: 0\n",
      "LAKE_735_S: 0\n",
      "LAKE_7618_S: 0\n",
      "LAR_E_C: 0\n",
      "LEMO_12450_S: 0\n",
      "LEXI_10300_S: 20\n",
      "LEXI_14601_S: 0\n",
      "LEXI_165_S: 0\n",
      "LEXI_2100_S: 0\n",
      "LEXI_420_S: 0\n",
      "LEXI_4735_S: 0\n",
      "LEXI_675_S: 0\n",
      "LEXI_730_S: 0\n",
      "LEXI_815_S: 0\n",
      "LEXI_900_S: 0\n",
      "LIBE_610_S: 0\n",
      "LIFE_1000_S: 0\n",
      "LIFE_250_S: 0\n",
      "LINC_960_S: 0\n",
      "LITT_2325_S: 0\n",
      "LITT_2800_H: 2\n",
      "LITT_80_S: 0\n",
      "LONG_1666_S: 0\n",
      "LORE_645_H: 1\n",
      "LOYO_2160_H: 0\n",
      "LUTH_1601_S: 0\n",
      "LUTH_16220_S: 0\n",
      "LUTH_800_S: 0\n",
      "MAJO_10352_S: 0\n",
      "MAJO_2350_S: 0\n",
      "MAJO_3301_S: 0\n",
      "MAJO_4410_S: 0\n",
      "MAJO_5025_S: 0\n",
      "MAJO_601_S: 0\n",
      "MAJO_7935_S: 0\n",
      "MAJO_8380_S: 0\n",
      "MANO_11860_S: 1\n",
      "MANO_1500_S: 0\n",
      "MANO_180_S: 0\n",
      "MANO_1920_S: 0\n",
      "MANO_200_S: 0\n",
      "MANO_2145_S: 28\n",
      "MANO_2773_S: 0\n",
      "MANO_3300_S: 0\n",
      "MANO_4225_S: 0\n",
      "MANO_432_S: 0\n",
      "MANO_512_S: 0\n",
      "MANO_600_S: 0\n",
      "MANO_6300_S: 8\n",
      "MANO_715_S: 0\n",
      "MANO_7850_S: 2\n",
      "MANO_900_S: 0\n",
      "MANO_9401_S: 16\n",
      "MANO_940_S: 0\n",
      "MAPL_50_S: 0\n",
      "MATH_820_S: 0\n",
      "MAYF_5905_S: 0\n",
      "MCAL_18300_S: 1\n",
      "MEMO_3701_H: 0\n",
      "MEMO_527_S: 0\n",
      "MERC_2525_H: 10\n",
      "MERC_901_H: 0\n",
      "MICH_802_S: 0\n",
      "MIDW_111_S: 0\n",
      "MIDW_1430_H: 0\n",
      "MIDW_1519_S: 0\n",
      "MIDW_8540_S: 0\n",
      "MID_4920_S: 0\n",
      "MISE_6300_S: 0\n",
      "MOME_500_S: 0\n",
      "MONT_5550_S: 1\n",
      "MORR_1095_S: 0\n",
      "MORR_1223_S: 0\n",
      "MORR_150_H: 0\n",
      "MOUN_2028_H: 6\n",
      "MSMC_12935_H: 4\n",
      "MST_120_S: 1\n",
      "MUNS_901_H: 0\n",
      "NEWT_300_S: 0\n",
      "NILE_9777_S: 0\n",
      "NORR_7001_S: 0\n",
      "NORT_251_H: 7\n",
      "NORT_2650_H: 0\n",
      "NORT_4201_H: 0\n",
      "NORT_660_H: 0\n",
      "NORT_777_H: 0\n",
      "NORT_800_H: 0\n",
      "NORT_9600_H: 0\n",
      "NORW_1044_H: 0\n",
      "NORW_2833_S: 0\n",
      "NORW_6016_S: 0\n",
      "OAKR_323_S: 0\n",
      "OAKT_1660_S: 0\n",
      "OAK_2013_S: 0\n",
      "OAK_221_S: 0\n",
      "OAK_520_S: 0\n",
      "OAK_625_S: 0\n",
      "OAK_9525_V: 0\n",
      "OUR_1201_S: 0\n",
      "PALO_10426_S: 0\n",
      "PALO_12251_H: 1\n",
      "PARK_2320_V: 0\n",
      "PARK_6125_V: 0\n",
      "PARK_665_S: 0\n",
      "PAVI_2217_S: 0\n",
      "PERS_3900_S: 0\n",
      "PETE_310_S: 0\n",
      "PETE_520_S: 0\n",
      "PETE_6141_S: 0\n",
      "PETE_746_S: 0\n",
      "PETE_902_S: 0\n",
      "PHWD_3500_S: 0\n",
      "PINE_1212_S: 0\n",
      "PINN_2222_S: 1\n",
      "PINN_9301_H: 0\n",
      "PLAZ_3249_S: 2\n",
      "PLUM_24_S: 0\n",
      "PLYM_315_S: 0\n",
      "PORT_85_H: 0\n",
      "PRAI_345_S: 2\n",
      "PRES_1001_S: 0\n",
      "PRES_100_L: 0\n",
      "PRES_1100_S: 0\n",
      "PRES_1127_H: 1\n",
      "PRES_1325_H: 0\n",
      "PRES_1700_S: 0\n",
      "PRES_20_S: 0\n",
      "PRES_210_S: 0\n",
      "PRES_333_H: 0\n",
      "PRES_355_H: 0\n",
      "PRES_400_S: 0\n",
      "PRES_480_S: 0\n",
      "PRES_500_H: 0\n",
      "PRES_611_S: 0\n",
      "PRES_6930_S: 0\n",
      "PRES_7435_H: 0\n",
      "PRES_77_H: 0\n",
      "PRES_8001_S: 0\n",
      "PRES_811_S: 0\n",
      "PRES_901_S: 0\n",
      "PROV_1101_S: 0\n",
      "PROV_13259_S: 0\n",
      "PROV_3450_S: 1\n",
      "REGE_6631_S: 0\n",
      "RENA_10935_S: 30\n",
      "RENA_2940_S: 3\n",
      "RENA_4437_S: 1\n",
      "RENS_1309_S: 0\n",
      "REST_16300_S: 17\n",
      "RESU_2380_S: 0\n",
      "RESU_500_S: 0\n",
      "RIDG_12550_S: 1\n",
      "RIDG_6450_S: 0\n",
      "RIVE_1601_S: 0\n",
      "RIVE_350_H: 0\n",
      "RIVI_490_S: 0\n",
      "RML_5601_L: 4\n",
      "ROSE_45_H: 2\n",
      "RREM_2155_S: 0\n",
      "RUSH_1653_H: 10\n",
      "RUSH_520_H: 0\n",
      "SAIN_2875_H: 0\n",
      "SALE_1314_S: 0\n",
      "SENE_1301_S: 0\n",
      "SHAB_409_S: 0\n",
      "SHER_1425_H: 0\n",
      "SHER_1950_S: 0\n",
      "SHER_2534_S: 0\n",
      "SHER_5838_S: 0\n",
      "SHER_7350_S: 0\n",
      "SH_700_S: 0\n",
      "SILV_1900_H: 0\n",
      "SKOK_9615_S: 0\n",
      "SLL_7000_S: 0\n",
      "SLOV_3615_S: 0\n",
      "SNH_1200_S: 0\n",
      "SNOW_5000_S: 0\n",
      "SOME_5009_S: 0\n",
      "SOUT_1010_S: 14\n",
      "SOUT_19000_S: 0\n",
      "SOUT_2649_S: 19\n",
      "SOUT_3311_S: 0\n",
      "SOUT_8012_H: 2\n",
      "SSC_10330_S: 0\n",
      "SSC_2901_S: 0\n",
      "STA_1725_V: 0\n",
      "STC_4321_H: 0\n",
      "STM_1500_H: 0\n",
      "STP_1400_S: 0\n",
      "ST_1555_H: 0\n",
      "ST_326_H: 0\n",
      "ST_3800_S: 0\n",
      "ST_9244_S: 0\n",
      "SWED_5145_H: 0\n",
      "TABO_1347_S: 0\n",
      "THC_225_L: 0\n",
      "THC_2544_L: 4\n",
      "THC_365_L: 1\n",
      "THC_4058_L: 5\n",
      "THC_6130_L: 5\n",
      "THE_110_S: 0\n",
      "THE_116_S: 0\n",
      "THE_1615_S: 0\n",
      "THE_1740_H: 6\n",
      "THE_1_H: 7\n",
      "THE_2425_S: 33\n",
      "THE_2732_S: 1\n",
      "THE_4390_S: 0\n",
      "THE_4600_S: 0\n",
      "THE_55_S: 0\n",
      "THE_5841_H: 21\n",
      "THE_6000_S: 0\n",
      "THE_600_H: 0\n",
      "THE_606_S: 0\n",
      "THE_710_S: 0\n",
      "THE_908_S: 0\n",
      "THI_5400_S: 19\n",
      "THOR_160_S: 0\n",
      "THOR_850_H: 0\n",
      "TOWE_759_S: 0\n",
      "TRIL_1101_S: 0\n",
      "TRIL_1251_S: 5\n",
      "TRI_2500_S: 3\n",
      "UNIT_6308_H: 0\n",
      "VALL_1302_H: 0\n",
      "VALP_3405_S: 0\n",
      "VHS_1225_H: 0\n",
      "VHS_3249_H: 0\n",
      "VHS_3_H: 0\n",
      "VHS_4646_H: 0\n",
      "VIBR_9509_L: 0\n",
      "WARR_66_S: 2\n",
      "WARR_6700_S: 0\n",
      "WASH_10501_S: 0\n",
      "WASH_11308_S: 0\n",
      "WATE_7445_S: 0\n",
      "WATE_7750_S: 8\n",
      "WAUC_176_S: 0\n",
      "WAUK_1324_H: 0\n",
      "WAUK_2615_H: 0\n",
      "WAUK_919_S: 0\n",
      "WEAL_150_S: 0\n",
      "WESL_1751_S: 0\n",
      "WEST_311_S: 0\n",
      "WEST_3200_S: 0\n",
      "WEST_3240_H: 0\n",
      "WEST_6501_S: 0\n",
      "WEST_928_S: 0\n",
      "WHEA_1325_S: 0\n",
      "WHIT_300_S: 0\n",
      "WILL_515_S: 0\n",
      "WILL_546_S: 0\n",
      "WINC_6326_S: 0\n",
      "WIND_124_S: 0\n",
      "WIND_16000_S: 1\n",
      "WINF_28W141_S: 0\n",
      "WISC_471_S: 0\n",
      "WITT_1200_S: 0\n",
      "WOOD_2242_S: 0\n",
      "WOOD_7444_S: 0\n",
      "WOOD_920_S: 0\n",
      "WRHC_309_S: 0\n",
      "WYND_2180_S: 0\n",
      "ZIKA_5448_S\n",
      ": 0\n"
     ]
    }
   ],
   "source": [
    "bigstr=\"\"\"\n",
    "To_ABBI_31_S\tTo_ADAM_119_S\tTo_ADVE_120_H\tTo_ADVE_500_H\tTo_ADVE_5101_H\tTo_ADVE_701_H\tTo_ADVO_1775_H\tTo_ADVO_17800_H\tTo_ADVO_2320_H\tTo_ADVO_3435_L\tTo_ADVO_3815_H\tTo_ADVO_4440_H\tTo_ADVO_450_H\tTo_ADVO_801_H\tTo_ADVO_836_H\tTo_ALDE_1221_S\tTo_ALDE_1420_S\tTo_ALDE_1535_S\tTo_ALDE_1545_S\tTo_ALDE_16450_S\tTo_ALDE_201_S\tTo_ALDE_2021_S\tTo_ALDE_2520_S\tTo_ALDE_255_S\tTo_ALDE_275_S\tTo_ALDE_4660_S\tTo_ALDE_504_S\tTo_ALDE_5050_S\tTo_ALDE_5831_S\tTo_ALDE_6120_S\tTo_ALDE_803_S\tTo_ALDE_820_V\tTo_ALDE_BOX_S\tTo_ALEX_800_H\tTo_ALSH_2840_S\tTo_AMBA_4900_S\tTo_ANN_225_C\tTo_APPL_21020_S\tTo_ARBO_1512_S\tTo_ARBO_535_S\tTo_ASTA_134_S\tTo_ASTO_6300_S\tTo_ATRI_1425_S\tTo_AURO_10400_H\tTo_AURO_1601_S\tTo_AVEN_4505_S\tTo_BALL_9300_V\tTo_BALM_2055_S\tTo_BAYS_1100_S\tTo_BEEC_1201_S\tTo_BELH_11401_S\tTo_BERK_6909_S\tTo_BERK_8200_S\tTo_BETH_3298_S\tTo_BETH_5025_H\tTo_BETH_8425_S\tTo_BEVE_1703_S\tTo_BIRC_1426_S\tTo_BMO_10602_S\tTo_BOUR_133_S\tTo_BRAD_650_S\tTo_BRAV_1800_S\tTo_BRAV_2355_S\tTo_BRAV_3401_S\tTo_BRAV_4101_S\tTo_BRAV_850_S\tTo_BREN_3705_S\tTo_BRIA_6800_S\tTo_BRID_8100_S\tTo_BRIG_4538_S\tTo_BRIT_8700_S\tTo_BROO_1800_S\tTo_BROO_3506_S\tTo_BUCK_2625_S\tTo_BURN_14500_S\tTo_BUTT_339_S\tTo_BUTT_431_S\tTo_BUTT_720_S\tTo_CALI_2829_S\tTo_CAPI_7250_S\tTo_CARL_725_S\tTo_CCL_2401_S\tTo_CENT_1401_S\tTo_CENT_2450_S\tTo_CENT_25_H\tTo_CENT_4747_S\tTo_CHAT_7050_S\tTo_CHEV_3400_S\tTo_CHIC_1415_S\tTo_CHIC_6685_S\tTo_CHUR_2000_S\tTo_CITY_5825_S\tTo_CLAR_1366_S\tTo_CLAR_150_S\tTo_CLAR_700_S\tTo_CLAR_7433_S\tTo_CLAR_829_S\tTo_COLU_901_S\tTo_COMM_1136_S\tTo_COMM_4314_S\tTo_COMM_503_S\tTo_COMM_5645_H\tTo_CONC_9401_S\tTo_CONS_1000_S\tTo_CONT_5336_S\tTo_COOK_15900_H\tTo_COOK_1901_H\tTo_COOK_500_H\tTo_COPL_2000_H\tTo_COUN_1125_S\tTo_COUN_1635_S\tTo_COUN_2330_S\tTo_COUN_2406_S\tTo_COUN_421_S\tTo_COUN_9700_S\tTo_COUR_3601_S\tTo_COVE_2625_S\tTo_COVE_700_S\tTo_CRES_13301_S\tTo_CRES_14255_S\tTo_CRYS_335_S\tTo_DECA_353_S\tTo_DEER_306_S\tTo_DEKA_1316_H\tTo_DEKA_2600_S\tTo_DEKA_2944_S\tTo_DELN_300_H\tTo_DOBS_120_S\tTo_DOLT_14325_S\tTo_DUPA_400_S\tTo_EDWA_801_H\tTo_ELMB_127_S\tTo_ELMH_200_H\tTo_ELMH_200_S\tTo_ELMW_1017_S\tTo_ELMW_7733_V\tTo_EMBA_555_S\tTo_EMER_6801_S\tTo_EVAN_1300_S\tTo_EVAN_350_S\tTo_EVER_10124_S\tTo_EXCE_5701_S\tTo_EXTE_8633_S\tTo_FAIR_222_S\tTo_FAIR_5061_S\tTo_FAL_9630_S\tTo_FORE_6840_S\tTo_FORT_4621_S\tTo_FOUN_1000_S\tTo_FRAN_1055_S\tTo_FRAN_1201_H\tTo_FRAN_1270_S\tTo_FRAN_1423_H\tTo_FRAN_20201_H\tTo_FRAN_24_H\tTo_FRAN_301_H\tTo_FRAN_4021_S\tTo_FRAN_40_S\tTo_FRAN_5454_H\tTo_FRAN_555_S\tTo_FRAN_701_H\tTo_GENE_3856_S\tTo_GEOR_3623_S\tTo_GLEN_1511_S\tTo_GLEN_19330_S\tTo_GLEN_22660_V\tTo_GLEN_2451_V\tTo_GLEN_270_S\tTo_GLEN_3901_S\tTo_GLEN_4340_S\tTo_GLEN_8333_V\tTo_GOTT_701_H\tTo_GRAS_4621_S\tTo_GREE_220_S\tTo_GROS_6601_S\tTo_GROV_701_S\tTo_GROV_9000_S\tTo_HANC_101_S\tTo_HANC_203_S\tTo_HARM_3919_S\tTo_HEAL_5801_S\tTo_HEAR_3100_S\tTo_HEAT_15600_S\tTo_HELI_1308_S\tTo_HEND_1700_S\tTo_HEND_1900_S\tTo_HEND_251_S\tTo_HEND_3175_S\tTo_HEND_8800_S\tTo_HERI_355_S\tTo_HERI_5888_S\tTo_HICK_9246_S\tTo_HIGH_50_S\tTo_HILL_1740_S\tTo_HILL_777_S\tTo_HOLY_12220_S\tTo_HOLY_2701_H\tTo_IMPE_3300_S\tTo_INDI_1007_H\tTo_INTE_4815_S\tTo_JACK_5130_S\tTo_JACK_7531_H\tTo_JASP_1104_H\tTo_JOHN_1367_S\tTo_JOHN_2901_S\tTo_JOHN_5909_S\tTo_JOLI_2230_S\tTo_JOSE_1127_H\tTo_KANK_100_S\tTo_KENS_3405_S\tTo_KENW_7434_S\tTo_KIND_2300_S\tTo_KIND_3415_S\tTo_KIND_8400_S\tTo_KISH_ONE_H\tTo_LAKE_14718_S\tTo_LAKE_263_S\tTo_LAKE_7200_S\tTo_LAKE_735_S\tTo_LAKE_7618_S\tTo_LAR_E_C\tTo_LEMO_12450_S\tTo_LEXI_10300_S\tTo_LEXI_14601_S\tTo_LEXI_165_S\tTo_LEXI_2100_S\tTo_LEXI_420_S\tTo_LEXI_4735_S\tTo_LEXI_675_S\tTo_LEXI_730_S\tTo_LEXI_815_S\tTo_LEXI_900_S\tTo_LIBE_610_S\tTo_LIFE_1000_S\tTo_LIFE_250_S\tTo_LINC_960_S\tTo_LITT_2325_S\tTo_LITT_2800_H\tTo_LITT_80_S\tTo_LONG_1666_S\tTo_LORE_645_H\tTo_LOYO_2160_H\tTo_LUTH_1601_S\tTo_LUTH_16220_S\tTo_LUTH_800_S\tTo_MAJO_10352_S\tTo_MAJO_2350_S\tTo_MAJO_3301_S\tTo_MAJO_4410_S\tTo_MAJO_5025_S\tTo_MAJO_601_S\tTo_MAJO_7935_S\tTo_MAJO_8380_S\tTo_MANO_11860_S\tTo_MANO_1500_S\tTo_MANO_180_S\tTo_MANO_1920_S\tTo_MANO_200_S\tTo_MANO_2145_S\tTo_MANO_2773_S\tTo_MANO_3300_S\tTo_MANO_4225_S\tTo_MANO_432_S\tTo_MANO_512_S\tTo_MANO_600_S\tTo_MANO_6300_S\tTo_MANO_715_S\tTo_MANO_7850_S\tTo_MANO_900_S\tTo_MANO_9401_S\tTo_MANO_940_S\tTo_MAPL_50_S\tTo_MATH_820_S\tTo_MAYF_5905_S\tTo_MCAL_18300_S\tTo_MEMO_3701_H\tTo_MEMO_527_S\tTo_MERC_2525_H\tTo_MERC_901_H\tTo_MICH_802_S\tTo_MIDW_111_S\tTo_MIDW_1430_H\tTo_MIDW_1519_S\tTo_MIDW_8540_S\tTo_MID_4920_S\tTo_MISE_6300_S\tTo_MOME_500_S\tTo_MONT_5550_S\tTo_MORR_1095_S\tTo_MORR_1223_S\tTo_MORR_150_H\tTo_MOUN_2028_H\tTo_MSMC_12935_H\tTo_MST_120_S\tTo_MUNS_901_H\tTo_NEWT_300_S\tTo_NILE_9777_S\tTo_NORR_7001_S\tTo_NORT_251_H\tTo_NORT_2650_H\tTo_NORT_4201_H\tTo_NORT_660_H\tTo_NORT_777_H\tTo_NORT_800_H\tTo_NORT_9600_H\tTo_NORW_1044_H\tTo_NORW_2833_S\tTo_NORW_6016_S\tTo_OAKR_323_S\tTo_OAKT_1660_S\tTo_OAK_2013_S\tTo_OAK_221_S\tTo_OAK_520_S\tTo_OAK_625_S\tTo_OAK_9525_V\tTo_OUR_1201_S\tTo_PALO_10426_S\tTo_PALO_12251_H\tTo_PARK_2320_V\tTo_PARK_6125_V\tTo_PARK_665_S\tTo_PAVI_2217_S\tTo_PERS_3900_S\tTo_PETE_310_S\tTo_PETE_520_S\tTo_PETE_6141_S\tTo_PETE_746_S\tTo_PETE_902_S\tTo_PHWD_3500_S\tTo_PINE_1212_S\tTo_PINN_2222_S\tTo_PINN_9301_H\tTo_PLAZ_3249_S\tTo_PLUM_24_S\tTo_PLYM_315_S\tTo_PORT_85_H\tTo_PRAI_345_S\tTo_PRES_1001_S\tTo_PRES_100_L\tTo_PRES_1100_S\tTo_PRES_1127_H\tTo_PRES_1325_H\tTo_PRES_1700_S\tTo_PRES_20_S\tTo_PRES_210_S\tTo_PRES_333_H\tTo_PRES_355_H\tTo_PRES_400_S\tTo_PRES_480_S\tTo_PRES_500_H\tTo_PRES_611_S\tTo_PRES_6930_S\tTo_PRES_7435_H\tTo_PRES_77_H\tTo_PRES_8001_S\tTo_PRES_811_S\tTo_PRES_901_S\tTo_PROV_1101_S\tTo_PROV_13259_S\tTo_PROV_3450_S\tTo_REGE_6631_S\tTo_RENA_10935_S\tTo_RENA_2940_S\tTo_RENA_4437_S\tTo_RENS_1309_S\tTo_REST_16300_S\tTo_RESU_2380_S\tTo_RESU_500_S\tTo_RIDG_12550_S\tTo_RIDG_6450_S\tTo_RIVE_1601_S\tTo_RIVE_350_H\tTo_RIVI_490_S\tTo_RML_5601_L\tTo_ROSE_45_H\tTo_RREM_2155_S\tTo_RUSH_1653_H\tTo_RUSH_520_H\tTo_SAIN_2875_H\tTo_SALE_1314_S\tTo_SENE_1301_S\tTo_SHAB_409_S\tTo_SHER_1425_H\tTo_SHER_1950_S\tTo_SHER_2534_S\tTo_SHER_5838_S\tTo_SHER_7350_S\tTo_SH_700_S\tTo_SILV_1900_H\tTo_SKOK_9615_S\tTo_SLL_7000_S\tTo_SLOV_3615_S\tTo_SNH_1200_S\tTo_SNOW_5000_S\tTo_SOME_5009_S\tTo_SOUT_1010_S\tTo_SOUT_19000_S\tTo_SOUT_2649_S\tTo_SOUT_3311_S\tTo_SOUT_8012_H\tTo_SSC_10330_S\tTo_SSC_2901_S\tTo_STA_1725_V\tTo_STC_4321_H\tTo_STM_1500_H\tTo_STP_1400_S\tTo_ST_1555_H\tTo_ST_326_H\tTo_ST_3800_S\tTo_ST_9244_S\tTo_SWED_5145_H\tTo_TABO_1347_S\tTo_THC_225_L\tTo_THC_2544_L\tTo_THC_365_L\tTo_THC_4058_L\tTo_THC_6130_L\tTo_THE_110_S\tTo_THE_116_S\tTo_THE_1615_S\tTo_THE_1740_H\tTo_THE_1_H\tTo_THE_2425_S\tTo_THE_2732_S\tTo_THE_4390_S\tTo_THE_4600_S\tTo_THE_55_S\tTo_THE_5841_H\tTo_THE_6000_S\tTo_THE_600_H\tTo_THE_606_S\tTo_THE_710_S\tTo_THE_908_S\tTo_THI_5400_S\tTo_THOR_160_S\tTo_THOR_850_H\tTo_TOWE_759_S\tTo_TRIL_1101_S\tTo_TRIL_1251_S\tTo_TRI_2500_S\tTo_UNIT_6308_H\tTo_VALL_1302_H\tTo_VALP_3405_S\tTo_VHS_1225_H\tTo_VHS_3249_H\tTo_VHS_3_H\tTo_VHS_4646_H\tTo_VIBR_9509_L\tTo_WARR_66_S\tTo_WARR_6700_S\tTo_WASH_10501_S\tTo_WASH_11308_S\tTo_WATE_7445_S\tTo_WATE_7750_S\tTo_WAUC_176_S\tTo_WAUK_1324_H\tTo_WAUK_2615_H\tTo_WAUK_919_S\tTo_WEAL_150_S\tTo_WESL_1751_S\tTo_WEST_311_S\tTo_WEST_3200_S\tTo_WEST_3240_H\tTo_WEST_6501_S\tTo_WEST_928_S\tTo_WHEA_1325_S\tTo_WHIT_300_S\tTo_WILL_515_S\tTo_WILL_546_S\tTo_WINC_6326_S\tTo_WIND_124_S\tTo_WIND_16000_S\tTo_WINF_28W141_S\tTo_WISC_471_S\tTo_WITT_1200_S\tTo_WOOD_2242_S\tTo_WOOD_7444_S\tTo_WOOD_920_S\tTo_WRHC_309_S\tTo_WYND_2180_S\tTo_ZIKA_5448_S\n",
    "\"\"\"\n",
    "\n",
    "words=bigstr.split(bigstr[13])\n",
    "newWords = []\n",
    "for w in words:\n",
    "    if w.startswith('\\n'): w = w[1:]\n",
    "    if w.startswith('To_'): w=w[3:]\n",
    "    newWords.append(w)\n",
    "    \n",
    "transTblColumns = newWords\n",
    "\n",
    "for w in newWords:\n",
    "    if w in wanted:\n",
    "        print '%s: %s' % (w, wanted[w])\n",
    "    else:\n",
    "        print '%s: 0'  % w\n",
    "\n"
   ]
  },
  {
   "cell_type": "code",
   "execution_count": 4,
   "metadata": {
    "collapsed": true
   },
   "outputs": [],
   "source": []
  },
  {
   "cell_type": "code",
   "execution_count": 3,
   "metadata": {
    "collapsed": false
   },
   "outputs": [
    {
     "ename": "NameError",
     "evalue": "name 'facDict' is not defined",
     "output_type": "error",
     "traceback": [
      "\u001b[0;31m---------------------------------------------------------------------------\u001b[0m",
      "\u001b[0;31mNameError\u001b[0m                                 Traceback (most recent call last)",
      "\u001b[0;32m<ipython-input-3-5535c117fe49>\u001b[0m in \u001b[0;36m<module>\u001b[0;34m()\u001b[0m\n\u001b[1;32m      3\u001b[0m      \u001b[0mstuff\u001b[0m\u001b[0;34m=\u001b[0m\u001b[0mcPickle\u001b[0m\u001b[0;34m.\u001b[0m\u001b[0mload\u001b[0m\u001b[0;34m(\u001b[0m\u001b[0mf\u001b[0m\u001b[0;34m)\u001b[0m\u001b[0;34m\u001b[0m\u001b[0m\n\u001b[1;32m      4\u001b[0m \u001b[0mfromToDict\u001b[0m \u001b[0;34m=\u001b[0m \u001b[0;34m{\u001b[0m\u001b[0;34m}\u001b[0m\u001b[0;34m\u001b[0m\u001b[0m\n\u001b[0;32m----> 5\u001b[0;31m \u001b[0;32mfor\u001b[0m \u001b[0mk\u001b[0m \u001b[0;32min\u001b[0m \u001b[0mfacDict\u001b[0m\u001b[0;34m:\u001b[0m\u001b[0;34m\u001b[0m\u001b[0m\n\u001b[0m\u001b[1;32m      6\u001b[0m     \u001b[0msubK\u001b[0m \u001b[0;34m=\u001b[0m \u001b[0;34m'%s_%s'\u001b[0m \u001b[0;34m%\u001b[0m \u001b[0;34m(\u001b[0m\u001b[0mfacDict\u001b[0m\u001b[0;34m[\u001b[0m\u001b[0mk\u001b[0m\u001b[0;34m]\u001b[0m\u001b[0;34m[\u001b[0m\u001b[0;34m'category'\u001b[0m\u001b[0;34m]\u001b[0m\u001b[0;34m,\u001b[0m \u001b[0mk\u001b[0m\u001b[0;34m)\u001b[0m\u001b[0;34m\u001b[0m\u001b[0m\n\u001b[1;32m      7\u001b[0m     \u001b[0;32mif\u001b[0m \u001b[0msubK\u001b[0m \u001b[0;32min\u001b[0m \u001b[0mstuff\u001b[0m\u001b[0;34m:\u001b[0m\u001b[0;34m\u001b[0m\u001b[0m\n",
      "\u001b[0;31mNameError\u001b[0m: name 'facDict' is not defined"
     ]
    }
   ],
   "source": [
    "#with open('/home/welling/git/pyrhea/src/sim/tiny_Chicagoland_notes.pkl','r') as f:\n",
    "with open('notes_twoyear_ChicagoLand_212e94b8_5xbeds.pkl','r') as f:\n",
    "     stuff=cPickle.load(f)\n",
    "fromToDict = {}\n",
    "for k in facDict:\n",
    "    subK = '%s_%s' % (facDict[k]['category'], k)\n",
    "    if subK in stuff:\n",
    "        substuff = stuff[subK]\n",
    "    elif subK in ['SNF_PARK_6125_V', 'SNF_PARK_2320_V']:\n",
    "        subK = 'VSNF_%s' % k\n",
    "        substuff = stuff[subK]\n",
    "    else:\n",
    "        raise RuntimeError('No, that was not it')\n",
    "    goodkeys = [k2 for k2 in substuff.keys() if k2.startswith('fromTo')]\n",
    "    goodstuff = {k3:v for k3,v in substuff.items() if k3 in goodkeys}\n",
    "    wanted={(k4.split(':')[1], int(k4.split(':')[2])):v for k4,v in goodstuff.items()}\n",
    "    fromToDict[k] = wanted\n",
    "print fromToDict['MOUN_2028_H']"
   ]
  },
  {
   "cell_type": "code",
   "execution_count": 5,
   "metadata": {
    "collapsed": false
   },
   "outputs": [
    {
     "name": "stdout",
     "output_type": "stream",
     "text": [
      "{('BALM_2055_S', 1): 1, ('NORT_251_H', 3): 2, ('NORW_6016_S', 1): 1, ('CLAR_1366_S', 1): 6, ('FRAN_4021_S', 1): 1, ('CALI_2829_S', 1): 1, ('THC_6130_L', 2): 2, ('LAKE_7200_S', 1): 1, ('THE_5841_H', 3): 1, ('COLU_901_S', 1): 1, ('ADVO_836_H', 3): 24, ('C1973', 0): 8, ('ALDE_504_S', 1): 3, ('C2000', 0): 12, ('THE_2425_S', 1): 1, ('C1980', 0): 10, ('C2007', 0): 18, ('BRIG_4538_S', 1): 1, ('C1969', 0): 16, ('HERI_5888_S', 1): 1, ('JOSE_1127_H', 3): 3, ('GLEN_22660_V', 6): 1, ('LAKE_735_S', 1): 2, ('WARR_66_S', 1): 1, ('CONT_5336_S', 1): 2, ('ALDE_820_V', 6): 1, ('C2001', 0): 12, ('ELMW_7733_V', 6): 1, ('ST_3800_S', 1): 6, ('C2013', 0): 69, ('NORR_7001_S', 1): 1, ('STA_1725_V', 6): 1, ('REGE_6631_S', 1): 1, ('RENA_2940_S', 1): 1, ('C2002', 0): 6, ('C1988', 0): 17, ('WOOD_2242_S', 1): 1, ('GLEN_2451_V', 6): 1, ('C2008', 0): 16}\n"
     ]
    }
   ],
   "source": [
    "print fromToDict['ADVO_836_H']"
   ]
  },
  {
   "cell_type": "code",
   "execution_count": 6,
   "metadata": {
    "collapsed": false
   },
   "outputs": [
    {
     "name": "stdout",
     "output_type": "stream",
     "text": [
      "{('BALM_2055_S', 1): 2, ('RIDG_6450_S', 1): 2, ('ALDE_820_V', 6): 1, ('MID_4920_S', 1): 1, ('ZIKA_5448_S', 1): 2, ('C1105', 0): 2, ('C1135', 0): 1, ('PARK_6125_V', 6): 1, ('COLU_901_S', 1): 1, ('ADVO_836_H', 3): 1, ('ALSH_2840_S', 1): 1, ('WINF_28W141_S', 1): 1, ('BETH_5025_H', 3): 5, ('C605', 0): 2, ('FORT_4621_S', 1): 2, ('LAKE_263_S', 1): 2, ('CLAR_7433_S', 1): 2, ('WARR_6700_S', 1): 2, ('JOSE_1127_H', 3): 1, ('BURN_14500_S', 1): 3, ('THC_4058_L', 2): 1, ('C586', 0): 1, ('ARBO_1512_S', 1): 1, ('GLEN_270_S', 1): 1, ('THC_2544_L', 2): 3, ('PARK_2320_V', 1): 1, ('PRES_8001_S', 1): 1, ('C1127', 0): 35, ('GLEN_2451_V', 6): 1}\n"
     ]
    }
   ],
   "source": [
    "print fromToDict['BETH_5025_H']"
   ]
  },
  {
   "cell_type": "code",
   "execution_count": 7,
   "metadata": {
    "collapsed": false
   },
   "outputs": [
    {
     "name": "stdout",
     "output_type": "stream",
     "text": [
      "{('SOUT_2649_S', 1): 1, ('NORT_251_H', 3): 1, ('C1051', 0): 35, ('ADVO_4440_H', 3): 2, ('C1047', 0): 14, ('WATE_7750_S', 1): 1, ('VHS_3249_H', 3): 1, ('THE_5841_H', 3): 1, ('C1046', 0): 11, ('FRAN_5454_H', 3): 1, ('HEAT_15600_S', 1): 2, ('THE_2425_S', 1): 1, ('RENA_2940_S', 1): 1, ('C1043', 0): 7, ('SOUT_8012_H', 3): 1, ('C1057', 0): 19, ('C1058', 0): 18, ('C1049', 0): 7, ('JOSE_1127_H', 3): 2, ('C1026', 0): 21, ('RENA_10935_S', 1): 1, ('ALDE_255_S', 1): 1, ('THC_4058_L', 2): 1, ('CRES_14255_S', 1): 1, ('C1045', 0): 11, ('MANO_2145_S', 1): 1, ('C1050', 0): 9, ('ADVO_2320_H', 3): 15}\n"
     ]
    }
   ],
   "source": [
    "print fromToDict['ADVO_2320_H']"
   ]
  },
  {
   "cell_type": "code",
   "execution_count": 8,
   "metadata": {
    "collapsed": false
   },
   "outputs": [
    {
     "name": "stdout",
     "output_type": "stream",
     "text": [
      "{(1, 'C2206'): 1, (1, 'C1851'): 1, (1, 'C1493'): 1, (1, 'C306'): 1, (1, 'NORT_9600_H'): 1, (1, 'C1183'): 1, (1, 'C2205'): 1, (1, 'C1729'): 1, (1, 'C653'): 1, (1, 'ADVO_1775_H'): 3, (1, 'C1414'): 1, (1, 'ALDE_1545_S'): 1, (1, 'C1958'): 1, (1, 'C413'): 1, (1, 'C1209'): 1, (1, 'C2004'): 1, (1, 'C1875'): 1, (1, 'C2067'): 1, (1, 'C041'): 1, (1, 'C144'): 1, (1, 'C762'): 1, (1, 'C1662'): 1, (1, 'C1344'): 1}\n"
     ]
    }
   ],
   "source": [
    "toFromDict = {}\n",
    "for fA, tD in fromToDict.items():\n",
    "    for tTpl, ct in tD.items():\n",
    "        tA, tT = tTpl\n",
    "        if tA in toFromDict:\n",
    "            srcDict = toFromDict[tA]\n",
    "            if (tT, fA) in srcDict:\n",
    "                srcDict[(tT, fA)] += ct\n",
    "            else:\n",
    "                srcDict[(tT, fA)] = ct\n",
    "        else:\n",
    "            toFromDict[tA] = {(tT, fA) : ct}\n",
    "print toFromDict['ALDE_1221_S']"
   ]
  },
  {
   "cell_type": "code",
   "execution_count": 9,
   "metadata": {
    "collapsed": false
   },
   "outputs": [
    {
     "name": "stdout",
     "output_type": "stream",
     "text": [
      "{('C401', 0): 1, ('C406', 0): 2, ('C419', 0): 1, ('C407', 0): 1, ('ADVO_1775_H', 3): 1, ('C418', 0): 1, ('C900', 0): 2}\n",
      "{(0, 'SH_700_S'): 1, (0, 'ALDE_1221_S'): 2}\n"
     ]
    }
   ],
   "source": [
    "print fromToDict['ALDE_1221_S']\n",
    "print toFromDict['C900']"
   ]
  },
  {
   "cell_type": "code",
   "execution_count": 6,
   "metadata": {
    "collapsed": false
   },
   "outputs": [
    {
     "ename": "NameError",
     "evalue": "global name 'fromToDict' is not defined",
     "output_type": "error",
     "traceback": [
      "\u001b[0;31m---------------------------------------------------------------------------\u001b[0m",
      "\u001b[0;31mNameError\u001b[0m                                 Traceback (most recent call last)",
      "\u001b[0;32m<ipython-input-6-12a287df4295>\u001b[0m in \u001b[0;36m<module>\u001b[0;34m()\u001b[0m\n\u001b[1;32m     28\u001b[0m     \u001b[0;32mfor\u001b[0m \u001b[0mratio\u001b[0m\u001b[0;34m,\u001b[0m \u001b[0mabbrev\u001b[0m \u001b[0;32min\u001b[0m \u001b[0msortMe\u001b[0m\u001b[0;34m:\u001b[0m\u001b[0;34m\u001b[0m\u001b[0m\n\u001b[1;32m     29\u001b[0m         \u001b[0;32mprint\u001b[0m \u001b[0;34m'%s: %s'\u001b[0m \u001b[0;34m%\u001b[0m \u001b[0;34m(\u001b[0m\u001b[0mabbrev\u001b[0m\u001b[0;34m,\u001b[0m \u001b[0mratio\u001b[0m\u001b[0;34m)\u001b[0m\u001b[0;34m\u001b[0m\u001b[0m\n\u001b[0;32m---> 30\u001b[0;31m \u001b[0msurvey\u001b[0m\u001b[0;34m(\u001b[0m\u001b[0;34m'_H'\u001b[0m\u001b[0;34m)\u001b[0m\u001b[0;34m\u001b[0m\u001b[0m\n\u001b[0m",
      "\u001b[0;32m<ipython-input-6-12a287df4295>\u001b[0m in \u001b[0;36msurvey\u001b[0;34m(suffix)\u001b[0m\n\u001b[1;32m     15\u001b[0m     \u001b[0;32mfor\u001b[0m \u001b[0mabbrev\u001b[0m \u001b[0;32min\u001b[0m \u001b[0mallAbbrev\u001b[0m\u001b[0;34m:\u001b[0m\u001b[0;34m\u001b[0m\u001b[0m\n\u001b[1;32m     16\u001b[0m         \u001b[0;32mif\u001b[0m \u001b[0mabbrev\u001b[0m\u001b[0;34m.\u001b[0m\u001b[0mendswith\u001b[0m\u001b[0;34m(\u001b[0m\u001b[0msuffix\u001b[0m\u001b[0;34m)\u001b[0m\u001b[0;34m:\u001b[0m\u001b[0;34m\u001b[0m\u001b[0m\n\u001b[0;32m---> 17\u001b[0;31m             \u001b[0mnetChange\u001b[0m \u001b[0;34m=\u001b[0m \u001b[0mprintTotals\u001b[0m\u001b[0;34m(\u001b[0m\u001b[0mabbrev\u001b[0m\u001b[0;34m)\u001b[0m\u001b[0;34m\u001b[0m\u001b[0m\n\u001b[0m\u001b[1;32m     18\u001b[0m             \u001b[0mdelta\u001b[0m \u001b[0;34m+=\u001b[0m \u001b[0mnetChange\u001b[0m\u001b[0;34m\u001b[0m\u001b[0m\n\u001b[1;32m     19\u001b[0m             \u001b[0;32mif\u001b[0m \u001b[0mnetChange\u001b[0m \u001b[0;34m>\u001b[0m \u001b[0;36m0\u001b[0m\u001b[0;34m:\u001b[0m\u001b[0;34m\u001b[0m\u001b[0m\n",
      "\u001b[0;32m<ipython-input-6-12a287df4295>\u001b[0m in \u001b[0;36mprintTotals\u001b[0;34m(abbrev, hush)\u001b[0m\n\u001b[1;32m      1\u001b[0m \u001b[0;32mdef\u001b[0m \u001b[0mprintTotals\u001b[0m\u001b[0;34m(\u001b[0m\u001b[0mabbrev\u001b[0m\u001b[0;34m,\u001b[0m \u001b[0mhush\u001b[0m\u001b[0;34m=\u001b[0m\u001b[0mFalse\u001b[0m\u001b[0;34m)\u001b[0m\u001b[0;34m:\u001b[0m\u001b[0;34m\u001b[0m\u001b[0m\n\u001b[0;32m----> 2\u001b[0;31m     \u001b[0mfmCt\u001b[0m \u001b[0;34m=\u001b[0m \u001b[0msum\u001b[0m\u001b[0;34m(\u001b[0m\u001b[0mfromToDict\u001b[0m\u001b[0;34m[\u001b[0m\u001b[0mabbrev\u001b[0m\u001b[0;34m]\u001b[0m\u001b[0;34m.\u001b[0m\u001b[0mvalues\u001b[0m\u001b[0;34m(\u001b[0m\u001b[0;34m)\u001b[0m\u001b[0;34m)\u001b[0m \u001b[0;32mif\u001b[0m \u001b[0mabbrev\u001b[0m \u001b[0;32min\u001b[0m \u001b[0mfromToDict\u001b[0m \u001b[0;32melse\u001b[0m \u001b[0;36m0\u001b[0m\u001b[0;34m\u001b[0m\u001b[0m\n\u001b[0m\u001b[1;32m      3\u001b[0m     \u001b[0mtoCt\u001b[0m \u001b[0;34m=\u001b[0m \u001b[0msum\u001b[0m\u001b[0;34m(\u001b[0m\u001b[0mtoFromDict\u001b[0m\u001b[0;34m[\u001b[0m\u001b[0mabbrev\u001b[0m\u001b[0;34m]\u001b[0m\u001b[0;34m.\u001b[0m\u001b[0mvalues\u001b[0m\u001b[0;34m(\u001b[0m\u001b[0;34m)\u001b[0m\u001b[0;34m)\u001b[0m \u001b[0;32mif\u001b[0m \u001b[0mabbrev\u001b[0m \u001b[0;32min\u001b[0m \u001b[0mtoFromDict\u001b[0m \u001b[0;32melse\u001b[0m \u001b[0;36m0\u001b[0m\u001b[0;34m\u001b[0m\u001b[0m\n\u001b[1;32m      4\u001b[0m     \u001b[0;32mif\u001b[0m \u001b[0;32mnot\u001b[0m \u001b[0mhush\u001b[0m\u001b[0;34m:\u001b[0m\u001b[0;34m\u001b[0m\u001b[0m\n\u001b[1;32m      5\u001b[0m         \u001b[0;32mprint\u001b[0m \u001b[0;34m'%s flow: %s in, %s out, %s net'\u001b[0m \u001b[0;34m%\u001b[0m \u001b[0;34m(\u001b[0m\u001b[0mabbrev\u001b[0m\u001b[0;34m,\u001b[0m \u001b[0mtoCt\u001b[0m\u001b[0;34m,\u001b[0m \u001b[0mfmCt\u001b[0m\u001b[0;34m,\u001b[0m \u001b[0mtoCt\u001b[0m \u001b[0;34m-\u001b[0m \u001b[0mfmCt\u001b[0m\u001b[0;34m)\u001b[0m\u001b[0;34m\u001b[0m\u001b[0m\n",
      "\u001b[0;31mNameError\u001b[0m: global name 'fromToDict' is not defined"
     ]
    }
   ],
   "source": [
    "def printTotals(abbrev, hush=False):\n",
    "    fmCt = sum(fromToDict[abbrev].values()) if abbrev in fromToDict else 0\n",
    "    toCt = sum(toFromDict[abbrev].values()) if abbrev in toFromDict else 0\n",
    "    if not hush:\n",
    "        print '%s flow: %s in, %s out, %s net' % (abbrev, toCt, fmCt, toCt - fmCt)\n",
    "    return toCt - fmCt\n",
    "allAbbrev = facDict.keys()[:]\n",
    "allAbbrev.sort()\n",
    "def survey(suffix):\n",
    "    totPlus = 0\n",
    "    totMinus = 0\n",
    "    totZero = 0\n",
    "    delta = 0\n",
    "    sortMe = []\n",
    "    for abbrev in allAbbrev:\n",
    "        if abbrev.endswith(suffix):\n",
    "            netChange = printTotals(abbrev)\n",
    "            delta += netChange\n",
    "            if netChange > 0:\n",
    "                totPlus += 1\n",
    "            elif netChange < 0:\n",
    "                totMinus += 1\n",
    "            else:\n",
    "                totZero += 1\n",
    "            sortMe.append((float(netChange)/facDict[abbrev]['meanPop']['value'], abbrev))\n",
    "    print 'totals: %d up, %d down, %s unchanged, total change %s' % (totPlus, totMinus, totZero, delta)\n",
    "    sortMe.sort()\n",
    "    for ratio, abbrev in sortMe:\n",
    "        print '%s: %s' % (abbrev, ratio)\n",
    "survey('_H')\n"
   ]
  },
  {
   "cell_type": "code",
   "execution_count": 11,
   "metadata": {
    "collapsed": false
   },
   "outputs": [
    {
     "name": "stdout",
     "output_type": "stream",
     "text": [
      "ALDE_820_V flow: 25 in, 101 out, -76 net\n",
      "BALL_9300_V flow: 33 in, 37 out, -4 net\n",
      "ELMW_7733_V flow: 41 in, 107 out, -66 net\n",
      "GLEN_22660_V flow: 32 in, 100 out, -68 net\n",
      "GLEN_2451_V flow: 71 in, 136 out, -65 net\n",
      "GLEN_8333_V flow: 40 in, 165 out, -125 net\n",
      "OAK_9525_V flow: 11 in, 29 out, -18 net\n",
      "PARK_2320_V flow: 27 in, 24 out, 3 net\n",
      "PARK_6125_V flow: 8 in, 15 out, -7 net\n",
      "STA_1725_V flow: 37 in, 73 out, -36 net\n",
      "totals: 1 up, 9 down, 0 unchanged, total change -462\n",
      "GLEN_8333_V: -0.493264573603\n",
      "ALDE_820_V: -0.350500353786\n",
      "ELMW_7733_V: -0.309397516087\n",
      "GLEN_22660_V: -0.308917792022\n",
      "GLEN_2451_V: -0.252937162839\n",
      "STA_1725_V: -0.241659616728\n",
      "OAK_9525_V: -0.24\n",
      "PARK_6125_V: -0.038021399128\n",
      "BALL_9300_V: -0.0315737116412\n",
      "PARK_2320_V: 0.0303964023984\n"
     ]
    }
   ],
   "source": [
    "survey('_V')"
   ]
  },
  {
   "cell_type": "code",
   "execution_count": 12,
   "metadata": {
    "collapsed": false
   },
   "outputs": [
    {
     "name": "stdout",
     "output_type": "stream",
     "text": [
      "ADVO_3435_L flow: 4 in, 2 out, 2 net\n",
      "PRES_100_L flow: 11 in, 2 out, 9 net\n",
      "RML_5601_L flow: 23 in, 2 out, 21 net\n",
      "THC_225_L flow: 5 in, 1 out, 4 net\n",
      "THC_2544_L flow: 20 in, 4 out, 16 net\n",
      "THC_365_L flow: 18 in, 5 out, 13 net\n",
      "THC_4058_L flow: 26 in, 6 out, 20 net\n",
      "THC_6130_L flow: 7 in, 1 out, 6 net\n",
      "VIBR_9509_L flow: 6 in, 0 out, 6 net\n",
      "totals: 9 up, 0 down, 0 unchanged, total change 97\n",
      "ADVO_3435_L: 0.0494077834177\n",
      "PRES_100_L: 0.0946140552998\n",
      "THC_225_L: 0.100426468566\n",
      "THC_2544_L: 0.132340777502\n",
      "THC_6130_L: 0.136363636364\n",
      "THC_365_L: 0.232734942121\n",
      "RML_5601_L: 0.310890285948\n",
      "VIBR_9509_L: 0.328860916223\n",
      "THC_4058_L: 0.429487556625\n"
     ]
    }
   ],
   "source": [
    "survey('_L')"
   ]
  },
  {
   "cell_type": "code",
   "execution_count": 13,
   "metadata": {
    "collapsed": false
   },
   "outputs": [
    {
     "name": "stdout",
     "output_type": "stream",
     "text": [
      "ABBI_31_S flow: 11 in, 4 out, 7 net\n",
      "ADAM_119_S flow: 12 in, 9 out, 3 net\n",
      "ALDE_1221_S flow: 25 in, 9 out, 16 net\n",
      "ALDE_1420_S flow: 32 in, 23 out, 9 net\n",
      "ALDE_1535_S flow: 31 in, 23 out, 8 net\n",
      "ALDE_1545_S flow: 50 in, 46 out, 4 net\n",
      "ALDE_16450_S flow: 24 in, 10 out, 14 net\n",
      "ALDE_201_S flow: 65 in, 51 out, 14 net\n",
      "ALDE_2021_S flow: 18 in, 12 out, 6 net\n",
      "ALDE_2520_S flow: 11 in, 6 out, 5 net\n",
      "ALDE_255_S flow: 42 in, 40 out, 2 net\n",
      "ALDE_275_S flow: 27 in, 43 out, -16 net\n",
      "ALDE_4660_S flow: 7 in, 1 out, 6 net\n",
      "ALDE_504_S flow: 21 in, 18 out, 3 net\n",
      "ALDE_5050_S flow: 17 in, 8 out, 9 net\n",
      "ALDE_5831_S flow: 39 in, 31 out, 8 net\n",
      "ALDE_6120_S flow: 43 in, 52 out, -9 net\n",
      "ALDE_803_S flow: 49 in, 48 out, 1 net\n",
      "ALDE_BOX_S flow: 40 in, 48 out, -8 net\n",
      "ALSH_2840_S flow: 3 in, 2 out, 1 net\n",
      "AMBA_4900_S flow: 32 in, 33 out, -1 net\n",
      "APPL_21020_S flow: 20 in, 16 out, 4 net\n",
      "ARBO_1512_S flow: 24 in, 26 out, -2 net\n",
      "ARBO_535_S flow: 10 in, 21 out, -11 net\n",
      "ASTA_134_S flow: 22 in, 14 out, 8 net\n",
      "ASTO_6300_S flow: 21 in, 23 out, -2 net\n",
      "ATRI_1425_S flow: 16 in, 11 out, 5 net\n",
      "AURO_1601_S flow: 24 in, 19 out, 5 net\n",
      "AVEN_4505_S flow: 25 in, 26 out, -1 net\n",
      "BALM_2055_S flow: 40 in, 37 out, 3 net\n",
      "BAYS_1100_S flow: 13 in, 14 out, -1 net\n",
      "BEEC_1201_S flow: 35 in, 21 out, 14 net\n",
      "BELH_11401_S flow: 30 in, 52 out, -22 net\n",
      "BERK_6909_S flow: 15 in, 11 out, 4 net\n",
      "BERK_8200_S flow: 48 in, 35 out, 13 net\n",
      "BETH_3298_S flow: 21 in, 16 out, 5 net\n",
      "BETH_8425_S flow: 62 in, 13 out, 49 net\n",
      "BEVE_1703_S flow: 15 in, 13 out, 2 net\n",
      "BIRC_1426_S flow: 26 in, 23 out, 3 net\n",
      "BMO_10602_S flow: 39 in, 38 out, 1 net\n",
      "BOUR_133_S flow: 31 in, 33 out, -2 net\n",
      "BRAD_650_S flow: 14 in, 14 out, 0 net\n",
      "BRAV_1800_S flow: 22 in, 18 out, 4 net\n",
      "BRAV_2355_S flow: 24 in, 19 out, 5 net\n",
      "BRAV_3401_S flow: 26 in, 15 out, 11 net\n",
      "BRAV_4101_S flow: 29 in, 24 out, 5 net\n",
      "BRAV_850_S flow: 25 in, 18 out, 7 net\n",
      "BREN_3705_S flow: 29 in, 19 out, 10 net\n",
      "BRIA_6800_S flow: 35 in, 44 out, -9 net\n",
      "BRID_8100_S flow: 25 in, 32 out, -7 net\n",
      "BRIG_4538_S flow: 21 in, 19 out, 2 net\n",
      "BRIT_8700_S flow: 22 in, 10 out, 12 net\n",
      "BROO_1800_S flow: 20 in, 7 out, 13 net\n",
      "BROO_3506_S flow: 23 in, 10 out, 13 net\n",
      "BUCK_2625_S flow: 19 in, 35 out, -16 net\n",
      "BURN_14500_S flow: 56 in, 53 out, 3 net\n",
      "BUTT_339_S flow: 26 in, 28 out, -2 net\n",
      "BUTT_431_S flow: 59 in, 56 out, 3 net\n",
      "BUTT_720_S flow: 46 in, 47 out, -1 net\n",
      "CALI_2829_S flow: 36 in, 42 out, -6 net\n",
      "CARL_725_S flow: 27 in, 42 out, -15 net\n",
      "CCL_2401_S flow: 4 in, 7 out, -3 net\n",
      "CENT_1401_S flow: 20 in, 23 out, -3 net\n",
      "CENT_2450_S flow: 38 in, 44 out, -6 net\n",
      "CENT_4747_S flow: 14 in, 10 out, 4 net\n",
      "CHAT_7050_S flow: 35 in, 29 out, 6 net\n",
      "CHEV_3400_S flow: 66 in, 76 out, -10 net\n",
      "CHIC_1415_S flow: 13 in, 7 out, 6 net\n",
      "CHIC_6685_S flow: 23 in, 11 out, 12 net\n",
      "CHUR_2000_S flow: 33 in, 6 out, 27 net\n",
      "CITY_5825_S flow: 52 in, 74 out, -22 net\n",
      "CLAR_1366_S flow: 91 in, 8 out, 83 net\n",
      "CLAR_150_S flow: 50 in, 33 out, 17 net\n",
      "CLAR_700_S flow: 9 in, 25 out, -16 net\n",
      "CLAR_7433_S flow: 37 in, 12 out, 25 net\n",
      "CLAR_829_S flow: 26 in, 13 out, 13 net\n",
      "COLU_901_S flow: 52 in, 51 out, 1 net\n",
      "COMM_1136_S flow: 33 in, 24 out, 9 net\n",
      "COMM_4314_S flow: 39 in, 58 out, -19 net\n",
      "COMM_503_S flow: 19 in, 12 out, 7 net\n",
      "CONC_9401_S flow: 26 in, 35 out, -9 net\n",
      "CONS_1000_S flow: 18 in, 17 out, 1 net\n",
      "CONT_5336_S flow: 49 in, 44 out, 5 net\n",
      "COUN_1125_S flow: 42 in, 31 out, 11 net\n",
      "COUN_1635_S flow: 32 in, 31 out, 1 net\n",
      "COUN_2330_S flow: 25 in, 29 out, -4 net\n",
      "COUN_2406_S flow: 16 in, 15 out, 1 net\n",
      "COUN_421_S flow: 38 in, 50 out, -12 net\n",
      "COUN_9700_S flow: 41 in, 41 out, 0 net\n",
      "COUR_3601_S flow: 28 in, 25 out, 3 net\n",
      "COVE_2625_S flow: 13 in, 14 out, -1 net\n",
      "COVE_700_S flow: 15 in, 12 out, 3 net\n",
      "CRES_13301_S flow: 15 in, 15 out, 0 net\n",
      "CRES_14255_S flow: 63 in, 59 out, 4 net\n",
      "CRYS_335_S flow: 26 in, 20 out, 6 net\n",
      "DECA_353_S flow: 7 in, 29 out, -22 net\n",
      "DEER_306_S flow: 28 in, 21 out, 7 net\n",
      "DEKA_2600_S flow: 30 in, 24 out, 6 net\n",
      "DEKA_2944_S flow: 13 in, 8 out, 5 net\n",
      "DOBS_120_S flow: 11 in, 16 out, -5 net\n",
      "DOLT_14325_S flow: 19 in, 24 out, -5 net\n",
      "DUPA_400_S flow: 54 in, 50 out, 4 net\n",
      "ELMB_127_S flow: 29 in, 26 out, 3 net\n",
      "ELMH_200_S flow: 9 in, 6 out, 3 net\n",
      "ELMW_1017_S flow: 14 in, 16 out, -2 net\n",
      "EMBA_555_S flow: 43 in, 38 out, 5 net\n",
      "EMER_6801_S flow: 26 in, 9 out, 17 net\n",
      "EVAN_1300_S flow: 6 in, 14 out, -8 net\n",
      "EVAN_350_S flow: 29 in, 24 out, 5 net\n",
      "EVER_10124_S flow: 46 in, 36 out, 10 net\n",
      "EXCE_5701_S flow: 16 in, 15 out, 1 net\n",
      "EXTE_8633_S flow: 17 in, 6 out, 11 net\n",
      "FAIR_222_S flow: 49 in, 28 out, 21 net\n",
      "FAIR_5061_S flow: 39 in, 33 out, 6 net\n",
      "FAL_9630_S flow: 12 in, 8 out, 4 net\n",
      "FORE_6840_S flow: 42 in, 41 out, 1 net\n",
      "FORT_4621_S flow: 18 in, 24 out, -6 net\n",
      "FOUN_1000_S flow: 27 in, 10 out, 17 net\n",
      "FRAN_1055_S flow: 24 in, 22 out, 2 net\n",
      "FRAN_1270_S flow: 35 in, 29 out, 6 net\n",
      "FRAN_4021_S flow: 13 in, 7 out, 6 net\n",
      "FRAN_40_S flow: 16 in, 24 out, -8 net\n",
      "FRAN_555_S flow: 26 in, 19 out, 7 net\n",
      "GENE_3856_S flow: 2 in, 0 out, 2 net\n",
      "GEOR_3623_S flow: 13 in, 8 out, 5 net\n",
      "GLEN_1511_S flow: 68 in, 68 out, 0 net\n",
      "GLEN_19330_S flow: 30 in, 29 out, 1 net\n",
      "GLEN_270_S flow: 27 in, 31 out, -4 net\n",
      "GLEN_3901_S flow: 30 in, 20 out, 10 net\n",
      "GLEN_4340_S flow: 23 in, 17 out, 6 net\n",
      "GRAS_4621_S flow: 32 in, 31 out, 1 net\n",
      "GREE_220_S flow: 35 in, 30 out, 5 net\n",
      "GROS_6601_S flow: 34 in, 30 out, 4 net\n",
      "GROV_701_S flow: 27 in, 24 out, 3 net\n",
      "GROV_9000_S flow: 29 in, 20 out, 9 net\n",
      "HANC_101_S flow: 11 in, 5 out, 6 net\n",
      "HANC_203_S flow: 48 in, 34 out, 14 net\n",
      "HARM_3919_S flow: 36 in, 31 out, 5 net\n",
      "HEAL_5801_S flow: 40 in, 22 out, 18 net\n",
      "HEAR_3100_S flow: 48 in, 89 out, -41 net\n",
      "HEAT_15600_S flow: 20 in, 29 out, -9 net\n",
      "HELI_1308_S flow: 12 in, 11 out, 1 net\n",
      "HEND_1700_S flow: 18 in, 9 out, 9 net\n",
      "HEND_1900_S flow: 33 in, 19 out, 14 net\n",
      "HEND_251_S flow: 18 in, 20 out, -2 net\n",
      "HEND_3175_S flow: 41 in, 26 out, 15 net\n",
      "HEND_8800_S flow: 32 in, 27 out, 5 net\n",
      "HERI_355_S flow: 13 in, 16 out, -3 net\n",
      "HERI_5888_S flow: 11 in, 5 out, 6 net\n",
      "HICK_9246_S flow: 15 in, 12 out, 3 net\n",
      "HIGH_50_S flow: 23 in, 17 out, 6 net\n",
      "HILL_1740_S flow: 10 in, 19 out, -9 net\n",
      "HILL_777_S flow: 34 in, 5 out, 29 net\n",
      "HOLY_12220_S flow: 17 in, 29 out, -12 net\n",
      "IMPE_3300_S flow: 40 in, 34 out, 6 net\n",
      "INTE_4815_S flow: 35 in, 29 out, 6 net\n",
      "JACK_5130_S flow: 47 in, 49 out, -2 net\n",
      "JOHN_2901_S flow: 33 in, 29 out, 4 net\n",
      "JOHN_5909_S flow: 13 in, 6 out, 7 net\n",
      "JOLI_2230_S flow: 23 in, 29 out, -6 net\n",
      "KANK_100_S flow: 1 in, 2 out, -1 net\n",
      "KENS_3405_S flow: 31 in, 16 out, 15 net\n",
      "KIND_2300_S flow: 41 in, 33 out, 8 net\n",
      "KIND_3415_S flow: 19 in, 10 out, 9 net\n",
      "KIND_8400_S flow: 19 in, 13 out, 6 net\n",
      "LAKE_14718_S flow: 32 in, 25 out, 7 net\n",
      "LAKE_263_S flow: 20 in, 15 out, 5 net\n",
      "LAKE_7200_S flow: 32 in, 31 out, 1 net\n",
      "LAKE_735_S flow: 37 in, 28 out, 9 net\n",
      "LAKE_7618_S flow: 13 in, 10 out, 3 net\n",
      "LEMO_12450_S flow: 39 in, 22 out, 17 net\n",
      "LEXI_10300_S flow: 45 in, 32 out, 13 net\n",
      "LEXI_14601_S flow: 57 in, 58 out, -1 net\n",
      "LEXI_165_S flow: 40 in, 34 out, 6 net\n",
      "LEXI_2100_S flow: 86 in, 15 out, 71 net\n",
      "LEXI_420_S flow: 22 in, 18 out, 4 net\n",
      "LEXI_4735_S flow: 28 in, 9 out, 19 net\n",
      "LEXI_675_S flow: 38 in, 29 out, 9 net\n",
      "LEXI_730_S flow: 39 in, 39 out, 0 net\n",
      "LEXI_815_S flow: 33 in, 29 out, 4 net\n",
      "LEXI_900_S flow: 30 in, 26 out, 4 net\n",
      "LIBE_610_S flow: 21 in, 10 out, 11 net\n",
      "LIFE_1000_S flow: 19 in, 12 out, 7 net\n",
      "LIFE_250_S flow: 21 in, 18 out, 3 net\n",
      "LINC_960_S flow: 12 in, 0 out, 12 net\n",
      "LITT_2325_S flow: 9 in, 15 out, -6 net\n",
      "LITT_80_S flow: 6 in, 12 out, -6 net\n",
      "LONG_1666_S flow: 47 in, 39 out, 8 net\n",
      "LUTH_1601_S flow: 33 in, 21 out, 12 net\n",
      "LUTH_16220_S flow: 0 in, 2 out, -2 net\n",
      "LUTH_800_S flow: 71 in, 58 out, 13 net\n",
      "MAJO_10352_S flow: 16 in, 12 out, 4 net\n",
      "MAJO_2350_S flow: 26 in, 32 out, -6 net\n",
      "MAJO_3301_S flow: 35 in, 27 out, 8 net\n",
      "MAJO_4410_S flow: 9 in, 20 out, -11 net\n",
      "MAJO_5025_S flow: 24 in, 15 out, 9 net\n",
      "MAJO_601_S flow: 48 in, 40 out, 8 net\n",
      "MAJO_7935_S flow: 58 in, 46 out, 12 net\n",
      "MAJO_8380_S flow: 21 in, 14 out, 7 net\n",
      "MANO_11860_S flow: 31 in, 28 out, 3 net\n",
      "MANO_1500_S flow: 34 in, 21 out, 13 net\n",
      "MANO_180_S flow: 20 in, 13 out, 7 net\n",
      "MANO_1920_S flow: 34 in, 16 out, 18 net\n",
      "MANO_200_S flow: 38 in, 29 out, 9 net\n",
      "MANO_2145_S flow: 52 in, 35 out, 17 net\n",
      "MANO_2773_S flow: 24 in, 11 out, 13 net\n",
      "MANO_3300_S flow: 32 in, 20 out, 12 net\n",
      "MANO_4225_S flow: 67 in, 28 out, 39 net\n",
      "MANO_432_S flow: 17 in, 13 out, 4 net\n",
      "MANO_512_S flow: 33 in, 19 out, 14 net\n",
      "MANO_600_S flow: 40 in, 23 out, 17 net\n",
      "MANO_6300_S flow: 54 in, 38 out, 16 net\n",
      "MANO_715_S flow: 36 in, 21 out, 15 net\n",
      "MANO_7850_S flow: 26 in, 16 out, 10 net\n",
      "MANO_900_S flow: 18 in, 19 out, -1 net\n",
      "MANO_9401_S flow: 34 in, 30 out, 4 net\n",
      "MANO_940_S flow: 30 in, 26 out, 4 net\n",
      "MAPL_50_S flow: 35 in, 25 out, 10 net\n",
      "MATH_820_S flow: 20 in, 17 out, 3 net\n",
      "MAYF_5905_S flow: 31 in, 17 out, 14 net\n",
      "MCAL_18300_S flow: 22 in, 18 out, 4 net\n",
      "MEMO_527_S flow: 17 in, 11 out, 6 net\n",
      "MICH_802_S flow: 31 in, 23 out, 8 net\n",
      "MIDW_111_S flow: 33 in, 28 out, 5 net\n",
      "MIDW_1519_S flow: 13 in, 10 out, 3 net\n",
      "MIDW_8540_S flow: 90 in, 75 out, 15 net\n",
      "MID_4920_S flow: 41 in, 58 out, -17 net\n",
      "MOME_500_S flow: 44 in, 26 out, 18 net\n",
      "MONT_5550_S flow: 7 in, 2 out, 5 net\n",
      "MORR_1095_S flow: 16 in, 6 out, 10 net\n",
      "MORR_1223_S flow: 25 in, 15 out, 10 net\n",
      "MST_120_S flow: 14 in, 14 out, 0 net\n",
      "NILE_9777_S flow: 44 in, 55 out, -11 net\n",
      "NORR_7001_S flow: 57 in, 60 out, -3 net\n",
      "NORW_2833_S flow: 11 in, 8 out, 3 net\n",
      "NORW_6016_S flow: 50 in, 48 out, 2 net\n",
      "OAKR_323_S flow: 12 in, 14 out, -2 net\n",
      "OAKT_1660_S flow: 19 in, 35 out, -16 net\n",
      "OAK_2013_S flow: 33 in, 29 out, 4 net\n",
      "OAK_221_S flow: 8 in, 2 out, 6 net\n",
      "OAK_625_S flow: 69 in, 24 out, 45 net\n",
      "OUR_1201_S flow: 33 in, 14 out, 19 net\n",
      "PALO_10426_S flow: 49 in, 25 out, 24 net\n",
      "PARK_665_S flow: 5 in, 1 out, 4 net\n",
      "PAVI_2217_S flow: 28 in, 30 out, -2 net\n",
      "PERS_3900_S flow: 6 in, 6 out, 0 net\n",
      "PETE_310_S flow: 16 in, 24 out, -8 net\n",
      "PETE_520_S flow: 2 in, 4 out, -2 net\n",
      "PETE_6141_S flow: 29 in, 26 out, 3 net\n",
      "PETE_746_S flow: 28 in, 35 out, -7 net\n",
      "PETE_902_S flow: 3 in, 14 out, -11 net\n",
      "PINE_1212_S flow: 19 in, 14 out, 5 net\n",
      "PINN_2222_S flow: 49 in, 47 out, 2 net\n",
      "PLAZ_3249_S flow: 24 in, 26 out, -2 net\n",
      "PLUM_24_S flow: 11 in, 11 out, 0 net\n",
      "PLYM_315_S flow: 26 in, 13 out, 13 net\n",
      "PRAI_345_S flow: 37 in, 17 out, 20 net\n",
      "PRES_1001_S flow: 36 in, 35 out, 1 net\n",
      "PRES_1100_S flow: 17 in, 12 out, 5 net\n",
      "PRES_1700_S flow: 27 in, 25 out, 2 net\n",
      "PRES_20_S flow: 18 in, 19 out, -1 net\n",
      "PRES_210_S flow: 45 in, 26 out, 19 net\n",
      "PRES_400_S flow: 22 in, 9 out, 13 net\n",
      "PRES_480_S flow: 26 in, 33 out, -7 net\n",
      "PRES_611_S flow: 17 in, 7 out, 10 net\n",
      "PRES_6930_S flow: 14 in, 11 out, 3 net\n",
      "PRES_8001_S flow: 94 in, 111 out, -17 net\n",
      "PRES_811_S flow: 30 in, 21 out, 9 net\n",
      "PRES_901_S flow: 20 in, 17 out, 3 net\n",
      "PROV_1101_S flow: 36 in, 6 out, 30 net\n",
      "PROV_13259_S flow: 28 in, 23 out, 5 net\n",
      "PROV_3450_S flow: 58 in, 33 out, 25 net\n",
      "REGE_6631_S flow: 47 in, 79 out, -32 net\n",
      "RENA_10935_S flow: 61 in, 58 out, 3 net\n",
      "RENA_2940_S flow: 50 in, 49 out, 1 net\n",
      "RENA_4437_S flow: 54 in, 52 out, 2 net\n",
      "RENS_1309_S flow: 21 in, 10 out, 11 net\n",
      "REST_16300_S flow: 38 in, 22 out, 16 net\n",
      "RESU_2380_S flow: 20 in, 17 out, 3 net\n",
      "RESU_500_S flow: 31 in, 22 out, 9 net\n",
      "RIDG_12550_S flow: 24 in, 17 out, 7 net\n",
      "RIDG_6450_S flow: 23 in, 20 out, 3 net\n",
      "RIVE_1601_S flow: 33 in, 19 out, 14 net\n",
      "RIVI_490_S flow: 54 in, 38 out, 16 net\n",
      "RREM_2155_S flow: 22 in, 29 out, -7 net\n",
      "SALE_1314_S flow: 74 in, 42 out, 32 net\n",
      "SENE_1301_S flow: 31 in, 33 out, -2 net\n",
      "SHAB_409_S flow: 11 in, 25 out, -14 net\n",
      "SHER_1950_S flow: 25 in, 13 out, 12 net\n",
      "SHER_2534_S flow: 59 in, 10 out, 49 net\n",
      "SHER_5838_S flow: 29 in, 24 out, 5 net\n",
      "SHER_7350_S flow: 15 in, 8 out, 7 net\n",
      "SH_700_S flow: 26 in, 13 out, 13 net\n",
      "SKOK_9615_S flow: 15 in, 21 out, -6 net\n",
      "SLL_7000_S flow: 14 in, 12 out, 2 net\n",
      "SLOV_3615_S flow: 21 in, 19 out, 2 net\n",
      "SNH_1200_S flow: 11 in, 9 out, 2 net\n",
      "SOUT_1010_S flow: 42 in, 46 out, -4 net\n",
      "SOUT_19000_S flow: 36 in, 42 out, -6 net\n",
      "SOUT_2649_S flow: 56 in, 46 out, 10 net\n",
      "SOUT_3311_S flow: 46 in, 60 out, -14 net\n",
      "SSC_10330_S flow: 25 in, 16 out, 9 net\n",
      "SSC_2901_S flow: 21 in, 16 out, 5 net\n",
      "STP_1400_S flow: 25 in, 51 out, -26 net\n",
      "ST_3800_S flow: 29 in, 18 out, 11 net\n",
      "ST_9244_S flow: 15 in, 11 out, 4 net\n",
      "TABO_1347_S flow: 45 in, 26 out, 19 net\n",
      "THE_110_S flow: 20 in, 9 out, 11 net\n",
      "THE_1615_S flow: 17 in, 27 out, -10 net\n",
      "THE_2425_S flow: 50 in, 53 out, -3 net\n",
      "THE_2732_S flow: 26 in, 17 out, 9 net\n",
      "THE_4390_S flow: 28 in, 17 out, 11 net\n",
      "THE_4600_S flow: 50 in, 44 out, 6 net\n",
      "THE_55_S flow: 10 in, 4 out, 6 net\n",
      "THE_6000_S flow: 8 in, 5 out, 3 net\n",
      "THE_606_S flow: 34 in, 30 out, 4 net\n",
      "THE_710_S flow: 22 in, 19 out, 3 net\n",
      "THE_908_S flow: 11 in, 8 out, 3 net\n",
      "THI_5400_S flow: 47 in, 25 out, 22 net\n",
      "THOR_160_S flow: 19 in, 25 out, -6 net\n",
      "TOWE_759_S flow: 37 in, 38 out, -1 net\n",
      "TRIL_1101_S flow: 38 in, 28 out, 10 net\n",
      "TRIL_1251_S flow: 35 in, 20 out, 15 net\n",
      "TRI_2500_S flow: 24 in, 18 out, 6 net\n",
      "VALP_3405_S flow: 19 in, 9 out, 10 net\n",
      "WARR_66_S flow: 40 in, 34 out, 6 net\n",
      "WARR_6700_S flow: 22 in, 19 out, 3 net\n",
      "WASH_10501_S flow: 5 in, 3 out, 2 net\n",
      "WASH_11308_S flow: 18 in, 11 out, 7 net\n",
      "WATE_7445_S flow: 20 in, 19 out, 1 net\n",
      "WATE_7750_S flow: 29 in, 28 out, 1 net\n",
      "WAUC_176_S flow: 28 in, 18 out, 10 net\n",
      "WAUK_919_S flow: 12 in, 43 out, -31 net\n",
      "WEAL_150_S flow: 41 in, 17 out, 24 net\n",
      "WEST_311_S flow: 36 in, 32 out, 4 net\n",
      "WEST_3200_S flow: 37 in, 37 out, 0 net\n",
      "WEST_6501_S flow: 47 in, 49 out, -2 net\n",
      "WEST_928_S flow: 27 in, 43 out, -16 net\n",
      "WHEA_1325_S flow: 14 in, 16 out, -2 net\n",
      "WHIT_300_S flow: 46 in, 27 out, 19 net\n",
      "WILL_515_S flow: 21 in, 25 out, -4 net\n",
      "WILL_546_S flow: 5 in, 12 out, -7 net\n",
      "WIND_124_S flow: 19 in, 13 out, 6 net\n",
      "WIND_16000_S flow: 21 in, 37 out, -16 net\n",
      "WINF_28W141_S flow: 9 in, 40 out, -31 net\n",
      "WISC_471_S flow: 9 in, 3 out, 6 net\n",
      "WITT_1200_S flow: 28 in, 41 out, -13 net\n",
      "WOOD_2242_S flow: 29 in, 31 out, -2 net\n",
      "WOOD_7444_S flow: 13 in, 9 out, 4 net\n",
      "WOOD_920_S flow: 23 in, 17 out, 6 net\n",
      "WRHC_309_S flow: 25 in, 23 out, 2 net\n",
      "WYND_2180_S flow: 28 in, 17 out, 11 net\n",
      "ZIKA_5448_S flow: 30 in, 22 out, 8 net\n",
      "totals: 254 up, 90 down, 9 unchanged, total change 1568\n",
      "HEAR_3100_S: -0.381298130228\n",
      "DECA_353_S: -0.351892062036\n",
      "KANK_100_S: -0.25\n",
      "PETE_902_S: -0.233933461517\n",
      "WINF_28W141_S: -0.227688902303\n",
      "SHAB_409_S: -0.199695181524\n",
      "CLAR_700_S: -0.180564573478\n",
      "WAUK_919_S: -0.151452282158\n",
      "WILL_546_S: -0.15044456221\n",
      "EVAN_1300_S: -0.149131767111\n",
      "ARBO_535_S: -0.14427914331\n",
      "BUCK_2625_S: -0.143817568399\n",
      "WEST_928_S: -0.139342893274\n",
      "LUTH_16220_S: -0.134364071414\n",
      "STP_1400_S: -0.13335956493\n",
      "REGE_6631_S: -0.12864994658\n",
      "HOLY_12220_S: -0.126246613247\n",
      "WIND_16000_S: -0.118684713246\n",
      "BELH_11401_S: -0.113175104296\n",
      "OAKT_1660_S: -0.105438001011\n",
      "PETE_746_S: -0.103028347918\n",
      "COMM_4314_S: -0.0985981574158\n",
      "LITT_80_S: -0.0940479257923\n",
      "WITT_1200_S: -0.0930724386871\n",
      "ALDE_275_S: -0.0924343146565\n",
      "THE_1615_S: -0.0894783290838\n",
      "MAJO_4410_S: -0.088666025133\n",
      "LITT_2325_S: -0.0870152574692\n",
      "CCL_2401_S: -0.0796421557925\n",
      "CITY_5825_S: -0.0741335696744\n",
      "SOUT_3311_S: -0.0731703824621\n",
      "DOLT_14325_S: -0.0731169871793\n",
      "PETE_310_S: -0.0731151563714\n",
      "CONC_9401_S: -0.0726191528873\n",
      "HEAT_15600_S: -0.0718331110187\n",
      "CARL_725_S: -0.0688073394495\n",
      "HILL_1740_S: -0.067877510538\n",
      "FRAN_40_S: -0.0676834639099\n",
      "MID_4920_S: -0.0637475985493\n",
      "SKOK_9615_S: -0.0588187897833\n",
      "COUN_421_S: -0.0562671017303\n",
      "PRES_8001_S: -0.0552532924907\n",
      "BRID_8100_S: -0.0550717765229\n",
      "DOBS_120_S: -0.0542154358031\n",
      "JOLI_2230_S: -0.0512820512821\n",
      "ALDE_6120_S: -0.0508868406784\n",
      "FORT_4621_S: -0.0490723312717\n",
      "SOUT_19000_S: -0.0449849023272\n",
      "RREM_2155_S: -0.0443037974684\n",
      "PETE_520_S: -0.042860497886\n",
      "WILL_515_S: -0.0428215280833\n",
      "ALDE_BOX_S: -0.0425296396633\n",
      "BRIA_6800_S: -0.042438022401\n",
      "NILE_9777_S: -0.0417707032876\n",
      "CHEV_3400_S: -0.0386255648327\n",
      "HERI_355_S: -0.0380485770877\n",
      "MAJO_2350_S: -0.0368913984495\n",
      "ELMW_1017_S: -0.0327368940311\n",
      "PRES_480_S: -0.0327102803738\n",
      "OAKR_323_S: -0.0308877041548\n",
      "THOR_160_S: -0.0300395040053\n",
      "HEND_251_S: -0.0265327055129\n",
      "CENT_2450_S: -0.0258154256009\n",
      "PLAZ_3249_S: -0.0247785207563\n",
      "SOUT_1010_S: -0.0216392470728\n",
      "ARBO_1512_S: -0.0212840398856\n",
      "PAVI_2217_S: -0.0211606469941\n",
      "CENT_1401_S: -0.021054453161\n",
      "COUN_2330_S: -0.0208140280847\n",
      "CALI_2829_S: -0.0206670063983\n",
      "BUTT_339_S: -0.0165777222664\n",
      "WHEA_1325_S: -0.0165184531487\n",
      "ASTO_6300_S: -0.0142935463659\n",
      "GLEN_270_S: -0.0139723615205\n",
      "THE_2425_S: -0.0130926047708\n",
      "COVE_2625_S: -0.0122891485135\n",
      "NORR_7001_S: -0.010935019024\n",
      "JACK_5130_S: -0.0105158530085\n",
      "BOUR_133_S: -0.0104712041885\n",
      "MANO_900_S: -0.0104252949073\n",
      "PRES_20_S: -0.0102482030548\n",
      "WOOD_2242_S: -0.0102262380052\n",
      "WEST_6501_S: -0.0100887255038\n",
      "SENE_1301_S: -0.00845592493919\n",
      "AVEN_4505_S: -0.00822609361968\n",
      "AMBA_4900_S: -0.00701585776071\n",
      "BAYS_1100_S: -0.00656900151178\n",
      "TOWE_759_S: -0.00533165836485\n",
      "BUTT_720_S: -0.00449070485611\n",
      "LEXI_14601_S: -0.004153485514\n",
      "BRAD_650_S: 0.0\n",
      "COUN_9700_S: 0.0\n",
      "CRES_13301_S: 0.0\n",
      "GLEN_1511_S: 0.0\n",
      "LEXI_730_S: 0.0\n",
      "MST_120_S: 0.0\n",
      "PERS_3900_S: 0.0\n",
      "PLUM_24_S: 0.0\n",
      "WEST_3200_S: 0.0\n",
      "PRES_1001_S: 0.00405911855962\n",
      "BMO_10602_S: 0.00464187608099\n",
      "LAKE_7200_S: 0.00467648942986\n",
      "GRAS_4621_S: 0.00484059201103\n",
      "COLU_901_S: 0.00487348955204\n",
      "RENA_2940_S: 0.00520031914287\n",
      "ALDE_803_S: 0.00527250928105\n",
      "COUN_1635_S: 0.00603206081639\n",
      "GLEN_19330_S: 0.00726585050265\n",
      "FORE_6840_S: 0.00765921729092\n",
      "WATE_7445_S: 0.00792375824939\n",
      "COUN_2406_S: 0.00817945500176\n",
      "PINN_2222_S: 0.00853072815025\n",
      "WATE_7750_S: 0.00981895461764\n",
      "BURN_14500_S: 0.00992162370316\n",
      "RENA_4437_S: 0.0101675557475\n",
      "NORW_6016_S: 0.0104131005363\n",
      "BUTT_431_S: 0.0110541299037\n",
      "DUPA_400_S: 0.0125852304563\n",
      "ALDE_255_S: 0.0126184055867\n",
      "RENA_10935_S: 0.0128450268044\n",
      "BALM_2055_S: 0.0149655587142\n",
      "HELI_1308_S: 0.0152943641315\n",
      "CONS_1000_S: 0.0164793242159\n",
      "PETE_6141_S: 0.0166426020214\n",
      "CRES_14255_S: 0.0169038218847\n",
      "BIRC_1426_S: 0.0172912028045\n",
      "BRIG_4538_S: 0.0176179558345\n",
      "PRES_1700_S: 0.0178414312249\n",
      "SLOV_3615_S: 0.0180872150644\n",
      "EXCE_5701_S: 0.0189276083801\n",
      "FRAN_1055_S: 0.0194708204417\n",
      "ELMB_127_S: 0.0198704338831\n",
      "LEXI_900_S: 0.0207968320443\n",
      "WEST_311_S: 0.0212061352545\n",
      "ALDE_1545_S: 0.0216517625425\n",
      "LEXI_815_S: 0.0219972277467\n",
      "EVAN_350_S: 0.0221720061717\n",
      "WRHC_309_S: 0.0226722156656\n",
      "COUR_3601_S: 0.0232582837723\n",
      "ALSH_2840_S: 0.0233152347492\n",
      "BEVE_1703_S: 0.023396585769\n",
      "RIDG_6450_S: 0.0235099622123\n",
      "MANO_11860_S: 0.0242739968965\n",
      "LIFE_250_S: 0.0253718893369\n",
      "WARR_6700_S: 0.0267641092073\n",
      "GREE_220_S: 0.0269535807647\n",
      "THE_606_S: 0.0270374453951\n",
      "SHER_5838_S: 0.02821714056\n",
      "GROV_701_S: 0.0288279275483\n",
      "OAK_2013_S: 0.0290096963916\n",
      "CENT_4747_S: 0.0306368691637\n",
      "MIDW_111_S: 0.0307037466984\n",
      "HARM_3919_S: 0.0314102784758\n",
      "LEXI_420_S: 0.0314743354819\n",
      "EMBA_555_S: 0.0316039206179\n",
      "LAKE_7618_S: 0.0318814417982\n",
      "PRES_6930_S: 0.0319904174822\n",
      "THE_4600_S: 0.0329595906389\n",
      "MATH_820_S: 0.033078572939\n",
      "ATRI_1425_S: 0.0331366318656\n",
      "CONT_5336_S: 0.0334267450592\n",
      "HEND_8800_S: 0.0337968067439\n",
      "COVE_700_S: 0.0340909090909\n",
      "DEKA_2600_S: 0.0342803474995\n",
      "IMPE_3300_S: 0.0345322379727\n",
      "MANO_9401_S: 0.0351113462557\n",
      "LUTH_800_S: 0.0354792881711\n",
      "ALDE_504_S: 0.0358346696339\n",
      "SLL_7000_S: 0.0359871826471\n",
      "PRES_901_S: 0.0368488356442\n",
      "PROV_13259_S: 0.0369022343544\n",
      "ELMH_200_S: 0.0374833122242\n",
      "AURO_1601_S: 0.0383017125589\n",
      "APPL_21020_S: 0.038781310596\n",
      "MIDW_1519_S: 0.0388521827137\n",
      "MANO_940_S: 0.0388587245823\n",
      "BRAV_4101_S: 0.0391757003328\n",
      "THE_710_S: 0.0393199210723\n",
      "FAIR_5061_S: 0.0398384632177\n",
      "LEXI_165_S: 0.0405120426209\n",
      "JOHN_2901_S: 0.0406743584929\n",
      "LAKE_263_S: 0.0407930618265\n",
      "WARR_66_S: 0.041454504155\n",
      "DEER_306_S: 0.0420638448495\n",
      "NORW_2833_S: 0.0430373776678\n",
      "CHAT_7050_S: 0.0437117023611\n",
      "SSC_2901_S: 0.0442563717049\n",
      "ALDE_5831_S: 0.0452425589936\n",
      "BRAV_1800_S: 0.0456235742632\n",
      "MCAL_18300_S: 0.0458087150141\n",
      "GROS_6601_S: 0.0465190377568\n",
      "BRAV_2355_S: 0.0468525364552\n",
      "HICK_9246_S: 0.0469674873465\n",
      "LONG_1666_S: 0.0479222740105\n",
      "LEXI_675_S: 0.0480994494553\n",
      "MAJO_10352_S: 0.048351835808\n",
      "GENE_3856_S: 0.0487967914437\n",
      "SNH_1200_S: 0.0492876915803\n",
      "MIDW_8540_S: 0.0493268525566\n",
      "INTE_4815_S: 0.0495419070241\n",
      "ALDE_1535_S: 0.0496142997928\n",
      "ST_9244_S: 0.0500179157922\n",
      "THE_908_S: 0.0518957345972\n",
      "HERI_5888_S: 0.0534955298254\n",
      "MAPL_50_S: 0.0535913549069\n",
      "DEKA_2944_S: 0.0538030660379\n",
      "RESU_2380_S: 0.0539568345324\n",
      "KIND_2300_S: 0.0540748907902\n",
      "GLEN_4340_S: 0.0546216391482\n",
      "MAJO_601_S: 0.0551012139045\n",
      "SOUT_2649_S: 0.0553281794756\n",
      "WOOD_920_S: 0.0561164351972\n",
      "FRAN_1270_S: 0.0565277992878\n",
      "MANO_432_S: 0.0581812385427\n",
      "PINE_1212_S: 0.0582676159766\n",
      "MAJO_7935_S: 0.0588311327589\n",
      "MAJO_3301_S: 0.0592226403653\n",
      "CRYS_335_S: 0.0596421471173\n",
      "LAKE_14718_S: 0.0603448275862\n",
      "COUN_1125_S: 0.0607220096488\n",
      "MANO_7850_S: 0.0608536178727\n",
      "TRIL_1101_S: 0.0614856640825\n",
      "ADAM_119_S: 0.0627318425139\n",
      "BETH_3298_S: 0.0649489305668\n",
      "GROV_9000_S: 0.0650392017105\n",
      "FRAN_555_S: 0.0651702588956\n",
      "ALDE_201_S: 0.0675470251549\n",
      "LAKE_735_S: 0.0677850687135\n",
      "COMM_503_S: 0.0698748360013\n",
      "WASH_10501_S: 0.0699099789314\n",
      "PRES_811_S: 0.0708172548343\n",
      "EVER_10124_S: 0.0712028403108\n",
      "LEXI_10300_S: 0.071695148301\n",
      "COMM_1136_S: 0.0723361152094\n",
      "ZIKA_5448_S: 0.0724350069461\n",
      "ALDE_2021_S: 0.0726055100623\n",
      "HIGH_50_S: 0.072871260773\n",
      "ALDE_1420_S: 0.0740682284504\n",
      "MICH_802_S: 0.0743996351665\n",
      "BERK_6909_S: 0.0751531373865\n",
      "SHER_7350_S: 0.0767774505677\n",
      "WASH_11308_S: 0.0771274187215\n",
      "RENS_1309_S: 0.077731252561\n",
      "MAJO_8380_S: 0.078513448793\n",
      "GEOR_3623_S: 0.0811679931357\n",
      "ALDE_2520_S: 0.0812519478212\n",
      "WAUC_176_S: 0.0825922657433\n",
      "CHIC_1415_S: 0.0827382976314\n",
      "HANC_203_S: 0.0832586230911\n",
      "MORR_1223_S: 0.0834762721555\n",
      "BREN_3705_S: 0.0846023688663\n",
      "TRI_2500_S: 0.085101422243\n",
      "SSC_10330_S: 0.0851544245686\n",
      "MAJO_5025_S: 0.0859009747117\n",
      "GLEN_3901_S: 0.0860524330442\n",
      "KIND_8400_S: 0.0870209437221\n",
      "PRES_1100_S: 0.0877446031057\n",
      "HEND_1900_S: 0.0880694814864\n",
      "HEND_3175_S: 0.0892056675976\n",
      "BERK_8200_S: 0.0903757880505\n",
      "CHIC_6685_S: 0.0913177155485\n",
      "WYND_2180_S: 0.0928882102537\n",
      "RIDG_12550_S: 0.0931020661005\n",
      "MANO_200_S: 0.0941881469158\n",
      "MANO_180_S: 0.0942839219165\n",
      "BROO_3506_S: 0.0943128755648\n",
      "ASTA_134_S: 0.0945289737783\n",
      "LUTH_1601_S: 0.0951553334782\n",
      "ALDE_16450_S: 0.0955408058336\n",
      "RESU_500_S: 0.0956025726841\n",
      "RIVI_490_S: 0.0960021041555\n",
      "PARK_665_S: 0.0966119640022\n",
      "MANO_600_S: 0.0983437673348\n",
      "ST_3800_S: 0.0992313585918\n",
      "BRAV_850_S: 0.0995946051296\n",
      "MANO_3300_S: 0.100290797518\n",
      "MORR_1095_S: 0.101498845972\n",
      "WIND_124_S: 0.103973792907\n",
      "CLAR_829_S: 0.104630650497\n",
      "MANO_1920_S: 0.105914784544\n",
      "LIFE_1000_S: 0.10723897226\n",
      "MANO_6300_S: 0.107717279032\n",
      "HEAL_5801_S: 0.108355048323\n",
      "TABO_1347_S: 0.109107786221\n",
      "RIVE_1601_S: 0.10914838627\n",
      "THE_2732_S: 0.110632135519\n",
      "ABBI_31_S: 0.112362021197\n",
      "PRES_611_S: 0.11284936928\n",
      "MANO_2145_S: 0.112890020922\n",
      "MAYF_5905_S: 0.113085621971\n",
      "KENS_3405_S: 0.113490319638\n",
      "CLAR_150_S: 0.113659260345\n",
      "MANO_512_S: 0.113884555383\n",
      "MANO_1500_S: 0.116122558856\n",
      "WHIT_300_S: 0.116232296991\n",
      "OAK_221_S: 0.116512218394\n",
      "HEND_1700_S: 0.116556548141\n",
      "KIND_3415_S: 0.117959763217\n",
      "JOHN_5909_S: 0.120842804676\n",
      "MANO_2773_S: 0.121271756076\n",
      "THE_110_S: 0.123378276675\n",
      "LEMO_12450_S: 0.123741150663\n",
      "FAL_9630_S: 0.124194675153\n",
      "EXTE_8633_S: 0.124662611974\n",
      "PRES_210_S: 0.125418211411\n",
      "BRAV_3401_S: 0.12555506911\n",
      "THE_4390_S: 0.127715748959\n",
      "VALP_3405_S: 0.127984807282\n",
      "FRAN_4021_S: 0.128242665573\n",
      "HANC_101_S: 0.130475820091\n",
      "ALDE_5050_S: 0.135413660909\n",
      "BEEC_1201_S: 0.136067101584\n",
      "MANO_715_S: 0.136312710071\n",
      "REST_16300_S: 0.136816211785\n",
      "WOOD_7444_S: 0.13698630137\n",
      "MONT_5550_S: 0.141068253847\n",
      "SALE_1314_S: 0.148228993489\n",
      "SHER_1950_S: 0.148444384194\n",
      "SH_700_S: 0.152024862233\n",
      "WISC_471_S: 0.154138513515\n",
      "BRIT_8700_S: 0.158145580589\n",
      "PRAI_345_S: 0.158595667949\n",
      "EMER_6801_S: 0.163285176706\n",
      "PROV_3450_S: 0.164183669797\n",
      "TRIL_1251_S: 0.166534858255\n",
      "MOME_500_S: 0.167597765363\n",
      "FAIR_222_S: 0.178114978854\n",
      "PALO_10426_S: 0.18545962654\n",
      "BROO_1800_S: 0.189830372859\n",
      "LEXI_4735_S: 0.193439513543\n",
      "PLYM_315_S: 0.193998119302\n",
      "LIBE_610_S: 0.19560557342\n",
      "THI_5400_S: 0.198002712366\n",
      "PRES_400_S: 0.198543872128\n",
      "WEAL_150_S: 0.20337566457\n",
      "OUR_1201_S: 0.213529158199\n",
      "ALDE_1221_S: 0.21728615545\n",
      "THE_55_S: 0.23135432073\n",
      "THE_6000_S: 0.254947613497\n",
      "FOUN_1000_S: 0.271946355788\n",
      "MEMO_527_S: 0.282071097369\n",
      "OAK_625_S: 0.290096963917\n",
      "ALDE_4660_S: 0.353625060545\n",
      "MANO_4225_S: 0.357465722465\n",
      "HILL_777_S: 0.385287373056\n",
      "BETH_8425_S: 0.415389260497\n",
      "LINC_960_S: 0.476242252908\n",
      "LEXI_2100_S: 0.558669454804\n",
      "CHUR_2000_S: 0.561890643703\n",
      "PROV_1101_S: 0.731951871655\n",
      "SHER_2534_S: 0.76376136994\n",
      "CLAR_7433_S: 1.35365672747\n",
      "CLAR_1366_S: 25.4366078896\n"
     ]
    }
   ],
   "source": [
    "survey('_S')"
   ]
  },
  {
   "cell_type": "code",
   "execution_count": 14,
   "metadata": {
    "collapsed": false
   },
   "outputs": [
    {
     "name": "stdout",
     "output_type": "stream",
     "text": [
      "CLAR_1366_S flow: 91 in, 8 out, 83 net\n",
      "---------------\n",
      "arrivals: {(1, 'C263'): 1, (1, 'C1295'): 2, (1, 'ADVO_836_H'): 6, (1, 'C1810'): 1, (1, 'C221'): 1, (1, 'C1266'): 1, (1, 'C1883'): 1, (1, 'C1522'): 1, (1, 'C1045'): 1, (1, 'C1428'): 1, (1, 'C128'): 1, (1, 'C187'): 1, (1, 'C182'): 1, (1, 'C441'): 1, (1, 'THE_1_H'): 1, (1, 'C173'): 1, (1, 'RUSH_1653_H'): 2, (1, 'C891'): 1, (1, 'C1818'): 1, (1, 'C1284'): 1, (1, 'C1473'): 1, (1, 'C1362'): 1, (1, 'C902'): 1, (1, 'C1409'): 1, (1, 'C635'): 1, (1, 'C161'): 1, (1, 'C2093'): 1, (1, 'C1395'): 1, (1, 'C1925'): 1, (1, 'C838'): 1, (1, 'C1155'): 1, (1, 'C127'): 1, (1, 'C179'): 1, (1, 'C1458'): 1, (1, 'C1361'): 1, (1, 'C1135'): 2, (1, 'C569'): 1, (1, 'C1612'): 1, (1, 'C1696'): 1, (1, 'C1606'): 1, (1, 'C232'): 1, (1, 'C789'): 1, (1, 'C611'): 1, (1, 'C1842'): 1, (1, 'C526'): 1, (1, 'C1885'): 1, (1, 'C1565'): 1, (1, 'JOSE_1127_H'): 5, (1, 'C1584'): 1, (1, 'C686'): 1, (1, 'C656'): 1, (1, 'THE_2732_S'): 1, (1, 'C1756'): 1, (1, 'C1902'): 1, (1, 'C2148'): 1, (1, 'C1009'): 1, (1, 'C976'): 1, (1, 'C216'): 1, (1, 'PRES_1127_H'): 2, (1, 'C1350'): 1, (1, 'NORT_251_H'): 8, (1, 'C1315'): 1, (1, 'C1305'): 1, (1, 'C2133'): 1, (1, 'C1603'): 1, (1, 'C1460'): 1, (1, 'CLAR_1366_S'): 1, (1, 'C632'): 1, (1, 'C1088'): 1, (1, 'C1967'): 1, (1, 'C320'): 1}\n",
      "    SNF: 2\n",
      "    HOSPITAL: 24\n",
      "    COMMUNITY: 65\n",
      "---------------\n",
      "departures: {('C2005', 0): 1, ('CLAR_1366_S', 1): 1, ('C1990', 0): 1, ('CALI_2829_S', 1): 1, ('C2002', 0): 1, ('C2016', 0): 1, ('C1991', 0): 1, ('C1627', 0): 1}\n",
      "    SNF: 2\n",
      "    COMMUNITY: 6\n",
      "---------------\n",
      "CLAR_7433_S flow: 37 in, 12 out, 25 net\n",
      "---------------\n",
      "arrivals: {(1, 'BETH_5025_H'): 2, (1, 'C1709'): 1, (1, 'C450'): 1, (1, 'CLAR_7433_S'): 5, (1, 'C054'): 1, (1, 'PRES_8001_S'): 1, (1, 'C1977'): 1, (1, 'C584'): 1, (1, 'C1244'): 1, (1, 'C635'): 1, (1, 'PLAZ_3249_S'): 1, (1, 'C1029'): 1, (1, 'C2201'): 1, (1, 'PRES_355_H'): 1, (1, 'C015'): 1, (1, 'C615'): 1, (1, 'C1778'): 1, (1, 'C1319'): 1, (1, 'C446'): 1, (1, 'ALDE_504_S'): 1, (1, 'C571'): 1, (1, 'C1860'): 1, (1, 'C2060'): 1, (1, 'C1656'): 1, (1, 'SHER_5838_S'): 1, (1, 'C1909'): 1, (1, 'C010'): 1, (1, 'C788'): 1, (1, 'C1416'): 1, (1, 'WARR_6700_S'): 1, (1, 'C1808'): 1, (1, 'LAKE_735_S'): 1}\n",
      "    SNF: 11\n",
      "    HOSPITAL: 3\n",
      "    COMMUNITY: 23\n",
      "---------------\n",
      "departures: {('PRES_355_H', 3): 1, ('CLAR_7433_S', 1): 5, ('C1107', 0): 2, ('SWED_5145_H', 3): 1, ('C1139', 0): 1, ('VHS_4646_H', 3): 1, ('C1569', 0): 1}\n",
      "    SNF: 5\n",
      "    HOSPITAL: 3\n",
      "    COMMUNITY: 4\n",
      "---------------\n"
     ]
    }
   ],
   "source": [
    "def printDetails(abbrev):\n",
    "    junk = printTotals(abbrev)\n",
    "    print '---------------'\n",
    "    print 'arrivals: %s' % toFromDict[abbrev]\n",
    "    toByCat = defaultdict(lambda: 0)\n",
    "    for k, v in toFromDict[abbrev].items():\n",
    "        toT, fmA = k\n",
    "        toByCat[facDict[fmA]['category']] += v\n",
    "    for k, v in toByCat.items():\n",
    "        print '    %s: %s' % (k, v)\n",
    "    print '---------------'\n",
    "    print 'departures: %s' % fromToDict[abbrev]\n",
    "    fmByCat = defaultdict(lambda: 0)\n",
    "    for k, v in fromToDict[abbrev].items():\n",
    "        toA, toT = k\n",
    "        fmByCat[facDict[toA]['category']] += v\n",
    "    for k, v in fmByCat.items():\n",
    "        print '    %s: %s' % (k, v)\n",
    "\n",
    "    print '---------------'\n",
    "printDetails('CLAR_1366_S')\n",
    "printDetails('CLAR_7433_S')"
   ]
  },
  {
   "cell_type": "code",
   "execution_count": 15,
   "metadata": {
    "collapsed": false
   },
   "outputs": [
    {
     "name": "stdout",
     "output_type": "stream",
     "text": [
      "PINN_9301_H flow: 4 in, 0 out, 4 net\n",
      "---------------\n",
      "arrivals: {(3, 'C1381'): 1, (3, 'C609'): 1, (4, 'C229'): 1, (3, 'C091'): 1}\n",
      "    COMMUNITY: 4\n",
      "---------------\n",
      "departures: {}\n",
      "---------------\n"
     ]
    }
   ],
   "source": [
    "printDetails('PINN_9301_H')"
   ]
  },
  {
   "cell_type": "code",
   "execution_count": 16,
   "metadata": {
    "collapsed": false
   },
   "outputs": [
    {
     "name": "stdout",
     "output_type": "stream",
     "text": [
      "totals: 727 up, 1428 down, 105 unchanged, total change 1026\n"
     ]
    }
   ],
   "source": [
    "def communitySurvey():\n",
    "    totPlus = 0\n",
    "    totMinus = 0\n",
    "    totZero = 0\n",
    "    delta = 0\n",
    "    for abbrev in allAbbrev:\n",
    "        if abbrev.find('_') < 0:\n",
    "            netChange = printTotals(abbrev, hush=True)\n",
    "            delta += netChange\n",
    "            if netChange > 0:\n",
    "                totPlus += 1\n",
    "            elif netChange < 0:\n",
    "                totMinus += 1\n",
    "            else:\n",
    "                totZero += 1\n",
    "    print 'totals: %d up, %d down, %s unchanged, total change %s' % (totPlus, totMinus, totZero, delta)\n",
    "communitySurvey()\n"
   ]
  },
  {
   "cell_type": "code",
   "execution_count": 17,
   "metadata": {
    "collapsed": false
   },
   "outputs": [
    {
     "name": "stdout",
     "output_type": "stream",
     "text": [
      "{('BALM_2055_S', 1): 2, ('RIDG_6450_S', 1): 2, ('ALDE_820_V', 6): 1, ('MID_4920_S', 1): 1, ('ZIKA_5448_S', 1): 2, ('C1105', 0): 2, ('C1135', 0): 1, ('PARK_6125_V', 6): 1, ('COLU_901_S', 1): 1, ('ADVO_836_H', 3): 1, ('ALSH_2840_S', 1): 1, ('WINF_28W141_S', 1): 1, ('BETH_5025_H', 3): 5, ('C605', 0): 2, ('FORT_4621_S', 1): 2, ('LAKE_263_S', 1): 2, ('CLAR_7433_S', 1): 2, ('WARR_6700_S', 1): 2, ('JOSE_1127_H', 3): 1, ('BURN_14500_S', 1): 3, ('THC_4058_L', 2): 1, ('C586', 0): 1, ('ARBO_1512_S', 1): 1, ('GLEN_270_S', 1): 1, ('THC_2544_L', 2): 3, ('PARK_2320_V', 1): 1, ('PRES_8001_S', 1): 1, ('C1127', 0): 35, ('GLEN_2451_V', 6): 1}\n",
      "80\n",
      "---------------\n",
      "{(3, 'BURN_14500_S'): 2, (3, 'ZIKA_5448_S'): 4, (3, 'C112'): 1, (3, 'C162'): 1, (3, 'C1943'): 1, (3, 'RIVI_490_S'): 1, (3, 'C917'): 1, (3, 'WARR_6700_S'): 5, (3, 'ATRI_1425_S'): 1, (3, 'CRES_13301_S'): 1, (3, 'C1956'): 1, (4, 'ATRI_1425_S'): 1, (3, 'GLEN_2451_V'): 1, (3, 'C757'): 1, (3, 'HEAT_15600_S'): 1, (3, 'C1184'): 1, (3, 'C624'): 1, (4, 'C1586'): 1, (3, 'C1284'): 1, (3, 'COUN_1635_S'): 1, (3, 'C1367'): 1, (3, 'WINF_28W141_S'): 4, (3, 'HARM_3919_S'): 2, (3, 'C813'): 1, (3, 'C2226'): 1, (4, 'COLU_901_S'): 1, (4, 'BMO_10602_S'): 1, (3, 'RIDG_6450_S'): 1, (3, 'C022'): 1, (3, 'C419'): 1, (3, 'MST_120_S'): 1, (3, 'THE_1740_H'): 1, (3, 'SOUT_3311_S'): 1, (3, 'C1440'): 1, (3, 'IMPE_3300_S'): 1, (3, 'BRIG_4538_S'): 2, (3, 'BETH_5025_H'): 5, (3, 'BUTT_431_S'): 1, (3, 'WATE_7445_S'): 1, (3, 'PARK_2320_V'): 1, (3, 'SHER_5838_S'): 5, (3, 'C1652'): 1, (3, 'C1225'): 1, (3, 'C561'): 1, (3, 'PRES_1127_H'): 1, (3, 'C1060'): 1, (3, 'C2170'): 1, (3, 'C1013'): 1, (3, 'MID_4920_S'): 4, (3, 'ARBO_1512_S'): 1, (3, 'JOLI_2230_S'): 3, (3, 'FORT_4621_S'): 2, (3, 'C1941'): 1, (3, 'C470'): 1, (3, 'BMO_10602_S'): 1, (3, 'COMM_4314_S'): 1, (3, 'KENS_3405_S'): 2, (3, 'C558'): 1, (3, 'CENT_2450_S'): 2, (3, 'C1527'): 1, (3, 'C1247'): 1, (3, 'ELMW_7733_V'): 1, (3, 'C484'): 1, (3, 'BOUR_133_S'): 1, (3, 'C2091'): 1, (3, 'CITY_5825_S'): 3, (3, 'C921'): 1, (3, 'BALM_2055_S'): 4, (3, 'GLEN_270_S'): 2, (4, 'SHER_5838_S'): 1, (3, 'HIGH_50_S'): 1, (3, 'C2198'): 1, (3, 'C401'): 1, (3, 'LAKE_263_S'): 2, (3, 'COLU_901_S'): 2, (4, 'WARR_6700_S'): 1, (3, 'C2200'): 1, (4, 'CENT_1401_S'): 1, (3, 'ALDE_820_V'): 1, (3, 'ALSH_2840_S'): 1, (3, 'PRES_8001_S'): 1, (4, 'CITY_5825_S'): 1, (3, 'LORE_645_H'): 2, (3, 'C1869'): 1, (3, 'WOOD_2242_S'): 3}\n",
      "125\n",
      "---------------\n",
      "BETH_5025_H flow: 125 in, 80 out, 45 net\n"
     ]
    },
    {
     "data": {
      "text/plain": [
       "45"
      ]
     },
     "execution_count": 17,
     "metadata": {},
     "output_type": "execute_result"
    }
   ],
   "source": [
    "abbrev = 'BETH_5025_H'\n",
    "print fromToDict[abbrev]\n",
    "print sum(fromToDict[abbrev].values())\n",
    "print '---------------'\n",
    "print toFromDict[abbrev]\n",
    "print sum(toFromDict[abbrev].values())\n",
    "print '---------------'\n",
    "printTotals(abbrev)"
   ]
  },
  {
   "cell_type": "code",
   "execution_count": 18,
   "metadata": {
    "collapsed": false
   },
   "outputs": [
    {
     "name": "stdout",
     "output_type": "stream",
     "text": [
      "From THC_2544_L to:\n",
      "  ABBI_31_S: 0\n",
      "  ADAM_119_S: 0\n",
      "  ADVE_120_H: 0\n",
      "  ADVE_500_H: 0\n",
      "  ADVE_5101_H: 0\n",
      "  ADVE_701_H: 0\n",
      "  ADVO_1775_H: 0\n",
      "  ADVO_17800_H: 0\n",
      "  ADVO_2320_H: 0\n",
      "  ADVO_3435_L: 0\n",
      "  ADVO_3815_H: 0\n",
      "  ADVO_4440_H: 0\n",
      "  ADVO_450_H: 0\n",
      "  ADVO_801_H: 0\n",
      "  ADVO_836_H: 0\n",
      "  ALDE_1221_S: 0\n",
      "  ALDE_1420_S: 0\n",
      "  ALDE_1535_S: 0\n",
      "  ALDE_1545_S: 0\n",
      "  ALDE_16450_S: 0\n",
      "  ALDE_201_S: 0\n",
      "  ALDE_2021_S: 0\n",
      "  ALDE_2520_S: 0\n",
      "  ALDE_255_S: 0\n",
      "  ALDE_275_S: 0\n",
      "  ALDE_4660_S: 0\n",
      "  ALDE_504_S: 0\n",
      "  ALDE_5050_S: 0\n",
      "  ALDE_5831_S: 0\n",
      "  ALDE_6120_S: 0\n",
      "  ALDE_803_S: 0\n",
      "  ALDE_820_V: 0\n",
      "  ALDE_BOX_S: 0\n",
      "  ALEX_800_H: 0\n",
      "  ALSH_2840_S: 0\n",
      "  AMBA_4900_S: 0\n",
      "  ANN_225_C: 0\n",
      "  APPL_21020_S: 0\n",
      "  ARBO_1512_S: 0\n",
      "  ARBO_535_S: 0\n",
      "  ASTA_134_S: 0\n",
      "  ASTO_6300_S: 0\n",
      "  ATRI_1425_S: 0\n",
      "  AURO_10400_H: 0\n",
      "  AURO_1601_S: 0\n",
      "  AVEN_4505_S: 0\n",
      "  BALL_9300_V: 0\n",
      "  BALM_2055_S: 0\n",
      "  BAYS_1100_S: 0\n",
      "  BEEC_1201_S: 0\n",
      "  BELH_11401_S: 0\n",
      "  BERK_6909_S: 0\n",
      "  BERK_8200_S: 0\n",
      "  BETH_3298_S: 0\n",
      "  BETH_5025_H: 0\n",
      "  BETH_8425_S: 0\n",
      "  BEVE_1703_S: 0\n",
      "  BIRC_1426_S: 0\n",
      "  BMO_10602_S: 0\n",
      "  BOUR_133_S: 0\n",
      "  BRAD_650_S: 0\n",
      "  BRAV_1800_S: 0\n",
      "  BRAV_2355_S: 0\n",
      "  BRAV_3401_S: 0\n",
      "  BRAV_4101_S: 0\n",
      "  BRAV_850_S: 0\n",
      "  BREN_3705_S: 0\n",
      "  BRIA_6800_S: 0\n",
      "  BRID_8100_S: 0\n",
      "  BRIG_4538_S: 0\n",
      "  BRIT_8700_S: 0\n",
      "  BROO_1800_S: 0\n",
      "  BROO_3506_S: 0\n",
      "  BUCK_2625_S: 0\n",
      "  BURN_14500_S: 0\n",
      "  BUTT_339_S: 0\n",
      "  BUTT_431_S: 0\n",
      "  BUTT_720_S: 0\n",
      "  CALI_2829_S: 0\n",
      "  CAPI_7250_S: 0\n",
      "  CARL_725_S: 0\n",
      "  CCL_2401_S: 0\n",
      "  CENT_1401_S: 0\n",
      "  CENT_2450_S: 0\n",
      "  CENT_25_H: 0\n",
      "  CENT_4747_S: 0\n",
      "  CHAT_7050_S: 0\n",
      "  CHEV_3400_S: 0\n",
      "  CHIC_1415_S: 0\n",
      "  CHIC_6685_S: 0\n",
      "  CHUR_2000_S: 0\n",
      "  CITY_5825_S: 0\n",
      "  CLAR_1366_S: 0\n",
      "  CLAR_150_S: 0\n",
      "  CLAR_700_S: 0\n",
      "  CLAR_7433_S: 0\n",
      "  CLAR_829_S: 0\n",
      "  COLU_901_S: 0\n",
      "  COMM_1136_S: 0\n",
      "  COMM_4314_S: 0\n",
      "  COMM_503_S: 0\n",
      "  COMM_5645_H: 0\n",
      "  CONC_9401_S: 0\n",
      "  CONS_1000_S: 0\n",
      "  CONT_5336_S: 0\n",
      "  COOK_15900_H: 0\n",
      "  COOK_1901_H: 0\n",
      "  COOK_500_H: 0\n",
      "  COPL_2000_H: 0\n",
      "  COUN_1125_S: 0\n",
      "  COUN_1635_S: 0\n",
      "  COUN_2330_S: 0\n",
      "  COUN_2406_S: 0\n",
      "  COUN_421_S: 0\n",
      "  COUN_9700_S: 0\n",
      "  COUR_3601_S: 0\n",
      "  COVE_2625_S: 0\n",
      "  COVE_700_S: 0\n",
      "  CRES_13301_S: 0\n",
      "  CRES_14255_S: 0\n",
      "  CRYS_335_S: 0\n",
      "  DECA_353_S: 0\n",
      "  DEER_306_S: 0\n",
      "  DEKA_1316_H: 0\n",
      "  DEKA_2600_S: 0\n",
      "  DEKA_2944_S: 0\n",
      "  DELN_300_H: 0\n",
      "  DOBS_120_S: 0\n",
      "  DOLT_14325_S: 0\n",
      "  DUPA_400_S: 0\n",
      "  EDWA_801_H: 0\n",
      "  ELMB_127_S: 0\n",
      "  ELMH_200_H: 0\n",
      "  ELMH_200_S: 0\n",
      "  ELMW_1017_S: 0\n",
      "  ELMW_7733_V: 0\n",
      "  EMBA_555_S: 0\n",
      "  EMER_6801_S: 0\n",
      "  EVAN_1300_S: 0\n",
      "  EVAN_350_S: 0\n",
      "  EVER_10124_S: 0\n",
      "  EXCE_5701_S: 0\n",
      "  EXTE_8633_S: 0\n",
      "  FAIR_222_S: 0\n",
      "  FAIR_5061_S: 0\n",
      "  FAL_9630_S: 0\n",
      "  FORE_6840_S: 0\n",
      "  FORT_4621_S: 0\n",
      "  FOUN_1000_S: 0\n",
      "  FRAN_1055_S: 0\n",
      "  FRAN_1201_H: 0\n",
      "  FRAN_1270_S: 0\n",
      "  FRAN_1423_H: 0\n",
      "  FRAN_20201_H: 0\n",
      "  FRAN_24_H: 0\n",
      "  FRAN_301_H: 0\n",
      "  FRAN_4021_S: 0\n",
      "  FRAN_40_S: 0\n",
      "  FRAN_5454_H: 0\n",
      "  FRAN_555_S: 0\n",
      "  FRAN_701_H: 0\n",
      "  GENE_3856_S: 0\n",
      "  GEOR_3623_S: 0\n",
      "  GLEN_1511_S: 0\n",
      "  GLEN_19330_S: 0\n",
      "  GLEN_22660_V: 0\n",
      "  GLEN_2451_V: 0\n",
      "  GLEN_270_S: 0\n",
      "  GLEN_3901_S: 0\n",
      "  GLEN_4340_S: 0\n",
      "  GLEN_8333_V: 0\n",
      "  GOTT_701_H: 0\n",
      "  GRAS_4621_S: 0\n",
      "  GREE_220_S: 0\n",
      "  GROS_6601_S: 0\n",
      "  GROV_701_S: 0\n",
      "  GROV_9000_S: 0\n",
      "  HANC_101_S: 0\n",
      "  HANC_203_S: 0\n",
      "  HARM_3919_S: 0\n",
      "  HEAL_5801_S: 0\n",
      "  HEAR_3100_S: 0\n",
      "  HEAT_15600_S: 0\n",
      "  HELI_1308_S: 0\n",
      "  HEND_1700_S: 0\n",
      "  HEND_1900_S: 0\n",
      "  HEND_251_S: 0\n",
      "  HEND_3175_S: 0\n",
      "  HEND_8800_S: 0\n",
      "  HERI_355_S: 0\n",
      "  HERI_5888_S: 0\n",
      "  HICK_9246_S: 0\n",
      "  HIGH_50_S: 0\n",
      "  HILL_1740_S: 0\n",
      "  HILL_777_S: 0\n",
      "  HOLY_12220_S: 0\n",
      "  HOLY_2701_H: 0\n",
      "  IMPE_3300_S: 0\n",
      "  INDI_1007_H: 0\n",
      "  INTE_4815_S: 0\n",
      "  JACK_5130_S: 0\n",
      "  JACK_7531_H: 0\n",
      "  JASP_1104_H: 0\n",
      "  JOHN_1367_S: 0\n",
      "  JOHN_2901_S: 0\n",
      "  JOHN_5909_S: 0\n",
      "  JOLI_2230_S: 0\n",
      "  JOSE_1127_H: 0\n",
      "  KANK_100_S: 0\n",
      "  KENS_3405_S: 0\n",
      "  KENW_7434_S: 0\n",
      "  KIND_2300_S: 0\n",
      "  KIND_3415_S: 0\n",
      "  KIND_8400_S: 0\n",
      "  KISH_ONE_H: 0\n",
      "  LAKE_14718_S: 0\n",
      "  LAKE_263_S: 0\n",
      "  LAKE_7200_S: 0\n",
      "  LAKE_735_S: 0\n",
      "  LAKE_7618_S: 0\n",
      "  LAR_E_C: 0\n",
      "  LEMO_12450_S: 0\n",
      "  LEXI_10300_S: 0\n",
      "  LEXI_14601_S: 0\n",
      "  LEXI_165_S: 0\n",
      "  LEXI_2100_S: 0\n",
      "  LEXI_420_S: 0\n",
      "  LEXI_4735_S: 0\n",
      "  LEXI_675_S: 0\n",
      "  LEXI_730_S: 0\n",
      "  LEXI_815_S: 0\n",
      "  LEXI_900_S: 0\n",
      "  LIBE_610_S: 0\n",
      "  LIFE_1000_S: 0\n",
      "  LIFE_250_S: 0\n",
      "  LINC_960_S: 0\n",
      "  LITT_2325_S: 0\n",
      "  LITT_2800_H: 0\n",
      "  LITT_80_S: 0\n",
      "  LONG_1666_S: 0\n",
      "  LORE_645_H: 0\n",
      "  LOYO_2160_H: 0\n",
      "  LUTH_1601_S: 0\n",
      "  LUTH_16220_S: 0\n",
      "  LUTH_800_S: 0\n",
      "  MAJO_10352_S: 0\n",
      "  MAJO_2350_S: 0\n",
      "  MAJO_3301_S: 0\n",
      "  MAJO_4410_S: 0\n",
      "  MAJO_5025_S: 0\n",
      "  MAJO_601_S: 0\n",
      "  MAJO_7935_S: 0\n",
      "  MAJO_8380_S: 0\n",
      "  MANO_11860_S: 0\n",
      "  MANO_1500_S: 0\n",
      "  MANO_180_S: 0\n",
      "  MANO_1920_S: 0\n",
      "  MANO_200_S: 0\n",
      "  MANO_2145_S: 0\n",
      "  MANO_2773_S: 0\n",
      "  MANO_3300_S: 0\n",
      "  MANO_4225_S: 0\n",
      "  MANO_432_S: 0\n",
      "  MANO_512_S: 0\n",
      "  MANO_600_S: 0\n",
      "  MANO_6300_S: 0\n",
      "  MANO_715_S: 0\n",
      "  MANO_7850_S: 0\n",
      "  MANO_900_S: 0\n",
      "  MANO_9401_S: 0\n",
      "  MANO_940_S: 0\n",
      "  MAPL_50_S: 0\n",
      "  MATH_820_S: 0\n",
      "  MAYF_5905_S: 0\n",
      "  MCAL_18300_S: 0\n",
      "  MEMO_3701_H: 0\n",
      "  MEMO_527_S: 0\n",
      "  MERC_2525_H: 0\n",
      "  MERC_901_H: 0\n",
      "  MICH_802_S: 0\n",
      "  MIDW_111_S: 0\n",
      "  MIDW_1430_H: 0\n",
      "  MIDW_1519_S: 0\n",
      "  MIDW_8540_S: 0\n",
      "  MID_4920_S: 0\n",
      "  MISE_6300_S: 0\n",
      "  MOME_500_S: 0\n",
      "  MONT_5550_S: 0\n",
      "  MORR_1095_S: 0\n",
      "  MORR_1223_S: 0\n",
      "  MORR_150_H: 0\n",
      "  MOUN_2028_H: 0\n",
      "  MSMC_12935_H: 0\n",
      "  MST_120_S: 0\n",
      "  MUNS_901_H: 0\n",
      "  NEWT_300_S: 0\n",
      "  NILE_9777_S: 0\n",
      "  NORR_7001_S: 0\n",
      "  NORT_251_H: 0\n",
      "  NORT_2650_H: 0\n",
      "  NORT_4201_H: 0\n",
      "  NORT_660_H: 0\n",
      "  NORT_777_H: 0\n",
      "  NORT_800_H: 0\n",
      "  NORT_9600_H: 0\n",
      "  NORW_1044_H: 0\n",
      "  NORW_2833_S: 0\n",
      "  NORW_6016_S: 0\n",
      "  OAKR_323_S: 0\n",
      "  OAKT_1660_S: 0\n",
      "  OAK_2013_S: 0\n",
      "  OAK_221_S: 0\n",
      "  OAK_520_S: 0\n",
      "  OAK_625_S: 0\n",
      "  OAK_9525_V: 0\n",
      "  OUR_1201_S: 0\n",
      "  PALO_10426_S: 0\n",
      "  PALO_12251_H: 0\n",
      "  PARK_2320_V: 0\n",
      "  PARK_6125_V: 0\n",
      "  PARK_665_S: 0\n",
      "  PAVI_2217_S: 0\n",
      "  PERS_3900_S: 0\n",
      "  PETE_310_S: 0\n",
      "  PETE_520_S: 0\n",
      "  PETE_6141_S: 0\n",
      "  PETE_746_S: 0\n",
      "  PETE_902_S: 0\n",
      "  PHWD_3500_S: 0\n",
      "  PINE_1212_S: 0\n",
      "  PINN_2222_S: 0\n",
      "  PINN_9301_H: 0\n",
      "  PLAZ_3249_S: 0\n",
      "  PLUM_24_S: 0\n",
      "  PLYM_315_S: 0\n",
      "  PORT_85_H: 0\n",
      "  PRAI_345_S: 0\n",
      "  PRES_1001_S: 0\n",
      "  PRES_100_L: 0\n",
      "  PRES_1100_S: 0\n",
      "  PRES_1127_H: 0\n",
      "  PRES_1325_H: 0\n",
      "  PRES_1700_S: 0\n",
      "  PRES_20_S: 0\n",
      "  PRES_210_S: 0\n",
      "  PRES_333_H: 0\n",
      "  PRES_355_H: 0\n",
      "  PRES_400_S: 0\n",
      "  PRES_480_S: 0\n",
      "  PRES_500_H: 0\n",
      "  PRES_611_S: 0\n",
      "  PRES_6930_S: 0\n",
      "  PRES_7435_H: 0\n",
      "  PRES_77_H: 0\n",
      "  PRES_8001_S: 0\n",
      "  PRES_811_S: 0\n",
      "  PRES_901_S: 0\n",
      "  PROV_1101_S: 0\n",
      "  PROV_13259_S: 0\n",
      "  PROV_3450_S: 0\n",
      "  REGE_6631_S: 0\n",
      "  RENA_10935_S: 0\n",
      "  RENA_2940_S: 0\n",
      "  RENA_4437_S: 0\n",
      "  RENS_1309_S: 0\n",
      "  REST_16300_S: 0\n",
      "  RESU_2380_S: 0\n",
      "  RESU_500_S: 0\n",
      "  RIDG_12550_S: 0\n",
      "  RIDG_6450_S: 0\n",
      "  RIVE_1601_S: 0\n",
      "  RIVE_350_H: 0\n",
      "  RIVI_490_S: 0\n",
      "  RML_5601_L: 0\n",
      "  ROSE_45_H: 0\n",
      "  RREM_2155_S: 0\n",
      "  RUSH_1653_H: 0\n",
      "  RUSH_520_H: 0\n",
      "  SAIN_2875_H: 0\n",
      "  SALE_1314_S: 0\n",
      "  SENE_1301_S: 0\n",
      "  SHAB_409_S: 0\n",
      "  SHER_1425_H: 0\n",
      "  SHER_1950_S: 0\n",
      "  SHER_2534_S: 0\n",
      "  SHER_5838_S: 0\n",
      "  SHER_7350_S: 0\n",
      "  SH_700_S: 0\n",
      "  SILV_1900_H: 0\n",
      "  SKOK_9615_S: 0\n",
      "  SLL_7000_S: 0\n",
      "  SLOV_3615_S: 0\n",
      "  SNH_1200_S: 0\n",
      "  SNOW_5000_S: 0\n",
      "  SOME_5009_S: 0\n",
      "  SOUT_1010_S: 0\n",
      "  SOUT_19000_S: 0\n",
      "  SOUT_2649_S: 0\n",
      "  SOUT_3311_S: 0\n",
      "  SOUT_8012_H: 0\n",
      "  SSC_10330_S: 0\n",
      "  SSC_2901_S: 0\n",
      "  STA_1725_V: 0\n",
      "  STC_4321_H: 0\n",
      "  STM_1500_H: 0\n",
      "  STP_1400_S: 0\n",
      "  ST_1555_H: 0\n",
      "  ST_326_H: 0\n",
      "  ST_3800_S: 0\n",
      "  ST_9244_S: 0\n",
      "  SWED_5145_H: 0\n",
      "  TABO_1347_S: 0\n",
      "  THC_225_L: 0\n",
      "  THC_2544_L: 0\n",
      "  THC_365_L: 0\n",
      "  THC_4058_L: 0\n",
      "  THC_6130_L: 0\n",
      "  THE_110_S: 0\n",
      "  THE_116_S: 0\n",
      "  THE_1615_S: 0\n",
      "  THE_1740_H: 0\n",
      "  THE_1_H: 0\n",
      "  THE_2425_S: 0\n",
      "  THE_2732_S: 0\n",
      "  THE_4390_S: 0\n",
      "  THE_4600_S: 0\n",
      "  THE_55_S: 0\n",
      "  THE_5841_H: 0\n",
      "  THE_6000_S: 0\n",
      "  THE_600_H: 0\n",
      "  THE_606_S: 0\n",
      "  THE_710_S: 0\n",
      "  THE_908_S: 0\n",
      "  THI_5400_S: 0\n",
      "  THOR_160_S: 0\n",
      "  THOR_850_H: 0\n",
      "  TOWE_759_S: 0\n",
      "  TRIL_1101_S: 0\n",
      "  TRIL_1251_S: 0\n",
      "  TRI_2500_S: 0\n",
      "  UNIT_6308_H: 0\n",
      "  VALL_1302_H: 0\n",
      "  VALP_3405_S: 0\n",
      "  VHS_1225_H: 0\n",
      "  VHS_3249_H: 0\n",
      "  VHS_3_H: 0\n",
      "  VHS_4646_H: 0\n",
      "  VIBR_9509_L: 0\n",
      "  WARR_66_S: 0\n",
      "  WARR_6700_S: 0\n",
      "  WASH_10501_S: 0\n",
      "  WASH_11308_S: 0\n",
      "  WATE_7445_S: 0\n",
      "  WATE_7750_S: 0\n",
      "  WAUC_176_S: 0\n",
      "  WAUK_1324_H: 0\n",
      "  WAUK_2615_H: 0\n",
      "  WAUK_919_S: 0\n",
      "  WEAL_150_S: 0\n",
      "  WESL_1751_S: 0\n",
      "  WEST_311_S: 0\n",
      "  WEST_3200_S: 0\n",
      "  WEST_3240_H: 0\n",
      "  WEST_6501_S: 0\n",
      "  WEST_928_S: 0\n",
      "  WHEA_1325_S: 0\n",
      "  WHIT_300_S: 0\n",
      "  WILL_515_S: 0\n",
      "  WILL_546_S: 0\n",
      "  WINC_6326_S: 0\n",
      "  WIND_124_S: 0\n",
      "  WIND_16000_S: 0\n",
      "  WINF_28W141_S: 0\n",
      "  WISC_471_S: 0\n",
      "  WITT_1200_S: 0\n",
      "  WOOD_2242_S: 0\n",
      "  WOOD_7444_S: 0\n",
      "  WOOD_920_S: 0\n",
      "  WRHC_309_S: 0\n",
      "  WYND_2180_S: 0\n",
      "  ZIKA_5448_S\n",
      ": 0\n"
     ]
    }
   ],
   "source": [
    "def printColEntries(abbrev):\n",
    "    subD = fromToDict[abbrev]\n",
    "    print 'From %s to:' % abbrev\n",
    "    for toK in transTblColumns:\n",
    "        if toK in subD:\n",
    "            print '  %s: %s' % (toK, subD[toK])\n",
    "        else:\n",
    "            print '  %s: 0' % toK\n",
    "printColEntries('THC_2544_L')"
   ]
  },
  {
   "cell_type": "code",
   "execution_count": 8,
   "metadata": {
    "collapsed": false
   },
   "outputs": [],
   "source": [
    "def loadTimeSamples(fname):\n",
    "    with open(fname, 'r') as f:\n",
    "        timeSamplesJSON = yaml.load(f)\n",
    "    for ent in timeSamplesJSON:\n",
    "        assert ent['time'] == 465\n",
    "        assert ent['abbrev'] in facDict\n",
    "    print 'loaded %s' % fname\n",
    "    return timeSamplesJSON\n"
   ]
  },
  {
   "cell_type": "code",
   "execution_count": 9,
   "metadata": {
    "collapsed": false
   },
   "outputs": [],
   "source": [
    "def calcPopRatios(timeSamples, facDict):\n",
    "    popRatios={}\n",
    "    for ent in timeSamples:\n",
    "        abbrev = ent['abbrev']\n",
    "        valV = np.asfarray(ent['samples']['occupancy'])\n",
    "        popRatios[abbrev] = float(np.mean(valV)) / facDict[abbrev]['meanPop']['value']\n",
    "    return popRatios\n"
   ]
  },
  {
   "cell_type": "code",
   "execution_count": 10,
   "metadata": {
    "collapsed": false
   },
   "outputs": [
    {
     "name": "stdout",
     "output_type": "stream",
     "text": [
      "loaded /home/welling/git/pyrhea/src/sim/time_samples_pass1.yaml\n",
      "loaded /home/welling/git/pyrhea/src/sim/time_samples_pass1b.yaml\n"
     ]
    },
    {
     "data": {
      "image/png": "[encoded data removed]",
      "text/plain": [
       "<matplotlib.figure.Figure at 0x7fae343b3f50>"
      ]
     },
     "metadata": {},
     "output_type": "display_data"
    },
    {
     "name": "stdout",
     "output_type": "stream",
     "text": [
      "Samples above max:\n",
      "  PINN_9301_H: 18.9065700331\n",
      "  SHER_2534_S: 2.88514754236\n",
      "  CLAR_7433_S: 9.21028037367\n",
      "  CLAR_1366_S: 70.2111670785\n",
      "  JASP_1104_H: 3.21794641772\n",
      "  PROV_1101_S: 2.28612967914\n",
      "Distributions:\n",
      "  HOSPITAL: 0.935440890002 +- 0.391093466311 excluding 1 samples\n",
      "  LTACH: 1.02010982242 +- 0.449271099308 excluding 0 samples\n",
      "  SNF: 0.997575228359 +- 0.521286252245 excluding 1 samples\n",
      "  VSNF: 0.942473249028 +- 0.0521209786018 excluding 0 samples\n"
     ]
    }
   ],
   "source": [
    "def _truncateVec(vec):\n",
    "    return np.maximum(np.minimum(vec, 2.0), 0.0)\n",
    "\n",
    "def plotPopRatios(popRatios, facDict, title):\n",
    "    plt.xlabel('Actual mean population / meanPop')\n",
    "    plt.ylabel('counts')\n",
    "    statD = {}\n",
    "    vecD = {}\n",
    "    keyCatPairs = [('hosp', 'HOSPITAL'), ('ltac', 'LTACH'), ('snf', 'SNF'), ('vsnf', 'VSNF')]\n",
    "    for key, ctg in keyCatPairs:\n",
    "        vecD[key] = [v for k, v in popRatios.items() if facDict[k]['category'] == ctg]\n",
    "        mean1 = np.mean(vecD[key])\n",
    "        stdv1 = np.std(vecD[key], ddof=1)\n",
    "        outLim = mean1 + 5.0*stdv1\n",
    "        indexV = (vecD[key] <= outLim)\n",
    "        nOut = len(vecD[key]) - np.count_nonzero(indexV)\n",
    "        mean2 = np.mean(np.asarray(vecD[key])[indexV])\n",
    "        stdv2 = np.std(np.asarray(vecD[key])[indexV], ddof=1)\n",
    "        statD[key] = (mean2, stdv2, nOut)\n",
    "    plt.hist([_truncateVec(vecD[key]) for key in ['hosp', 'ltac', 'snf', 'vsnf']],\n",
    "            50, range=(0.0, 2.0), stacked=True,\n",
    "            label=['HOSPITAL', 'LTACH', 'SNF', 'VSNF'])\n",
    "    plt.legend()\n",
    "    plt.title(title)\n",
    "    plt.show()\n",
    "    print 'Samples above max:'\n",
    "    for k, v in popRatios.items():\n",
    "        if v > 2.0 or v < 0.0:\n",
    "            print '  %s: %s' % (k, v)\n",
    "    print 'Distributions:'\n",
    "    for key, ctg in keyCatPairs:\n",
    "        print '  %s: %s +- %s excluding %s samples' % (ctg, statD[key][0], statD[key][1], statD[key][2])\n",
    "initialTimeSamples = loadTimeSamples('/home/welling/git/pyrhea/src/sim/time_samples_pass1.yaml')\n",
    "pass1bTimeSamples = loadTimeSamples('/home/welling/git/pyrhea/src/sim/time_samples_pass1b.yaml')\n",
    "len(pass1bTimeSamples)\n",
    "pass1bPopRatios = calcPopRatios(initialTimeSamples, facDict)\n",
    "plotPopRatios(pass1bPopRatios, facDict, 'pass1b')\n"
   ]
  },
  {
   "cell_type": "code",
   "execution_count": 129,
   "metadata": {
    "collapsed": false
   },
   "outputs": [
    {
     "name": "stdout",
     "output_type": "stream",
     "text": [
      "loaded /home/welling/git/pyrhea/src/sim/time_samples_pass2.yaml\n"
     ]
    },
    {
     "data": {
      "image/png": "[encoded data removed]",
      "text/plain": [
       "<matplotlib.figure.Figure at 0x7fd759eca0d0>"
      ]
     },
     "metadata": {},
     "output_type": "display_data"
    },
    {
     "name": "stdout",
     "output_type": "stream",
     "text": [
      "Samples above max:\n",
      "  PINN_9301_H: 7.87773751379\n",
      "  CLAR_7433_S: 4.88670078615\n",
      "  CLAR_1366_S: 71.6362300507\n",
      "  PROV_1101_S: 2.26905080213\n",
      "Distributions:\n",
      "  HOSPITAL: 1.02241068153 +- 0.296845032355 excluding 1 samples\n",
      "  LTACH: 1.11550707024 +- 0.447408287804 excluding 0 samples\n",
      "  SNF: 0.949466204245 +- 0.333160238157 excluding 1 samples\n",
      "  VSNF: 0.95002366084 +- 0.0531753646735 excluding 0 samples\n"
     ]
    }
   ],
   "source": [
    "pass2TimeSamples = loadTimeSamples('/home/welling/git/pyrhea/src/sim/time_samples_pass2.yaml')\n",
    "len(pass2TimeSamples)\n",
    "pass2PopRatios = calcPopRatios(pass2TimeSamples, facDict)\n",
    "plotPopRatios(pass2PopRatios, facDict, 'pass2')\n"
   ]
  },
  {
   "cell_type": "code",
   "execution_count": 130,
   "metadata": {
    "collapsed": false
   },
   "outputs": [
    {
     "name": "stdout",
     "output_type": "stream",
     "text": [
      "loaded /home/welling/git/pyrhea/src/sim/time_samples_pass3.yaml\n"
     ]
    },
    {
     "data": {
      "image/png": "[encoded data removed]",
      "text/plain": [
       "<matplotlib.figure.Figure at 0x7fd7466f4c10>"
      ]
     },
     "metadata": {},
     "output_type": "display_data"
    },
    {
     "name": "stdout",
     "output_type": "stream",
     "text": [
      "Samples above max:\n",
      "  PINN_9301_H: 5.15633728175\n",
      "  CLAR_7433_S: 4.21848660159\n",
      "  CLAR_1366_S: 72.1864743068\n",
      "  PROV_1101_S: 2.28235901798\n",
      "Distributions:\n",
      "  HOSPITAL: 0.982105231248 +- 0.244061847538 excluding 1 samples\n",
      "  LTACH: 1.05437109265 +- 0.443749697406 excluding 0 samples\n",
      "  SNF: 0.939874650694 +- 0.301508239036 excluding 1 samples\n",
      "  VSNF: 0.942597159942 +- 0.0456270716591 excluding 0 samples\n"
     ]
    }
   ],
   "source": [
    "pass3TimeSamples = loadTimeSamples('/home/welling/git/pyrhea/src/sim/time_samples_pass3.yaml')\n",
    "len(pass3TimeSamples)\n",
    "pass3PopRatios = calcPopRatios(pass3TimeSamples, facDict)\n",
    "plotPopRatios(pass3PopRatios, facDict, 'pass3')\n"
   ]
  },
  {
   "cell_type": "code",
   "execution_count": 131,
   "metadata": {
    "collapsed": false
   },
   "outputs": [
    {
     "name": "stdout",
     "output_type": "stream",
     "text": [
      "loaded /home/welling/git/pyrhea/src/sim/time_samples_pass4.yaml\n"
     ]
    },
    {
     "data": {
      "image/png": "[encoded data removed]",
      "text/plain": [
       "<matplotlib.figure.Figure at 0x7fd757b47c10>"
      ]
     },
     "metadata": {},
     "output_type": "display_data"
    },
    {
     "name": "stdout",
     "output_type": "stream",
     "text": [
      "Samples above max:\n",
      "  PINN_9301_H: 7.16157955799\n",
      "  CLAR_7433_S: 4.0708149586\n",
      "  CLAR_1366_S: 72.1586138381\n",
      "  PROV_1101_S: 2.19585561497\n",
      "Distributions:\n",
      "  HOSPITAL: 0.953721378518 +- 0.199938154938 excluding 1 samples\n",
      "  LTACH: 1.01673007381 +- 0.453542097325 excluding 0 samples\n",
      "  SNF: 0.937954458825 +- 0.291834704952 excluding 1 samples\n",
      "  VSNF: 0.942117812507 +- 0.0531650336074 excluding 0 samples\n"
     ]
    }
   ],
   "source": [
    "pass4TimeSamples = loadTimeSamples('/home/welling/git/pyrhea/src/sim/time_samples_pass4.yaml')\n",
    "len(pass4TimeSamples)\n",
    "pass4PopRatios = calcPopRatios(pass4TimeSamples, facDict)\n",
    "plotPopRatios(pass4PopRatios, facDict, 'pass4')\n"
   ]
  },
  {
   "cell_type": "code",
   "execution_count": 132,
   "metadata": {
    "collapsed": false
   },
   "outputs": [
    {
     "name": "stdout",
     "output_type": "stream",
     "text": [
      "loaded /home/welling/git/pyrhea/src/sim/time_samples_wide_pass1.yaml\n"
     ]
    },
    {
     "data": {
      "image/png": "[encoded data removed]",
      "text/plain": [
       "<matplotlib.figure.Figure at 0x7fd7573a11d0>"
      ]
     },
     "metadata": {},
     "output_type": "display_data"
    },
    {
     "name": "stdout",
     "output_type": "stream",
     "text": [
      "Samples above max:\n",
      "  PINN_9301_H: 57.8655628285\n",
      "  SHER_2534_S: 2.29553510075\n",
      "  CLAR_7433_S: 6.00531348185\n",
      "  CLAR_1366_S: 72.1864743068\n",
      "  JASP_1104_H: 2.11513155645\n",
      "  GENE_3856_S: 2.22690811861\n",
      "  VALL_1302_H: 2.17547345148\n",
      "  PROV_1101_S: 2.29344919785\n",
      "Distributions:\n",
      "  HOSPITAL: 1.06818117988 +- 0.411478386963 excluding 1 samples\n",
      "  LTACH: 1.16105954204 +- 0.448195264687 excluding 0 samples\n",
      "  SNF: 0.969374074618 +- 0.38889385746 excluding 1 samples\n",
      "  VSNF: 0.962249876062 +- 0.0450878482642 excluding 0 samples\n"
     ]
    }
   ],
   "source": [
    "widePass1TimeSamples = loadTimeSamples('/home/welling/git/pyrhea/src/sim/time_samples_wide_pass1.yaml')\n",
    "len(widePass1TimeSamples)\n",
    "widePass1PopRatios = calcPopRatios(widePass1TimeSamples, facDict)\n",
    "plotPopRatios(widePass1PopRatios, facDict, 'wide pass1')\n"
   ]
  },
  {
   "cell_type": "code",
   "execution_count": 133,
   "metadata": {
    "collapsed": false
   },
   "outputs": [
    {
     "name": "stdout",
     "output_type": "stream",
     "text": [
      "loaded /home/welling/git/pyrhea/src/sim/time_samples_wide_pass2.yaml\n"
     ]
    },
    {
     "data": {
      "image/png": "[encoded data removed]",
      "text/plain": [
       "<matplotlib.figure.Figure at 0x7fd75b999350>"
      ]
     },
     "metadata": {},
     "output_type": "display_data"
    },
    {
     "name": "stdout",
     "output_type": "stream",
     "text": [
      "Samples above max:\n",
      "  PINN_9301_H: 3.93886875689\n",
      "  CLAR_7433_S: 4.92731048797\n",
      "  CLAR_1366_S: 71.1765323177\n",
      "  PROV_1101_S: 2.29344919785\n",
      "Distributions:\n",
      "  HOSPITAL: 0.997640578463 +- 0.272029874781 excluding 1 samples\n",
      "  LTACH: 1.11603077647 +- 0.424544098424 excluding 0 samples\n",
      "  SNF: 0.959071612141 +- 0.322770004677 excluding 1 samples\n",
      "  VSNF: 0.946635645005 +- 0.051845425961 excluding 0 samples\n"
     ]
    }
   ],
   "source": [
    "widePass2TimeSamples = loadTimeSamples('/home/welling/git/pyrhea/src/sim/time_samples_wide_pass2.yaml')\n",
    "len(widePass2TimeSamples)\n",
    "widePass2PopRatios = calcPopRatios(widePass2TimeSamples, facDict)\n",
    "plotPopRatios(widePass2PopRatios, facDict, 'wide pass2')\n"
   ]
  },
  {
   "cell_type": "code",
   "execution_count": 134,
   "metadata": {
    "collapsed": false
   },
   "outputs": [
    {
     "name": "stdout",
     "output_type": "stream",
     "text": [
      "loaded /home/welling/git/pyrhea/src/sim/time_samples_wide_pass3.yaml\n"
     ]
    },
    {
     "data": {
      "image/png": "[encoded data removed]",
      "text/plain": [
       "<matplotlib.figure.Figure at 0x7fd745c2cf10>"
      ]
     },
     "metadata": {},
     "output_type": "display_data"
    },
    {
     "name": "stdout",
     "output_type": "stream",
     "text": [
      "Samples above max:\n",
      "  PINN_9301_H: 5.98708051048\n",
      "  CLAR_7433_S: 4.53745735046\n",
      "  CLAR_1366_S: 71.4676742152\n",
      "  PROV_1101_S: 2.25929144384\n",
      "Distributions:\n",
      "  HOSPITAL: 0.946968594985 +- 0.213990724048 excluding 1 samples\n",
      "  LTACH: 1.0022569035 +- 0.433450904969 excluding 0 samples\n",
      "  SNF: 0.951910560393 +- 0.293778255511 excluding 1 samples\n",
      "  VSNF: 0.936045841078 +- 0.0472987390559 excluding 0 samples\n"
     ]
    }
   ],
   "source": [
    "widePass3TimeSamples = loadTimeSamples('/home/welling/git/pyrhea/src/sim/time_samples_wide_pass3.yaml')\n",
    "len(widePass3TimeSamples)\n",
    "widePass3PopRatios = calcPopRatios(widePass3TimeSamples, facDict)\n",
    "plotPopRatios(widePass3PopRatios, facDict, 'wide pass3')\n"
   ]
  },
  {
   "cell_type": "code",
   "execution_count": 135,
   "metadata": {
    "collapsed": false
   },
   "outputs": [
    {
     "name": "stdout",
     "output_type": "stream",
     "text": [
      "loaded /home/welling/git/pyrhea/src/sim/time_samples_wide_pass4.yaml\n"
     ]
    },
    {
     "data": {
      "image/png": "[encoded data removed]",
      "text/plain": [
       "<matplotlib.figure.Figure at 0x7fd75c1e8090>"
      ]
     },
     "metadata": {},
     "output_type": "display_data"
    },
    {
     "name": "stdout",
     "output_type": "stream",
     "text": [
      "Samples above max:\n",
      "  PINN_9301_H: 6.61729951158\n",
      "  CLAR_7433_S: 4.19633585514\n",
      "  CLAR_1366_S: 72.0806045258\n",
      "Distributions:\n",
      "  HOSPITAL: 0.924059549398 +- 0.177814911161 excluding 1 samples\n",
      "  LTACH: 1.00973541961 +- 0.442924870405 excluding 0 samples\n",
      "  SNF: 0.9471241011 +- 0.270435598585 excluding 1 samples\n",
      "  VSNF: 0.936600150603 +- 0.0425780975417 excluding 0 samples\n"
     ]
    }
   ],
   "source": [
    "widePass4TimeSamples = loadTimeSamples('/home/welling/git/pyrhea/src/sim/time_samples_wide_pass4.yaml')\n",
    "len(widePass4TimeSamples)\n",
    "widePass4PopRatios = calcPopRatios(widePass4TimeSamples, facDict)\n",
    "plotPopRatios(widePass4PopRatios, facDict, 'wide pass4')\n"
   ]
  },
  {
   "cell_type": "code",
   "execution_count": 136,
   "metadata": {
    "collapsed": false
   },
   "outputs": [
    {
     "name": "stdout",
     "output_type": "stream",
     "text": [
      "loaded /home/welling/git/pyrhea/src/sim/time_samples_wide_pass5.yaml\n"
     ]
    },
    {
     "data": {
      "image/png": "[encoded data removed]",
      "text/plain": [
       "<matplotlib.figure.Figure at 0x7fd75c1e8050>"
      ]
     },
     "metadata": {},
     "output_type": "display_data"
    },
    {
     "name": "stdout",
     "output_type": "stream",
     "text": [
      "Samples above max:\n",
      "  PINN_9301_H: 8.40292001471\n",
      "  CLAR_7433_S: 3.86845011449\n",
      "  CLAR_1366_S: 70.4869857183\n",
      "Distributions:\n",
      "  HOSPITAL: 0.901674702204 +- 0.15474736101 excluding 1 samples\n",
      "  LTACH: 1.01436321477 +- 0.436153451793 excluding 0 samples\n",
      "  SNF: 0.934263180631 +- 0.25450317118 excluding 1 samples\n",
      "  VSNF: 0.946605952181 +- 0.041343460242 excluding 0 samples\n"
     ]
    }
   ],
   "source": [
    "widePass5TimeSamples = loadTimeSamples('/home/welling/git/pyrhea/src/sim/time_samples_wide_pass5.yaml')\n",
    "len(widePass5TimeSamples)\n",
    "widePass5PopRatios = calcPopRatios(widePass5TimeSamples, facDict)\n",
    "plotPopRatios(widePass5PopRatios, facDict, 'wide pass5')\n"
   ]
  },
  {
   "cell_type": "code",
   "execution_count": 137,
   "metadata": {
    "collapsed": false
   },
   "outputs": [
    {
     "name": "stdout",
     "output_type": "stream",
     "text": [
      "loaded /home/welling/git/pyrhea/src/sim/time_samples_wide_pass6.yaml\n"
     ]
    },
    {
     "data": {
      "image/png": "[encoded data removed]",
      "text/plain": [
       "<matplotlib.figure.Figure at 0x7fd746008e50>"
      ]
     },
     "metadata": {},
     "output_type": "display_data"
    },
    {
     "name": "stdout",
     "output_type": "stream",
     "text": [
      "Samples above max:\n",
      "  PINN_9301_H: 2.70093857616\n",
      "  CLAR_7433_S: 3.9526776442\n",
      "  CLAR_1366_S: 69.7864939348\n",
      "Distributions:\n",
      "  HOSPITAL: 0.892815225421 +- 0.147409575147 excluding 1 samples\n",
      "  LTACH: 0.966809322127 +- 0.416001737952 excluding 0 samples\n",
      "  SNF: 0.935767082289 +- 0.251091086138 excluding 1 samples\n",
      "  VSNF: 0.940477291341 +- 0.0481536423737 excluding 0 samples\n"
     ]
    }
   ],
   "source": [
    "widePass6TimeSamples = loadTimeSamples('/home/welling/git/pyrhea/src/sim/time_samples_wide_pass6.yaml')\n",
    "len(widePass6TimeSamples)\n",
    "widePass6PopRatios = calcPopRatios(widePass6TimeSamples, facDict)\n",
    "plotPopRatios(widePass6PopRatios, facDict, 'wide pass6')\n"
   ]
  },
  {
   "cell_type": "code",
   "execution_count": 138,
   "metadata": {
    "collapsed": false
   },
   "outputs": [
    {
     "name": "stdout",
     "output_type": "stream",
     "text": [
      "loaded /home/welling/git/pyrhea/src/sim/time_samples_wide_pass7.yaml\n"
     ]
    },
    {
     "data": {
      "image/png": "[encoded data removed]",
      "text/plain": [
       "<matplotlib.figure.Figure at 0x7fd74ac6ea10>"
      ]
     },
     "metadata": {},
     "output_type": "display_data"
    },
    {
     "name": "stdout",
     "output_type": "stream",
     "text": [
      "Samples above max:\n",
      "  PINN_9301_H: 6.30219001103\n",
      "  CLAR_7433_S: 4.0145590946\n",
      "  CLAR_1366_S: 73.5954180077\n",
      "Distributions:\n",
      "  HOSPITAL: 0.902336252432 +- 0.146098963226 excluding 1 samples\n",
      "  LTACH: 0.95381023847 +- 0.419671420801 excluding 0 samples\n",
      "  SNF: 0.929978475364 +- 0.247995419331 excluding 1 samples\n",
      "  VSNF: 0.944169728051 +- 0.0339378254275 excluding 0 samples\n"
     ]
    }
   ],
   "source": [
    "widePass7TimeSamples = loadTimeSamples('/home/welling/git/pyrhea/src/sim/time_samples_wide_pass7.yaml')\n",
    "len(widePass7TimeSamples)\n",
    "widePass7PopRatios = calcPopRatios(widePass7TimeSamples, facDict)\n",
    "plotPopRatios(widePass7PopRatios, facDict, 'wide pass7')\n"
   ]
  },
  {
   "cell_type": "code",
   "execution_count": 139,
   "metadata": {
    "collapsed": false
   },
   "outputs": [
    {
     "name": "stdout",
     "output_type": "stream",
     "text": [
      "loaded /home/welling/git/pyrhea/src/sim/time_samples_wide_pass8.yaml\n",
      "462\n"
     ]
    },
    {
     "data": {
      "image/png": "[encoded data removed]",
      "text/plain": [
       "<matplotlib.figure.Figure at 0x7fd752e83050>"
      ]
     },
     "metadata": {},
     "output_type": "display_data"
    },
    {
     "name": "stdout",
     "output_type": "stream",
     "text": [
      "Samples above max:\n",
      "  PINN_9301_H: 3.93886875689\n",
      "  CLAR_7433_S: 3.77670226963\n",
      "  CLAR_1366_S: 72.785474383\n",
      "Distributions:\n",
      "  HOSPITAL: 0.882487419839 +- 0.13237378069 excluding 1 samples\n",
      "  LTACH: 0.960355835556 +- 0.448086538239 excluding 0 samples\n",
      "  SNF: 0.926796935466 +- 0.231688146619 excluding 1 samples\n",
      "  VSNF: 0.94334471055 +- 0.0459601608755 excluding 0 samples\n"
     ]
    }
   ],
   "source": [
    "widePass8TimeSamples = loadTimeSamples('/home/welling/git/pyrhea/src/sim/time_samples_wide_pass8.yaml')\n",
    "print len(widePass8TimeSamples)\n",
    "widePass8PopRatios = calcPopRatios(widePass8TimeSamples, facDict)\n",
    "plotPopRatios(widePass8PopRatios, facDict, 'wide pass8')\n"
   ]
  },
  {
   "cell_type": "code",
   "execution_count": 140,
   "metadata": {
    "collapsed": false
   },
   "outputs": [
    {
     "name": "stdout",
     "output_type": "stream",
     "text": [
      "loaded /home/welling/git/pyrhea/src/sim/time_samples_wide_pass9.yaml\n",
      "462\n"
     ]
    },
    {
     "data": {
      "image/png": "[encoded data removed]",
      "text/plain": [
       "<matplotlib.figure.Figure at 0x7fd7520dde10>"
      ]
     },
     "metadata": {},
     "output_type": "display_data"
    },
    {
     "name": "stdout",
     "output_type": "stream",
     "text": [
      "Samples above max:\n",
      "  PINN_9301_H: 4.41153300772\n",
      "  CLAR_7433_S: 3.37872719175\n",
      "  CLAR_1366_S: 72.9387069607\n",
      "Distributions:\n",
      "  HOSPITAL: 0.919570301992 +- 0.112972081378 excluding 1 samples\n",
      "  LTACH: 0.989419011061 +- 0.445560358833 excluding 0 samples\n",
      "  SNF: 0.861758581484 +- 0.223484903266 excluding 1 samples\n",
      "  VSNF: 0.942653647024 +- 0.0446360068214 excluding 0 samples\n"
     ]
    }
   ],
   "source": [
    "widePass9TimeSamples = loadTimeSamples('/home/welling/git/pyrhea/src/sim/time_samples_wide_pass9.yaml')\n",
    "print len(widePass9TimeSamples)\n",
    "widePass9PopRatios = calcPopRatios(widePass9TimeSamples, facDict)\n",
    "plotPopRatios(widePass9PopRatios, facDict, 'wide pass9')\n"
   ]
  },
  {
   "cell_type": "code",
   "execution_count": 157,
   "metadata": {
    "collapsed": false
   },
   "outputs": [
    {
     "name": "stdout",
     "output_type": "stream",
     "text": [
      "loaded /home/welling/git/pyrhea/src/sim/time_samples_wide_pass9.yaml\n",
      "462\n"
     ]
    },
    {
     "data": {
      "image/png": "[encoded data removed]",
      "text/plain": [
       "<matplotlib.figure.Figure at 0x7fd793bae750>"
      ]
     },
     "metadata": {},
     "output_type": "display_data"
    },
    {
     "name": "stdout",
     "output_type": "stream",
     "text": [
      "Samples above max:\n",
      "  PINN_9301_H: 3.15109500551\n",
      "  CLAR_7433_S: 3.90755575328\n",
      "  CLAR_1366_S: 72.9897844865\n",
      "Distributions:\n",
      "  HOSPITAL: 0.966515590628 +- 0.130869861698 excluding 1 samples\n",
      "  LTACH: 1.08579340804 +- 0.41732592396 excluding 0 samples\n",
      "  SNF: 0.900901475462 +- 0.23745214624 excluding 1 samples\n",
      "  VSNF: 0.956334276529 +- 0.0378858774569 excluding 0 samples\n"
     ]
    }
   ],
   "source": [
    "widePass9TimeSamples = loadTimeSamples('/home/welling/git/pyrhea/src/sim/time_samples_wide_pass9.yaml')\n",
    "print len(widePass9TimeSamples)\n",
    "widePass9PopRatios = calcPopRatios(widePass9TimeSamples, facDict)\n",
    "plotPopRatios(widePass9PopRatios, facDict, 'wide pass9')\n"
   ]
  },
  {
   "cell_type": "code",
   "execution_count": 158,
   "metadata": {
    "collapsed": false
   },
   "outputs": [
    {
     "name": "stdout",
     "output_type": "stream",
     "text": [
      "loaded /home/welling/git/pyrhea/src/sim/time_samples_wide_pass9.yaml\n",
      "462\n"
     ]
    },
    {
     "data": {
      "image/png": "[encoded data removed]",
      "text/plain": [
       "<matplotlib.figure.Figure at 0x7fd74ecbd090>"
      ]
     },
     "metadata": {},
     "output_type": "display_data"
    },
    {
     "name": "stdout",
     "output_type": "stream",
     "text": [
      "Samples above max:\n",
      "  PINN_9301_H: 3.15109500551\n",
      "  CLAR_7433_S: 4.07901893876\n",
      "  CLAR_1366_S: 73.4835339034\n",
      "Distributions:\n",
      "  HOSPITAL: 1.02021339145 +- 0.124707159214 excluding 1 samples\n",
      "  LTACH: 1.11913847891 +- 0.406622808112 excluding 0 samples\n",
      "  SNF: 0.945950268518 +- 0.240698425219 excluding 1 samples\n",
      "  VSNF: 0.957239080395 +- 0.0337948446699 excluding 0 samples\n"
     ]
    }
   ],
   "source": [
    "widePass9TimeSamples = loadTimeSamples('/home/welling/git/pyrhea/src/sim/time_samples_wide_pass9.yaml')\n",
    "print len(widePass9TimeSamples)\n",
    "widePass9PopRatios = calcPopRatios(widePass9TimeSamples, facDict)\n",
    "plotPopRatios(widePass9PopRatios, facDict, 'wide pass9')\n"
   ]
  },
  {
   "cell_type": "code",
   "execution_count": 11,
   "metadata": {
    "collapsed": false
   },
   "outputs": [
    {
     "name": "stdout",
     "output_type": "stream",
     "text": [
      "loaded /home/welling/git/pyrhea/src/sim/time_samples_wide_pass10.yaml\n",
      "462\n"
     ]
    },
    {
     "data": {
      "image/png": "[encoded data removed]",
      "text/plain": [
       "<matplotlib.figure.Figure at 0x7fae06771d50>"
      ]
     },
     "metadata": {},
     "output_type": "display_data"
    },
    {
     "name": "stdout",
     "output_type": "stream",
     "text": [
      "Samples above max:\n",
      "  PINN_9301_H: 5.77700751011\n",
      "  CLAR_7433_S: 3.90755575328\n",
      "  CLAR_1366_S: 73.7304086118\n",
      "Distributions:\n",
      "  HOSPITAL: 1.01688765345 +- 0.108935398066 excluding 1 samples\n",
      "  LTACH: 1.11987265207 +- 0.433466132646 excluding 0 samples\n",
      "  SNF: 0.946479851355 +- 0.231818209746 excluding 1 samples\n",
      "  VSNF: 0.966040969049 +- 0.0432750049731 excluding 0 samples\n"
     ]
    }
   ],
   "source": [
    "widePass10TimeSamples = loadTimeSamples('/home/welling/git/pyrhea/src/sim/time_samples_wide_pass10.yaml')\n",
    "print len(widePass10TimeSamples)\n",
    "widePass10PopRatios = calcPopRatios(widePass10TimeSamples, facDict)\n",
    "plotPopRatios(widePass10PopRatios, facDict, 'wide pass10')\n"
   ]
  },
  {
   "cell_type": "code",
   "execution_count": 141,
   "metadata": {
    "collapsed": false
   },
   "outputs": [],
   "source": [
    "def loadInitialWeightDict():\n",
    "    weightSetDict = {}\n",
    "    for key, path in [('vsnf', 'com_to_vsnf_inv_sep.yaml'),\n",
    "                     ('snf', 'com_to_snf_inv_sep.yaml'),\n",
    "                     ('hospital', 'com_to_hosp_inv_sep.yaml'),\n",
    "                     ('ltach', 'com_to_ltach_inv_sep.yaml')]:\n",
    "        with open(os.path.join('/home/welling/git/pyrhea/models/ChicagoLand', path), 'rU') as f:\n",
    "            weightSetDict[key] = yaml.load(f)\n",
    "    return weightSetDict\n",
    "initialWeightSetDict = loadInitialWeightDict()"
   ]
  },
  {
   "cell_type": "code",
   "execution_count": 142,
   "metadata": {
    "collapsed": false
   },
   "outputs": [
    {
     "name": "stdout",
     "output_type": "stream",
     "text": [
      "finished vsnf\n",
      "######## missing PARK_2320_V\n",
      "finished snf\n",
      "finished hospital\n",
      "finished ltach\n"
     ]
    }
   ],
   "source": [
    "def rescaleWeights(weightSetDict, popRatios):\n",
    "    missingSet = set()\n",
    "    newWeightSetDict = {}\n",
    "    for key in ['vsnf', 'snf', 'hospital', 'ltach']:\n",
    "        newWeightSetDict[key] = {}\n",
    "        for comAbbrev, destD in weightSetDict[key].items():\n",
    "            newWeightSetDict[key][comAbbrev] = destD.copy()\n",
    "            for destAbbrev, wt in destD.items():\n",
    "                if destAbbrev in popRatios:\n",
    "                    pR = popRatios[destAbbrev]\n",
    "                    if pR > 10.0:\n",
    "                        # This is clearly an anomaly, like a facility open only a\n",
    "                        # small fraction of the year.  Do not correct it.\n",
    "                        pR = 1.0\n",
    "                    newWt = wt / pR\n",
    "                    newWeightSetDict[key][comAbbrev][destAbbrev] = newWt\n",
    "                elif destAbbrev in missingSet:\n",
    "                    pass\n",
    "                else:\n",
    "                    print '######## missing %s' % destAbbrev\n",
    "                    missingSet.add(destAbbrev)\n",
    "        print 'finished %s' % key\n",
    "    return newWeightSetDict\n",
    "pass1bWeightSetDict = rescaleWeights(initialWeightSetDict, pass1bPopRatios)"
   ]
  },
  {
   "cell_type": "code",
   "execution_count": 143,
   "metadata": {
    "collapsed": false
   },
   "outputs": [
    {
     "name": "stdout",
     "output_type": "stream",
     "text": [
      "wrote /home/welling/git/pyrhea/models/ChicagoLand/com_to_vsnf_inv_sep_pass1b.yaml\n",
      "wrote /home/welling/git/pyrhea/models/ChicagoLand/com_to_snf_inv_sep_pass1b.yaml\n",
      "wrote /home/welling/git/pyrhea/models/ChicagoLand/com_to_hosp_inv_sep_pass1b.yaml\n",
      "wrote /home/welling/git/pyrhea/models/ChicagoLand/com_to_ltach_inv_sep_pass1b.yaml\n"
     ]
    }
   ],
   "source": [
    "def writeSepFiles(newWeightSetDict, suffix):\n",
    "    for key, path in [('vsnf', 'com_to_vsnf_inv_sep_%s.yaml' % suffix),\n",
    "                     ('snf', 'com_to_snf_inv_sep_%s.yaml' % suffix),\n",
    "                     ('hospital', 'com_to_hosp_inv_sep_%s.yaml' % suffix),\n",
    "                     ('ltach', 'com_to_ltach_inv_sep_%s.yaml' % suffix)]:\n",
    "        fullPath = os.path.join('/home/welling/git/pyrhea/models/ChicagoLand', path)\n",
    "        with open(fullPath, 'w') as f:\n",
    "            yaml.safe_dump(newWeightSetDict[key], f, default_flow_style=True, indent=4,\n",
    "                           encoding='utf-8', width=130, explicit_start=True)\n",
    "        print 'wrote %s' % fullPath\n",
    "writeSepFiles(pass1bWeightSetDict, 'pass1b')"
   ]
  },
  {
   "cell_type": "code",
   "execution_count": 144,
   "metadata": {
    "collapsed": false
   },
   "outputs": [
    {
     "name": "stdout",
     "output_type": "stream",
     "text": [
      "finished vsnf\n",
      "finished snf\n",
      "finished hospital\n",
      "finished ltach\n",
      "wrote /home/welling/git/pyrhea/models/ChicagoLand/com_to_vsnf_inv_sep_pass2.yaml\n",
      "wrote /home/welling/git/pyrhea/models/ChicagoLand/com_to_snf_inv_sep_pass2.yaml\n",
      "wrote /home/welling/git/pyrhea/models/ChicagoLand/com_to_hosp_inv_sep_pass2.yaml\n",
      "wrote /home/welling/git/pyrhea/models/ChicagoLand/com_to_ltach_inv_sep_pass2.yaml\n"
     ]
    }
   ],
   "source": [
    "pass2WeightSetDict = rescaleWeights(pass1bWeightSetDict, pass2PopRatios)\n",
    "writeSepFiles(pass2WeightSetDict, 'pass2')"
   ]
  },
  {
   "cell_type": "code",
   "execution_count": 145,
   "metadata": {
    "collapsed": false
   },
   "outputs": [
    {
     "name": "stdout",
     "output_type": "stream",
     "text": [
      "finished vsnf\n",
      "finished snf\n",
      "finished hospital\n",
      "finished ltach\n",
      "wrote /home/welling/git/pyrhea/models/ChicagoLand/com_to_vsnf_inv_sep_pass3.yaml\n",
      "wrote /home/welling/git/pyrhea/models/ChicagoLand/com_to_snf_inv_sep_pass3.yaml\n",
      "wrote /home/welling/git/pyrhea/models/ChicagoLand/com_to_hosp_inv_sep_pass3.yaml\n",
      "wrote /home/welling/git/pyrhea/models/ChicagoLand/com_to_ltach_inv_sep_pass3.yaml\n"
     ]
    }
   ],
   "source": [
    "pass3WeightSetDict = rescaleWeights(pass2WeightSetDict, pass3PopRatios)\n",
    "writeSepFiles(pass3WeightSetDict, 'pass3')"
   ]
  },
  {
   "cell_type": "code",
   "execution_count": 146,
   "metadata": {
    "collapsed": false
   },
   "outputs": [
    {
     "name": "stdout",
     "output_type": "stream",
     "text": [
      "finished vsnf\n",
      "finished snf\n",
      "finished hospital\n",
      "finished ltach\n",
      "wrote /home/welling/git/pyrhea/models/ChicagoLand/com_to_vsnf_inv_sep_pass4.yaml\n",
      "wrote /home/welling/git/pyrhea/models/ChicagoLand/com_to_snf_inv_sep_pass4.yaml\n",
      "wrote /home/welling/git/pyrhea/models/ChicagoLand/com_to_hosp_inv_sep_pass4.yaml\n",
      "wrote /home/welling/git/pyrhea/models/ChicagoLand/com_to_ltach_inv_sep_pass4.yaml\n"
     ]
    }
   ],
   "source": [
    "pass4WeightSetDict = rescaleWeights(pass3WeightSetDict, pass4PopRatios)\n",
    "writeSepFiles(pass4WeightSetDict, 'pass4')"
   ]
  },
  {
   "cell_type": "code",
   "execution_count": 147,
   "metadata": {
    "collapsed": false
   },
   "outputs": [],
   "source": [
    "def loadWideInitialWeightDict():\n",
    "    weightSetDict = {}\n",
    "    for key, path in [('vsnf', 'com_to_vsnf_inv_sep_wide.yaml'),\n",
    "                     ('snf', 'com_to_snf_inv_sep_wide.yaml'),\n",
    "                     ('hospital', 'com_to_hosp_inv_sep_wide.yaml'),\n",
    "                     ('ltach', 'com_to_ltach_inv_sep_wide.yaml')]:\n",
    "        with open(os.path.join('/home/welling/git/pyrhea/models/ChicagoLand', path), 'rU') as f:\n",
    "            weightSetDict[key] = yaml.load(f)\n",
    "    return weightSetDict\n",
    "wideInitialWeightSetDict = loadWideInitialWeightDict()"
   ]
  },
  {
   "cell_type": "code",
   "execution_count": 148,
   "metadata": {
    "collapsed": false
   },
   "outputs": [
    {
     "name": "stdout",
     "output_type": "stream",
     "text": [
      "finished vsnf\n",
      "finished snf\n",
      "finished hospital\n",
      "finished ltach\n",
      "wrote /home/welling/git/pyrhea/models/ChicagoLand/com_to_vsnf_inv_sep_wide_pass1.yaml\n",
      "wrote /home/welling/git/pyrhea/models/ChicagoLand/com_to_snf_inv_sep_wide_pass1.yaml\n",
      "wrote /home/welling/git/pyrhea/models/ChicagoLand/com_to_hosp_inv_sep_wide_pass1.yaml\n",
      "wrote /home/welling/git/pyrhea/models/ChicagoLand/com_to_ltach_inv_sep_wide_pass1.yaml\n"
     ]
    }
   ],
   "source": [
    "widePass1WeightSetDict = rescaleWeights(wideInitialWeightSetDict, widePass1PopRatios)\n",
    "writeSepFiles(widePass1WeightSetDict, 'wide_pass1')"
   ]
  },
  {
   "cell_type": "code",
   "execution_count": 149,
   "metadata": {
    "collapsed": false
   },
   "outputs": [
    {
     "name": "stdout",
     "output_type": "stream",
     "text": [
      "finished vsnf\n",
      "finished snf\n",
      "finished hospital\n",
      "finished ltach\n",
      "wrote /home/welling/git/pyrhea/models/ChicagoLand/com_to_vsnf_inv_sep_wide_pass2.yaml\n",
      "wrote /home/welling/git/pyrhea/models/ChicagoLand/com_to_snf_inv_sep_wide_pass2.yaml\n",
      "wrote /home/welling/git/pyrhea/models/ChicagoLand/com_to_hosp_inv_sep_wide_pass2.yaml\n",
      "wrote /home/welling/git/pyrhea/models/ChicagoLand/com_to_ltach_inv_sep_wide_pass2.yaml\n"
     ]
    }
   ],
   "source": [
    "widePass2WeightSetDict = rescaleWeights(widePass1WeightSetDict, widePass2PopRatios)\n",
    "writeSepFiles(widePass2WeightSetDict, 'wide_pass2')"
   ]
  },
  {
   "cell_type": "code",
   "execution_count": 150,
   "metadata": {
    "collapsed": false
   },
   "outputs": [
    {
     "name": "stdout",
     "output_type": "stream",
     "text": [
      "finished vsnf\n",
      "finished snf\n",
      "finished hospital\n",
      "finished ltach\n",
      "wrote /home/welling/git/pyrhea/models/ChicagoLand/com_to_vsnf_inv_sep_wide_pass3.yaml\n",
      "wrote /home/welling/git/pyrhea/models/ChicagoLand/com_to_snf_inv_sep_wide_pass3.yaml\n",
      "wrote /home/welling/git/pyrhea/models/ChicagoLand/com_to_hosp_inv_sep_wide_pass3.yaml\n",
      "wrote /home/welling/git/pyrhea/models/ChicagoLand/com_to_ltach_inv_sep_wide_pass3.yaml\n"
     ]
    }
   ],
   "source": [
    "widePass3WeightSetDict = rescaleWeights(widePass2WeightSetDict, widePass3PopRatios)\n",
    "writeSepFiles(widePass3WeightSetDict, 'wide_pass3')"
   ]
  },
  {
   "cell_type": "code",
   "execution_count": 151,
   "metadata": {
    "collapsed": false
   },
   "outputs": [
    {
     "name": "stdout",
     "output_type": "stream",
     "text": [
      "finished vsnf\n",
      "finished snf\n",
      "finished hospital\n",
      "finished ltach\n",
      "wrote /home/welling/git/pyrhea/models/ChicagoLand/com_to_vsnf_inv_sep_wide_pass4.yaml\n",
      "wrote /home/welling/git/pyrhea/models/ChicagoLand/com_to_snf_inv_sep_wide_pass4.yaml\n",
      "wrote /home/welling/git/pyrhea/models/ChicagoLand/com_to_hosp_inv_sep_wide_pass4.yaml\n",
      "wrote /home/welling/git/pyrhea/models/ChicagoLand/com_to_ltach_inv_sep_wide_pass4.yaml\n"
     ]
    }
   ],
   "source": [
    "widePass4WeightSetDict = rescaleWeights(widePass3WeightSetDict, widePass4PopRatios)\n",
    "writeSepFiles(widePass4WeightSetDict, 'wide_pass4')"
   ]
  },
  {
   "cell_type": "code",
   "execution_count": 152,
   "metadata": {
    "collapsed": false
   },
   "outputs": [
    {
     "name": "stdout",
     "output_type": "stream",
     "text": [
      "finished vsnf\n",
      "finished snf\n",
      "finished hospital\n",
      "finished ltach\n",
      "wrote /home/welling/git/pyrhea/models/ChicagoLand/com_to_vsnf_inv_sep_wide_pass5.yaml\n",
      "wrote /home/welling/git/pyrhea/models/ChicagoLand/com_to_snf_inv_sep_wide_pass5.yaml\n",
      "wrote /home/welling/git/pyrhea/models/ChicagoLand/com_to_hosp_inv_sep_wide_pass5.yaml\n",
      "wrote /home/welling/git/pyrhea/models/ChicagoLand/com_to_ltach_inv_sep_wide_pass5.yaml\n"
     ]
    }
   ],
   "source": [
    "widePass5WeightSetDict = rescaleWeights(widePass4WeightSetDict, widePass5PopRatios)\n",
    "writeSepFiles(widePass5WeightSetDict, 'wide_pass5')"
   ]
  },
  {
   "cell_type": "code",
   "execution_count": 153,
   "metadata": {
    "collapsed": false
   },
   "outputs": [
    {
     "name": "stdout",
     "output_type": "stream",
     "text": [
      "finished vsnf\n",
      "finished snf\n",
      "finished hospital\n",
      "finished ltach\n",
      "wrote /home/welling/git/pyrhea/models/ChicagoLand/com_to_vsnf_inv_sep_wide_pass6.yaml\n",
      "wrote /home/welling/git/pyrhea/models/ChicagoLand/com_to_snf_inv_sep_wide_pass6.yaml\n",
      "wrote /home/welling/git/pyrhea/models/ChicagoLand/com_to_hosp_inv_sep_wide_pass6.yaml\n",
      "wrote /home/welling/git/pyrhea/models/ChicagoLand/com_to_ltach_inv_sep_wide_pass6.yaml\n"
     ]
    }
   ],
   "source": [
    "widePass6WeightSetDict = rescaleWeights(widePass5WeightSetDict, widePass6PopRatios)\n",
    "writeSepFiles(widePass6WeightSetDict, 'wide_pass6')"
   ]
  },
  {
   "cell_type": "code",
   "execution_count": 154,
   "metadata": {
    "collapsed": false
   },
   "outputs": [
    {
     "name": "stdout",
     "output_type": "stream",
     "text": [
      "69.7864939348\n",
      "OrderedDict([('prov', 'Geocoded_LOSCMSAHQ_2010Cohort_LOS_Bedsize_10-23-2016.xlsx:BedLOS:$T (includes ICU) 14ba183e'), ('value', 3.263013699)])\n"
     ]
    }
   ],
   "source": [
    "print widePass6PopRatios['CLAR_1366_S']\n",
    "print facDict['CLAR_1366_S']['meanPop']"
   ]
  },
  {
   "cell_type": "code",
   "execution_count": 155,
   "metadata": {
    "collapsed": false
   },
   "outputs": [
    {
     "name": "stdout",
     "output_type": "stream",
     "text": [
      "finished vsnf\n",
      "finished snf\n",
      "finished hospital\n",
      "finished ltach\n",
      "wrote /home/welling/git/pyrhea/models/ChicagoLand/com_to_vsnf_inv_sep_wide_pass7.yaml\n",
      "wrote /home/welling/git/pyrhea/models/ChicagoLand/com_to_snf_inv_sep_wide_pass7.yaml\n",
      "wrote /home/welling/git/pyrhea/models/ChicagoLand/com_to_hosp_inv_sep_wide_pass7.yaml\n",
      "wrote /home/welling/git/pyrhea/models/ChicagoLand/com_to_ltach_inv_sep_wide_pass7.yaml\n"
     ]
    }
   ],
   "source": [
    "widePass7WeightSetDict = rescaleWeights(widePass6WeightSetDict, widePass7PopRatios)\n",
    "writeSepFiles(widePass7WeightSetDict, 'wide_pass7')"
   ]
  },
  {
   "cell_type": "code",
   "execution_count": 156,
   "metadata": {
    "collapsed": false
   },
   "outputs": [
    {
     "name": "stdout",
     "output_type": "stream",
     "text": [
      "finished vsnf\n",
      "finished snf\n",
      "finished hospital\n",
      "finished ltach\n",
      "wrote /home/welling/git/pyrhea/models/ChicagoLand/com_to_vsnf_inv_sep_wide_pass8.yaml\n",
      "wrote /home/welling/git/pyrhea/models/ChicagoLand/com_to_snf_inv_sep_wide_pass8.yaml\n",
      "wrote /home/welling/git/pyrhea/models/ChicagoLand/com_to_hosp_inv_sep_wide_pass8.yaml\n",
      "wrote /home/welling/git/pyrhea/models/ChicagoLand/com_to_ltach_inv_sep_wide_pass8.yaml\n"
     ]
    }
   ],
   "source": [
    "widePass8WeightSetDict = rescaleWeights(widePass7WeightSetDict, widePass8PopRatios)\n",
    "writeSepFiles(widePass8WeightSetDict, 'wide_pass8')"
   ]
  },
  {
   "cell_type": "code",
   "execution_count": 159,
   "metadata": {
    "collapsed": false
   },
   "outputs": [
    {
     "name": "stdout",
     "output_type": "stream",
     "text": [
      "finished vsnf\n",
      "finished snf\n",
      "finished hospital\n",
      "finished ltach\n",
      "wrote /home/welling/git/pyrhea/models/ChicagoLand/com_to_vsnf_inv_sep_wide_pass9.yaml\n",
      "wrote /home/welling/git/pyrhea/models/ChicagoLand/com_to_snf_inv_sep_wide_pass9.yaml\n",
      "wrote /home/welling/git/pyrhea/models/ChicagoLand/com_to_hosp_inv_sep_wide_pass9.yaml\n",
      "wrote /home/welling/git/pyrhea/models/ChicagoLand/com_to_ltach_inv_sep_wide_pass9.yaml\n"
     ]
    }
   ],
   "source": [
    "widePass9WeightSetDict = rescaleWeights(widePass8WeightSetDict, widePass9PopRatios)\n",
    "writeSepFiles(widePass9WeightSetDict, 'wide_pass9')"
   ]
  },
  {
   "cell_type": "code",
   "execution_count": 12,
   "metadata": {
    "collapsed": false
   },
   "outputs": [
    {
     "name": "stdout",
     "output_type": "stream",
     "text": [
      "['GLEN_2451_V', 'GLEN_8333_V', 'ALDE_820_V', 'STA_1725_V', 'ELMW_7733_V', 'BALL_9300_V', 'GLEN_22660_V', 'OAK_9525_V']\n",
      "vent: 543.0 499.711972603\n",
      "skil: 435.0 407.387013699\n",
      "nrs:  654.0 604.227041096\n",
      "check: 0.0 0.0\n",
      "vent frac: 0.332720588235 0.330644720956\n",
      "skil frac: 0.266544117647 0.269556009963\n"
     ]
    }
   ],
   "source": [
    "vsnfL = [k for k,r in facDict.items() if r['category']=='VSNF']\n",
    "print vsnfL\n",
    "totVent = 0\n",
    "altVent = 0\n",
    "totSkil = 0\n",
    "altSkil = 0\n",
    "totNrs = 0\n",
    "altNrs = 0\n",
    "totBeds = 0\n",
    "totPop = 0\n",
    "for abbrev in vsnfL:\n",
    "    rec = facDict[abbrev]\n",
    "    totBeds += rec['nBeds']['value']\n",
    "    totPop += rec['meanPop']['value']\n",
    "    totVent += rec['nBeds']['value'] * rec['fracVentBeds']['value']\n",
    "    altVent += rec['meanPop']['value'] * rec['fracVentAdmissions']['value']\n",
    "    totSkil += rec['nBeds']['value'] * rec['fracSkilledBeds']['value']\n",
    "    altSkil += rec['meanPop']['value'] * rec['fracSkilledAdmissions']['value']\n",
    "    totNrs += rec['nBeds']['value'] * (1.0 - (rec['fracVentBeds']['value'] + rec['fracSkilledBeds']['value']))\n",
    "    altNrs += rec['meanPop']['value'] * (1.0 - (rec['fracVentAdmissions']['value'] + rec['fracSkilledAdmissions']['value']))\n",
    "print 'vent: %s %s' % (totVent, altVent)\n",
    "print 'skil: %s %s' % (totSkil, altSkil)\n",
    "print 'nrs:  %s %s' % (totNrs, altNrs)\n",
    "print 'check: %s %s' % (totBeds - (totVent+totSkil+totNrs), totPop - (altVent+altSkil+altNrs))\n",
    "print 'vent frac: %s %s' % (totVent/totBeds, altVent/totPop)\n",
    "print 'skil frac: %s %s' % (totSkil/totBeds, altSkil/totPop)"
   ]
  },
  {
   "cell_type": "code",
   "execution_count": 18,
   "metadata": {
    "collapsed": false
   },
   "outputs": [
    {
     "name": "stdout",
     "output_type": "stream",
     "text": [
      "90 hospitals total\n",
      "ADVE_120_H: 71\n",
      "ADVE_500_H: 12\n",
      "ADVE_5101_H: 39\n",
      "ADVE_701_H: 11\n",
      "ADVO_1775_H: 133\n",
      "ADVO_17800_H: 19\n",
      "ADVO_2320_H: 61\n",
      "ADVO_3815_H: 42\n",
      "ADVO_4440_H: 152\n",
      "ADVO_450_H: 24\n",
      "ADVO_801_H: 62\n",
      "ADVO_836_H: 111\n",
      "ALEX_800_H: 47\n",
      "AURO_10400_H: not found\n",
      "BETH_5025_H: 84\n",
      "CENT_25_H: 35\n",
      "COMM_5645_H: 311\n",
      "COOK_1901_H: 34\n",
      "COPL_2000_H: 43\n",
      "DELN_300_H: 10\n",
      "EDWA_801_H: 35\n",
      "ELMH_200_H: 51\n",
      "FRAN_1201_H: 35\n",
      "FRAN_1423_H: not found\n",
      "FRAN_20201_H: 56\n",
      "FRAN_24_H: 12\n",
      "FRAN_301_H: not found\n",
      "FRAN_5454_H: 19\n",
      "FRAN_701_H: not found\n",
      "GOTT_701_H: 125\n",
      "HOLY_2701_H: 122\n",
      "INDI_1007_H: not found\n",
      "JACK_7531_H: 87\n",
      "JASP_1104_H: not found\n",
      "JOSE_1127_H: 65\n",
      "KISH_ONE_H: 45\n",
      "LITT_2800_H: 39\n",
      "LORE_645_H: 111\n",
      "LOYO_2160_H: 135\n",
      "MEMO_3701_H: 8\n",
      "MERC_2525_H: 76\n",
      "MERC_901_H: not found\n",
      "MIDW_1430_H: not found\n",
      "MORR_150_H: 8\n",
      "MOUN_2028_H: 177\n",
      "MSMC_12935_H: 35\n",
      "MUNS_901_H: 5\n",
      "NORT_251_H: 124\n",
      "NORT_2650_H: 48\n",
      "NORT_4201_H: 31\n",
      "NORT_660_H: 4\n",
      "NORT_777_H: 10\n",
      "NORT_800_H: 99\n",
      "NORT_9600_H: 25\n",
      "NORW_1044_H: 154\n",
      "PALO_12251_H: 28\n",
      "PINN_9301_H: 5\n",
      "PORT_85_H: 3\n",
      "PRES_1127_H: 142\n",
      "PRES_1325_H: 28\n",
      "PRES_333_H: 42\n",
      "PRES_355_H: 87\n",
      "PRES_500_H: 16\n",
      "PRES_7435_H: 160\n",
      "PRES_77_H: 33\n",
      "RIVE_350_H: 25\n",
      "ROSE_45_H: 45\n",
      "RUSH_1653_H: 132\n",
      "RUSH_520_H: 59\n",
      "SAIN_2875_H: 73\n",
      "SHER_1425_H: 30\n",
      "SILV_1900_H: 10\n",
      "SOUT_8012_H: 71\n",
      "STC_4321_H: not found\n",
      "STM_1500_H: 92\n",
      "ST_1555_H: 75\n",
      "ST_326_H: 141\n",
      "SWED_5145_H: 115\n",
      "THE_1740_H: 94\n",
      "THE_1_H: 22\n",
      "THE_5841_H: 98\n",
      "THE_600_H: 235\n",
      "THOR_850_H: 198\n",
      "UNIT_6308_H: 2\n",
      "VALL_1302_H: 4\n",
      "VHS_1225_H: 113\n",
      "VHS_3249_H: 51\n",
      "VHS_3_H: 129\n",
      "VHS_4646_H: 196\n",
      "WAUK_1324_H: 22\n"
     ]
    }
   ],
   "source": [
    "hospL = [k for k,r in facDict.items() if r['category']=='HOSPITAL']\n",
    "hospL.sort()\n",
    "print '%s hospitals total' % len(hospL)\n",
    "for abbrev in hospL:\n",
    "    rec = facDict[abbrev]\n",
    "    found = False\n",
    "    for elt in rec['totalTransfersOut']:\n",
    "        if elt['category'] == 'LTACH':\n",
    "            found = True\n",
    "            count = elt['count']['value']\n",
    "    if found:\n",
    "        print '%s: %s' % (abbrev, count)\n",
    "    else:\n",
    "        print '%s: not found' % abbrev"
   ]
  },
  {
   "cell_type": "code",
   "execution_count": null,
   "metadata": {
    "collapsed": true
   },
   "outputs": [],
   "source": []
  }
 ],
 "metadata": {
  "kernelspec": {
   "display_name": "Python 2",
   "language": "python",
   "name": "python2"
  },
  "language_info": {
   "codemirror_mode": {
    "name": "ipython",
    "version": 2
   },
   "file_extension": ".py",
   "mimetype": "text/x-python",
   "name": "python",
   "nbconvert_exporter": "python",
   "pygments_lexer": "ipython2",
   "version": "2.7.12"
  }
 },
 "nbformat": 4,
 "nbformat_minor": 1
}
