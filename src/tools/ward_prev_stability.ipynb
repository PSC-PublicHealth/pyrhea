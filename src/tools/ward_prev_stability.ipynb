{
 "cells": [
  {
   "cell_type": "code",
   "execution_count": null,
   "metadata": {
    "collapsed": true
   },
   "outputs": [],
   "source": [
    "import math\n",
    "import yaml\n",
    "import numpy as np\n",
    "from scipy.stats import lognorm\n",
    "from scipy.optimize import minimize_scalar\n",
    "from scipy.optimize import brentq\n",
    "import matplotlib.pyplot as plt\n",
    "import matplotlib.gridspec as gridspec\n",
    "from scipy.stats import kstest\n",
    "from tools_util import readModelInputs, getFacDict\n",
    "from pyrheautils import pathTranslate"
   ]
  },
  {
   "cell_type": "code",
   "execution_count": null,
   "metadata": {
    "collapsed": true
   },
   "outputs": [],
   "source": [
    "runDesc = '/home/welling/git/pyRHEA_github/src/sim/week_run_OC.yaml'\n",
    "\n",
    "inputDict = readModelInputs(runDesc)\n",
    "facDict = getFacDict(inputDict)\n"
   ]
  },
  {
   "cell_type": "code",
   "execution_count": null,
   "metadata": {
    "collapsed": false
   },
   "outputs": [],
   "source": [
    "# this happens to be UCIM\n",
    "icuLM = {'pdf': 'lognorm(mu=$0,sigma=$1)', 'parms': [1.6420696490323798, 0.7]}\n",
    "icuCRV = lognorm(icuLM['parms'][1], scale=math.exp(icuLM['parms'][0]))\n",
    "print 'mean ICU LOS: ', icuCRV.mean()\n",
    "hospLM = {'pdf': 'lognorm(mu=$0,sigma=$1)', 'parms': [1.3467046487927803, 0.5969954771905898]}\n",
    "hospCRV = lognorm(hospLM['parms'][1], scale=math.exp(hospLM['parms'][0]))\n",
    "print 'mean HOSP LOS: ', hospCRV.mean()\n"
   ]
  },
  {
   "cell_type": "code",
   "execution_count": null,
   "metadata": {
    "collapsed": false
   },
   "outputs": [],
   "source": [
    "with open(pathTranslate('$(MODELDIR)/constants/hospital_constants.yaml'), 'rU') as f:\n",
    "    hospConstants = yaml.load(f)\n",
    "wardSz = hospConstants['bedsPerICUWard']['value']\n",
    "print wardSz"
   ]
  },
  {
   "cell_type": "code",
   "execution_count": null,
   "metadata": {
    "collapsed": false
   },
   "outputs": [],
   "source": [
    "def simulate(wardSz, initialPrev, fracArrivingColonized, tau, runDays, instances, losCRV=icuCRV):\n",
    "    logOneMinusTau = np.log(1.0 - tau)\n",
    "    xV = np.linspace(0, runDays-1, runDays)\n",
    "    fracIncidenceL = []\n",
    "    fracPrevalenceL = []\n",
    "    fracColDepartL = []\n",
    "    plotPairs = []\n",
    "    for instance in xrange(instances):\n",
    "        patientV = np.random.choice(2, wardSz, p=[1.0 - initialPrev, initialPrev])\n",
    "        #print patientV\n",
    "        endDateV = np.round(losCRV.rvs(wardSz))\n",
    "        #print endDateV\n",
    "        countV = np.zeros([runDays])\n",
    "        incidence = 0\n",
    "        arrivals = 0\n",
    "        colDepartures = 0\n",
    "        for day in xrange(runDays):\n",
    "            nColonized = np.sum(patientV)\n",
    "            countV[day] = nColonized\n",
    "            newEnd = np.round(losCRV.rvs(wardSz)) + day\n",
    "            logPSafe = 0.0 + nColonized * logOneMinusTau\n",
    "            pExposed = 1.0 - np.exp(logPSafe)\n",
    "            choices = np.random.choice(2, wardSz, p=[1.0 - pExposed, pExposed])\n",
    "            patientV = np.choose(choices, [patientV, np.ones(wardSz, dtype=np.int)])\n",
    "            incidence += np.sum(choices)\n",
    "            arrivChoices = np.random.choice(2, wardSz, p=[1.0 - fracArrivingColonized, fracArrivingColonized])\n",
    "            colDepartures += np.sum(patientV[endDateV < day])\n",
    "            patientV = np.choose(endDateV >= day, [np.choose(arrivChoices, [0, 1]), patientV])\n",
    "            arrivals += np.sum(endDateV < day)\n",
    "            endDateV = np.choose(endDateV >= day, [newEnd, endDateV])\n",
    "        plotPairs.append((xV.copy(), countV.copy()))\n",
    "        fracIncidenceL.append(float(incidence)/float(arrivals))\n",
    "        fracPrevalenceL.append(float(sum(countV))/(runDays * wardSz))\n",
    "        fracColDepartL.append(float(colDepartures)/float(arrivals))\n",
    "\n",
    "    fracIncidenceL.sort()\n",
    "    fracPrevalenceL.sort()\n",
    "    fracColDepartL.sort()\n",
    "    #print fracIncidenceL\n",
    "    #print fracPrevalenceL\n",
    "    return fracIncidenceL, fracPrevalenceL, fracColDepartL, plotPairs"
   ]
  },
  {
   "cell_type": "code",
   "execution_count": null,
   "metadata": {
    "collapsed": true
   },
   "outputs": [],
   "source": [
    "def plotWard(fracIncidenceL, fracPrevalenceL, fracColDepartL, plotPairs, wardSz):\n",
    "    fig = plt.figure()\n",
    "    gs = gridspec.GridSpec(1, 2, width_ratios=[1,3])\n",
    "    axes0 = plt.subplot(gs[0])\n",
    "    axes1 = plt.subplot(gs[1])\n",
    "    #axes0.set_ylim(0.00001, 1.0)\n",
    "    #axes0.set_yscale('log')\n",
    "    axes0.tick_params(axis='x', labelsize='small', labelrotation=45.0)\n",
    "    axes0.boxplot([fracPrevalenceL, fracIncidenceL, fracColDepartL],\n",
    "                  labels=['prevalence', 'incidence', 'frac colonized on departure'])\n",
    "    for xV, yV in plotPairs:\n",
    "        axes1.plot(xV, yV, 'b-', alpha=0.3)\n",
    "    axes1.set_title('Number of colonized patients over time')\n",
    "    axes1.set_ylabel('Colonized patients')\n",
    "    axes1.set_ylim(0, wardSz)\n",
    "    plt.show()"
   ]
  },
  {
   "cell_type": "markdown",
   "metadata": {},
   "source": [
    "Model values: 100 beds, 5 people arrive colonized, eveyone has a mean LOS of 6.6 days\n",
    "Of every 100 arrivals, 5 are colonized.  Target is 3% transmission, so on departure 8 of 100 will be colonized (8%)"
   ]
  },
  {
   "cell_type": "code",
   "execution_count": null,
   "metadata": {
    "collapsed": false
   },
   "outputs": [],
   "source": [
    "%config InlineBackend.print_figure_kwargs = {'bbox_inches':None}\n",
    "plt.rcParams[\"figure.figsize\"] = [18, 4.5]\n",
    "\n",
    "#wardSz = 20  # This is the value for HOSP wards\n",
    "wardSz = 100  # This is the value for ICU wards\n",
    "initialPrev = 0.05\n",
    "fracArrivingColonized = 0.05  # UCIM ICU\n",
    "#fracArrivingColonized = 0.01\n",
    "tau = 0.00065\n",
    "runDays = 365\n",
    "instances = 20\n",
    "fracIncidenceL, fracPrevalenceL, fracColDepartL, plotPairs = simulate(wardSz, initialPrev, fracArrivingColonized,\n",
    "                                                                      tau, runDays, instances, losCRV=icuCRV)\n",
    "\n",
    "print 'median incidence = %f' % fracIncidenceL[len(fracIncidenceL)//2]\n",
    "print 'median prevalence = %f' % fracPrevalenceL[len(fracPrevalenceL)//2]\n",
    "print 'median colonized departure fraction = %f' % fracColDepartL[len(fracColDepartL)//2]\n",
    "plotWard(fracIncidenceL, fracPrevalenceL, fracColDepartL, plotPairs, wardSz)"
   ]
  },
  {
   "cell_type": "code",
   "execution_count": null,
   "metadata": {
    "collapsed": false
   },
   "outputs": [],
   "source": [
    "%config InlineBackend.print_figure_kwargs = {'bbox_inches':None}\n",
    "plt.rcParams[\"figure.figsize\"] = [18, 4.5]\n",
    "\n",
    "wardSz = 12  # This is the value for ICU wards\n",
    "#wardSz = 100  \n",
    "initialPrev = 0.05\n",
    "fracArrivingColonized = 0.05  # UCIM ICU\n",
    "#fracArrivingColonized = 0.08\n",
    "tau = 0.0055\n",
    "#tau = 0.01\n",
    "runDays = 365\n",
    "instances = 20\n",
    "fracIncidenceL, fracPrevalenceL, fracColDepartL, plotPairs = simulate(wardSz, initialPrev, fracArrivingColonized,\n",
    "                                                                      tau, runDays, instances, losCRV=icuCRV)\n",
    "\n",
    "print 'median incidence = %f' % fracIncidenceL[len(fracIncidenceL)//2]\n",
    "print 'median prevalence = %f' % fracPrevalenceL[len(fracPrevalenceL)//2]\n",
    "print 'median colonized departure fraction = %f' % fracColDepartL[len(fracColDepartL)//2]\n",
    "plotWard(fracIncidenceL, fracPrevalenceL, fracColDepartL, plotPairs, wardSz)\n"
   ]
  },
  {
   "cell_type": "code",
   "execution_count": null,
   "metadata": {
    "collapsed": false
   },
   "outputs": [],
   "source": [
    "%config InlineBackend.print_figure_kwargs = {'bbox_inches':None}\n",
    "plt.rcParams[\"figure.figsize\"] = [18, 4.5]\n",
    "\n",
    "wardSz = 20  # This is the value for HOSP wards\n",
    "#wardSz = 100  \n",
    "initialPrev = 0.05\n",
    "fracArrivingColonized = 0.05  # UCIM ICU\n",
    "#fracArrivingColonized = 0.01\n",
    "tau = 0.0017\n",
    "runDays = 365\n",
    "instances = 20\n",
    "fracIncidenceL, fracPrevalenceL, fracColDepartL, plotPairs = simulate(wardSz, initialPrev, fracArrivingColonized,\n",
    "                                                                      tau, runDays, instances, losCRV=hospCRV)\n",
    "\n",
    "print 'median incidence = %f' % fracIncidenceL[len(fracIncidenceL)//2]\n",
    "print 'median prevalence = %f' % fracPrevalenceL[len(fracPrevalenceL)//2]\n",
    "print 'median colonized departure fraction = %f' % fracColDepartL[len(fracColDepartL)//2]\n",
    "plotWard(fracIncidenceL, fracPrevalenceL, fracColDepartL, plotPairs, wardSz)\n"
   ]
  },
  {
   "cell_type": "code",
   "execution_count": null,
   "metadata": {
    "collapsed": true
   },
   "outputs": [],
   "source": []
  },
  {
   "cell_type": "code",
   "execution_count": null,
   "metadata": {
    "collapsed": true
   },
   "outputs": [],
   "source": []
  }
 ],
 "metadata": {
  "kernelspec": {
   "display_name": "Python2 (myenv)",
   "language": "python",
   "name": "myenv"
  },
  "language_info": {
   "codemirror_mode": {
    "name": "ipython",
    "version": 2
   },
   "file_extension": ".py",
   "mimetype": "text/x-python",
   "name": "python",
   "nbconvert_exporter": "python",
   "pygments_lexer": "ipython2",
   "version": "2.7.12"
  }
 },
 "nbformat": 4,
 "nbformat_minor": 2
}
