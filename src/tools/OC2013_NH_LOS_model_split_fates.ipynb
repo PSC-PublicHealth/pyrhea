{
 "cells": [
  {
   "cell_type": "markdown",
   "metadata": {},
   "source": [
    "## This notebook generates LOS models for NH facilityfacts files ##"
   ]
  },
  {
   "cell_type": "code",
   "execution_count": null,
   "metadata": {
    "collapsed": false
   },
   "outputs": [],
   "source": [
    "import os\n",
    "import pandas as pd\n",
    "from IPython.display import display, HTML\n",
    "import numpy as np\n",
    "import matplotlib.pyplot as plt\n",
    "from scipy.stats import expon, lognorm\n",
    "import scipy.optimize as op\n",
    "from stats import fullCRVFromPDFModel, CachedCDFGenerator\n",
    "import tools_util as tu\n",
    "import pyrheautils as pu"
   ]
  },
  {
   "cell_type": "markdown",
   "metadata": {},
   "source": [
    "## Load the model ##"
   ]
  },
  {
   "cell_type": "code",
   "execution_count": null,
   "metadata": {
    "collapsed": false
   },
   "outputs": [],
   "source": [
    "runDesc = '/home/welling/git/pyRHEA_github/src/sim/twoyear_allfac_OC.yaml'\n",
    "inputDict = tu.readModelInputs(runDesc)\n",
    "pu.prepPathTranslations(inputDict)\n",
    "facDict = tu.getFacDict(inputDict)\n"
   ]
  },
  {
   "cell_type": "markdown",
   "metadata": {},
   "source": [
    "## Load the line list data ##"
   ]
  },
  {
   "cell_type": "code",
   "execution_count": null,
   "metadata": {
    "collapsed": false
   },
   "outputs": [],
   "source": [
    "lineDF = pd.read_csv(pu.pathTranslate('$(MODELDIR)/'\n",
    "                                     'OC_Nursing_Home_LOS_Line-Lists_for_RHEA_2.0_-_2011-2015_-_Adult_Only_-_05-21-2019_UPDATE_v2_NH_LOS_Line_List.csv'))\n",
    "print lineDF.columns\n",
    "lineDF = lineDF[lineDF['NOT YET DISCHARGED?'].isnull()]\n",
    "display(lineDF.head())"
   ]
  },
  {
   "cell_type": "markdown",
   "metadata": {},
   "source": [
    "## Some Useful Functions ##\n",
    "\n",
    "Also, make the plots big enough to see"
   ]
  },
  {
   "cell_type": "code",
   "execution_count": null,
   "metadata": {
    "collapsed": true
   },
   "outputs": [],
   "source": [
    "%config InlineBackend.print_figure_kwargs = {'bbox_inches':None}\n",
    "plt.rcParams[\"figure.figsize\"] = [16, 10]"
   ]
  },
  {
   "cell_type": "code",
   "execution_count": null,
   "metadata": {
    "collapsed": true
   },
   "outputs": [],
   "source": [
    "def pltCRV(crv, scale=1.0, label=None, xlim=None):\n",
    "    mv = crv.mean()\n",
    "    if xlim is None:\n",
    "        xV = np.linspace(0.0, round(3*mv), 101)\n",
    "    else:\n",
    "        xV = np.linspace(0.0, xlim, 101)\n",
    "    yV = scale * crv.pdf(xV)\n",
    "    if label is None:\n",
    "        plt.plot(xV, yV, '-')\n",
    "    else:\n",
    "        plt.plot(xV, yV, '-', label=label)\n",
    "    plt.plot([mv], [0.0], '*')\n",
    "    print mv\n"
   ]
  },
  {
   "cell_type": "code",
   "execution_count": null,
   "metadata": {
    "collapsed": false
   },
   "outputs": [],
   "source": [
    "def chisqr(crv, samps, highBound):\n",
    "    sampV = np.zeros(highBound)\n",
    "    for val in samps['RAW LOS (days)']:\n",
    "        if int(val) < highBound:\n",
    "            sampV[int(val)] += 1\n",
    "    totSamps = samps[samps['RAW LOS (days)'] <= highBound]['NH CODE'].count()\n",
    "    scale = totSamps / crv.cdf(highBound)\n",
    "    predV = crv.pdf(np.linspace(0, highBound - 1, highBound) + 0.5) * scale\n",
    "    diffV = sampV - predV\n",
    "    rslt = np.sqrt((diffV * diffV).sum())\n",
    "    return rslt\n",
    "\n",
    "def buildLOSModel(estV, disch, tto, meanPop):\n",
    "    assert len(estV) == 2, 'was expecting two parameters?'\n",
    "    alpha = float(disch - tto)/float(disch)\n",
    "    ttoRate = float(tto)/(365. * meanPop)\n",
    "    losModel = {'parms': [alpha, estV[0], estV[1], ttoRate],\n",
    "                'pdf': \"$0*lognorm(mu=$1,sigma=$2)+(1-$0)*expon(lambda=$3)\"}\n",
    "    return losModel\n",
    "\n",
    "\n",
    "def calcChiSqr(estV, disch, tto, meanPop, sampDF):\n",
    "    losModel = buildLOSModel(estV, disch, tto, meanPop)\n",
    "    crv = fullCRVFromPDFModel(losModel)\n",
    "    rslt = chisqr(crv, facLOSDF, 365)\n",
    "    #print '%s -> %s' % (losModel, rslt)\n",
    "    return rslt\n",
    "\n",
    "\n"
   ]
  },
  {
   "cell_type": "code",
   "execution_count": null,
   "metadata": {
    "collapsed": false
   },
   "outputs": [],
   "source": [
    "def estLogNormParms(losDF):\n",
    "    lnSampV = np.log(losDF['RAW LOS (days)'].values)\n",
    "    mu = np.average(lnSampV)\n",
    "    sigma = np.std(lnSampV)\n",
    "    return [mu, sigma]\n",
    "    "
   ]
  },
  {
   "cell_type": "markdown",
   "metadata": {},
   "source": [
    "## Estimate fit values for all NHs ##"
   ]
  },
  {
   "cell_type": "code",
   "execution_count": null,
   "metadata": {
    "collapsed": false
   },
   "outputs": [],
   "source": [
    "fitD = {}\n",
    "abbrevL = [abbrev for abbrev, rec in facDict.items() if rec['category']=='NURSINGHOME']\n",
    "for abbrev in abbrevL:\n",
    "    facLOSDF = lineDF[lineDF['NH CODE'] == abbrev]\n",
    "    guessV = estLogNormParms(facLOSDF)\n",
    "    facRec = facDict[abbrev]\n",
    "    tto = 0.0\n",
    "    for elt in facRec['totalTransfersOut']:\n",
    "        tto += elt['count']['value']\n",
    "    meanPop = facRec['meanPop']['value']\n",
    "    disch = facRec['totalDischarges']['value']\n",
    "    rslt = op.minimize(calcChiSqr, guessV, args=(disch, tto, meanPop, facLOSDF), method='Nelder-Mead')\n",
    "    fitLOSModel = buildLOSModel(rslt.x, disch, tto, meanPop)\n",
    "    nLines = facLOSDF.count()['NH CODE']\n",
    "    nSamps = facLOSDF[facLOSDF['RAW LOS (days)'] <= 365]['NH CODE'].count()\n",
    "    fitLOSModel['nsamples'] = nSamps\n",
    "    fitLOSModel['chisqr_per_sample'] = rslt.fun / nSamps\n",
    "    fitLOSModel['converged'] = rslt.success\n",
    "    fitD[abbrev] = fitLOSModel\n",
    "    print '%s: %s' % (abbrev, fitLOSModel)\n"
   ]
  },
  {
   "cell_type": "markdown",
   "metadata": {},
   "source": [
    "## Plot a random sampling as examples ##"
   ]
  },
  {
   "cell_type": "code",
   "execution_count": null,
   "metadata": {
    "collapsed": false
   },
   "outputs": [],
   "source": [
    "showL = np.random.choice(abbrevL, size=10)\n",
    "print showL\n",
    "\n",
    "for abbrev in showL:\n",
    "    fitCRV = fullCRVFromPDFModel(fitD[abbrev])\n",
    "    facLOSDF = lineDF[lineDF['NH CODE'] == abbrev]\n",
    "    plt.hist(facLOSDF['RAW LOS (days)'], range=(0,300), bins=300, label='valid line-list')\n",
    "    nLines = facLOSDF.count()['NH CODE']\n",
    "    pltCRV(fitCRV, scale=nLines/fitCRV.cdf(365.), label='result of fitting', xlim=300)\n",
    "    plt.legend()\n",
    "    plt.title('%s %s' % (abbrev, fitLOSModel['parms']))\n",
    "    plt.show()"
   ]
  },
  {
   "cell_type": "markdown",
   "metadata": {},
   "source": [
    "## Look at the cases where fitting failed ##"
   ]
  },
  {
   "cell_type": "code",
   "execution_count": null,
   "metadata": {
    "collapsed": false
   },
   "outputs": [],
   "source": [
    "showL = [abbrev for abbrev, rec in fitD.items() if not rec['converged']]\n",
    "print showL\n",
    "\n",
    "for abbrev in showL:\n",
    "    fitCRV = fullCRVFromPDFModel(fitD[abbrev])\n",
    "    facLOSDF = lineDF[lineDF['NH CODE'] == abbrev]\n",
    "    display(facLOSDF.head())\n",
    "    plt.hist(facLOSDF['RAW LOS (days)'], range=(0,300), bins=300, label='valid line-list')\n",
    "    nLines = facLOSDF.count()['NH CODE']\n",
    "    pltCRV(fitCRV, scale=nLines/fitCRV.cdf(365.), label='result of fitting', xlim=300)\n",
    "    plt.legend()\n",
    "    plt.title('%s %s' % (abbrev, fitLOSModel['parms']))\n",
    "    plt.show()"
   ]
  },
  {
   "cell_type": "markdown",
   "metadata": {},
   "source": [
    "## Save the fit models ##"
   ]
  },
  {
   "cell_type": "code",
   "execution_count": null,
   "metadata": {
    "collapsed": false
   },
   "outputs": [],
   "source": [
    "orecL = []\n",
    "for abbrev, rec in fitD.items():\n",
    "    orec = {('parms{}'.format(i)) : v for i, v in enumerate(rec['parms'])}\n",
    "    orec.update({'abbrev': abbrev, 'pdf': rec['pdf'], 'nsamples': rec['nsamples'],\n",
    "                 'chisqr_per_sample': rec['chisqr_per_sample']})\n",
    "    orecL.append(orec)\n",
    "odf = pd.DataFrame(orecL)\n",
    "odf = odf.sort_values(['abbrev'], axis=0)\n",
    "odf.to_csv('los_model_fit_nh_split_fates.csv', index=False)"
   ]
  },
  {
   "cell_type": "markdown",
   "metadata": {},
   "source": [
    "## Analytical Model ##\n",
    "\n",
    "How do we map these fits into a partition between FRAIL and non-FRAIL patients?  The notion is that all patients are subject to the exponential term, which represents spontaneous problems requiring hospitalization.  Only non-FRAIL patients are subject to the lognorm term, which represents the completion of rehab and is followed by a return to the community."
   ]
  },
  {
   "cell_type": "markdown",
   "metadata": {},
   "source": [
    "$$\n",
    "P = \\lambda (\\alpha P_H + (1 - \\alpha)P_t) + (1 - \\lambda)P_t\n",
    "$$\n",
    "\n",
    "$$\n",
    "P = \\lambda \\alpha P_H + \\{ \\lambda (1-\\alpha) + (1 - \\lambda) \\} P_t\n",
    "$$\n",
    "\n",
    "$$\n",
    "\\hat{\\alpha} = \\lambda \\alpha \\\\\n",
    "1 - \\hat{\\alpha} = \\lambda (1-\\alpha) + (1 - \\lambda)\n",
    "$$\n",
    "\n",
    "* $P$ is total discharge probability for a patient (known)\n",
    "* $P_H$ is probability of discharge home (known)\n",
    "* $P_t$ is probability of transfer to another facility (known)\n",
    "* $N$ is total discharges per year (known)\n",
    "* $n$ is total transfers per year (known)\n",
    "* $\\lambda$ is the fraction *not* frail\n",
    "* $\\alpha$ is the weight of the lognormal term in the non-frail PDF\n",
    "* $\\hat{\\alpha}$ is the weight of the lognormal term in the overall PDF\n",
    "\n",
    "It looks like a perfectly valid solution is $\\lambda = a = \\sqrt{\\hat{a}}$ ."
   ]
  },
  {
   "cell_type": "code",
   "execution_count": null,
   "metadata": {
    "collapsed": false
   },
   "outputs": [],
   "source": [
    "for abbrev in ['NEWO']:\n",
    "    losModel = fitD[abbrev]\n",
    "    losCRV = fullCRVFromPDFModel(losModel)\n",
    "    homeLOSModel = {'parms': losModel['parms'][1:3], 'pdf': 'lognorm(mu=$0,sigma=$1)'}\n",
    "    homeCRV = fullCRVFromPDFModel(homeLOSModel)\n",
    "    transLOSModel = {'parms': losModel['parms'][3:], 'pdf': 'expon(lambda=$0)'}\n",
    "    transCRV = fullCRVFromPDFModel(transLOSModel)\n",
    "    facLOSDF = lineDF[lineDF['NH CODE'] == abbrev]\n",
    "    print 'a-hat: ', losModel['parms'][0:1]\n",
    "    print 'full: ', 1.0 - losCRV.cdf(365.)\n",
    "    print 'home: ', 1.0 - homeCRV.cdf(365.)\n",
    "    print 'trans: ', 1.0 - transCRV.cdf(365.)\n",
    "    ratio = float(facLOSDF[facLOSDF['RAW LOS (days)'] >= 365.].count()['NH CODE'])/float(facLOSDF.count()['NH CODE'])\n",
    "    print 'by count: ', ratio"
   ]
  },
  {
   "cell_type": "markdown",
   "metadata": {},
   "source": [
    "## Read and plot intervalprob values captured by JournalingCachedCDFGenerator ##"
   ]
  },
  {
   "cell_type": "code",
   "execution_count": null,
   "metadata": {
    "collapsed": false,
    "scrolled": false
   },
   "outputs": [],
   "source": [
    "simDF = pd.read_msgpack(pu.pathTranslate('$(SIMDIR)/cdf_intervalprob_results.mpz'))\n",
    "#display(simDF.head())\n",
    "for abbrev in simDF['abbrev'].unique():\n",
    "    print abbrev\n",
    "    df = simDF[simDF.abbrev == abbrev]\n",
    "    #display(df.head())\n",
    "    for pdf in df['pdf'].unique():\n",
    "        print pdf\n",
    "        subDF = df[df.pdf == pdf]\n",
    "        display(subDF.tail())\n",
    "        plt.plot(0.5*(subDF['start'] + subDF['end']), subDF['rslt'], '*', alpha=0.01, label=pdf)\n",
    "    plt.xlim(0.0, 300.0)\n",
    "    plt.title(abbrev)\n",
    "    plt.legend()\n",
    "    plt.show()\n",
    "    "
   ]
  },
  {
   "cell_type": "code",
   "execution_count": null,
   "metadata": {
    "collapsed": true
   },
   "outputs": [],
   "source": []
  }
 ],
 "metadata": {
  "kernelspec": {
   "display_name": "Python2 (myenv)",
   "language": "python",
   "name": "myenv"
  },
  "language_info": {
   "codemirror_mode": {
    "name": "ipython",
    "version": 2
   },
   "file_extension": ".py",
   "mimetype": "text/x-python",
   "name": "python",
   "nbconvert_exporter": "python",
   "pygments_lexer": "ipython2",
   "version": "2.7.12"
  }
 },
 "nbformat": 4,
 "nbformat_minor": 2
}
