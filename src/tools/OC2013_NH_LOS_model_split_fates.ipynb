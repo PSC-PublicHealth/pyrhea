{
 "cells": [
  {
   "cell_type": "markdown",
   "metadata": {},
   "source": [
    "## This notebook generates LOS models for NH facilityfacts files ##"
   ]
  },
  {
   "cell_type": "code",
   "execution_count": 1,
   "metadata": {
    "collapsed": false
   },
   "outputs": [],
   "source": [
    "import os\n",
    "import pandas as pd\n",
    "from IPython.display import display, HTML\n",
    "import numpy as np\n",
    "import matplotlib.pyplot as plt\n",
    "from scipy.stats import expon, lognorm\n",
    "import scipy.optimize as op\n",
    "from stats import fullCRVFromPDFModel, CachedCDFGenerator\n",
    "import tools_util as tu\n",
    "import pyrheautils as pu"
   ]
  },
  {
   "cell_type": "markdown",
   "metadata": {},
   "source": [
    "## Load the model ##"
   ]
  },
  {
   "cell_type": "code",
   "execution_count": 2,
   "metadata": {
    "collapsed": false
   },
   "outputs": [],
   "source": [
    "runDesc = '/home/welling/git/pyRHEA_github/src/sim/twoyear_allfac_OC.yaml'\n",
    "inputDict = tu.readModelInputs(runDesc)\n",
    "pu.prepPathTranslations(inputDict)\n",
    "facDict = tu.getFacDict(inputDict)\n"
   ]
  },
  {
   "cell_type": "markdown",
   "metadata": {},
   "source": [
    "## Load the line list data ##"
   ]
  },
  {
   "cell_type": "code",
   "execution_count": 3,
   "metadata": {
    "collapsed": false
   },
   "outputs": [
    {
     "name": "stdout",
     "output_type": "stream",
     "text": [
      "Index([u'NH CODE', u'DISCHARGE/ASSESSMENT YEAR', u'RAW LOS (days)',\n",
      "       u'NOT YET DISCHARGED?', u'ADD 45 DAYS?', u'ADJUSTED LOS (days)'],\n",
      "      dtype='object')\n"
     ]
    },
    {
     "data": {
      "text/html": [
       "<div>\n",
       "<style scoped>\n",
       "    .dataframe tbody tr th:only-of-type {\n",
       "        vertical-align: middle;\n",
       "    }\n",
       "\n",
       "    .dataframe tbody tr th {\n",
       "        vertical-align: top;\n",
       "    }\n",
       "\n",
       "    .dataframe thead th {\n",
       "        text-align: right;\n",
       "    }\n",
       "</style>\n",
       "<table border=\"1\" class=\"dataframe\">\n",
       "  <thead>\n",
       "    <tr style=\"text-align: right;\">\n",
       "      <th></th>\n",
       "      <th>NH CODE</th>\n",
       "      <th>DISCHARGE/ASSESSMENT YEAR</th>\n",
       "      <th>RAW LOS (days)</th>\n",
       "      <th>NOT YET DISCHARGED?</th>\n",
       "      <th>ADD 45 DAYS?</th>\n",
       "      <th>ADJUSTED LOS (days)</th>\n",
       "    </tr>\n",
       "  </thead>\n",
       "  <tbody>\n",
       "    <tr>\n",
       "      <th>0</th>\n",
       "      <td>ALAM</td>\n",
       "      <td>2012</td>\n",
       "      <td>12</td>\n",
       "      <td>NaN</td>\n",
       "      <td>NaN</td>\n",
       "      <td>12</td>\n",
       "    </tr>\n",
       "    <tr>\n",
       "      <th>1</th>\n",
       "      <td>ALAM</td>\n",
       "      <td>2012</td>\n",
       "      <td>19</td>\n",
       "      <td>NaN</td>\n",
       "      <td>NaN</td>\n",
       "      <td>19</td>\n",
       "    </tr>\n",
       "    <tr>\n",
       "      <th>2</th>\n",
       "      <td>ALAM</td>\n",
       "      <td>2014</td>\n",
       "      <td>10</td>\n",
       "      <td>NaN</td>\n",
       "      <td>NaN</td>\n",
       "      <td>10</td>\n",
       "    </tr>\n",
       "    <tr>\n",
       "      <th>3</th>\n",
       "      <td>ALAM</td>\n",
       "      <td>2012</td>\n",
       "      <td>41</td>\n",
       "      <td>NaN</td>\n",
       "      <td>NaN</td>\n",
       "      <td>41</td>\n",
       "    </tr>\n",
       "    <tr>\n",
       "      <th>4</th>\n",
       "      <td>ALAM</td>\n",
       "      <td>2011</td>\n",
       "      <td>5</td>\n",
       "      <td>NaN</td>\n",
       "      <td>NaN</td>\n",
       "      <td>5</td>\n",
       "    </tr>\n",
       "  </tbody>\n",
       "</table>\n",
       "</div>"
      ],
      "text/plain": [
       "  NH CODE  DISCHARGE/ASSESSMENT YEAR  RAW LOS (days) NOT YET DISCHARGED?  \\\n",
       "0    ALAM                       2012              12                 NaN   \n",
       "1    ALAM                       2012              19                 NaN   \n",
       "2    ALAM                       2014              10                 NaN   \n",
       "3    ALAM                       2012              41                 NaN   \n",
       "4    ALAM                       2011               5                 NaN   \n",
       "\n",
       "  ADD 45 DAYS?  ADJUSTED LOS (days)  \n",
       "0          NaN                   12  \n",
       "1          NaN                   19  \n",
       "2          NaN                   10  \n",
       "3          NaN                   41  \n",
       "4          NaN                    5  "
      ]
     },
     "metadata": {},
     "output_type": "display_data"
    }
   ],
   "source": [
    "lineDF = pd.read_csv(pu.pathTranslate('$(MODELDIR)/'\n",
    "                                     'OC_Nursing_Home_LOS_Line-Lists_for_RHEA_2.0_-_2011-2015_-_Adult_Only_-_06-10-2019_UPDATE_NH_LOS_Line_List.csv'))\n",
    "\n",
    "#                                      'OC_Nursing_Home_LOS_Line-Lists_for_RHEA_2.0_-_2011-2015_-_Adult_Only_-_05-21-2019_UPDATE_v2_NH_LOS_Line_List.csv'))\n",
    "print lineDF.columns\n",
    "lineDF = lineDF[lineDF['NOT YET DISCHARGED?'].isnull()]\n",
    "display(lineDF.head())"
   ]
  },
  {
   "cell_type": "markdown",
   "metadata": {},
   "source": [
    "## Some Useful Functions ##\n",
    "\n",
    "Also, make the plots big enough to see"
   ]
  },
  {
   "cell_type": "code",
   "execution_count": 10,
   "metadata": {
    "collapsed": true
   },
   "outputs": [],
   "source": [
    "%config InlineBackend.print_figure_kwargs = {'bbox_inches':None}\n",
    "#plt.rcParams[\"figure.figsize\"] = [16, 10]\n",
    "plt.rcParams[\"figure.figsize\"] = [8, 5]"
   ]
  },
  {
   "cell_type": "code",
   "execution_count": 5,
   "metadata": {
    "collapsed": true
   },
   "outputs": [],
   "source": [
    "def pltCRV(crv, scale=1.0, label=None, xlim=None):\n",
    "    mv = crv.mean()\n",
    "    if xlim is None:\n",
    "        xV = np.linspace(0.0, round(3*mv), 101)\n",
    "    else:\n",
    "        xV = np.linspace(0.0, xlim, 101)\n",
    "    yV = scale * crv.pdf(xV)\n",
    "    if label is None:\n",
    "        plt.plot(xV, yV, '-')\n",
    "    else:\n",
    "        plt.plot(xV, yV, '-', label=label)\n",
    "    plt.plot([mv], [0.0], '*')\n",
    "    print mv\n"
   ]
  },
  {
   "cell_type": "code",
   "execution_count": 6,
   "metadata": {
    "collapsed": false
   },
   "outputs": [],
   "source": [
    "def chisqr(crv, samps, highBound, col='RAW LOS (days)', codeCol='NH CODE'):\n",
    "    sampV = np.zeros(highBound)\n",
    "    for val in samps[col]:\n",
    "        if int(val) < highBound:\n",
    "            sampV[int(val)] += 1\n",
    "    totSamps = samps[samps[col] <= highBound][codeCol].count()\n",
    "    scale = totSamps / crv.cdf(highBound)\n",
    "    predV = crv.pdf(np.linspace(0, highBound - 1, highBound) + 0.5) * scale\n",
    "    diffV = sampV - predV\n",
    "    rslt = np.sqrt((diffV * diffV).sum())\n",
    "    return rslt\n",
    "\n",
    "def buildLOSModel(estV, disch, tto, meanPop):\n",
    "    assert len(estV) == 2, 'was expecting two parameters?'\n",
    "    alpha = float(disch - tto)/float(disch)\n",
    "    ttoRate = float(tto)/(365. * meanPop)\n",
    "    losModel = {'parms': [alpha, estV[0], estV[1], ttoRate],\n",
    "                'pdf': \"$0*lognorm(mu=$1,sigma=$2)+(1-$0)*expon(lambda=$3)\"}\n",
    "    return losModel\n",
    "\n",
    "\n",
    "def calcChiSqr(estV, disch, tto, meanPop, sampDF, col='RAW LOS (days)', codeCol='NH CODE'):\n",
    "    losModel = buildLOSModel(estV, disch, tto, meanPop)\n",
    "    crv = fullCRVFromPDFModel(losModel)\n",
    "    rslt = chisqr(crv, facLOSDF, 365, col=col, codeCol=codeCol)\n",
    "    #print '%s -> %s' % (losModel, rslt)\n",
    "    return rslt\n",
    "\n",
    "\n"
   ]
  },
  {
   "cell_type": "code",
   "execution_count": 7,
   "metadata": {
    "collapsed": false
   },
   "outputs": [],
   "source": [
    "def estLogNormParms(losDF, col='RAW LOS (days)'):\n",
    "    lnSampV = np.log(losDF[col].values)\n",
    "    mu = np.average(lnSampV)\n",
    "    sigma = np.std(lnSampV)\n",
    "    return [mu, sigma]\n",
    "    "
   ]
  },
  {
   "cell_type": "markdown",
   "metadata": {},
   "source": [
    "## Estimate fit values for all NHs ##"
   ]
  },
  {
   "cell_type": "code",
   "execution_count": 8,
   "metadata": {
    "collapsed": false
   },
   "outputs": [
    {
     "name": "stdout",
     "output_type": "stream",
     "text": [
      "CSNC: {'chisqr_per_sample': 0.03495585512085629, 'pdf': '$0*lognorm(mu=$1,sigma=$2)+(1-$0)*expon(lambda=$3)', 'converged': True, 'nsamples': 1501, 'parms': [0.48760000000000003, 2.6453123966488867, 0.7816010828175939, 0.004194893410067277]}\n",
      "LPAL: {'chisqr_per_sample': 0.035863707398563725, 'pdf': '$0*lognorm(mu=$1,sigma=$2)+(1-$0)*expon(lambda=$3)', 'converged': True, 'nsamples': 1501, 'parms': [0.6265999999999999, 2.7624043890099643, 0.7729822604051335, 0.004591365828354052]}\n",
      "MANO: {'chisqr_per_sample': 0.03144315861320606, 'pdf': '$0*lognorm(mu=$1,sigma=$2)+(1-$0)*expon(lambda=$3)', 'converged': True, 'nsamples': 7000, 'parms': [0.7653000000000001, 2.6079386160945903, 0.5343893928767662, 0.005981716254561629]}\n",
      "COVI: {'chisqr_per_sample': 0.04820472885978475, 'pdf': '$0*lognorm(mu=$1,sigma=$2)+(1-$0)*expon(lambda=$3)', 'converged': True, 'nsamples': 1823, 'parms': [0.8057, 3.027776707176837, 0.4208343656627289, 0.008333290366429569]}\n",
      "CVSB: {'chisqr_per_sample': 0.025987996688825264, 'pdf': '$0*lognorm(mu=$1,sigma=$2)+(1-$0)*expon(lambda=$3)', 'converged': True, 'nsamples': 4395, 'parms': [0.7965000000000001, 2.62432775372109, 0.8185446939159464, 0.0026347198673458104]}\n",
      "CVLH: {'chisqr_per_sample': 0.03271850316203325, 'pdf': '$0*lognorm(mu=$1,sigma=$2)+(1-$0)*expon(lambda=$3)', 'converged': True, 'nsamples': 5957, 'parms': [0.7868999999999999, 2.6943380292528927, 0.6368800043398993, 0.0037475370053908054]}\n",
      "PACI: {'chisqr_per_sample': 0.03458638409084674, 'pdf': '$0*lognorm(mu=$1,sigma=$2)+(1-$0)*expon(lambda=$3)', 'converged': True, 'nsamples': 1809, 'parms': [0.6524, 2.8139193016366413, 0.9184388836507487, 0.0038389296687952866]}\n",
      "BGSJ: {'chisqr_per_sample': 0.04300878242718702, 'pdf': '$0*lognorm(mu=$1,sigma=$2)+(1-$0)*expon(lambda=$3)', 'converged': True, 'nsamples': 2040, 'parms': [0.7871000000000001, 3.142769432645296, 0.823212209759915, 0.0047508098940968295]}\n",
      "SEAC: {'chisqr_per_sample': 0.026423152625442183, 'pdf': '$0*lognorm(mu=$1,sigma=$2)+(1-$0)*expon(lambda=$3)', 'converged': True, 'nsamples': 3422, 'parms': [0.7183999999999999, 2.679744449841282, 0.8568579822280981, 0.0030957569190057216]}\n",
      "ANHC: {'chisqr_per_sample': 0.030091445119191543, 'pdf': '$0*lognorm(mu=$1,sigma=$2)+(1-$0)*expon(lambda=$3)', 'converged': True, 'nsamples': 3416, 'parms': [0.6974, 2.7117578700248837, 0.656588210973932, 0.0030146278055121316]}\n",
      "FLAG: {'chisqr_per_sample': 0.024248446287301138, 'pdf': '$0*lognorm(mu=$1,sigma=$2)+(1-$0)*expon(lambda=$3)', 'converged': True, 'nsamples': 2501, 'parms': [0.7564, 2.6278829809469477, 0.8452982032879419, 0.003157079213817749]}\n",
      "KNOT: {'chisqr_per_sample': 0.036768613084891426, 'pdf': '$0*lognorm(mu=$1,sigma=$2)+(1-$0)*expon(lambda=$3)', 'converged': True, 'nsamples': 1284, 'parms': [0.45359999999999995, 2.71347618612198, 0.8055485703024996, 0.0035738602497085684]}\n",
      "EVER: {'chisqr_per_sample': 0.03339125980904571, 'pdf': '$0*lognorm(mu=$1,sigma=$2)+(1-$0)*expon(lambda=$3)', 'converged': True, 'nsamples': 1897, 'parms': [0.7448, 2.7115398134708295, 1.0085106453853605, 0.0018488309318063871]}\n",
      "PALM: {'chisqr_per_sample': 0.0322496441811383, 'pdf': '$0*lognorm(mu=$1,sigma=$2)+(1-$0)*expon(lambda=$3)', 'converged': True, 'nsamples': 5112, 'parms': [0.7639, 2.849122049022192, 0.6934868662206959, 0.0068600294971006455]}\n",
      "LAKE: {'chisqr_per_sample': 0.027885882579770364, 'pdf': '$0*lognorm(mu=$1,sigma=$2)+(1-$0)*expon(lambda=$3)', 'converged': True, 'nsamples': 4625, 'parms': [0.7159000000000001, 2.6887086554274826, 0.7183291116233832, 0.005061709919564906]}\n",
      "GGCH: {'chisqr_per_sample': 0.040574722390424915, 'pdf': '$0*lognorm(mu=$1,sigma=$2)+(1-$0)*expon(lambda=$3)', 'converged': True, 'nsamples': 635, 'parms': [0.6457999999999999, 3.088376980858289, 0.9805267721291596, 0.0020160355518583184]}\n",
      "STAN: {'chisqr_per_sample': 0.11037457212589724, 'pdf': '$0*lognorm(mu=$1,sigma=$2)+(1-$0)*expon(lambda=$3)', 'converged': True, 'nsamples': 106, 'parms': [0.4878, 3.2627574042113654, 1.3526871293108003, 0.000991555891517174]}\n",
      "FPCC: {'chisqr_per_sample': 0.03067805253122503, 'pdf': '$0*lognorm(mu=$1,sigma=$2)+(1-$0)*expon(lambda=$3)', 'converged': True, 'nsamples': 2781, 'parms': [0.6110000000000001, 2.6954535110263635, 0.749807019712804, 0.0031439857245499276]}\n",
      "GORD: {'chisqr_per_sample': 0.03234410887069217, 'pdf': '$0*lognorm(mu=$1,sigma=$2)+(1-$0)*expon(lambda=$3)', 'converged': True, 'nsamples': 2103, 'parms': [0.6746, 2.5095413630288226, 0.6656849908137789, 0.004306710400923178]}\n",
      "FOCC: {'chisqr_per_sample': 0.030130278710521197, 'pdf': '$0*lognorm(mu=$1,sigma=$2)+(1-$0)*expon(lambda=$3)', 'converged': True, 'nsamples': 4088, 'parms': [0.7213999999999999, 2.692131941216552, 0.7818110893761401, 0.004359358457656986]}\n",
      "HVAL: {'chisqr_per_sample': 0.028349217372258578, 'pdf': '$0*lognorm(mu=$1,sigma=$2)+(1-$0)*expon(lambda=$3)', 'converged': True, 'nsamples': 3556, 'parms': [0.6405000000000001, 2.6597734577777565, 0.7700360957740419, 0.005639949997395697]}\n",
      "CARE: {'chisqr_per_sample': 0.03518316816126282, 'pdf': '$0*lognorm(mu=$1,sigma=$2)+(1-$0)*expon(lambda=$3)', 'converged': True, 'nsamples': 4710, 'parms': [0.7133, 2.621221192815905, 0.62094697104246, 0.004492269102274399]}\n",
      "SCRT: {'chisqr_per_sample': 0.036801128635234055, 'pdf': '$0*lognorm(mu=$1,sigma=$2)+(1-$0)*expon(lambda=$3)', 'converged': True, 'nsamples': 1273, 'parms': [0.6757999999999998, 2.8216442747580324, 0.9710593205167827, 0.0023680104117557227]}\n",
      "SNMR: {'chisqr_per_sample': 0.05981988792849342, 'pdf': '$0*lognorm(mu=$1,sigma=$2)+(1-$0)*expon(lambda=$3)', 'converged': True, 'nsamples': 464, 'parms': [0.7031999999999999, 3.439594131506958, 1.1177347930890214, 0.0011276673643780355]}\n",
      "BEAC: {'chisqr_per_sample': 0.029695832446310917, 'pdf': '$0*lognorm(mu=$1,sigma=$2)+(1-$0)*expon(lambda=$3)', 'converged': True, 'nsamples': 3176, 'parms': [0.7824, 2.7368823190152582, 0.7107556162988903, 0.00697105219319041]}\n",
      "VICT: {'chisqr_per_sample': 0.03647424208643506, 'pdf': '$0*lognorm(mu=$1,sigma=$2)+(1-$0)*expon(lambda=$3)', 'converged': True, 'nsamples': 1965, 'parms': [0.7377, 2.6611160893432086, 0.8244880469478054, 0.0038139588275809292]}\n",
      "PKVW: {'chisqr_per_sample': 0.07698926994281131, 'pdf': '$0*lognorm(mu=$1,sigma=$2)+(1-$0)*expon(lambda=$3)', 'converged': True, 'nsamples': 194, 'parms': [0.7883, 3.089099707322457, 1.2197630106539858, 0.0006978175713486289]}\n",
      "VIVA: {'chisqr_per_sample': 0.04459691789044629, 'pdf': '$0*lognorm(mu=$1,sigma=$2)+(1-$0)*expon(lambda=$3)', 'converged': True, 'nsamples': 2475, 'parms': [0.7845, 2.774960460690449, 0.8915066950114765, 0.008381683996408627]}\n",
      "LHAB: {'chisqr_per_sample': 0.04366889828400455, 'pdf': '$0*lognorm(mu=$1,sigma=$2)+(1-$0)*expon(lambda=$3)', 'converged': True, 'nsamples': 1229, 'parms': [0.8404999999999999, 2.5970584998772557, 0.8351283220876665, 0.0014272213145657918]}\n",
      "WAEC: {'chisqr_per_sample': 0.02783953371492084, 'pdf': '$0*lognorm(mu=$1,sigma=$2)+(1-$0)*expon(lambda=$3)', 'converged': True, 'nsamples': 1946, 'parms': [0.7576, 2.8186197904621775, 0.7280622315226228, 0.002018410829136151]}\n",
      "TOWN: {'chisqr_per_sample': 0.043061009417652805, 'pdf': '$0*lognorm(mu=$1,sigma=$2)+(1-$0)*expon(lambda=$3)', 'converged': True, 'nsamples': 3271, 'parms': [0.7592, 2.9360498316439263, 0.822971593527803, 0.0051384408214010515]}\n",
      "HELP: {'chisqr_per_sample': 0.03937932962915768, 'pdf': '$0*lognorm(mu=$1,sigma=$2)+(1-$0)*expon(lambda=$3)', 'converged': True, 'nsamples': 1798, 'parms': [0.6527000000000002, 3.0253857295866804, 0.8724973675708328, 0.0037861005522484385]}\n",
      "EXTW: {'chisqr_per_sample': 0.06281993665910453, 'pdf': '$0*lognorm(mu=$1,sigma=$2)+(1-$0)*expon(lambda=$3)', 'converged': True, 'nsamples': 242, 'parms': [0.7629, 8.802071194694069, 2.85505452452138, 0.000422739542487516]}\n",
      "ROYL: {'chisqr_per_sample': 0.08075249812268236, 'pdf': '$0*lognorm(mu=$1,sigma=$2)+(1-$0)*expon(lambda=$3)', 'converged': True, 'nsamples': 8627, 'parms': [0.8646999999999999, 2.597615709578201, 0.6825681607017975, 0.002553172342340236]}\n",
      "LEIS: {'chisqr_per_sample': 0.04773935309229702, 'pdf': '$0*lognorm(mu=$1,sigma=$2)+(1-$0)*expon(lambda=$3)', 'converged': True, 'nsamples': 1508, 'parms': [0.48849999999999993, 3.013634223099515, 0.8462588648171725, 0.003950913830741733]}\n",
      "ACNC: {'chisqr_per_sample': 0.04371709516453285, 'pdf': '$0*lognorm(mu=$1,sigma=$2)+(1-$0)*expon(lambda=$3)', 'converged': True, 'nsamples': 857, 'parms': [0.5662, 3.1303569272094975, 1.0084456962219366, 0.002838148701833603]}\n",
      "ALTA: {'chisqr_per_sample': 0.03527709106354318, 'pdf': '$0*lognorm(mu=$1,sigma=$2)+(1-$0)*expon(lambda=$3)', 'converged': True, 'nsamples': 1946, 'parms': [0.6213, 2.826938383014956, 0.891940559351225, 0.0033656964478596305]}\n",
      "WINA: {'chisqr_per_sample': 0.034097473093050376, 'pdf': '$0*lognorm(mu=$1,sigma=$2)+(1-$0)*expon(lambda=$3)', 'converged': True, 'nsamples': 2199, 'parms': [0.6920999999999999, 2.6461678971376896, 0.8496540553980091, 0.0027545352535028895]}\n",
      "NSUB: {'chisqr_per_sample': 0.04181635945746616, 'pdf': '$0*lognorm(mu=$1,sigma=$2)+(1-$0)*expon(lambda=$3)', 'converged': True, 'nsamples': 825, 'parms': [0.44099999999999995, 2.8412083494687, 0.9888790160389311, 0.0031807842753907595]}\n",
      "COCT: {'chisqr_per_sample': 0.029815927493956694, 'pdf': '$0*lognorm(mu=$1,sigma=$2)+(1-$0)*expon(lambda=$3)', 'converged': True, 'nsamples': 2768, 'parms': [0.735, 2.886883373594899, 0.8666326122737867, 0.005280830931143038]}\n",
      "FREE: {'chisqr_per_sample': 0.05696892238565168, 'pdf': '$0*lognorm(mu=$1,sigma=$2)+(1-$0)*expon(lambda=$3)', 'converged': True, 'nsamples': 2101, 'parms': [0.8156000000000002, 2.8697947103730375, 0.4894071059036494, 0.004533772959375134]}\n",
      "PREG: {'chisqr_per_sample': 0.035959080512118, 'pdf': '$0*lognorm(mu=$1,sigma=$2)+(1-$0)*expon(lambda=$3)', 'converged': True, 'nsamples': 2084, 'parms': [0.8544, 2.8109436063896354, 0.8285301639888536, 0.0017866441268563303]}\n",
      "ELIZ: {'chisqr_per_sample': 0.04142268175456021, 'pdf': '$0*lognorm(mu=$1,sigma=$2)+(1-$0)*expon(lambda=$3)', 'converged': True, 'nsamples': 2373, 'parms': [0.7601, 2.799331087831386, 0.6217211521088409, 0.005575078384205042]}\n",
      "PSUP: {'chisqr_per_sample': 0.03329094967086047, 'pdf': '$0*lognorm(mu=$1,sigma=$2)+(1-$0)*expon(lambda=$3)', 'converged': True, 'nsamples': 4310, 'parms': [0.7477, 2.6656521074716064, 0.721964558446551, 0.00672763322871806]}\n",
      "CVPL: {'chisqr_per_sample': 0.02989830470260722, 'pdf': '$0*lognorm(mu=$1,sigma=$2)+(1-$0)*expon(lambda=$3)', 'converged': True, 'nsamples': 1911, 'parms': [0.671, 2.708040019263857, 0.9197585560994332, 0.0025641310371702455]}\n",
      "TERR: {'chisqr_per_sample': 0.031302432906069586, 'pdf': '$0*lognorm(mu=$1,sigma=$2)+(1-$0)*expon(lambda=$3)', 'converged': True, 'nsamples': 2640, 'parms': [0.7854, 3.0986079282651264, 0.7018496586728856, 0.006194172127280966]}\n",
      "PANA: {'chisqr_per_sample': 0.03043171367501799, 'pdf': '$0*lognorm(mu=$1,sigma=$2)+(1-$0)*expon(lambda=$3)', 'converged': True, 'nsamples': 1482, 'parms': [0.4318, 2.679011394730566, 0.83136732683571, 0.0043413763922348575]}\n",
      "MESA: {'chisqr_per_sample': 0.03901728804351573, 'pdf': '$0*lognorm(mu=$1,sigma=$2)+(1-$0)*expon(lambda=$3)', 'converged': True, 'nsamples': 2033, 'parms': [0.6979000000000001, 2.5867824063076683, 0.797652807387708, 0.004475827435733885]}\n",
      "BPNC: {'chisqr_per_sample': 0.032349311741418786, 'pdf': '$0*lognorm(mu=$1,sigma=$2)+(1-$0)*expon(lambda=$3)', 'converged': True, 'nsamples': 2005, 'parms': [0.5386, 2.693109564916846, 0.7755287614118052, 0.003654618504629985]}\n",
      "WINF: {'chisqr_per_sample': 0.03677694661138052, 'pdf': '$0*lognorm(mu=$1,sigma=$2)+(1-$0)*expon(lambda=$3)', 'converged': True, 'nsamples': 2411, 'parms': [0.783, 2.5898332268139277, 0.690470172166725, 0.003280392669179948]}\n",
      "PVIS: {'chisqr_per_sample': 0.03570650259056117, 'pdf': '$0*lognorm(mu=$1,sigma=$2)+(1-$0)*expon(lambda=$3)', 'converged': True, 'nsamples': 2074, 'parms': [0.799, 3.016494056244534, 0.8715052956509752, 0.002820764632889078]}\n",
      "GREE: {'chisqr_per_sample': 0.04486564934881046, 'pdf': '$0*lognorm(mu=$1,sigma=$2)+(1-$0)*expon(lambda=$3)', 'converged': True, 'nsamples': 619, 'parms': [0.47390000000000004, 3.0640139653732437, 1.1495126514385778, 0.002083280741483214]}\n",
      "HVCC: {'chisqr_per_sample': 0.04345341623463984, 'pdf': '$0*lognorm(mu=$1,sigma=$2)+(1-$0)*expon(lambda=$3)', 'converged': True, 'nsamples': 1052, 'parms': [0.5946, 3.3685393604352374, 0.9177255811791767, 0.002510796187130157]}\n",
      "ORRH: {'chisqr_per_sample': 0.03691236276871134, 'pdf': '$0*lognorm(mu=$1,sigma=$2)+(1-$0)*expon(lambda=$3)', 'converged': True, 'nsamples': 1105, 'parms': [0.7186, 3.160875341338288, 1.013849721087818, 0.00198361301369863]}\n",
      "EDNA: {'chisqr_per_sample': 0.03424635471348964, 'pdf': '$0*lognorm(mu=$1,sigma=$2)+(1-$0)*expon(lambda=$3)', 'converged': True, 'nsamples': 3151, 'parms': [0.7365, 2.6109429792802263, 0.6614435181425451, 0.00335568541047993]}\n",
      "BVCC: {'chisqr_per_sample': 0.037197656323820806, 'pdf': '$0*lognorm(mu=$1,sigma=$2)+(1-$0)*expon(lambda=$3)', 'converged': True, 'nsamples': 1348, 'parms': [0.6123, 2.6007427903234346, 0.9046795932797123, 0.0037457934979071533]}\n",
      "NNRC: {'chisqr_per_sample': 0.03280730945448394, 'pdf': '$0*lognorm(mu=$1,sigma=$2)+(1-$0)*expon(lambda=$3)', 'converged': True, 'nsamples': 3299, 'parms': [0.8404999999999999, 2.9048558319253432, 0.743562841819643, 0.006292602739726027]}\n",
      "BGYL: {'chisqr_per_sample': 0.042735122355700636, 'pdf': '$0*lognorm(mu=$1,sigma=$2)+(1-$0)*expon(lambda=$3)', 'converged': True, 'nsamples': 2278, 'parms': [0.8011, 2.8793886530346655, 0.7295114380064548, 0.006541489562602597]}\n",
      "KINO: {'chisqr_per_sample': 0.033182990266894856, 'pdf': '$0*lognorm(mu=$1,sigma=$2)+(1-$0)*expon(lambda=$3)', 'converged': True, 'nsamples': 2542, 'parms': [0.6231, 2.7188755717379154, 0.9227359234617208, 0.005123368584582771]}\n",
      "CAPO: {'chisqr_per_sample': 0.03909662098293857, 'pdf': '$0*lognorm(mu=$1,sigma=$2)+(1-$0)*expon(lambda=$3)', 'converged': True, 'nsamples': 2063, 'parms': [0.7815000000000001, 2.7948896824533325, 0.7287607215307397, 0.0031306080554326468]}\n",
      "ATCC: {'chisqr_per_sample': 0.04145483538539198, 'pdf': '$0*lognorm(mu=$1,sigma=$2)+(1-$0)*expon(lambda=$3)', 'converged': True, 'nsamples': 3024, 'parms': [0.7467000000000001, 2.696870037019182, 0.6098207876949531, 0.004738959318546804]}\n",
      "ALAM: {'chisqr_per_sample': 0.028106373208653987, 'pdf': '$0*lognorm(mu=$1,sigma=$2)+(1-$0)*expon(lambda=$3)', 'converged': True, 'nsamples': 3720, 'parms': [0.7761, 2.659589823953612, 0.7726382895530278, 0.0033838427122642595]}\n",
      "WLNT: {'chisqr_per_sample': 0.030027549726854452, 'pdf': '$0*lognorm(mu=$1,sigma=$2)+(1-$0)*expon(lambda=$3)', 'converged': True, 'nsamples': 2534, 'parms': [0.8037000000000002, 2.7307208581824725, 0.6595109142725539, 0.0034766579245377838]}\n",
      "RGNT: {'chisqr_per_sample': 0.05023061057472624, 'pdf': '$0*lognorm(mu=$1,sigma=$2)+(1-$0)*expon(lambda=$3)', 'converged': True, 'nsamples': 589, 'parms': [0.7294, 2.846577698566883, 0.8450248439549264, 0.0016062177126904774]}\n",
      "QUAK: {'chisqr_per_sample': 0.028160628382365147, 'pdf': '$0*lognorm(mu=$1,sigma=$2)+(1-$0)*expon(lambda=$3)', 'converged': True, 'nsamples': 1595, 'parms': [0.846, 2.8981390707591554, 0.7064028194217145, 0.0024987501249875014]}\n",
      "NEWO: {'chisqr_per_sample': 0.026471061038506143, 'pdf': '$0*lognorm(mu=$1,sigma=$2)+(1-$0)*expon(lambda=$3)', 'converged': True, 'nsamples': 5172, 'parms': [0.7285, 2.542563825355807, 0.7011941217671681, 0.006173421997164547]}\n",
      "GPCC: {'chisqr_per_sample': 0.03810007552857861, 'pdf': '$0*lognorm(mu=$1,sigma=$2)+(1-$0)*expon(lambda=$3)', 'converged': True, 'nsamples': 1419, 'parms': [0.4634999999999999, 2.7788713185540304, 0.8168630581044978, 0.004165508938677857]}\n"
     ]
    }
   ],
   "source": [
    "fitD = {}\n",
    "abbrevL = [abbrev for abbrev, rec in facDict.items() if rec['category']=='NURSINGHOME']\n",
    "for abbrev in abbrevL:\n",
    "    facLOSDF = lineDF[lineDF['NH CODE'] == abbrev]\n",
    "    guessV = estLogNormParms(facLOSDF)\n",
    "    facRec = facDict[abbrev]\n",
    "    tto = 0.0\n",
    "    for elt in facRec['totalTransfersOut']:\n",
    "        tto += elt['count']['value']\n",
    "    meanPop = facRec['meanPop']['value']\n",
    "    disch = facRec['totalDischarges']['value']\n",
    "    rslt = op.minimize(calcChiSqr, guessV, args=(disch, tto, meanPop, facLOSDF), method='Nelder-Mead')\n",
    "    fitLOSModel = buildLOSModel(rslt.x, disch, tto, meanPop)\n",
    "    nLines = facLOSDF.count()['NH CODE']\n",
    "    nSamps = facLOSDF[facLOSDF['RAW LOS (days)'] <= 365]['NH CODE'].count()\n",
    "    fitLOSModel['nsamples'] = nSamps\n",
    "    fitLOSModel['chisqr_per_sample'] = rslt.fun / nSamps\n",
    "    fitLOSModel['converged'] = rslt.success\n",
    "    fitD[abbrev] = fitLOSModel\n",
    "    print '%s: %s' % (abbrev, fitLOSModel)\n"
   ]
  },
  {
   "cell_type": "markdown",
   "metadata": {},
   "source": [
    "## Plot a random sampling as examples ##"
   ]
  },
  {
   "cell_type": "code",
   "execution_count": 12,
   "metadata": {
    "collapsed": false
   },
   "outputs": [
    {
     "name": "stdout",
     "output_type": "stream",
     "text": [
      "['NEWO']\n",
      "55.82061595818493\n"
     ]
    },
    {
     "data": {
      "image/png": "[encoded data removed]",
      "text/plain": [
       "<Figure size 576x360 with 1 Axes>"
      ]
     },
     "metadata": {},
     "output_type": "display_data"
    }
   ],
   "source": [
    "#showL = np.random.choice(abbrevL, size=10)\n",
    "showL = ['NEWO']\n",
    "print showL\n",
    "\n",
    "for abbrev in showL:\n",
    "    fitCRV = fullCRVFromPDFModel(fitD[abbrev])\n",
    "    facLOSDF = lineDF[lineDF['NH CODE'] == abbrev]\n",
    "    plt.hist(facLOSDF['RAW LOS (days)'], range=(0,300), bins=300, label='valid line-list')\n",
    "    nLines = facLOSDF.count()['NH CODE']\n",
    "    pltCRV(fitCRV, scale=nLines/fitCRV.cdf(365.), label='result of fitting', xlim=300)\n",
    "    plt.legend()\n",
    "    #plt.title('%s %s' % (abbrev, fitLOSModel['parms']))\n",
    "    plt.title('%s samples and fit pdf' % abbrev)\n",
    "    plt.show()"
   ]
  },
  {
   "cell_type": "markdown",
   "metadata": {},
   "source": [
    "## Look at the cases where fitting failed ##"
   ]
  },
  {
   "cell_type": "code",
   "execution_count": null,
   "metadata": {
    "collapsed": false
   },
   "outputs": [],
   "source": [
    "showL = [abbrev for abbrev, rec in fitD.items() if not rec['converged']]\n",
    "print showL\n",
    "\n",
    "for abbrev in showL:\n",
    "    fitCRV = fullCRVFromPDFModel(fitD[abbrev])\n",
    "    facLOSDF = lineDF[lineDF['NH CODE'] == abbrev]\n",
    "    display(facLOSDF.head())\n",
    "    plt.hist(facLOSDF['RAW LOS (days)'], range=(0,300), bins=300, label='valid line-list')\n",
    "    nLines = facLOSDF.count()['NH CODE']\n",
    "    pltCRV(fitCRV, scale=nLines/fitCRV.cdf(365.), label='result of fitting', xlim=300)\n",
    "    plt.legend()\n",
    "    plt.title('%s %s' % (abbrev, fitLOSModel['parms']))\n",
    "    plt.show()"
   ]
  },
  {
   "cell_type": "markdown",
   "metadata": {},
   "source": [
    "## Save the fit models ##"
   ]
  },
  {
   "cell_type": "code",
   "execution_count": null,
   "metadata": {
    "collapsed": false
   },
   "outputs": [],
   "source": [
    "orecL = []\n",
    "for abbrev, rec in fitD.items():\n",
    "    orec = {('parms{}'.format(i)) : v for i, v in enumerate(rec['parms'])}\n",
    "    orec.update({'abbrev': abbrev, 'pdf': rec['pdf'], 'nsamples': rec['nsamples'],\n",
    "                 'chisqr_per_sample': rec['chisqr_per_sample']})\n",
    "    orecL.append(orec)\n",
    "odf = pd.DataFrame(orecL)\n",
    "odf = odf.sort_values(['abbrev'], axis=0)\n",
    "odf.to_csv('los_model_fit_nh_split_fates.csv', index=False)"
   ]
  },
  {
   "cell_type": "markdown",
   "metadata": {},
   "source": [
    "## Analytical Model ##\n",
    "\n",
    "How do we map these fits into a partition between FRAIL and non-FRAIL patients?  The notion is that all patients are subject to the exponential term, which represents spontaneous problems requiring hospitalization.  Only non-FRAIL patients are subject to the lognorm term, which represents the completion of rehab and is followed by a return to the community."
   ]
  },
  {
   "cell_type": "markdown",
   "metadata": {},
   "source": [
    "$$\n",
    "P = \\lambda (\\alpha P_H + (1 - \\alpha)P_t) + (1 - \\lambda)P_t\n",
    "$$\n",
    "\n",
    "$$\n",
    "P = \\lambda \\alpha P_H + \\{ \\lambda (1-\\alpha) + (1 - \\lambda) \\} P_t\n",
    "$$\n",
    "\n",
    "$$\n",
    "\\hat{\\alpha} = \\lambda \\alpha \\\\\n",
    "1 - \\hat{\\alpha} = \\lambda (1-\\alpha) + (1 - \\lambda)\n",
    "$$\n",
    "\n",
    "* $P$ is total discharge probability for a patient (known)\n",
    "* $P_H$ is probability of discharge home (known)\n",
    "* $P_t$ is probability of transfer to another facility (known)\n",
    "* $N$ is total discharges per year (known)\n",
    "* $n$ is total transfers per year (known)\n",
    "* $\\lambda$ is the fraction *not* frail\n",
    "* $\\alpha$ is the weight of the lognormal term in the non-frail PDF\n",
    "* $\\hat{\\alpha}$ is the weight of the lognormal term in the overall PDF\n",
    "\n",
    "It looks like a perfectly valid solution is $\\lambda = a = \\sqrt{\\hat{a}}$ ."
   ]
  },
  {
   "cell_type": "code",
   "execution_count": null,
   "metadata": {
    "collapsed": false
   },
   "outputs": [],
   "source": [
    "for abbrev in ['NEWO']:\n",
    "    losModel = fitD[abbrev]\n",
    "    losCRV = fullCRVFromPDFModel(losModel)\n",
    "    homeLOSModel = {'parms': losModel['parms'][1:3], 'pdf': 'lognorm(mu=$0,sigma=$1)'}\n",
    "    homeCRV = fullCRVFromPDFModel(homeLOSModel)\n",
    "    transLOSModel = {'parms': losModel['parms'][3:], 'pdf': 'expon(lambda=$0)'}\n",
    "    transCRV = fullCRVFromPDFModel(transLOSModel)\n",
    "    facLOSDF = lineDF[lineDF['NH CODE'] == abbrev]\n",
    "    print 'a-hat: ', losModel['parms'][0:1]\n",
    "    print 'full: ', 1.0 - losCRV.cdf(365.)\n",
    "    print 'home: ', 1.0 - homeCRV.cdf(365.)\n",
    "    print 'trans: ', 1.0 - transCRV.cdf(365.)\n",
    "    ratio = float(facLOSDF[facLOSDF['RAW LOS (days)'] >= 365.].count()['NH CODE'])/float(facLOSDF.count()['NH CODE'])\n",
    "    print 'by count: ', ratio"
   ]
  },
  {
   "cell_type": "markdown",
   "metadata": {},
   "source": [
    "## Read and plot intervalprob values captured by JournalingCachedCDFGenerator ##"
   ]
  },
  {
   "cell_type": "code",
   "execution_count": null,
   "metadata": {
    "collapsed": false,
    "scrolled": false
   },
   "outputs": [],
   "source": [
    "simDF = pd.read_msgpack(pu.pathTranslate('$(SIMDIR)/cdf_intervalprob_results.mpz'))\n",
    "#display(simDF.head())\n",
    "for abbrev in simDF['abbrev'].unique():\n",
    "    print abbrev\n",
    "    df = simDF[simDF.abbrev == abbrev]\n",
    "    #display(df.head())\n",
    "    for pdf in df['pdf'].unique():\n",
    "        print pdf\n",
    "        subDF = df[df.pdf == pdf]\n",
    "        display(subDF.tail())\n",
    "        plt.plot(0.5*(subDF['start'] + subDF['end']), subDF['rslt'], '*', alpha=0.01, label=pdf)\n",
    "    plt.xlim(0.0, 300.0)\n",
    "    plt.title(abbrev)\n",
    "    plt.legend()\n",
    "    plt.show()\n",
    "    "
   ]
  },
  {
   "cell_type": "markdown",
   "metadata": {
    "collapsed": true
   },
   "source": [
    "## Some experiments in storing samples as yaml ##"
   ]
  },
  {
   "cell_type": "code",
   "execution_count": 65,
   "metadata": {
    "collapsed": false
   },
   "outputs": [
    {
     "name": "stdout",
     "output_type": "stream",
     "text": [
      "{1: 3, 2: 140, 3: 159, 4: 167, 5: 210, 6: 202, 7: 215, 8: 258, 9: 251, 10: 207, 11: 220, 12: 213, 13: 183, 14: 184, 15: 169, 16: 130, 17: 131, 18: 116, 19: 114, 20: 107, 21: 97, 22: 112, 23: 97, 24: 80, 25: 76, 26: 66, 27: 68, 28: 57, 29: 54, 30: 63, 31: 53, 32: 49, 33: 36, 34: 35, 35: 29, 36: 34, 518: 1, 38: 30, 39: 41, 40: 26, 41: 30, 42: 29, 43: 20, 44: 22, 45: 24, 46: 16, 47: 14, 48: 13, 520: 1, 50: 13, 51: 17, 52: 14, 53: 9, 54: 15, 55: 17, 56: 13, 57: 9, 58: 12, 59: 5, 60: 9, 61: 5, 62: 7, 63: 11, 64: 9, 65: 5, 66: 10, 67: 9, 1025: 1, 69: 5, 70: 7, 71: 7, 72: 9, 73: 6, 74: 5, 75: 4, 588: 1, 77: 5, 78: 8, 79: 5, 80: 4, 81: 4, 82: 1, 83: 2, 84: 3, 85: 5, 86: 2, 87: 2, 88: 5, 89: 4, 90: 4, 1551: 1, 604: 1, 605: 1, 606: 1, 95: 2, 96: 3, 97: 3, 98: 4, 99: 4, 100: 2, 101: 5, 103: 3, 104: 1, 105: 1, 1127: 1, 108: 3, 109: 1, 110: 3, 111: 1, 112: 3, 113: 1, 115: 3, 117: 1, 119: 3, 120: 1, 121: 2, 122: 2, 123: 2, 124: 2, 125: 1, 126: 1, 128: 1, 129: 1, 1154: 1, 131: 1, 133: 3, 134: 1, 135: 1, 137: 1, 139: 1, 140: 3, 144: 3, 147: 1, 149: 2, 151: 2, 153: 1, 1180: 1, 159: 1, 2051: 1, 161: 3, 1701: 1, 167: 1, 680: 1, 169: 1, 171: 1, 684: 1, 173: 2, 174: 2, 176: 1, 91: 6, 179: 2, 180: 1, 187: 1, 189: 2, 2052: 1, 191: 2, 198: 2, 1735: 1, 3272: 1, 201: 2, 202: 1, 204: 1, 206: 1, 207: 1, 92: 5, 376: 1, 212: 1, 718: 1, 728: 1, 217: 1, 220: 1, 221: 1, 222: 1, 37: 33, 226: 1, 4838: 1, 233: 1, 234: 1, 240: 1, 552: 1, 242: 1, 245: 1, 1270: 1, 690: 1, 2298: 1, 252: 1, 255: 1, 1794: 1, 259: 1, 1289: 1, 266: 1, 94: 4, 130: 1, 270: 1, 271: 1, 272: 2, 787: 1, 1070: 1, 279: 1, 265: 1, 292: 1, 49: 20, 296: 1, 297: 1, 302: 1, 303: 1, 308: 1, 312: 1, 564: 1, 735: 1, 316: 1, 566: 2, 1164: 1, 567: 1, 332: 1, 1358: 1, 847: 1, 284: 1, 569: 1, 344: 1, 346: 2, 347: 1, 199: 1, 352: 1, 357: 1, 359: 1, 361: 1, 365: 1, 1052: 1, 573: 1, 370: 1, 888: 1, 381: 1, 382: 1, 900: 2, 401: 1, 916: 1, 68: 7, 415: 1, 417: 1, 422: 1, 423: 1, 156: 1, 427: 1, 436: 1, 521: 1, 439: 1, 1465: 1, 448: 1, 961: 1, 963: 1, 2806: 1, 76: 5, 247: 3, 463: 1, 470: 1, 482: 1, 484: 1, 535: 1, 1004: 1, 168: 2, 596: 1, 1020: 1}\n"
     ]
    }
   ],
   "source": [
    "from collections import defaultdict\n",
    "facLOSDF = lineDF[lineDF['NH CODE'] == 'NEWO']\n",
    "sampDF = facLOSDF['RAW LOS (days)']\n",
    "dct = defaultdict(int)\n",
    "for elt in sampDF:\n",
    "    dct[elt] += 1\n",
    "dct = {k: v for k, v in dct.items()}\n",
    "print dct\n",
    "\n",
    "   "
   ]
  },
  {
   "cell_type": "code",
   "execution_count": 66,
   "metadata": {
    "collapsed": false
   },
   "outputs": [
    {
     "name": "stdout",
     "output_type": "stream",
     "text": [
      "length:  2623\n",
      "{\"1\": 3, \"2\": 140, \"3\": 159, \"4\": 167, \"5\": 210, \"6\": 202, \"7\": 215, \"8\": 258, \"9\": 251, \"10\": 207, \"11\": 220, \"12\": 213, \"13\": 183, \"14\": 184, \"15\": 169, \"16\": 130, \"17\": 131, \"18\": 116, \"19\": 114, \"20\": 107, \"21\": 97, \"22\": 112, \"23\": 97, \"24\": 80, \"25\": 76, \"26\": 66, \"27\": 68, \"28\": 57, \"29\": 54, \"30\": 63, \"31\": 53, \"32\": 49, \"33\": 36, \"34\": 35, \"35\": 29, \"36\": 34, \"518\": 1, \"38\": 30, \"39\": 41, \"40\": 26, \"41\": 30, \"42\": 29, \"43\": 20, \"44\": 22, \"45\": 24, \"46\": 16, \"47\": 14, \"48\": 13, \"520\": 1, \"50\": 13, \"51\": 17, \"52\": 14, \"53\": 9, \"54\": 15, \"55\": 17, \"56\": 13, \"57\": 9, \"58\": 12, \"59\": 5, \"60\": 9, \"61\": 5, \"62\": 7, \"63\": 11, \"64\": 9, \"65\": 5, \"66\": 10, \"67\": 9, \"1025\": 1, \"69\": 5, \"70\": 7, \"71\": 7, \"72\": 9, \"73\": 6, \"74\": 5, \"75\": 4, \"588\": 1, \"77\": 5, \"78\": 8, \"79\": 5, \"80\": 4, \"81\": 4, \"82\": 1, \"83\": 2, \"84\": 3, \"85\": 5, \"86\": 2, \"87\": 2, \"88\": 5, \"89\": 4, \"90\": 4, \"1551\": 1, \"604\": 1, \"605\": 1, \"606\": 1, \"95\": 2, \"96\": 3, \"97\": 3, \"98\": 4, \"99\": 4, \"100\": 2, \"101\": 5, \"103\": 3, \"104\": 1, \"105\": 1, \"1127\": 1, \"108\": 3, \"109\": 1, \"110\": 3, \"111\": 1, \"112\": 3, \"113\": 1, \"115\": 3, \"117\": 1, \"119\": 3, \"120\": 1, \"121\": 2, \"122\": 2, \"123\": 2, \"124\": 2, \"125\": 1, \"126\": 1, \"128\": 1, \"129\": 1, \"1154\": 1, \"131\": 1, \"133\": 3, \"134\": 1, \"135\": 1, \"137\": 1, \"139\": 1, \"140\": 3, \"144\": 3, \"147\": 1, \"149\": 2, \"151\": 2, \"153\": 1, \"1180\": 1, \"159\": 1, \"2051\": 1, \"161\": 3, \"1701\": 1, \"167\": 1, \"680\": 1, \"169\": 1, \"171\": 1, \"684\": 1, \"173\": 2, \"174\": 2, \"176\": 1, \"91\": 6, \"179\": 2, \"180\": 1, \"187\": 1, \"189\": 2, \"2052\": 1, \"191\": 2, \"198\": 2, \"1735\": 1, \"3272\": 1, \"201\": 2, \"202\": 1, \"204\": 1, \"206\": 1, \"207\": 1, \"92\": 5, \"376\": 1, \"212\": 1, \"718\": 1, \"728\": 1, \"217\": 1, \"220\": 1, \"221\": 1, \"222\": 1, \"37\": 33, \"226\": 1, \"4838\": 1, \"233\": 1, \"234\": 1, \"240\": 1, \"552\": 1, \"242\": 1, \"245\": 1, \"1270\": 1, \"690\": 1, \"2298\": 1, \"252\": 1, \"255\": 1, \"1794\": 1, \"259\": 1, \"1289\": 1, \"266\": 1, \"94\": 4, \"130\": 1, \"270\": 1, \"271\": 1, \"272\": 2, \"787\": 1, \"1070\": 1, \"279\": 1, \"265\": 1, \"292\": 1, \"49\": 20, \"296\": 1, \"297\": 1, \"302\": 1, \"303\": 1, \"308\": 1, \"312\": 1, \"564\": 1, \"735\": 1, \"316\": 1, \"566\": 2, \"1164\": 1, \"567\": 1, \"332\": 1, \"1358\": 1, \"847\": 1, \"284\": 1, \"569\": 1, \"344\": 1, \"346\": 2, \"347\": 1, \"199\": 1, \"352\": 1, \"357\": 1, \"359\": 1, \"361\": 1, \"365\": 1, \"1052\": 1, \"573\": 1, \"370\": 1, \"888\": 1, \"381\": 1, \"382\": 1, \"900\": 2, \"401\": 1, \"916\": 1, \"68\": 7, \"415\": 1, \"417\": 1, \"422\": 1, \"423\": 1, \"156\": 1, \"427\": 1, \"436\": 1, \"521\": 1, \"439\": 1, \"1465\": 1, \"448\": 1, \"961\": 1, \"963\": 1, \"2806\": 1, \"76\": 5, \"247\": 3, \"463\": 1, \"470\": 1, \"482\": 1, \"484\": 1, \"535\": 1, \"1004\": 1, \"168\": 2, \"596\": 1, \"1020\": 1}\n"
     ]
    }
   ],
   "source": [
    "#shortHS = pd.Series(losHV)\n",
    "mystr = json.dumps(dct)\n",
    "print 'length: ', len(mystr)\n",
    "print mystr\n"
   ]
  },
  {
   "cell_type": "code",
   "execution_count": 69,
   "metadata": {
    "collapsed": false
   },
   "outputs": [
    {
     "name": "stdout",
     "output_type": "stream",
     "text": [
      "4838\n",
      "{1025: 1, 2: 140, 3: 159, 4: 167, 5: 210, 518: 1, 7: 215, 8: 258, 521: 1, 10: 207, 11: 220, 12: 213, 13: 183, 14: 184, 1551: 1, 16: 130, 17: 131, 18: 116, 2051: 1, 20: 107, 21: 97, 22: 112, 23: 97, 24: 80, 25: 76, 26: 66, 27: 68, 28: 57, 29: 54, 30: 63, 31: 53, 32: 49, 33: 36, 34: 35, 35: 29, 36: 34, 37: 33, 38: 30, 39: 41, 552: 1, 604: 1, 42: 29, 43: 20, 44: 22, 45: 24, 1070: 1, 47: 14, 48: 13, 520: 1, 50: 13, 51: 17, 52: 14, 53: 9, 54: 15, 55: 17, 56: 13, 57: 9, 58: 12, 59: 5, 60: 9, 573: 1, 62: 7, 63: 11, 64: 9, 65: 5, 66: 10, 67: 9, 68: 7, 69: 5, 70: 7, 71: 7, 72: 9, 73: 6, 74: 5, 75: 4, 588: 1, 77: 5, 78: 8, 79: 5, 80: 4, 81: 4, 82: 1, 83: 2, 596: 1, 85: 5, 86: 2, 87: 2, 88: 5, 89: 4, 90: 4, 91: 6, 92: 5, 605: 1, 94: 4, 95: 2, 96: 3, 97: 3, 98: 4, 99: 4, 100: 2, 101: 5, 1127: 1, 104: 1, 105: 1, 103: 3, 108: 3, 109: 1, 110: 3, 111: 1, 112: 3, 113: 1, 115: 3, 117: 1, 119: 3, 120: 1, 121: 2, 122: 2, 123: 2, 124: 2, 125: 1, 126: 1, 128: 1, 129: 1, 130: 1, 131: 1, 133: 3, 134: 1, 135: 1, 137: 1, 139: 1, 1164: 1, 144: 3, 147: 1, 149: 2, 151: 2, 153: 1, 1180: 1, 159: 1, 161: 3, 1701: 1, 167: 1, 168: 2, 169: 1, 171: 1, 684: 1, 173: 2, 174: 2, 176: 1, 3272: 1, 690: 1, 179: 2, 180: 1, 1: 3, 206: 1, 6: 202, 187: 1, 189: 2, 2052: 1, 191: 2, 198: 2, 199: 1, 535: 1, 201: 2, 202: 1, 204: 1, 718: 1, 207: 1, 888: 1, 212: 1, 41: 30, 728: 1, 217: 1, 220: 1, 221: 1, 222: 1, 735: 1, 226: 1, 4838: 1, 1289: 1, 233: 1, 234: 1, 240: 1, 40: 26, 242: 1, 245: 1, 2806: 1, 247: 3, 2298: 1, 252: 1, 255: 1, 1794: 1, 259: 1, 265: 1, 266: 1, 1154: 1, 270: 1, 271: 1, 272: 2, 787: 1, 9: 251, 46: 16, 279: 1, 284: 1, 292: 1, 49: 20, 296: 1, 297: 1, 302: 1, 303: 1, 308: 1, 312: 1, 564: 1, 316: 1, 19: 114, 566: 2, 140: 3, 567: 1, 332: 1, 1358: 1, 847: 1, 569: 1, 344: 1, 346: 2, 347: 1, 352: 1, 357: 1, 359: 1, 361: 1, 365: 1, 1052: 1, 61: 5, 370: 1, 376: 1, 381: 1, 382: 1, 900: 2, 606: 1, 1735: 1, 401: 1, 916: 1, 415: 1, 417: 1, 422: 1, 423: 1, 156: 1, 427: 1, 436: 1, 439: 1, 1465: 1, 448: 1, 961: 1, 963: 1, 1270: 1, 15: 169, 76: 5, 463: 1, 470: 1, 482: 1, 484: 1, 1004: 1, 680: 1, 84: 3, 1020: 1}\n"
     ]
    }
   ],
   "source": [
    "import json\n",
    "dct = json.loads(mystr)\n",
    "idct = {}\n",
    "maxK = 0\n",
    "for k, v in dct.items():\n",
    "    ik = int(k)\n",
    "    idct[ik] = v\n",
    "    maxK = max(maxK, ik)\n",
    "print maxK\n",
    "print idct\n"
   ]
  },
  {
   "cell_type": "code",
   "execution_count": 72,
   "metadata": {
    "collapsed": false
   },
   "outputs": [
    {
     "name": "stdout",
     "output_type": "stream",
     "text": [
      "4839\n",
      "[  0   3 140 ...   0   0   1]\n"
     ]
    }
   ],
   "source": [
    "arr = np.zeros(maxK+1, dtype=np.int)\n",
    "for k, v in idct.items():\n",
    "    arr[k] = v\n",
    "print len(arr)\n",
    "print arr"
   ]
  },
  {
   "cell_type": "code",
   "execution_count": 74,
   "metadata": {
    "collapsed": false
   },
   "outputs": [
    {
     "name": "stdout",
     "output_type": "stream",
     "text": [
      "4839\n",
      "[   0    3  143 ... 5241 5241 5242]\n"
     ]
    }
   ],
   "source": [
    "sumArr = np.cumsum(arr)\n",
    "print len(sumArr)\n",
    "print sumArr"
   ]
  },
  {
   "cell_type": "code",
   "execution_count": 75,
   "metadata": {
    "collapsed": true
   },
   "outputs": [],
   "source": [
    "def intervalprob(day, sumArr):\n",
    "    if day < len(sumArr):\n",
    "        prevCt = 0 if day == 0 else sumArr[day-1]\n",
    "        delta = sumArr[day] - prevCt\n",
    "    else:\n",
    "        prevCt = 0\n",
    "        delta = 0\n",
    "    return float(delta) / float(sumArr[-1] - prevCt)"
   ]
  },
  {
   "cell_type": "code",
   "execution_count": 76,
   "metadata": {
    "collapsed": false
   },
   "outputs": [
    {
     "name": "stdout",
     "output_type": "stream",
     "text": [
      "0.0385064177363\n"
     ]
    }
   ],
   "source": [
    "print intervalprob(37, sumArr)"
   ]
  },
  {
   "cell_type": "code",
   "execution_count": 83,
   "metadata": {
    "collapsed": false
   },
   "outputs": [
    {
     "data": {
      "image/png": "[encoded data removed]",
      "text/plain": [
       "<Figure size 576x360 with 1 Axes>"
      ]
     },
     "metadata": {},
     "output_type": "display_data"
    }
   ],
   "source": [
    "xV = np.arange(0.0, 300.0, 1.0)\n",
    "yV = [intervalprob(int(x), sumArr) for x in xV]\n",
    "plt.plot(xV, yV, '-')\n",
    "plt.show()"
   ]
  },
  {
   "cell_type": "code",
   "execution_count": null,
   "metadata": {
    "collapsed": true
   },
   "outputs": [],
   "source": []
  }
 ],
 "metadata": {
  "kernelspec": {
   "display_name": "Python2 (myenv)",
   "language": "python",
   "name": "myenv"
  },
  "language_info": {
   "codemirror_mode": {
    "name": "ipython",
    "version": 2
   },
   "file_extension": ".py",
   "mimetype": "text/x-python",
   "name": "python",
   "nbconvert_exporter": "python",
   "pygments_lexer": "ipython2",
   "version": "2.7.12"
  }
 },
 "nbformat": 4,
 "nbformat_minor": 2
}
