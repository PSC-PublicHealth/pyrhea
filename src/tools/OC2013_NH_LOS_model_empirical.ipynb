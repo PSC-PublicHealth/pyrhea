{
 "cells": [
  {
   "cell_type": "markdown",
   "metadata": {},
   "source": [
    "## This notebook generates LOS models for NH facilityfacts files ##"
   ]
  },
  {
   "cell_type": "code",
   "execution_count": null,
   "metadata": {
    "collapsed": false
   },
   "outputs": [],
   "source": [
    "import os\n",
    "from collections import defaultdict\n",
    "import pandas as pd\n",
    "from IPython.display import display, HTML\n",
    "import numpy as np\n",
    "import matplotlib.pyplot as plt\n",
    "from scipy.stats import expon, lognorm\n",
    "import scipy.optimize as op\n",
    "from stats import fullCRVFromPDFModel, CachedCDFGenerator\n",
    "import tools_util as tu\n",
    "import pyrheautils as pu\n",
    "import phacsl.utils.formats.yaml_tools as yaml_tools\n",
    "import json\n"
   ]
  },
  {
   "cell_type": "markdown",
   "metadata": {},
   "source": [
    "## Load the model ##"
   ]
  },
  {
   "cell_type": "code",
   "execution_count": null,
   "metadata": {
    "collapsed": false
   },
   "outputs": [],
   "source": [
    "runDesc = '/home/welling/git/pyRHEA_github/src/sim/twoyear_allfac_OC.yaml'\n",
    "inputDict = tu.readModelInputs(runDesc)\n",
    "pu.prepPathTranslations(inputDict)\n",
    "facDict = tu.getFacDict(inputDict)\n"
   ]
  },
  {
   "cell_type": "markdown",
   "metadata": {},
   "source": [
    "## Load the line list data ##"
   ]
  },
  {
   "cell_type": "code",
   "execution_count": null,
   "metadata": {
    "collapsed": false
   },
   "outputs": [],
   "source": [
    "lineFName = 'OC_Nursing_Home_LOS_Line-Lists_for_RHEA_2.0_-_2011-2015_-_Adult_Only_-_06-10-2019_UPDATE_NH_LOS_Line_List.csv'\n",
    "#                                      'OC_Nursing_Home_LOS_Line-Lists_for_RHEA_2.0_-_2011-2015_-_Adult_Only_-_05-21-2019_UPDATE_v2_NH_LOS_Line_List.csv'))\n",
    "lineDF = pd.read_csv(pu.pathTranslate('$(MODELDIR)/%s' % lineFName))\n",
    "\n",
    "print lineDF.columns\n",
    "lineDF = lineDF[lineDF['NOT YET DISCHARGED?'].isnull()]\n",
    "display(lineDF.head())"
   ]
  },
  {
   "cell_type": "markdown",
   "metadata": {},
   "source": [
    "## Some Useful Functions ##\n",
    "\n",
    "Also, make the plots big enough to see"
   ]
  },
  {
   "cell_type": "code",
   "execution_count": null,
   "metadata": {
    "collapsed": true
   },
   "outputs": [],
   "source": [
    "%config InlineBackend.print_figure_kwargs = {'bbox_inches':None}\n",
    "#plt.rcParams[\"figure.figsize\"] = [16, 10]\n",
    "plt.rcParams[\"figure.figsize\"] = [8, 5]"
   ]
  },
  {
   "cell_type": "code",
   "execution_count": null,
   "metadata": {
    "collapsed": true
   },
   "outputs": [],
   "source": [
    "def pltCRV(crv, scale=1.0, label=None, xlim=None):\n",
    "    mv = crv.mean()\n",
    "    if xlim is None:\n",
    "        xV = np.linspace(0.0, round(3*mv), 101)\n",
    "    else:\n",
    "        xV = np.linspace(0.0, xlim, 101)\n",
    "    yV = scale * crv.pdf(xV)\n",
    "    if label is None:\n",
    "        plt.plot(xV, yV, '-')\n",
    "    else:\n",
    "        plt.plot(xV, yV, '-', label=label)\n",
    "    if xlim is None or mv <= xlim:\n",
    "        plt.plot([mv], [0.0], '*')\n",
    "    print mv\n"
   ]
  },
  {
   "cell_type": "code",
   "execution_count": null,
   "metadata": {
    "collapsed": false
   },
   "outputs": [],
   "source": [
    "%config InlineBackend.print_figure_kwargs = {'bbox_inches':None}\n",
    "%matplotlib inline\n",
    "plt.rcParams[\"figure.figsize\"] = [16, 10]\n",
    "\n",
    "showL = np.random.choice([abbrev for abbrev, rec in facDict.items() if rec['category'] == 'NURSINGHOME'], size=5)\n",
    "print showL\n",
    "for abbrev in showL:\n",
    "    facLOSDF = lineDF[lineDF['NH CODE'] == abbrev]\n",
    "    histoD = defaultdict(int)\n",
    "    for idx, row in facLOSDF.iterrows():\n",
    "        los = int(row['ADJUSTED LOS (days)'])\n",
    "        histoD[los] += 1\n",
    "    losModel = {'pdf': 'empirical(loc=$0,scale=$1)',\n",
    "               'prov': 'experiment',\n",
    "               'parms': [0.0, 1.0],\n",
    "               'sampleHistogram': histoD}\n",
    "    crv = fullCRVFromPDFModel(losModel)\n",
    "    plt.hist(facLOSDF['RAW LOS (days)'], range=(0,300), bins=300, label='adjusted line-list')\n",
    "    nLines = facLOSDF.count()['NH CODE']\n",
    "    pltCRV(crv, scale=nLines/crv.cdf(365.), label='empirical pdf', xlim=300)\n",
    "    plt.legend()\n",
    "    #plt.title('%s %s' % (abbrev, fitLOSModel['parms']))\n",
    "    plt.title('%s samples and empirical pdf' % abbrev)\n",
    "    plt.show()\n"
   ]
  },
  {
   "cell_type": "code",
   "execution_count": null,
   "metadata": {
    "collapsed": false
   },
   "outputs": [],
   "source": [
    "plt.rcParams[\"figure.figsize\"] = [16, 10]\n",
    "\n",
    "for abbrev in showL:\n",
    "    facLOSDF = lineDF[lineDF['NH CODE'] == abbrev]\n",
    "    histoD = defaultdict(int)\n",
    "    for idx, row in facLOSDF.iterrows():\n",
    "        los = int(row['ADJUSTED LOS (days)'])\n",
    "        histoD[los] += 1\n",
    "    losModel = {'pdf': 'empirical(loc=$0,scale=$1)',\n",
    "               'prov': 'experiment',\n",
    "               'parms': [0.0, 1.0],\n",
    "               'sampleHistogram': histoD}\n",
    "    crv = fullCRVFromPDFModel(losModel)\n",
    "    nsamps = 1000\n",
    "    plt.hist(crv.rvs(size=nsamps), range=(0,300), bins=300, label='drawn samples')\n",
    "    pltCRV(crv, scale=nsamps/crv.cdf(365.), label='empirical pdf', xlim=300)\n",
    "    plt.legend()\n",
    "    #plt.title('%s %s' % (abbrev, fitLOSModel['parms']))\n",
    "    plt.title('%s empirical pdf and samples drawn from empirical distribution' % abbrev)\n",
    "    plt.show()\n"
   ]
  },
  {
   "cell_type": "code",
   "execution_count": null,
   "metadata": {
    "collapsed": false
   },
   "outputs": [],
   "source": [
    "plt.rcParams[\"figure.figsize\"] = [16, 2]\n",
    "showL = ['STAN']\n",
    "\n",
    "for abbrev in showL:\n",
    "    facLOSDF = lineDF[lineDF['NH CODE'] == abbrev]\n",
    "    histoD = defaultdict(int)\n",
    "    for idx, row in facLOSDF.iterrows():\n",
    "        los = int(row['ADJUSTED LOS (days)'])\n",
    "        histoD[los] += 1\n",
    "    losModel = {'pdf': 'empirical(loc=$0,scale=$1)',\n",
    "               'prov': 'experiment',\n",
    "               'parms': [0.0, 1.0],\n",
    "               'sampleHistogram': histoD}\n",
    "    crv = fullCRVFromPDFModel(losModel)\n",
    "    nsamps = 1000\n",
    "    plt.hist(crv.rvs(size=nsamps), range=(0,200), bins=300, label='drawn samples')\n",
    "    pltCRV(crv, scale=nsamps/crv.cdf(365.), label='empirical pdf', xlim=200)\n",
    "    plt.legend()\n",
    "    #plt.title('%s %s' % (abbrev, fitLOSModel['parms']))\n",
    "    plt.title('%s empirical pdf and samples drawn from empirical distribution' % abbrev)\n",
    "    plt.show()\n"
   ]
  },
  {
   "cell_type": "markdown",
   "metadata": {},
   "source": [
    "## Save the empirical models ##"
   ]
  },
  {
   "cell_type": "code",
   "execution_count": null,
   "metadata": {
    "collapsed": false
   },
   "outputs": [],
   "source": [
    "newFacDict = {}\n",
    "for fac, rec in facDict.items():\n",
    "    if rec['category'] == 'NURSINGHOME':\n",
    "        print 'processing %s' % fac\n",
    "        facLOSDF = lineDF[lineDF['NH CODE'] == abbrev]\n",
    "        histoD = defaultdict(int)\n",
    "        for idx, row in facLOSDF.iterrows():\n",
    "            los = int(row['ADJUSTED LOS (days)'])\n",
    "            histoD[los] += 1\n",
    "        histoD = {str(k) : v for k, v in histoD.items()} # get rid of defaultdict, use strings as keys\n",
    "        losModel = {'pdf': 'empirical(loc=$0,scale=$1)',\n",
    "                   'prov': 'empirical based on %s' % lineFName,\n",
    "                   'parms': [0.0, 1.0],\n",
    "                   'sampleHistogram': histoD}\n",
    "        newRec = rec.copy()\n",
    "        newRec['losModel'] = losModel\n",
    "        newFacDict[fac] = newRec\n",
    "\n",
    "outDir = pu.pathTranslate('$(MODELDIR)/facilityfactsUpdated')\n",
    "print 'writing yaml files to %s' % outDir\n",
    "yaml_tools.save_all(outDir, newFacDict.values())"
   ]
  },
  {
   "cell_type": "markdown",
   "metadata": {},
   "source": [
    "## Read and plot intervalprob values captured by JournalingCachedCDFGenerator ##"
   ]
  },
  {
   "cell_type": "code",
   "execution_count": null,
   "metadata": {
    "collapsed": false,
    "scrolled": false
   },
   "outputs": [],
   "source": [
    "simDF = pd.read_msgpack(pu.pathTranslate('$(SIMDIR)/cdf_intervalprob_results.mpz'))\n",
    "#display(simDF.head())\n",
    "for abbrev in simDF['abbrev'].unique():\n",
    "    print abbrev\n",
    "    df = simDF[simDF.abbrev == abbrev]\n",
    "    #display(df.head())\n",
    "    for pdf in df['pdf'].unique():\n",
    "        print pdf\n",
    "        subDF = df[df.pdf == pdf]\n",
    "        display(subDF.tail())\n",
    "        plt.plot(0.5*(subDF['start'] + subDF['end']), subDF['rslt'], '*', alpha=0.01, label=pdf)\n",
    "    plt.xlim(0.0, 300.0)\n",
    "    plt.title(abbrev)\n",
    "    plt.legend()\n",
    "    plt.show()\n",
    "    "
   ]
  },
  {
   "cell_type": "markdown",
   "metadata": {
    "collapsed": true
   },
   "source": [
    "## Some experiments in storing samples as yaml ##"
   ]
  },
  {
   "cell_type": "code",
   "execution_count": null,
   "metadata": {
    "collapsed": false
   },
   "outputs": [],
   "source": [
    "from collections import defaultdict\n",
    "facLOSDF = lineDF[lineDF['NH CODE'] == 'NEWO']\n",
    "sampDF = facLOSDF['RAW LOS (days)']\n",
    "dct = defaultdict(int)\n",
    "for elt in sampDF:\n",
    "    dct[elt] += 1\n",
    "dct = {k: v for k, v in dct.items()}\n",
    "print dct\n",
    "\n",
    "   "
   ]
  },
  {
   "cell_type": "code",
   "execution_count": null,
   "metadata": {
    "collapsed": false
   },
   "outputs": [],
   "source": [
    "#shortHS = pd.Series(losHV)\n",
    "mystr = json.dumps(dct)\n",
    "print 'length: ', len(mystr)\n",
    "print mystr\n"
   ]
  },
  {
   "cell_type": "code",
   "execution_count": null,
   "metadata": {
    "collapsed": false
   },
   "outputs": [],
   "source": [
    "import json\n",
    "dct = json.loads(mystr)\n",
    "idct = {}\n",
    "maxK = 0\n",
    "for k, v in dct.items():\n",
    "    ik = int(k)\n",
    "    idct[ik] = v\n",
    "    maxK = max(maxK, ik)\n",
    "print maxK\n",
    "print idct\n"
   ]
  },
  {
   "cell_type": "code",
   "execution_count": null,
   "metadata": {
    "collapsed": false
   },
   "outputs": [],
   "source": [
    "arr = np.zeros(maxK+1, dtype=np.int)\n",
    "for k, v in idct.items():\n",
    "    arr[k] = v\n",
    "print len(arr)\n",
    "print arr"
   ]
  },
  {
   "cell_type": "code",
   "execution_count": null,
   "metadata": {
    "collapsed": false
   },
   "outputs": [],
   "source": [
    "sumArr = np.cumsum(arr)\n",
    "print len(sumArr)\n",
    "print sumArr"
   ]
  },
  {
   "cell_type": "code",
   "execution_count": null,
   "metadata": {
    "collapsed": true
   },
   "outputs": [],
   "source": [
    "def intervalprob(day, sumArr):\n",
    "    if day < len(sumArr):\n",
    "        prevCt = 0 if day == 0 else sumArr[day-1]\n",
    "        delta = sumArr[day] - prevCt\n",
    "    else:\n",
    "        prevCt = 0\n",
    "        delta = 0\n",
    "    return float(delta) / float(sumArr[-1] - prevCt)"
   ]
  },
  {
   "cell_type": "code",
   "execution_count": null,
   "metadata": {
    "collapsed": false
   },
   "outputs": [],
   "source": [
    "print intervalprob(37, sumArr)"
   ]
  },
  {
   "cell_type": "code",
   "execution_count": null,
   "metadata": {
    "collapsed": false
   },
   "outputs": [],
   "source": [
    "xV = np.arange(0.0, 300.0, 1.0)\n",
    "yV = [intervalprob(int(x), sumArr) for x in xV]\n",
    "plt.plot(xV, yV, '-')\n",
    "plt.show()"
   ]
  },
  {
   "cell_type": "code",
   "execution_count": null,
   "metadata": {
    "collapsed": false
   },
   "outputs": [],
   "source": [
    "import pickle\n",
    "dct = {(abbrev, 'NURSING'): rec['meanPop']['value'] for abbrev, rec in facDict.items() if rec['category']=='NURSINGHOME'}\n",
    "with open('/home/welling/git/pyRHEA_github/src/sim/oc_expected_pop.pkl', 'w') as f:\n",
    "    pickle.dump(dct,f)"
   ]
  },
  {
   "cell_type": "code",
   "execution_count": null,
   "metadata": {
    "collapsed": false
   },
   "outputs": [],
   "source": [
    "lst = [(rec['meanLOS']['value'], rec['abbrev']) for rec in facDict.values() if rec['category'] == 'NURSINGHOME']\n",
    "lst = lst[:]\n",
    "lst.sort()\n",
    "print lst"
   ]
  },
  {
   "cell_type": "code",
   "execution_count": null,
   "metadata": {
    "collapsed": false
   },
   "outputs": [],
   "source": [
    "\n"
   ]
  },
  {
   "cell_type": "code",
   "execution_count": null,
   "metadata": {
    "collapsed": true
   },
   "outputs": [],
   "source": []
  }
 ],
 "metadata": {
  "kernelspec": {
   "display_name": "Python2 (myenv)",
   "language": "python",
   "name": "myenv"
  },
  "language_info": {
   "codemirror_mode": {
    "name": "ipython",
    "version": 2
   },
   "file_extension": ".py",
   "mimetype": "text/x-python",
   "name": "python",
   "nbconvert_exporter": "python",
   "pygments_lexer": "ipython2",
   "version": "2.7.12"
  }
 },
 "nbformat": 4,
 "nbformat_minor": 2
}
