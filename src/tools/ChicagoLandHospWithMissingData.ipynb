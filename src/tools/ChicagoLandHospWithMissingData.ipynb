{
 "cells": [
  {
   "cell_type": "code",
   "execution_count": 1,
   "metadata": {
    "collapsed": false
   },
   "outputs": [],
   "source": [
    "import os.path\n",
    "import types\n",
    "import math\n",
    "import yaml\n",
    "import phacsl.utils.formats.csv_tools as csv_tools\n",
    "import phacsl.utils.formats.yaml_tools as yaml_tools\n",
    "\n",
    "%matplotlib inline\n",
    "\n",
    "import matplotlib\n",
    "import numpy as np\n",
    "import matplotlib.pyplot as plt\n",
    "from scipy import stats, optimize\n",
    "\n",
    "def loadCSVByAbbrev(modelDir, fname, key=None):\n",
    "    if key is None:\n",
    "        key = 'abbrev'\n",
    "    fullName = os.path.join(modelDir, fname)\n",
    "    with open(fullName) as fl:\n",
    "        keys, recs = csv_tools.parseCSV(fl)\n",
    "    assert key in keys, ('%s has no \"%s\" field' % (fullName, key))\n",
    "    return {rec[key]: rec for rec in recs}\n",
    "\n",
    "def typeCheck(val):\n",
    "    return (type(val) in [types.FloatType, types.IntType]) \n",
    "\n",
    "modelDir = '/home/welling/git/pyrhea/models/ChicagoLand'\n",
    "\n",
    "allKeySet, recs = yaml_tools.parse_all(os.path.join(modelDir, 'facilityfacts'))\n",
    "facDict = {r['abbrev']:r for r in recs}\n",
    "\n",
    "kL, uRecs = yaml_tools.parse_all(os.path.join(modelDir, 'facilityfactsUpdated'))\n",
    "updatedFacDict= {r['abbrev']:r for r in uRecs}\n"
   ]
  },
  {
   "cell_type": "code",
   "execution_count": 2,
   "metadata": {
    "collapsed": false
   },
   "outputs": [],
   "source": [
    "isHospital = [k for k, rec in facDict.items() if rec['category']=='HOSPITAL']\n"
   ]
  },
  {
   "cell_type": "code",
   "execution_count": 46,
   "metadata": {
    "collapsed": false
   },
   "outputs": [],
   "source": [
    "def getVal(abbrev, key):\n",
    "    if key == 'totalTransfersOut':\n",
    "        if key in facDict[abbrev]:\n",
    "            return sum([d['count']['value'] for d in facDict[abbrev][key]])\n",
    "        else:\n",
    "            return None\n",
    "    else:\n",
    "        if key in facDict[abbrev]:\n",
    "            return float(facDict[abbrev][key]['value'])\n",
    "        else:\n",
    "            return None\n",
    "\n",
    "def checkPairValid(val, prov):\n",
    "    for s in ['average', 'median', 'regression', 'slope']:\n",
    "        if s in prov.lower():\n",
    "            return False\n",
    "    if val == 0:\n",
    "        return False\n",
    "    return True\n",
    "    \n",
    "def checkValid(abbrev, key):\n",
    "    if key == 'totalTransfersOut':\n",
    "        for hook in facDict[abbrev][key]:\n",
    "            if not checkPairValid(hook['value'], hook['prov']):\n",
    "                return False\n",
    "        return True\n",
    "    else:\n",
    "        hook = facDict[abbrev][key]\n",
    "        return checkPairValid(hook['value'], hook['prov'])\n"
   ]
  },
  {
   "cell_type": "code",
   "execution_count": 4,
   "metadata": {
    "collapsed": false
   },
   "outputs": [],
   "source": [
    "def findThoseWith(key):\n",
    "    if key == 'totalTransfersOut':\n",
    "        return [k for k in isHospital if key in facDict[k]]\n",
    "    else:\n",
    "        return [k for k in isHospital if key in facDict[k] and typeCheck(facDict[k][key]['value'])]\n"
   ]
  },
  {
   "cell_type": "code",
   "execution_count": 5,
   "metadata": {
    "collapsed": false
   },
   "outputs": [],
   "source": [
    "def findThoseWithout(key):\n",
    "    l = findThoseWith(key)\n",
    "    return [k for k in isHospital if k not in l]"
   ]
  },
  {
   "cell_type": "code",
   "execution_count": 35,
   "metadata": {
    "collapsed": false
   },
   "outputs": [],
   "source": [
    "def findThoseWithoutValid(key):\n",
    "    noneL = findThoseWithout(key)\n",
    "    withL = findThoseWith(key)\n",
    "    fakeL = [k for k in withL if not checkValid(k, key)]\n",
    "    return noneL + fakeL\n"
   ]
  },
  {
   "cell_type": "code",
   "execution_count": 32,
   "metadata": {
    "collapsed": false
   },
   "outputs": [],
   "source": [
    "def findThoseWithValid(key):\n",
    "    withL = findThoseWith(key)\n",
    "    validL = [k for k in withL if checkValid(k, key)]\n",
    "    return validL\n"
   ]
  },
  {
   "cell_type": "code",
   "execution_count": 33,
   "metadata": {
    "collapsed": false
   },
   "outputs": [
    {
     "name": "stdout",
     "output_type": "stream",
     "text": [
      "set([])\n",
      "True\n"
     ]
    }
   ],
   "source": [
    "s1 = set(findThoseWithValid('fracAdultPatientDaysICU'))\n",
    "s2 = set(findThoseWithoutValid('fracAdultPatientDaysICU'))\n",
    "hospSet = set(isHospital)\n",
    "print s1.intersection(s2)\n",
    "print hospSet == s1.union(s2)\n"
   ]
  },
  {
   "cell_type": "code",
   "execution_count": 9,
   "metadata": {
    "collapsed": false
   },
   "outputs": [
    {
     "data": {
      "image/png": "[encoded data removed]",
      "text/plain": [
       "<matplotlib.figure.Figure at 0x7f3f63cc9f90>"
      ]
     },
     "metadata": {},
     "output_type": "display_data"
    },
    {
     "name": "stdout",
     "output_type": "stream",
     "text": [
      "slope: 0.868205043174\n",
      "intercept: 0.00631190005449\n",
      "std_err: 0.0236990318659\n",
      "r_value: 0.968744365171\n",
      "p_value: 4.60380192894e-55\n",
      "----------------------\n"
     ]
    }
   ],
   "source": [
    "lFapd = findThoseWithValid('fracAdultPatientDaysICU')\n",
    "lBeds = findThoseWithValid('nBedsICU')\n",
    "workL = [k for k in lBeds if k in lFapd]\n",
    "xL = [float(facDict[k]['nBedsICU']['value'])/float(facDict[k]['nBeds']['value']) for k in workL]\n",
    "yL = [facDict[k]['fracAdultPatientDaysICU']['value'] for k in workL]\n",
    "slope, intercept, r_value, p_value, std_err = stats.linregress(xL,yL)\n",
    "yFit = [intercept + (x * slope) for x in xL]\n",
    "plt.xlabel('Bed count fraction')\n",
    "plt.ylabel('fracAdultPatientDaysICU')\n",
    "plt.plot(xL, yL, '*')\n",
    "plt.plot(xL, yFit, '--')\n",
    "plt.show()\n",
    "print 'slope: %s' % slope\n",
    "print 'intercept: %s' % intercept\n",
    "print 'std_err: %s' % std_err\n",
    "print 'r_value: %s' % r_value\n",
    "print 'p_value: %s' % p_value\n",
    "print '----------------------'\n",
    "targetL = findThoseWithoutValid('fracAdultPatientDaysICU')\n",
    "targetL.sort()\n",
    "for abbrev in targetL:\n",
    "    if abbrev in findThoseWithValid('nBedsICU'):\n",
    "        print '%s, %f,' % (abbrev, (slope*(getVal(abbrev,'nBedsICU')/getVal(abbrev,'nBeds')) + intercept))\n",
    "    else:\n",
    "        print '%s,,no nBedsICU' % abbrev"
   ]
  },
  {
   "cell_type": "code",
   "execution_count": 10,
   "metadata": {
    "collapsed": false
   },
   "outputs": [
    {
     "data": {
      "image/png": "[encoded data removed]",
      "text/plain": [
       "<matplotlib.figure.Figure at 0x7f3f61b38ed0>"
      ]
     },
     "metadata": {},
     "output_type": "display_data"
    },
    {
     "name": "stdout",
     "output_type": "stream",
     "text": [
      "slope: 0.895575577593\n",
      "intercept: 0.0\n",
      "std_err: 0.0257098200209\n",
      "----------------------\n"
     ]
    }
   ],
   "source": [
    "lFapd = findThoseWithValid('fracAdultPatientDaysICU')\n",
    "lBeds = findThoseWithValid('nBedsICU')\n",
    "workL = [k for k in lBeds if k in lFapd]\n",
    "xL = [float(facDict[k]['nBedsICU']['value'])/float(facDict[k]['nBeds']['value']) for k in workL]\n",
    "yL = [facDict[k]['fracAdultPatientDaysICU']['value'] for k in workL]\n",
    "def term(x, y, slope):\n",
    "    v = (y - (x*slope))\n",
    "    return v*v\n",
    "def chisqr(slope, xL, yL):\n",
    "    return sum([term(x, y, slope) for x, y in zip(xL, yL)])\n",
    "res = optimize.minimize_scalar(chisqr, args=(xL, yL))\n",
    "#print res\n",
    "slope = res.x\n",
    "intercept = 0.0\n",
    "yFit = [intercept + (x * slope) for x in xL]\n",
    "plt.xlabel('Bed count fraction')\n",
    "plt.ylabel('fracAdultPatientDaysICU')\n",
    "plt.plot(xL, yL, '*')\n",
    "plt.plot(xL, yFit, '--')\n",
    "plt.show()\n",
    "print 'slope: %s' % slope\n",
    "print 'intercept: %s' % intercept\n",
    "print 'std_err: %s' % math.sqrt(chisqr(slope, xL, yL)/(len(xL) - 1))\n",
    "print '----------------------'\n",
    "targetL = findThoseWithoutValid('fracAdultPatientDaysICU')\n",
    "targetL.sort()\n",
    "for abbrev in targetL:\n",
    "    if abbrev in findThoseWithValid('nBedsICU'):\n",
    "        print '%s, %f, %f' % (abbrev, (slope*(getVal(abbrev,'nBedsICU')/getVal(abbrev,'nBeds')) + intercept),\n",
    "                             getVal(abbrev,'nBeds'))\n",
    "    else:\n",
    "        print '%s,,no nBedsICU' % abbrev"
   ]
  },
  {
   "cell_type": "code",
   "execution_count": 44,
   "metadata": {
    "collapsed": false
   },
   "outputs": [
    {
     "name": "stdout",
     "output_type": "stream",
     "text": [
      "['VHS_3_H', 'SHER_1425_H', 'NORT_9600_H', 'MERC_2525_H', 'SILV_1900_H', 'THE_1740_H', 'CENT_25_H', 'PRES_1325_H', 'WAUK_1324_H', 'EDWA_801_H', 'ADVO_3815_H', 'VHS_4646_H', 'THE_1_H', 'VHS_3249_H', 'ROSE_45_H', 'NORT_777_H', 'LOYO_2160_H', 'MEMO_3701_H', 'ADVE_5101_H', 'ADVO_4440_H', 'PRES_7435_H', 'ADVO_836_H', 'PRES_77_H', 'ADVE_701_H', 'SAIN_2875_H', 'VHS_1225_H', 'GOTT_701_H', 'NORT_2650_H', 'ALEX_800_H', 'MIDW_1430_H', 'COPL_2000_H', 'MORR_150_H', 'MOUN_2028_H', 'FRAN_20201_H', 'FRAN_1423_H', 'THOR_850_H', 'ADVO_1775_H', 'COOK_1901_H', 'RUSH_520_H', 'COMM_5645_H', 'ST_326_H', 'NORT_4201_H', 'KISH_ONE_H', 'RIVE_350_H', 'JACK_7531_H', 'NORT_251_H', 'SWED_5145_H', 'ADVE_120_H', 'LORE_645_H', 'ADVO_2320_H', 'DELN_300_H', 'NORW_1044_H', 'VALL_1302_H', 'PRES_333_H', 'JOSE_1127_H', 'ADVO_801_H', 'THE_5841_H', 'PALO_12251_H', 'HOLY_2701_H', 'PRES_500_H', 'PRES_355_H', 'LITT_2800_H', 'SOUT_8012_H', 'PRES_1127_H', 'NORT_800_H', 'ST_1555_H', 'ADVO_450_H', 'ADVE_500_H', 'MSMC_12935_H', 'ADVO_17800_H', 'RUSH_1653_H']\n"
     ]
    },
    {
     "data": {
      "image/png": "[encoded data removed]",
      "text/plain": [
       "<matplotlib.figure.Figure at 0x7f3f64611f50>"
      ]
     },
     "metadata": {},
     "output_type": "display_data"
    },
    {
     "name": "stdout",
     "output_type": "stream",
     "text": [
      "slope: 0.895575586139\n",
      "intercept: 0.0\n",
      "std_err: 0.0289897866863\n",
      "------RegressionSamplesValues----------------\n",
      "ADVE_120_H, 0.120757, 204.0, 0.151960784314,\n",
      "ADVE_500_H, 0.121207, 118.0, 0.101694915254,\n",
      "ADVE_5101_H, 0.189704, 163.0, 0.165644171779,\n",
      "ADVE_701_H, 0.091759, 122.0, 0.0819672131148,\n",
      "ADVO_1775_H, 0.113654, 464.0, 0.131465517241,\n",
      "ADVO_17800_H, 0.103791, 224.0, 0.0892857142857,\n",
      "ADVO_2320_H, 0.082436, 170.0, 0.0705882352941,\n",
      "ADVO_3815_H, 0.183983, 266.0, 0.165413533835,\n",
      "ADVO_4440_H, 0.190898, 551.0, 0.186932849365,\n",
      "ADVO_450_H, 0.147229, 133.0, 0.15037593985,\n",
      "ADVO_801_H, 0.080382, 221.0, 0.0769230769231,\n",
      "ADVO_836_H, 0.102331, 268.0, 0.138059701493,\n",
      "ALEX_800_H, 0.091860, 347.0, 0.103746397695,\n",
      "CENT_25_H, 0.130177, 260.0, 0.123076923077,\n",
      "COMM_5645_H, 0.112699, 269.0, 0.0743494423792,\n",
      "COOK_1901_H, 0.173414, 326.0, 0.263803680982,\n",
      "COPL_2000_H, 0.099657, 162.0, 0.135802469136,\n",
      "DELN_300_H, 0.165113, 141.0, 0.141843971631,\n",
      "EDWA_801_H, 0.155010, 239.0, 0.167364016736,\n",
      "FRAN_1423_H, 0.094239, 194.0, 0.103092783505,\n",
      "FRAN_20201_H, 0.144235, 152.0, 0.164473684211,\n",
      "GOTT_701_H, 0.100947, 224.0, 0.107142857143,\n",
      "HOLY_2701_H, 0.117490, 236.0, 0.0847457627119,\n",
      "JACK_7531_H, 0.062324, 192.0, 0.0416666666667,\n",
      "JOSE_1127_H, 0.059289, 288.0, 0.0659722222222,\n",
      "KISH_ONE_H, 0.071442, 82.0, 0.146341463415,\n",
      "LITT_2800_H, 0.097386, 261.0, 0.111111111111,\n",
      "LORE_645_H, 0.035491, 169.0, 0.0710059171598,\n",
      "LOYO_2160_H, 0.232133, 434.0, 0.274193548387,\n",
      "MEMO_3701_H, 0.136171, 81.0, 0.16049382716,\n",
      "MERC_2525_H, 0.093558, 229.0, 0.113537117904,\n",
      "MIDW_1430_H, 0.089643, 70.0, 0.0857142857143,\n",
      "MORR_150_H, 0.138847, 77.0, 0.155844155844,\n",
      "MOUN_2028_H, 0.069313, 199.0, 0.140703517588,\n",
      "MSMC_12935_H, 0.117823, 121.0, 0.231404958678,\n",
      "NORT_251_H, 0.143525, 642.0, 0.143302180685,\n",
      "NORT_2650_H, 0.092964, 234.0, 0.111111111111,\n",
      "NORT_4201_H, 0.112301, 162.0, 0.123456790123,\n",
      "NORT_777_H, 0.095022, 118.0, 0.101694915254,\n",
      "NORT_800_H, 0.114560, 365.0, 0.164383561644,\n",
      "NORT_9600_H, 0.102681, 145.0, 0.124137931034,\n",
      "NORW_1044_H, 0.075350, 131.0, 0.0916030534351,\n",
      "PALO_12251_H, 0.062595, 334.0, 0.0538922155689,\n",
      "PRES_1127_H, 0.065398, 353.0, 0.0906515580737,\n",
      "PRES_1325_H, 0.084090, 210.0, 0.0761904761905,\n",
      "PRES_333_H, 0.120699, 397.0, 0.130982367758,\n",
      "PRES_355_H, 0.191478, 195.0, 0.179487179487,\n",
      "PRES_500_H, 0.199539, 129.0, 0.193798449612,\n",
      "PRES_7435_H, 0.115195, 281.0, 0.120996441281,\n",
      "PRES_77_H, 0.063001, 178.0, 0.0842696629213,\n",
      "RIVE_350_H, 0.126865, 247.0, 0.109311740891,\n",
      "ROSE_45_H, 0.092747, 87.0, 0.114942528736,\n",
      "RUSH_1653_H, 0.145729, 554.0, 0.167870036101,\n",
      "RUSH_520_H, 0.110122, 117.0, 0.119658119658,\n",
      "SAIN_2875_H, 0.184636, 108.0, 0.138888888889,\n",
      "SHER_1425_H, 0.124939, 219.0, 0.13698630137,\n",
      "SILV_1900_H, 0.070375, 204.0, 0.078431372549,\n",
      "SOUT_8012_H, 0.083211, 125.0, 0.064,\n",
      "ST_1555_H, 0.110966, 216.0, 0.115740740741,\n",
      "ST_326_H, 0.043563, 176.0, 0.0568181818182,\n",
      "SWED_5145_H, 0.078250, 255.0, 0.0705882352941,\n",
      "THE_1740_H, 0.201863, 354.0, 0.183615819209,\n",
      "THE_1_H, 0.066186, 512.0, 0.05078125,\n",
      "THE_5841_H, 0.245527, 392.0, 0.237244897959,\n",
      "THOR_850_H, 0.078403, 137.0, 0.0729927007299,\n",
      "VALL_1302_H, 0.051463, 19.0, 0.157894736842,\n",
      "VHS_1225_H, 0.076732, 123.0, 0.0975609756098,\n",
      "VHS_3249_H, 0.058647, 290.0, 0.0586206896552,\n",
      "VHS_3_H, 0.103312, 162.0, 0.148148148148,\n",
      "VHS_4646_H, 0.113243, 220.0, 0.0727272727273,\n",
      "WAUK_1324_H, 0.147162, 181.0, 0.127071823204,\n",
      "------ExtrapolatedValues----------------\n",
      "AURO_10400_H, 0.193638, 74.0, 0.216216216216,\n",
      "BETH_5025_H, 0.620014, 13.0, 0.692307692308,\n",
      "ELMH_200_H, 0.824872, 38.0, 0.921052631579,\n",
      "FRAN_1201_H, 0.083486, 236.0, 0.0932203389831,\n",
      "FRAN_24_H, 0.077395, 162.0, 0.0864197530864,\n",
      "FRAN_301_H, 0.068514, 183.0, 0.0765027322404,\n",
      "FRAN_5454_H, 0.065610, 273.0, 0.0732600732601,\n",
      "FRAN_701_H, 0.146549, 55.0, 0.163636363636,\n",
      "INDI_1007_H, 0.089558, 200.0, 0.1,\n",
      "JASP_1104_H, 0.154410, 29.0, 0.172413793103,\n",
      "MERC_901_H, 0.079021, 34.0, 0.0882352941176,\n",
      "MUNS_901_H, 0.031286, 458.0, 0.0349344978166,\n",
      "NORT_660_H, 0.160402, 67.0, 0.179104477612,\n",
      "PINN_9301_H, 0.099508, 18.0, 0.111111111111,\n",
      "PORT_85_H, 0.092235, 301.0, 0.102990033223,\n",
      "STC_4321_H, 0.049411, 290.0, 0.0551724137931,\n",
      "STM_1500_H, 0.090008, 199.0, 0.100502512563,\n",
      "THE_600_H, 0.041334, 260.0, 0.0461538461538,\n",
      "UNIT_6308_H, 0.110170, 252.0, 0.123015873016,\n"
     ]
    }
   ],
   "source": [
    "depKey = 'fracAdultPatientDaysICU'\n",
    "lDep = findThoseWithValid(depKey)\n",
    "range = (0.0, 1000.0)\n",
    "indepKey = 'nBeds'\n",
    "lIndep = findThoseWithValid(indepKey)\n",
    "workL = [k for k in lIndep if k in lDep and getVal(k, indepKey) >= range[0] and getVal(k, indepKey) < range[1]]\n",
    "print workL\n",
    "xL = [getVal(k, 'nBedsICU')/getVal(k, 'nBeds') for k in workL]\n",
    "yL = [getVal(k, depKey) for k in workL]\n",
    "pairs = zip(xL, yL)\n",
    "def term(x, y, slope):\n",
    "    v = (y - (x*slope))\n",
    "    return v*v\n",
    "def chisqr(slope, pairs):\n",
    "    return sum([term(x, y, slope) for x, y in pairs])\n",
    "res = optimize.minimize_scalar(chisqr, args=pairs)\n",
    "#print res\n",
    "slope = res.x\n",
    "intercept = 0.0\n",
    "yFit = [intercept + (x * slope) for x in xL]\n",
    "plt.xlabel('Bed count fraction')\n",
    "plt.ylabel(depKey)\n",
    "plt.plot(xL, yL, '*')\n",
    "plt.plot(xL, yFit, '--')\n",
    "plt.show()\n",
    "print 'slope: %s' % slope\n",
    "print 'intercept: %s' % intercept\n",
    "print 'std_err: %s' % math.sqrt(chisqr(slope, pairs)/(len(pairs) - 1))\n",
    "print '------RegressionSamplesValues----------------'\n",
    "targetL = findThoseWithValid(depKey)\n",
    "targetL = [abbrev for abbrev in targetL if abbrev in findThoseWithValid('nBeds')]\n",
    "targetL = [abbrev for abbrev in targetL if abbrev in findThoseWithValid('nBedsICU')]\n",
    "targetL = [abbrev for abbrev in targetL if getVal(abbrev, indepKey) >= range[0] and getVal(abbrev, indepKey) < range[1]]\n",
    "targetL.sort()\n",
    "for abbrev in targetL:\n",
    "    print '%s, %f, %s, %s,' % (abbrev,\n",
    "                               getVal(abbrev,depKey),\n",
    "                               getVal(abbrev,'nBeds'),\n",
    "                               (getVal(abbrev,'nBedsICU')/getVal(abbrev,'nBeds')))\n",
    "print '------ExtrapolatedValues----------------'\n",
    "targetL = findThoseWithoutValid(depKey)\n",
    "targetL = [abbrev for abbrev in targetL if getVal(abbrev, indepKey) >= range[0] and getVal(abbrev, indepKey) < range[1]]\n",
    "targetL.sort()\n",
    "for abbrev in targetL:\n",
    "    if abbrev in findThoseWithValid('nBedsICU'):\n",
    "        print '%s, %f, %s, %s,' % (abbrev,\n",
    "                                   (slope*(getVal(abbrev,'nBedsICU')/getVal(abbrev,'nBeds')) + intercept),\n",
    "                                   getVal(abbrev,'nBeds'),\n",
    "                                   (getVal(abbrev,'nBedsICU')/getVal(abbrev,'nBeds')))\n",
    "    else:\n",
    "        print '%s,,,,no %s' % (abbrev, 'nBedsICU')"
   ]
  },
  {
   "cell_type": "code",
   "execution_count": 13,
   "metadata": {
    "collapsed": false
   },
   "outputs": [
    {
     "name": "stdout",
     "output_type": "stream",
     "text": [
      "90\n",
      "90\n"
     ]
    }
   ],
   "source": [
    "\n",
    "print len(workL)\n",
    "print len(isHospital)"
   ]
  },
  {
   "cell_type": "code",
   "execution_count": 14,
   "metadata": {
    "collapsed": false
   },
   "outputs": [
    {
     "name": "stdout",
     "output_type": "stream",
     "text": [
      "[]\n"
     ]
    }
   ],
   "source": [
    "print findThoseWithoutValid('nBedsICU')"
   ]
  },
  {
   "cell_type": "code",
   "execution_count": 15,
   "metadata": {
    "collapsed": false
   },
   "outputs": [
    {
     "data": {
      "image/png": "[encoded data removed]",
      "text/plain": [
       "<matplotlib.figure.Figure at 0x7f3f61862e90>"
      ]
     },
     "metadata": {},
     "output_type": "display_data"
    }
   ],
   "source": [
    "depKey = 'meanLOSICU'\n",
    "lDep = findThoseWithValid(depKey)\n",
    "lBeds = findThoseWithValid('nBedsICU')\n",
    "workL = [k for k in lBeds if k in lDep]\n",
    "#xL = [getVal(k, 'nBedsICU')/getVal(k, 'nBeds') for k in workL]\n",
    "xL = [getVal(k, 'meanLOS') for k in workL]\n",
    "yL = [facDict[k][depKey]['value'] for k in workL]\n",
    "slope, intercept, r_value, p_value, std_err = stats.linregress(xL,yL)\n",
    "yFit = [intercept + (x * slope) for x in xL]\n",
    "plt.xlabel('Bed count fraction')\n",
    "plt.ylabel(depKey)\n",
    "plt.plot(xL, yL, '*')\n",
    "plt.plot(xL, yFit, '--')\n",
    "plt.show()"
   ]
  },
  {
   "cell_type": "code",
   "execution_count": 16,
   "metadata": {
    "collapsed": false
   },
   "outputs": [
    {
     "data": {
      "image/png": "[encoded data removed]",
      "text/plain": [
       "<matplotlib.figure.Figure at 0x7f3f617c9bd0>"
      ]
     },
     "metadata": {},
     "output_type": "display_data"
    },
    {
     "name": "stdout",
     "output_type": "stream",
     "text": [
      "slope: -0.000332449445176\n",
      "intercept: 4.36420263896\n",
      "std_err: 0.000128624733012\n",
      "r_value: -0.29710463444\n",
      "p_value: 0.0118659335276\n"
     ]
    }
   ],
   "source": [
    "depKey = 'meanLOSICU'\n",
    "lDep = findThoseWithValid(depKey)\n",
    "indepKey = 'totalTransfersOut'\n",
    "lIndep = findThoseWithValid(indepKey)\n",
    "workL = [k for k in lIndep if k in lDep]\n",
    "xL = [getVal(k, indepKey) for k in workL]\n",
    "yL = [getVal(k, depKey) for k in workL]\n",
    "slope, intercept, r_value, p_value, std_err = stats.linregress(xL,yL)\n",
    "yFit = [intercept + (x * slope) for x in xL]\n",
    "plt.xlabel(indepKey)\n",
    "plt.ylabel(depKey)\n",
    "plt.plot(xL, yL, '*')\n",
    "plt.plot(xL, yFit, '--')\n",
    "plt.show()\n",
    "print 'slope: %s' % slope\n",
    "print 'intercept: %s' % intercept\n",
    "print 'std_err: %s' % std_err\n",
    "print 'r_value: %s' % r_value\n",
    "print 'p_value: %s' % p_value\n"
   ]
  },
  {
   "cell_type": "code",
   "execution_count": 29,
   "metadata": {
    "collapsed": false
   },
   "outputs": [
    {
     "data": {
      "image/png": "[encoded data removed]",
      "text/plain": [
       "<matplotlib.figure.Figure at 0x7f3f645a43d0>"
      ]
     },
     "metadata": {},
     "output_type": "display_data"
    },
    {
     "name": "stdout",
     "output_type": "stream",
     "text": [
      "slope: 0.746747016753\n",
      "intercept: -10.3828292868\n",
      "std_err: 0.0244206131928\n",
      "r_value: 0.963111004474\n",
      "p_value: 2.33822158602e-43\n",
      "----------------------\n",
      "AURO_10400_H, 44.876450,\n",
      "FRAN_1201_H, 165.849467,\n",
      "FRAN_24_H, 110.590187,\n",
      "FRAN_301_H, 126.271875,\n",
      "FRAN_5454_H, 193.479106,\n",
      "FRAN_701_H, 30.688257,\n",
      "INDI_1007_H, 138.966574,\n",
      "JASP_1104_H, 11.272834,\n",
      "MUNS_901_H, 331.627304,\n",
      "PINN_9301_H, 3.058617,\n",
      "PORT_85_H, 214.388023,\n",
      "STC_4321_H, 206.173806,\n",
      "STM_1500_H, 138.219827,\n",
      "THE_600_H, 183.771395,\n",
      "UNIT_6308_H, 177.797419,\n"
     ]
    }
   ],
   "source": [
    "depKey = 'meanPop'\n",
    "lDep = findThoseWithValid(depKey)\n",
    "indepKey = 'nBeds'\n",
    "lIndep = findThoseWithValid(indepKey)\n",
    "workL = [k for k in lIndep if k in lDep]\n",
    "xL = [getVal(k, indepKey) for k in workL]\n",
    "yL = [getVal(k, depKey) for k in workL]\n",
    "slope, intercept, r_value, p_value, std_err = stats.linregress(xL,yL)\n",
    "yFit = [intercept + (x * slope) for x in xL]\n",
    "plt.xlabel(indepKey)\n",
    "plt.ylabel(depKey)\n",
    "plt.plot(xL, yL, '*')\n",
    "plt.plot(xL, yFit, '--')\n",
    "plt.show()\n",
    "print 'slope: %s' % slope\n",
    "print 'intercept: %s' % intercept\n",
    "print 'std_err: %s' % std_err\n",
    "print 'r_value: %s' % r_value\n",
    "print 'p_value: %s' % p_value\n",
    "print '----------------------'\n",
    "targetL = findThoseWithoutValid(depKey)\n",
    "targetL.sort()\n",
    "for abbrev in targetL:\n",
    "    if abbrev in findThoseWithValid(indepKey):\n",
    "        print '%s, %f,' % (abbrev, (slope*(getVal(abbrev,indepKey)) + intercept))\n",
    "    else:\n",
    "        print '%s,,no %s' % indepKey"
   ]
  },
  {
   "cell_type": "code",
   "execution_count": 18,
   "metadata": {
    "collapsed": false
   },
   "outputs": [
    {
     "name": "stdout",
     "output_type": "stream",
     "text": [
      "260.0\n"
     ]
    }
   ],
   "source": [
    "print getVal('THE_600_H', 'nBeds')"
   ]
  },
  {
   "cell_type": "code",
   "execution_count": 19,
   "metadata": {
    "collapsed": false
   },
   "outputs": [
    {
     "name": "stdout",
     "output_type": "stream",
     "text": [
      "3.78000936322\n",
      "3.29501268\n"
     ]
    }
   ],
   "source": [
    "l = findThoseWithValid('meanLOSICU')\n",
    "print np.mean([getVal(k, 'meanLOSICU') for k in l])\n",
    "print np.median([getVal(k, 'meanLOSICU') for k in l])"
   ]
  },
  {
   "cell_type": "code",
   "execution_count": 20,
   "metadata": {
    "collapsed": false
   },
   "outputs": [
    {
     "name": "stdout",
     "output_type": "stream",
     "text": [
      "[(13.0, 'BETH_5025_H'), (18.0, 'PINN_9301_H'), (19.0, 'VALL_1302_H'), (29.0, 'JASP_1104_H'), (34.0, 'MERC_901_H'), (38.0, 'ELMH_200_H'), (55.0, 'FRAN_701_H'), (67.0, 'NORT_660_H'), (70.0, 'MIDW_1430_H'), (74.0, 'AURO_10400_H'), (77.0, 'MORR_150_H'), (81.0, 'MEMO_3701_H'), (82.0, 'KISH_ONE_H'), (87.0, 'ROSE_45_H'), (108.0, 'SAIN_2875_H'), (117.0, 'RUSH_520_H'), (118.0, 'ADVE_500_H'), (118.0, 'NORT_777_H'), (121.0, 'MSMC_12935_H'), (122.0, 'ADVE_701_H'), (123.0, 'VHS_1225_H'), (125.0, 'SOUT_8012_H'), (129.0, 'PRES_500_H'), (131.0, 'NORW_1044_H'), (133.0, 'ADVO_450_H'), (137.0, 'THOR_850_H'), (141.0, 'DELN_300_H'), (145.0, 'NORT_9600_H'), (152.0, 'FRAN_20201_H'), (162.0, 'COPL_2000_H'), (162.0, 'FRAN_24_H'), (162.0, 'NORT_4201_H'), (162.0, 'VHS_3_H'), (163.0, 'ADVE_5101_H'), (169.0, 'LORE_645_H'), (170.0, 'ADVO_2320_H'), (176.0, 'ST_326_H'), (178.0, 'PRES_77_H'), (181.0, 'WAUK_1324_H'), (183.0, 'FRAN_301_H'), (192.0, 'JACK_7531_H'), (194.0, 'FRAN_1423_H'), (195.0, 'PRES_355_H'), (199.0, 'MOUN_2028_H'), (199.0, 'STM_1500_H'), (200.0, 'INDI_1007_H'), (204.0, 'ADVE_120_H'), (204.0, 'SILV_1900_H'), (210.0, 'PRES_1325_H'), (216.0, 'ST_1555_H'), (219.0, 'SHER_1425_H'), (220.0, 'VHS_4646_H'), (221.0, 'ADVO_801_H'), (224.0, 'ADVO_17800_H'), (224.0, 'GOTT_701_H'), (229.0, 'MERC_2525_H'), (234.0, 'NORT_2650_H'), (236.0, 'FRAN_1201_H'), (236.0, 'HOLY_2701_H'), (239.0, 'EDWA_801_H'), (247.0, 'RIVE_350_H'), (252.0, 'UNIT_6308_H'), (255.0, 'SWED_5145_H'), (260.0, 'CENT_25_H'), (260.0, 'THE_600_H'), (261.0, 'LITT_2800_H'), (266.0, 'ADVO_3815_H'), (268.0, 'ADVO_836_H'), (269.0, 'COMM_5645_H'), (273.0, 'FRAN_5454_H'), (281.0, 'PRES_7435_H'), (288.0, 'JOSE_1127_H'), (290.0, 'STC_4321_H'), (290.0, 'VHS_3249_H'), (301.0, 'PORT_85_H'), (326.0, 'COOK_1901_H'), (334.0, 'PALO_12251_H'), (347.0, 'ALEX_800_H'), (353.0, 'PRES_1127_H'), (354.0, 'THE_1740_H'), (365.0, 'NORT_800_H'), (392.0, 'THE_5841_H'), (397.0, 'PRES_333_H'), (434.0, 'LOYO_2160_H'), (458.0, 'MUNS_901_H'), (464.0, 'ADVO_1775_H'), (512.0, 'THE_1_H'), (551.0, 'ADVO_4440_H'), (554.0, 'RUSH_1653_H'), (642.0, 'NORT_251_H')]\n"
     ]
    }
   ],
   "source": [
    "l = [(getVal(k, 'nBeds'), k) for k in findThoseWithValid('nBeds') if k in findThoseWithValid('fracAdultPatientDaysICU')]\n",
    "l.sort()\n",
    "print l"
   ]
  },
  {
   "cell_type": "code",
   "execution_count": 21,
   "metadata": {
    "collapsed": false
   },
   "outputs": [
    {
     "name": "stdout",
     "output_type": "stream",
     "text": [
      "----DONE----\n"
     ]
    }
   ],
   "source": [
    "def innerTermCompare(oldTerm, newTerm, preamble=None):\n",
    "    if preamble is None:\n",
    "        preamble = ''\n",
    "    # print '%s %s -> %s' % (preamble, oldTerm, newTerm)\n",
    "    if isinstance(oldTerm, types.DictType):\n",
    "        if isinstance(newTerm, types.DictType):\n",
    "            allKeys = set(newTerm.keys() + oldTerm.keys())\n",
    "            for key in allKeys:\n",
    "                if key in oldTerm:\n",
    "                    if key in newTerm:\n",
    "                        if newTerm[key] != oldTerm[key]:\n",
    "                            newPreamble = '%s %s: ' % (preamble, key)\n",
    "                            innerTermCompare(oldTerm[key], newTerm[key], preamble=newPreamble)\n",
    "                    else:\n",
    "                        print '%s %s: this key was deleted' % (preamble, key)\n",
    "                elif key in newTerm:\n",
    "                    print '%s %s: this key was added' % (preamble, key)\n",
    "                else:\n",
    "                    raise RuntimeError('Vanishing key %s' % key)\n",
    "        else:\n",
    "            print '%s%s -> %s' % (preamble, oldTerm, newTerm)\n",
    "    elif isinstance(oldTerm, types.ListType):\n",
    "        if isinstance(newTerm, types.ListType):\n",
    "            oldL = oldTerm[:]\n",
    "            oldL.sort()\n",
    "            newL = newTerm[:]\n",
    "            newL.sort()\n",
    "            idx = 0\n",
    "            while oldL and newL:\n",
    "                innerTermCompare(oldL.pop(0), newL.pop(0), preamble='%s %s:'%(preamble, idx))\n",
    "                idx += 1\n",
    "            if oldL:\n",
    "                print '%s: lost %s in update' % (preamble, oldL)\n",
    "            elif newL:\n",
    "                print '%s: gained %s in update' % (preamble, newL)\n",
    "            else:\n",
    "                pass  # lists have been compared\n",
    "        else:\n",
    "            print '%s%s -> %s' % (preamble, oldTerm, newTerm)\n",
    "    else:\n",
    "        if oldTerm != newTerm:\n",
    "            print '%s%s -> %s' % (preamble, oldTerm, newTerm)\n",
    "\n",
    "\n",
    "    \n",
    "def termCompare(abbrev, key):\n",
    "    if abbrev in facDict:\n",
    "        if abbrev in updatedFacDict:\n",
    "            if key in facDict[abbrev]:\n",
    "                if key in updatedFacDict[abbrev]:\n",
    "                    oldTerm = facDict[abbrev][key]\n",
    "                    newTerm = updatedFacDict[abbrev][key]\n",
    "                    if newTerm != oldTerm:\n",
    "                        innerTermCompare(oldTerm, newTerm, '%s: %s: ' % (abbrev, key))\n",
    "                else:\n",
    "                    pass\n",
    "            else:\n",
    "                if key in updatedFacDict[abbrev]:\n",
    "                    print '%s: %s field was added in update' % (abbrev, key)\n",
    "                else:\n",
    "                    pass # no such abbrev key pair exists\n",
    "        else:\n",
    "            pass  # This abbrev was not updated\n",
    "    elif abbrev in updatedFacDict:\n",
    "        print '%s record was newly created in the update' % abbrev\n",
    "    else:\n",
    "        pass  # no such entry exists\n",
    "        \n",
    "allKeySet, recs = yaml_tools.parse_all(os.path.join(modelDir, 'facilityfacts'))\n",
    "facDict = {r['abbrev']:r for r in recs}\n",
    "\n",
    "kL, uRecs = yaml_tools.parse_all(os.path.join(modelDir, 'facilityfactsUpdated'))\n",
    "updatedFacDict= {r['abbrev']:r for r in uRecs}\n",
    "\n",
    "for abbrev, rec in facDict.items():\n",
    "    if abbrev in updatedFacDict:\n",
    "        uRec = updatedFacDict[abbrev]\n",
    "        allKeys = set(rec.keys() + uRec.keys())\n",
    "        for key in allKeys:\n",
    "            if key in rec:\n",
    "                if key in uRec:\n",
    "                    termCompare(abbrev, key)\n",
    "                else:\n",
    "                    print '%s: no %s in updated rec' % (abbrev, key)\n",
    "            else:\n",
    "                print '%s: %s key was added' % (abbrev, key)\n",
    "\n",
    "print '----DONE----'\n"
   ]
  },
  {
   "cell_type": "code",
   "execution_count": 22,
   "metadata": {
    "collapsed": false
   },
   "outputs": [
    {
     "data": {
      "text/plain": [
       "['PINN_9301_H',\n",
       " 'MERC_901_H',\n",
       " 'BETH_5025_H',\n",
       " 'FRAN_5454_H',\n",
       " 'MUNS_901_H',\n",
       " 'ELMH_200_H',\n",
       " 'FRAN_1201_H',\n",
       " 'FRAN_24_H',\n",
       " 'THE_600_H',\n",
       " 'FRAN_301_H',\n",
       " 'JASP_1104_H',\n",
       " 'STM_1500_H',\n",
       " 'STC_4321_H',\n",
       " 'AURO_10400_H',\n",
       " 'NORT_660_H',\n",
       " 'UNIT_6308_H',\n",
       " 'PORT_85_H',\n",
       " 'INDI_1007_H',\n",
       " 'FRAN_701_H']"
      ]
     },
     "execution_count": 22,
     "metadata": {},
     "output_type": "execute_result"
    }
   ],
   "source": [
    "findThoseWithoutValid('meanLOSICU')\n"
   ]
  },
  {
   "cell_type": "code",
   "execution_count": 28,
   "metadata": {
    "collapsed": false
   },
   "outputs": [
    {
     "name": "stdout",
     "output_type": "stream",
     "text": [
      "9301 CONNECTICUT DR, CROWN POINT, Lake County, IN 46307, USA\n",
      "5454 S HOHMAN AVE, HAMMOND, Lake County, IN 46320, USA\n",
      "901 MACARTHUR BLVD, MUNSTER, Lake County, IN 46321, USA\n",
      "1201 S MAIN ST, CROWN POINT, Lake County, IN 46307, USA\n",
      "24 JOLIET ST, DYER, Lake County, IN 46311, USA\n",
      "600 GRANT ST, GARY, Lake County, IN 46402, USA\n",
      "301 W HOMER ST, MICHIGAN CITY, LaPorte County, IN 46360, USA\n",
      "1104 E GRACE ST, RENSSELAER, Jasper County, IN 47978, USA\n",
      "1500 S LAKE PARK AVENUE, HOBART, Lake County, IN 46342, USA\n",
      "4321 FIR ST, EAST CHICAGO, Lake County, IN 46312, USA\n",
      "10400 75TH ST, KENOSHA, Kenosha County, WI 53142, USA\n",
      "6308 8TH AVE, KENOSHA, Kenosha County, WI 53143, USA\n",
      "85 E US HIGHWAY 6, VALPARAISO, Porter County, IN 46383, USA\n",
      "1007 LINCOLNWAY, LA PORTE, LaPorte County, IN 46350, USA\n",
      "701 SUPERIOR AVE, MUNSTER, Lake County, IN 46321, USA\n"
     ]
    }
   ],
   "source": [
    "l1 = findThoseWithoutValid('meanPop')\n",
    "l2 = findThoseWithValid('nBeds')\n",
    "for abbrev in l1:\n",
    "    print facDict[abbrev]['address']\n"
   ]
  },
  {
   "cell_type": "code",
   "execution_count": 24,
   "metadata": {
    "collapsed": false
   },
   "outputs": [
    {
     "name": "stdout",
     "output_type": "stream",
     "text": [
      "OrderedDict([('prov', 'Geocoded_LOSCMSAHQ_2010Cohort_LOS_Bedsize_v082116.xlsx:BedLOS:$S (includes ICU)'), ('value', 38)])\n"
     ]
    }
   ],
   "source": [
    "print facDict['ELMH_200_H']['nBeds']\n"
   ]
  },
  {
   "cell_type": "code",
   "execution_count": 30,
   "metadata": {
    "collapsed": false
   },
   "outputs": [
    {
     "name": "stdout",
     "output_type": "stream",
     "text": [
      "['PINN_9301_H', 'FRAN_5454_H', 'MUNS_901_H', 'FRAN_1201_H', 'FRAN_24_H', 'THE_600_H', 'FRAN_301_H', 'JASP_1104_H', 'STM_1500_H', 'STC_4321_H', 'AURO_10400_H', 'UNIT_6308_H', 'PORT_85_H', 'INDI_1007_H', 'FRAN_701_H']\n"
     ]
    }
   ],
   "source": [
    "print findThoseWithoutValid('meanPop')"
   ]
  },
  {
   "cell_type": "code",
   "execution_count": 47,
   "metadata": {
    "collapsed": false
   },
   "outputs": [
    {
     "name": "stdout",
     "output_type": "stream",
     "text": [
      "PINN_9301_H: None\n",
      "FRAN_5454_H: None\n",
      "MUNS_901_H: None\n",
      "FRAN_1201_H: None\n",
      "FRAN_24_H: None\n",
      "THE_600_H: None\n",
      "FRAN_301_H: None\n",
      "JASP_1104_H: None\n",
      "STM_1500_H: None\n",
      "STC_4321_H: None\n",
      "AURO_10400_H: None\n",
      "UNIT_6308_H: None\n",
      "PORT_85_H: None\n",
      "INDI_1007_H: None\n",
      "FRAN_701_H: None\n"
     ]
    }
   ],
   "source": [
    "for abbrev in findThoseWithoutValid('meanPop'):\n",
    "    print '%s: %s' % (abbrev, getVal(abbrev, 'meanPop'))"
   ]
  },
  {
   "cell_type": "code",
   "execution_count": null,
   "metadata": {
    "collapsed": true
   },
   "outputs": [],
   "source": []
  }
 ],
 "metadata": {
  "kernelspec": {
   "display_name": "Python 2",
   "language": "python",
   "name": "python2"
  },
  "language_info": {
   "codemirror_mode": {
    "name": "ipython",
    "version": 2
   },
   "file_extension": ".py",
   "mimetype": "text/x-python",
   "name": "python",
   "nbconvert_exporter": "python",
   "pygments_lexer": "ipython2",
   "version": "2.7.12"
  }
 },
 "nbformat": 4,
 "nbformat_minor": 1
}
