{
 "cells": [
  {
   "cell_type": "code",
   "execution_count": 1,
   "metadata": {
    "collapsed": true
   },
   "outputs": [],
   "source": [
    "%matplotlib inline\n",
    "import matplotlib.pyplot as plt\n",
    "import numpy as np\n",
    "import yaml\n",
    "import phacsl.utils.formats.csv_tools as csv_tools\n",
    "import os.path\n",
    "from phacsl.utils.collections.phacollections import SingletonMetaClass\n",
    "import pyrheautils\n",
    "import random\n",
    "from collections import deque, defaultdict\n",
    "from policybase import TransferDestinationPolicy as BaseTransferDestinationPolicy\n",
    "from facilitybase import CareTier, tierToQueueMap\n",
    "from map_transfer_matrix import parseFacilityData\n",
    "import schemautils\n"
   ]
  },
  {
   "cell_type": "code",
   "execution_count": 2,
   "metadata": {
    "collapsed": false
   },
   "outputs": [
    {
     "name": "stdout",
     "output_type": "stream",
     "text": [
      "OrderedDict([('transferFilePaths', ['$(MODELDIR)/hosp_indirect_transfer_counts.yaml', '$(MODELDIR)/nh_readmit_transfer_counts.yaml']), ('transferFileSchema', 'transfermatrix_schema.yaml')])\n",
      "Importing the weight data file $(MODELDIR)/hosp_indirect_transfer_counts.yaml\n",
      "Importing the weight data file $(MODELDIR)/nh_readmit_transfer_counts.yaml\n",
      "IMPLEMENTING SPECIAL PATCH FOR WAUK_2615_H\n",
      "FIND OUT THE REAL ANSWER AND DELETE THIS!\n"
     ]
    }
   ],
   "source": [
    "\n",
    "_validator = None\n",
    "_constants_values = '$(MODELDIR)/constants/transferbydrawwithreplacement_constants.yaml'\n",
    "_constants_schema = 'transferbydrawwithreplacement_constants_schema.yaml'\n",
    "_constants = None\n",
    "\n",
    "\n",
    "schemautils.setSchemaBasePath('/home/welling/git/pyRHEA_github/src/schemata')\n",
    "    \n",
    "pyrheautils.PATH_STRING_MAP['MODELDIR'] = '/home/welling/git/pyRHEA_github/models/ChicagoLand'\n",
    "_constants = pyrheautils.importConstants(_constants_values,\n",
    "                                         _constants_schema)\n",
    "_constants['transferFilePaths']=['$(MODELDIR)/hosp_indirect_transfer_counts.yaml',\n",
    "                                 '$(MODELDIR)/nh_readmit_transfer_counts.yaml'\n",
    "                                ]\n",
    "\n",
    "print _constants\n",
    "nmDict = CareTier.names\n",
    "#tierFacSets = {tier: set(self.getTierAddrMap(tier).keys()) for tier in nmDict.keys()}\n",
    "tbl = {}\n",
    "pairsSeen = set()\n",
    "for transferMatrixFilePath in _constants['transferFilePaths']:\n",
    "    print 'Importing the weight data file %s' % transferMatrixFilePath\n",
    "    rawTbl = pyrheautils.importConstants(transferMatrixFilePath,\n",
    "                                         _constants['transferFileSchema'])\n",
    "    for srcName, rec in rawTbl.items():\n",
    "        if srcName not in tbl:\n",
    "            tbl[srcName] = {}\n",
    "        for destName, ct in rec.items():\n",
    "            if (srcName, destName) in pairsSeen:\n",
    "                raise RuntimeError('Duplicate weight table entries for %s -> %s' %\n",
    "                                    (srcName, destName))\n",
    "            else:\n",
    "                pairsSeen.add((srcName, destName))\n",
    "                tbl[srcName][destName] = float(ct)\n",
    "facDict = parseFacilityData(pyrheautils.pathTranslate('$(MODELDIR)/facilityfacts'))\n",
    "print 'IMPLEMENTING SPECIAL PATCH FOR WAUK_2615_H'\n",
    "facDict['WAUK_2615_H'] = {'category':'HOSPITAL'}\n",
    "print 'FIND OUT THE REAL ANSWER AND DELETE THIS!'\n"
   ]
  },
  {
   "cell_type": "code",
   "execution_count": 3,
   "metadata": {
    "collapsed": false
   },
   "outputs": [
    {
     "name": "stdout",
     "output_type": "stream",
     "text": [
      "[32.0, 33.0, 35.0, 36.0, 36.0, 35.0, 35.0, 36.0, 36.0, 36.0, 36.0, 36.0, 35.0, 35.0, 35.0, 35.0, 35.0, 36.0, 36.0, 35.0, 36.0, 36.0, 38.0, 36.0, 36.0, 36.0, 35.0, 36.0, 36.0, 37.0]\n"
     ]
    }
   ],
   "source": [
    "with open('/home/welling/git/pyRHEA_github/src/sim/time_samples.yaml', 'r') as f:\n",
    "    sampJSON = yaml.load(f)\n",
    "sampD = {}\n",
    "for ent in sampJSON:\n",
    "    if ent['abbrev'] not in sampD:\n",
    "        sampD[ent['abbrev']] = []\n",
    "    if ent['time'] >= 800 and ent['time'] <= 830:\n",
    "        sampD[ent['abbrev']].extend(ent['samples']['occupancy'])\n",
    "print sampD['ABBI_31_S']\n",
    "                                        "
   ]
  },
  {
   "cell_type": "code",
   "execution_count": 4,
   "metadata": {
    "collapsed": false
   },
   "outputs": [
    {
     "name": "stdout",
     "output_type": "stream",
     "text": [
      "30\n"
     ]
    }
   ],
   "source": [
    "print len(sampD['ABBI_31_S'])"
   ]
  },
  {
   "cell_type": "code",
   "execution_count": 5,
   "metadata": {
    "collapsed": false
   },
   "outputs": [],
   "source": [
    "meanOccD = {}\n",
    "for abbrev, valL in sampD.items():\n",
    "    meanV = sum(valL)/len(valL)\n",
    "    meanOccD[abbrev] = meanV\n",
    "#print meanOccD\n"
   ]
  },
  {
   "cell_type": "code",
   "execution_count": 6,
   "metadata": {
    "collapsed": false
   },
   "outputs": [
    {
     "name": "stdout",
     "output_type": "stream",
     "text": [
      "55\n"
     ]
    }
   ],
   "source": [
    "nBedsD = {}\n",
    "for abbrev in sampD:\n",
    "    nBedsD[abbrev] = facDict[abbrev]['nBeds']['value']\n",
    "print nBedsD['FRAN_701_H']"
   ]
  },
  {
   "cell_type": "code",
   "execution_count": 7,
   "metadata": {
    "collapsed": false
   },
   "outputs": [],
   "source": [
    "abbrevL = sampD.keys()\n",
    "abbrevL.sort()\n",
    "recs = []\n",
    "keys = ['abbrev', 'nBeds', 'meanPop', 'occupancy']\n",
    "for abbrev in abbrevL:\n",
    "    recs.append({'abbrev': abbrev, 'nBeds': nBedsD[abbrev], 'meanPop': facDict[abbrev]['meanPop']['value'],\n",
    "                 'occupancy': meanOccD[abbrev]})\n",
    "with open('tmp.csv', 'w') as f:\n",
    "    csv_tools.writeCSV(f, keys, recs)\n",
    "                 "
   ]
  },
  {
   "cell_type": "code",
   "execution_count": 8,
   "metadata": {
    "collapsed": false
   },
   "outputs": [],
   "source": [
    "sampD = defaultdict(list)\n",
    "for abbrev in abbrevL:\n",
    "    cat = facDict[abbrev]['category']\n",
    "    sampD[cat].append(float(meanOccD[abbrev]/float(nBedsD[abbrev])))\n",
    "    #sampD[cat].append(float(meanOccD[abbrev]/float(facDict[abbrev]['meanPop']['value'])))\n",
    "#print sampD\n",
    "\n",
    "                      "
   ]
  },
  {
   "cell_type": "code",
   "execution_count": 9,
   "metadata": {
    "collapsed": false,
    "scrolled": false
   },
   "outputs": [
    {
     "data": {
      "image/png": "[encoded data removed]",
      "text/plain": [
       "<matplotlib.figure.Figure at 0x7f2264043e90>"
      ]
     },
     "metadata": {},
     "output_type": "display_data"
    }
   ],
   "source": [
    "fig, axes = plt.subplots(1, 1)\n",
    "sampGpL = []\n",
    "labelL = []\n",
    "for k, v in sampD.items():\n",
    "    sampGpL.append(v)\n",
    "    labelL.append(k)"
   ]
  },
  {
   "cell_type": "code",
   "execution_count": 10,
   "metadata": {
    "collapsed": false
   },
   "outputs": [
    {
     "name": "stdout",
     "output_type": "stream",
     "text": [
      "THC_6130_L 2.3376344086\n",
      "SNH_1200_S 2.36444444444\n",
      "PRES_100_L 3.03255208333\n",
      "MEMO_527_S 3.36666666667\n",
      "THC_365_L 3.37304964539\n",
      "VIBR_9509_L 3.555\n",
      "THC_2544_L 4.22506265664\n",
      "RML_5601_L 4.24597701149\n",
      "KANK_100_S 4.88333333333\n",
      "THC_4058_L 5.90871794872\n"
     ]
    }
   ],
   "source": [
    "l = [(float(meanOccD[abbrev])/float(nBedsD[abbrev]), abbrev) for abbrev in abbrevL]\n",
    "l.sort()\n",
    "for ratio, abbrev in l[-10:]:\n",
    "    print '%s %s' % (abbrev, ratio)\n",
    "\n"
   ]
  },
  {
   "cell_type": "code",
   "execution_count": 11,
   "metadata": {
    "collapsed": false,
    "scrolled": true
   },
   "outputs": [
    {
     "data": {
      "image/png": "[encoded data removed]",
      "text/plain": [
       "<matplotlib.figure.Figure at 0x7f2263d06990>"
      ]
     },
     "metadata": {},
     "output_type": "display_data"
    }
   ],
   "source": [
    "%config InlineBackend.print_figure_kwargs = {'bbox_inches':None}\n",
    "plt.rcParams[\"figure.figsize\"] = [12, 9]\n",
    "fig, axes = plt.subplots(1,1)\n",
    "axes.hist(sampGpL, bins=100, stacked=True, label=labelL)\n",
    "axes.legend()\n",
    "plt.savefig('test.png')"
   ]
  },
  {
   "cell_type": "code",
   "execution_count": null,
   "metadata": {
    "collapsed": true
   },
   "outputs": [],
   "source": []
  }
 ],
 "metadata": {
  "kernelspec": {
   "display_name": "Python 2",
   "language": "python",
   "name": "python2"
  },
  "language_info": {
   "codemirror_mode": {
    "name": "ipython",
    "version": 2
   },
   "file_extension": ".py",
   "mimetype": "text/x-python",
   "name": "python",
   "nbconvert_exporter": "python",
   "pygments_lexer": "ipython2",
   "version": "2.7.12"
  }
 },
 "nbformat": 4,
 "nbformat_minor": 1
}
