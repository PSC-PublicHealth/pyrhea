{
 "cells": [
  {
   "cell_type": "code",
   "execution_count": 19,
   "metadata": {
    "collapsed": false
   },
   "outputs": [
    {
     "name": "stdout",
     "output_type": "stream",
     "text": [
      "['CSNC', 'HOAG', 'LPAL', 'GGMC', 'MANO', 'COVI', 'CVSB', 'SCGL', 'CVLH', 'PACI', 'BGSJ', 'SEAC', 'SJUD', 'ANHC', 'FLAG', 'FVRH', 'KNOT', 'SMMC', 'EVER', 'HGOR', 'WAMC', 'PALM', 'LAKE', 'COLL', 'GGCH', 'STAN', 'FPCC', 'GORD', 'MSLG', 'CHAP', 'FOCC', 'KAIA', 'HVAL', 'CARE', 'SCRT', 'SNMR', 'BEAC', 'VICT', 'PKVW', 'UCIM', 'VIVA', 'LHAB', 'HSOU', 'WAEC', 'TOWN', 'HELP', 'OCGB', 'EXTW', 'ROYL', 'LEIS', 'ACNC', 'ALTA', 'WINA', 'NSUB', 'COCT', 'FREE', 'PREG', 'ELIZ', 'PSUP', 'CVPL', 'TERR', 'PANA', 'MESA', 'LAMC', 'BPNC', 'WINF', 'PVIS', 'GREE', 'HVCC', 'ORRH', 'EDNA', 'ANRG', 'BVCC', 'LPIH', 'NNRC', 'BGYL', 'KINB', 'KINO', 'KINW', 'CAPO', 'ATCC', 'MISS', 'ANGL', 'ALAM', 'OCMM', 'WLNT', 'RGNT', 'QUAK', 'NEWO', 'GPCC', 'SJOS', 'PLAC', 'HBHO']\n"
     ]
    }
   ],
   "source": [
    "#! /usr/bin/env python\n",
    "\n",
    "###################################################################################\n",
    "# Copyright   2015, Pittsburgh Supercomputing Center (PSC).  All Rights Reserved. #\n",
    "# =============================================================================== #\n",
    "#                                                                                 #\n",
    "# Permission to use, copy, and modify this software and its documentation without #\n",
    "# fee for personal use within your organization is hereby granted, provided that  #\n",
    "# the above copyright notice is preserved in all copies and that the copyright    #\n",
    "# and this permission notice appear in supporting documentation.  All other       #\n",
    "# restrictions and obligations are defined in the GNU Affero General Public       #\n",
    "# License v3 (AGPL-3.0) located at http://www.gnu.org/licenses/agpl-3.0.html  A   #\n",
    "# copy of the license is also provided in the top level of the source directory,  #\n",
    "# in the file LICENSE.txt.                                                        #\n",
    "#                                                                                 #\n",
    "###################################################################################\n",
    "\n",
    "import logging\n",
    "\n",
    "import sys\n",
    "import os.path\n",
    "from phacsl.utils.collections.phacollections import SingletonMetaClass\n",
    "import pyrheautils\n",
    "from collections import deque, defaultdict\n",
    "from facilitybase import CareTier\n",
    "sys.path.append(os.path.join(os.path.dirname(pyrheautils.__file__), '../tools'))\n",
    "from tools_util import readModelInputs, getFacDict\n",
    "import yaml\n",
    "\n",
    "runDesc = '/home/welling/git/pyRHEA_github/src/sim/week_run_OC.yaml'\n",
    "\n",
    "inputDict = readModelInputs(runDesc)\n",
    "facDict = getFacDict(inputDict)\n",
    "\n",
    "# Drop annoying community entries\n",
    "dropL = []\n",
    "for abbrev, rec in facDict.items():\n",
    "    if rec['category'] == 'COMMUNITY':\n",
    "        dropL.append(abbrev)\n",
    "for abbrev in dropL:\n",
    "    del facDict[abbrev]\n",
    "\n",
    "print facDict.keys()\n",
    "\n"
   ]
  },
  {
   "cell_type": "code",
   "execution_count": 20,
   "metadata": {
    "collapsed": false
   },
   "outputs": [
    {
     "name": "stdout",
     "output_type": "stream",
     "text": [
      "[u'NH', u'Total Annual Discharges', u'(1) Patient Died', u'(2) Directly transferred to NH', u'(3) Directly transferred to hospital', u'(4) Discharged to Home**']\n"
     ]
    }
   ],
   "source": [
    "import phacsl.utils.formats.csv_tools as csv_tools\n",
    "import phacsl.utils.formats.yaml_tools as yaml_tools\n",
    "from pyrheautils import pathTranslate\n",
    "\n",
    "snfDspFname = 'Hospital_and_NH_Disposition_Outcomes_for_RHEA_2.0_-_Adult_Only_-_UPDATED_-_11-15-2017_NH_Outcomes.csv'\n",
    "\n",
    "snfPath = pathTranslate('$(MODELDIR)/%s' % snfDspFname)\n",
    "with open(snfPath, 'rU') as f:\n",
    "    snfKeys, snfRecs = csv_tools.parseCSV(f)\n",
    "print snfKeys\n",
    "snfCsvD = {r['NH']: r for r in snfRecs}"
   ]
  },
  {
   "cell_type": "code",
   "execution_count": 21,
   "metadata": {
    "collapsed": false
   },
   "outputs": [
    {
     "name": "stdout",
     "output_type": "stream",
     "text": [
      "[u'HOSPITAL', u'Total Annual Discharges', u'(1) Patient Died', u'(2) Directly transferred to NH', u'(3) Directly transferred to hospital', u'(4) Indirectly transferred to hospital within 365 days', u'(5) Discharged and NOT readmitted to hospital within 365 days']\n"
     ]
    }
   ],
   "source": [
    "hospDspFname = 'Hospital_and_NH_Disposition_Outcomes_for_RHEA_2.0_-_Adult_Only_-_UPDATED_-_11-15-2017_Hosp_Outcomes.csv'\n",
    "\n",
    "hospPath = pathTranslate('$(MODELDIR)/%s' % hospDspFname)\n",
    "with open(hospPath, 'rU') as f:\n",
    "    hospKeys, hospRecs = csv_tools.parseCSV(f)\n",
    "print hospKeys\n",
    "hospCsvD = {r['HOSPITAL']: r for r in hospRecs}"
   ]
  },
  {
   "cell_type": "code",
   "execution_count": 22,
   "metadata": {
    "collapsed": false
   },
   "outputs": [
    {
     "name": "stdout",
     "output_type": "stream",
     "text": [
      "[u'CURRENT NAME (2017)', u'RHEA 2.0 CODE', u'\"ANNUAL ADMISSIONS ADULT ONLY\"', u'TOTAL LICENSED BEDS', u'AVERAGE DAILY CENSUS', u'', u'AVERAGE DAILY CENSUS EXCEEDS TOTAL BEDS']\n"
     ]
    }
   ],
   "source": [
    "snfChrFname = 'OC_Hospital_and_Nursing_Home_Characteristics_for_RHEA_2.0_-_Adult_Only_-_09-15-2017_FINAL_NH_CHAR.csv'\n",
    "\n",
    "with open(pathTranslate('$(MODELDIR)/%s' % snfChrFname), 'rU') as f:\n",
    "    snfChrKeys, snfChrRecs = csv_tools.parseCSV(f)\n",
    "print snfChrKeys\n",
    "snfChrD = {r['RHEA 2.0 CODE']: r for r in snfChrRecs}"
   ]
  },
  {
   "cell_type": "code",
   "execution_count": 23,
   "metadata": {
    "collapsed": false
   },
   "outputs": [
    {
     "name": "stdout",
     "output_type": "stream",
     "text": [
      "[u'CURRENT NAME (2017)', u'RHEA 2.0 CODE', u'\"ANNUAL ADMISSIONS ADULT ONLY\"', u'TOTAL ADULT BEDS', u'TOTAL ADULT ICU BEDS', u'TOTAL ADULT NON-ICU BEDS', u'AVERAGE DAILY CENSUS ADULT ONLY', u'', u'AVERAGE DAILY CENSUS EXCEEDS TOTAL BEDS']\n"
     ]
    }
   ],
   "source": [
    "hospChrFname = 'OC_Hospital_and_Nursing_Home_Characteristics_for_RHEA_2.0_-_Adult_Only_-_09-15-2017_FINAL_HOSP_CHAR.csv'\n",
    "\n",
    "with open(pathTranslate('$(MODELDIR)/%s' % hospChrFname), 'rU') as f:\n",
    "    hospChrKeys, hospChrRecs = csv_tools.parseCSV(f)\n",
    "print hospChrKeys\n",
    "hospChrD = {r['RHEA 2.0 CODE']: r for r in hospChrRecs}"
   ]
  },
  {
   "cell_type": "code",
   "execution_count": 24,
   "metadata": {
    "collapsed": false
   },
   "outputs": [
    {
     "name": "stdout",
     "output_type": "stream",
     "text": [
      "[u'CODE', u'N', u'LN_MEAN', u'LN_STD_DEV', u'LN_MEDIAN', u'LN_RANGE', u'LN_IQR']\n"
     ]
    }
   ],
   "source": [
    "hospLOSFname = 'OC_Hospital_MRSA-Stratified_LOS_Distributions_for_RHEA_2.0_-_Adult_Only_-_09-18-2017_FINAL_MRSAMINUS_LOS_ALL.csv'\n",
    "with open(pathTranslate('$(MODELDIR)/%s' % hospLOSFname), 'rU') as f:\n",
    "    hospLOSKeys, hospLOSRecs = csv_tools.parseCSV(f)\n",
    "print hospLOSKeys\n",
    "hospLOSD = {r['CODE']: r for r in hospLOSRecs}\n"
   ]
  },
  {
   "cell_type": "code",
   "execution_count": 25,
   "metadata": {
    "collapsed": false
   },
   "outputs": [
    {
     "name": "stdout",
     "output_type": "stream",
     "text": [
      "['ACNC', 'ALAM', 'ALTA', 'ANGL', 'ANHC', 'ANRG', 'ATCC', 'BEAC', 'BGSJ', 'BGYL', 'BPNC', 'BVCC', 'CAPO', 'CARE', 'CHAP', 'COCT', 'COLL', 'COVI', 'CSNC', 'CVLH', 'CVPL', 'CVSB', 'EDNA', 'ELIZ', 'EVER', 'EXTW', 'FLAG', 'FOCC', 'FPCC', 'FREE', 'FVRH', 'GGCH', 'GGMC', 'GORD', 'GPCC', 'GREE', 'HBHO', 'HELP', 'HGOR', 'HOAG', 'HSOU', 'HVAL', 'HVCC', 'KAIA', 'KINB', 'KINO', 'KINW', 'KNOT', 'LAKE', 'LAMC', 'LEIS', 'LHAB', 'LPAL', 'LPIH', 'MANO', 'MESA', 'MISS', 'MSLG', 'NEWO', 'NNRC', 'NSUB', 'OCGB', 'OCMM', 'ORRH', 'PACI', 'PALM', 'PANA', 'PKVW', 'PLAC', 'PREG', 'PSUP', 'PVIS', 'QUAK', 'RGNT', 'ROYL', 'SCGL', 'SCRT', 'SEAC', 'SJOS', 'SJUD', 'SMMC', 'SNMR', 'STAN', 'TERR', 'TOWN', 'UCIM', 'VICT', 'VIVA', 'WAEC', 'WAMC', 'WINA', 'WINF', 'WLNT']\n"
     ]
    }
   ],
   "source": [
    "with open(pathTranslate('$(MODELDIR)/fac_to_cat_marginalized_direct.yaml'), 'rU') as f:\n",
    "    facToCatD = yaml.load(f)\n",
    "print facToCatD.keys()"
   ]
  },
  {
   "cell_type": "code",
   "execution_count": 26,
   "metadata": {
    "collapsed": false
   },
   "outputs": [
    {
     "name": "stdout",
     "output_type": "stream",
     "text": [
      "712.0\n"
     ]
    }
   ],
   "source": [
    "with open(pathTranslate('$(MODELDIR)/direct_transfer_counts.yaml'), 'rU') as f:\n",
    "    directTransferCts = yaml.load(f)\n",
    "totTransIn = defaultdict(lambda: 0.0)\n",
    "for src, rec in directTransferCts.items():\n",
    "    for dst, ct in rec.items():\n",
    "        totTransIn[dst] += ct\n",
    "print totTransIn['PSUP']"
   ]
  },
  {
   "cell_type": "code",
   "execution_count": 27,
   "metadata": {
    "collapsed": false
   },
   "outputs": [
    {
     "name": "stdout",
     "output_type": "stream",
     "text": [
      "[u'abbrev', u'k', u'mu', u'sigma', u'mu2', u'sigma2', u'lmda', u'lmda2', u'lnLikPerSample', u'nsamples', u'nbins', u'pdf', u'notes']\n",
      "{u'nbins': 4372, u'lmda2': u'NA', u'mu2': u'NA', u'k': 0.9969637918471277, u'mu': 2.9148072085931216, u'abbrev': u'PSUP', u'lnLikPerSample': u'[-3.45874152]', u'lmda': 0.00023682633612327828, u'pdf': u'\"$0*lognorm(mu=$1,sigma=$2)+(1-$0)*expon(lambda=$3)\"', u'nsamples': 4372, u'sigma': 0.8964435061665147, u'notes': u'', u'sigma2': u'NA'}\n"
     ]
    }
   ],
   "source": [
    "with open(pathTranslate('$(MODELDIR)/los_model_fit_parms_fixedmean.csv'), 'rU') as f:\n",
    "    nhLOSKeys, nhLOSRecs = csv_tools.parseCSV(f)\n",
    "print nhLOSKeys\n",
    "nhLOSD = {r['abbrev']: r for r in nhLOSRecs}\n",
    "print nhLOSD['PSUP']"
   ]
  },
  {
   "cell_type": "code",
   "execution_count": 28,
   "metadata": {
    "collapsed": false
   },
   "outputs": [
    {
     "name": "stdout",
     "output_type": "stream",
     "text": [
      "[u'abbrev', u'k', u'k_from_line_list', u'lnLikPerSample', u'notes', u'nsamples', u'scale1', u'scale2', u'shape1', u'shape2']\n",
      "{u'scale1': 20.559685, u'scale2': 162.329318, u'notes': u'', u'shape1': 1.352236, u'shape2': 0.610925, u'abbrev': u'PSUP', u'lnLikPerSample': u'', u'k_from_line_list': 0.0445083836175515, u'nsamples': 4372, u'k': 0.9023011568387707}\n"
     ]
    }
   ],
   "source": [
    "with open(pathTranslate('$(MODELDIR)/los_model_fit_nh_two_weibull.csv'), 'rU') as f:\n",
    "    wbNHLOSKeys, wbNHLOSRecs = csv_tools.parseCSV(f)\n",
    "print wbNHLOSKeys\n",
    "wbNHLOSD = {r['abbrev']: r for r in wbNHLOSRecs}\n",
    "print wbNHLOSD['NEWO']"
   ]
  },
  {
   "cell_type": "code",
   "execution_count": null,
   "metadata": {
    "collapsed": false
   },
   "outputs": [],
   "source": [
    "with open(pathTranslate('$(MODELDIR)/los_model_fit_nh_split_fates.csv'), 'rU') as f:\n",
    "    sfNHLOSKeys, sfNHLOSRecs = csv_tools.parseCSV(f)\n",
    "print sfNHLOSKeys\n",
    "sfNHLOSD = {r['abbrev']: r for r in sfNHLOSRecs}\n",
    "print sfNHLOSD['NEWO']"
   ]
  },
  {
   "cell_type": "code",
   "execution_count": 32,
   "metadata": {
    "collapsed": false
   },
   "outputs": [
    {
     "name": "stdout",
     "output_type": "stream",
     "text": [
      "[u'abbrev', u'chisqr_per_sample', u'nsamples', u'parms0', u'parms1', u'parms2', u'parms3', u'pdf']\n",
      "{u'chisqr_per_sample': 0.03329094967086047, u'abbrev': u'PSUP', u'pdf': u'\"$0*lognorm(mu=$1,sigma=$2)+(1-$0)*expon(lambda=$3)\"', u'nsamples': 4310, u'parms1': 2.6656521074716064, u'parms0': 0.7477, u'parms3': 0.00672763322871806, u'parms2': 0.721964558446551}\n"
     ]
    }
   ],
   "source": [
    "with open(pathTranslate('$(MODELDIR)/los_model_fit_nh_split_fates.csv'), 'rU') as f:\n",
    "    sfNHLOSKeys, sfNHLOSRecs = csv_tools.parseCSV(f)\n",
    "print sfNHLOSKeys\n",
    "sfNHLOSD = {r['abbrev']: r for r in sfNHLOSRecs}\n",
    "print sfNHLOSD['PSUP']"
   ]
  },
  {
   "cell_type": "code",
   "execution_count": 33,
   "metadata": {
    "collapsed": false
   },
   "outputs": [],
   "source": [
    "from scipy.stats.distributions import rv_continuous, lognorm\n",
    "import math\n",
    "newFacDict = {}\n",
    "directMtxFname = 'OC_Direct_Transfer_Matrices_for_RHEA_2.0_-_Adult_Only_-_09-15-2017_FINAL.xlsx'\n",
    "for abbrev, rec in facDict.items():\n",
    "    newR = rec.copy()\n",
    "    if rec['category'] == 'NURSINGHOME':\n",
    "        transProv = ('(%s summed by dest category and normalized) * (%s total discharges * frac to NH or HOSP)'\n",
    "                     % (directMtxFname, snfDspFname))\n",
    "        meanPopProv = (\"%s col 'AVERAGE DAILY CENSUS' or 98%% of 'TOTAL LICENSED BEDS', whichever is lower\"\n",
    "                       % snfChrFname)\n",
    "        nBedsProv = \"%s col 'TOTAL LICENSED BEDS'\" % snfChrFname\n",
    "        if abbrev in snfCsvD:\n",
    "            csvR = snfCsvD[abbrev]\n",
    "            totDsch = csvR['Total Annual Discharges']\n",
    "            totTrans = totDsch * (1.0 - (csvR[u'(4) Discharged to Home**'] + csvR[u'(1) Patient Died']))\n",
    "            \n",
    "            tNHFrac = facToCatD[abbrev]['NURSINGHOME'] if 'NURSINGHOME' in facToCatD[abbrev] else 0.0\n",
    "            tLTACFrac = facToCatD[abbrev]['LTAC'] if 'LTAC' in facToCatD[abbrev] else 0.0\n",
    "            tHospFrac = facToCatD[abbrev]['HOSPITAL'] if 'HOSPITAL' in facToCatD[abbrev] else 0.0\n",
    "            newR['totalDischarges'] = {'value': totDsch,\n",
    "                                      'prov': '%s col B' % snfDspFname}\n",
    "            \n",
    "            newR['totalTransfersOut'] = [\n",
    "                {'category': 'NURSINGHOME', 'count': {'value': totTrans*tNHFrac, 'prov': transProv}},\n",
    "                {'category': 'LTAC', 'count': {'value': totTrans*tLTACFrac, 'prov': transProv}},\n",
    "                {'category': 'HOSPITAL', 'count': {'value': totTrans*tHospFrac, 'prov': transProv}}\n",
    "            ]\n",
    "            newR['nBeds'] = {'value': snfChrD[abbrev]['TOTAL LICENSED BEDS'],\n",
    "                            'prov': nBedsProv}\n",
    "            meanPop = min(snfChrD[abbrev]['AVERAGE DAILY CENSUS'], 0.98 * newR['nBeds']['value'])\n",
    "            newR['meanPop'] = {'value': meanPop,\n",
    "                              'prov': meanPopProv}\n",
    "            newR['meanLOSICU'] = {'value': 0.0, 'prov': 'NURSINGHOMEs do not have ICUs'}\n",
    "            newR['fracAdultPatientDaysICU'] = {'value': 0.0, 'prov': 'NURSINGHOMEs do not have ICUs'}\n",
    "            newR['totalTransfersIn'] = {'value': totTransIn[abbrev],\n",
    "                                       'prov': ('translate_direct_transfer_data_OC.py d6d33794'\n",
    "                                                + ' with input CSVs bdfa32e4')}\n",
    "            #losR = nhLOSD[abbrev]\n",
    "            #newR['losModel'] = {'negLogLikPerSample': -float(losR['lnLikPerSample'].strip('[]')),\n",
    "            #                    'nsamp': losR['nsamples'],\n",
    "            #                    'parms': [losR['k'], losR['mu'], losR['sigma'], losR['lmda']],\n",
    "            #                    'pdf': losR['pdf'].strip('\"'),\n",
    "            #                    'prov': ('los_model_fit_fixedmean.py e308e809 applied to '\n",
    "            #                             'OC_Nursing_Home_LOS_Line-Lists_for_RHEA_2.0_-_2011-2015_-_Adult_Only_-_09-29-2017_FINAL.xlsx')\n",
    "            #                    }\n",
    "            #losR = wbNHLOSD[abbrev]\n",
    "            #newR['losModel'] = {'parms': [1.0 - losR['k'], losR['shape2'], losR['scale2'],\n",
    "            #                              losR['shape1'], losR['scale1']],\n",
    "            #                    'pdf': '$0*weibull(k=$1, lmda=$2)+(1-$0)*weibull(k=$3, lmda=$4)',\n",
    "            #                    'prov': 'nh-fitting-2weibull.R and convert.py 213f4c53 based on OC_Nursing_Home_LOS_Line-Lists_for_RHEA_2.0_-_2011-2015_-_Adult_Only_-_09-29-2017_FINAL_NH_LOS_Line_List.csv'}\n",
    "            losR = sfNHLOSD[abbrev]\n",
    "            newR['losModel'] = {'chiSqrPerSample': losR['chisqr_per_sample'],\n",
    "                                'parms': [losR['parms0'], losR['parms1'], losR['parms2'], losR['parms3']],\n",
    "                                'pdf': losR['pdf'].strip('\"').strip(\"'\"),\n",
    "                                'prov': 'OC2013_NH_LOS_model_split_fates.ipynb e68fb60b'}\n",
    "            snfChrR = snfChrD[abbrev]\n",
    "            newR['meanLOS'] = {'value': (365.*newR['meanPop']['value']\n",
    "                                         / float(snfChrR['\"ANNUAL ADMISSIONS ADULT ONLY\"'])),\n",
    "                               'prov': ('%s 365*min(\"AVERAGE DAILY CENSUS\", .98*\"TOTAL LICENSED BEDS\")/\"ANNUAL ADMISSIONS ADULT ONLY\"'\n",
    "                                        % snfChrFname)\n",
    "                               }\n",
    "        else:\n",
    "            print 'No data for %s' % abbrev\n",
    "    elif rec['category'] in ['HOSPITAL', 'LTAC']:\n",
    "        transProv = ('(%s summed by dest category and normalized) * (%s total discharges * frac to NH or HOSP)'\n",
    "                     % (directMtxFname, hospDspFname))\n",
    "        meanPopProv = \"%s col 'AVERAGE DAILY CENSUS'\" % hospChrFname\n",
    "        nBedsProv = \"%s col 'TOTAL LICENSED BEDS'\" % hospChrFname\n",
    "        if abbrev in hospCsvD:\n",
    "            csvR = hospCsvD[abbrev]\n",
    "            totDsch = csvR['Total Annual Discharges']\n",
    "            totTrans = totDsch * (1.0 - (csvR[u'(4) Indirectly transferred to hospital within 365 days']\n",
    "                                         + csvR[u'(5) Discharged and NOT readmitted to hospital within 365 days']\n",
    "                                         + csvR[u'(1) Patient Died']))\n",
    "            tNHFrac = facToCatD[abbrev]['NURSINGHOME'] if 'NURSINGHOME' in facToCatD[abbrev] else 0.0\n",
    "            tLTACFrac = facToCatD[abbrev]['LTAC'] if 'LTAC' in facToCatD[abbrev] else 0.0\n",
    "            tHospFrac = facToCatD[abbrev]['HOSPITAL'] if 'HOSPITAL' in facToCatD[abbrev] else 0.0\n",
    "            newR['totalDischarges'] = {'value': totDsch,\n",
    "                                      'prov': '%s col B' % hospDspFname}\n",
    "            newR['totalTransfersOut'] = [\n",
    "                {'category': 'NURSINGHOME', 'count': {'value': totTrans*tNHFrac, 'prov': transProv}},\n",
    "                {'category': 'LTAC', 'count': {'value': totTrans*tLTACFrac, 'prov': transProv}},\n",
    "                {'category': 'HOSPITAL', 'count': {'value': totTrans*tHospFrac, 'prov': transProv}}\n",
    "            ]\n",
    "            newR['meanPop'] = {'value': hospChrD[abbrev][u'AVERAGE DAILY CENSUS ADULT ONLY'],\n",
    "                            'prov': meanPopProv}\n",
    "            newR['nBeds'] = {'value':hospChrD[abbrev]['TOTAL ADULT BEDS'],\n",
    "                            'prov': nBedsProv}\n",
    "            losMu = hospLOSD[abbrev]['LN_MEAN']\n",
    "            losSigma = hospLOSD[abbrev]['LN_STD_DEV']\n",
    "            losRV = lognorm(losSigma, scale=math.exp(losMu), loc=0.0)\n",
    "            meanLOS = losRV.mean()\n",
    "            newR['meanLOS'] = {'value': float(losRV.mean()), \n",
    "                               'prov':'%s mean of lognorm(sigma=LN_STD_DEV, mu=LN_MEAN)'% hospLOSFname}\n",
    "            newR['losModel'] = {'parms': [losMu, losSigma], 'pdf': 'lognorm(mu=$0,sigma=$1)',\n",
    "                               'prov': '%s lognorm(sigma=LN_STD_DEV, mu=LN_MEAN)' % hospLOSFname}\n",
    "            newR['totalTransfersIn'] = {'value': totTransIn[abbrev],\n",
    "                                       'prov': ('translate_direct_transfer_data_OC.py d6d33794'\n",
    "                                                + ' with input CSVs bdfa32e4')}\n",
    "            newR['scaleLengthOfStay'] = {'value': 1.0, 'prov': 'default is no scaling'}\n",
    "\n",
    "    newFacDict[abbrev] = newR\n",
    "yaml_tools.save_all(pathTranslate('$(MODELDIR)/facilityfactsUpdated'), newFacDict.values())"
   ]
  },
  {
   "cell_type": "code",
   "execution_count": null,
   "metadata": {
    "collapsed": true
   },
   "outputs": [],
   "source": []
  },
  {
   "cell_type": "code",
   "execution_count": null,
   "metadata": {
    "collapsed": true
   },
   "outputs": [],
   "source": []
  },
  {
   "cell_type": "code",
   "execution_count": null,
   "metadata": {
    "collapsed": true
   },
   "outputs": [],
   "source": []
  },
  {
   "cell_type": "code",
   "execution_count": null,
   "metadata": {
    "collapsed": false
   },
   "outputs": [],
   "source": [
    "from scipy.stats.distributions import rv_continuous, lognorm, weibull_min\n",
    "import math\n",
    "# 1.94 is the ln of the mean\n",
    "# .83 is the ln of stdv\n",
    "mu = 1.94\n",
    "sigma = 0.83\n",
    "rv = lognorm(sigma, math.exp(mu))\n",
    "print rv.mean(), rv.median()\n"
   ]
  },
  {
   "cell_type": "code",
   "execution_count": null,
   "metadata": {
    "collapsed": false
   },
   "outputs": [],
   "source": [
    "mean = math.exp(1.94)\n",
    "stdv = math.exp(0.83)\n",
    "#mu = math.log(mean) - (0.5*stdv*stdv)\n",
    "mu = mean - (0.5*stdv*stdv)\n",
    "#rv = lognorm(stdv, scale=math.exp(mu), loc=0.0)\n",
    "rv1 = lognorm(0.83, scale=mu, loc=0.0)\n",
    "print rv1.median()"
   ]
  },
  {
   "cell_type": "code",
   "execution_count": null,
   "metadata": {
    "collapsed": false
   },
   "outputs": [],
   "source": [
    "mu = 1.94\n",
    "#mu = 0.0\n",
    "sigma = 0.83\n",
    "#sigma = 1.0\n",
    "rv2 = lognorm(sigma, scale=math.exp(mu), loc=0.0)\n",
    "print 'mean:   ', rv2.mean()\n",
    "print 'median: ', rv2.median()"
   ]
  },
  {
   "cell_type": "code",
   "execution_count": null,
   "metadata": {
    "collapsed": false
   },
   "outputs": [],
   "source": [
    "mu = 1.94\n",
    "#mu = 0.0\n",
    "sigma = 0.83\n",
    "#sigma = 1.0\n",
    "rv3 = lognorm(sigma, scale=math.exp(mu), loc=10.0)\n",
    "print 'mean:   ', rv3.mean()\n",
    "print 'median: ', rv3.median()"
   ]
  },
  {
   "cell_type": "code",
   "execution_count": null,
   "metadata": {
    "collapsed": false
   },
   "outputs": [],
   "source": [
    "k, shape1, scale1, shape2, scale2 = 0.5416364701, 0.6074742465, 165.0048283694, 1.3523950354, 20.4852828978\n",
    "\n",
    "rv4 = weibull_min(shape1, scale=scale1)\n",
    "rv5 = weibull_min(shape2, scale=scale2)\n",
    "#mu = 0.0\n",
    "sigma = 0.83\n",
    "#sigma = 1.0\n",
    "rv3 = lognorm(sigma, scale=math.exp(mu), loc=10.0)\n",
    "print 'mean:   ', rv4.mean(), rv5.mean()\n",
    "print 'median: ', rv4.median(), rv5.median()"
   ]
  },
  {
   "cell_type": "code",
   "execution_count": null,
   "metadata": {
    "collapsed": false
   },
   "outputs": [],
   "source": [
    "import numpy as np\n",
    "%matplotlib inline\n",
    "import matplotlib\n",
    "import matplotlib.pyplot as plt\n",
    "fig = plt.figure()\n",
    "axes = plt.subplot(111)\n",
    "x = np.linspace(0, 31)\n",
    "axes.plot(x, rv1.pdf(x), label='rv1')\n",
    "axes.plot(x, rv2.pdf(x), label='rv2')\n",
    "axes.plot(x, rv3.pdf(x), label='rv3')\n",
    "axes.plot(x, rv5.pdf(x), label='rv5')\n",
    "axes.legend()\n",
    "plt.show()"
   ]
  },
  {
   "cell_type": "code",
   "execution_count": null,
   "metadata": {
    "collapsed": false
   },
   "outputs": [],
   "source": [
    "lnRV = lognorm(8.96443506e-01 , scale=math.exp(2.91480721e+00))\n",
    "print lnRV.mean()"
   ]
  },
  {
   "cell_type": "code",
   "execution_count": null,
   "metadata": {
    "collapsed": false
   },
   "outputs": [],
   "source": [
    "from scipy.stats.distributions import expon\n",
    "expRV = expon(scale=(1.0/2.36826336e-04))\n",
    "print expRV.mean()"
   ]
  },
  {
   "cell_type": "code",
   "execution_count": null,
   "metadata": {
    "collapsed": true
   },
   "outputs": [],
   "source": []
  },
  {
   "cell_type": "code",
   "execution_count": null,
   "metadata": {
    "collapsed": true
   },
   "outputs": [],
   "source": []
  }
 ],
 "metadata": {
  "kernelspec": {
   "display_name": "Python 2",
   "language": "python",
   "name": "python2"
  },
  "language_info": {
   "codemirror_mode": {
    "name": "ipython",
    "version": 2
   },
   "file_extension": ".py",
   "mimetype": "text/x-python",
   "name": "python",
   "nbconvert_exporter": "python",
   "pygments_lexer": "ipython2",
   "version": "2.7.12"
  }
 },
 "nbformat": 4,
 "nbformat_minor": 1
}
