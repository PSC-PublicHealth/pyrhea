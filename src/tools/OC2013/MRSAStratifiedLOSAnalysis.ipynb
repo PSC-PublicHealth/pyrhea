{
 "cells": [
  {
   "cell_type": "code",
   "execution_count": 1,
   "metadata": {
    "collapsed": false
   },
   "outputs": [
    {
     "name": "stderr",
     "output_type": "stream",
     "text": [
      "WARNING: Unable to import cbits.Bitset cython extension.\n"
     ]
    }
   ],
   "source": [
    "import logging\n",
    "import yaml\n",
    "import matplotlib.pyplot as plt\n",
    "from scipy.stats.distributions import lognorm\n",
    "import numpy as np\n",
    "import pandas as pd\n",
    "import os.path\n",
    "import pyrheautils as pu\n",
    "from collections import deque, defaultdict\n",
    "from facilitybase import CareTier\n",
    "from tools_util import readModelInputs, getFacDict\n",
    "import phacsl.utils.formats.csv_tools as csv_tools\n",
    "import math\n"
   ]
  },
  {
   "cell_type": "code",
   "execution_count": 2,
   "metadata": {
    "collapsed": false
   },
   "outputs": [
    {
     "name": "stdout",
     "output_type": "stream",
     "text": [
      "totD:  defaultdict(<type 'int'>, {'NURSINGHOME': 7131.619999999999, 'HOSPITAL': 3365.6, 'LTAC': 297.6, 'COMMUNITY': 2728818})\n",
      "nFacD:  defaultdict(<type 'int'>, {'NURSINGHOME': 67, 'HOSPITAL': 22, 'LTAC': 4, 'COMMUNITY': 580})\n",
      "['CSNC', 'HOAG', 'LPAL', 'GGMC', 'MANO', 'COVI', 'CVSB', 'SCGL', 'CVLH', 'PACI', 'BGSJ', 'SEAC', 'SJUD', 'ANHC', 'FLAG', 'FVRH', 'KNOT', 'SMMC', 'EVER', 'HGOR', 'WAMC', 'PALM', 'LAKE', 'COLL', 'GGCH', 'STAN', 'FPCC', 'GORD', 'MSLG', 'CHAP', 'FOCC', 'KAIA', 'HVAL', 'CARE', 'SCRT', 'SNMR', 'BEAC', 'VICT', 'PKVW', 'UCIM', 'VIVA', 'LHAB', 'HSOU', 'WAEC', 'TOWN', 'HELP', 'OCGB', 'EXTW', 'ROYL', 'LEIS', 'ACNC', 'ALTA', 'WINA', 'NSUB', 'COCT', 'FREE', 'PREG', 'ELIZ', 'PSUP', 'CVPL', 'TERR', 'PANA', 'MESA', 'LAMC', 'BPNC', 'WINF', 'PVIS', 'GREE', 'HVCC', 'ORRH', 'EDNA', 'ANRG', 'BVCC', 'LPIH', 'NNRC', 'BGYL', 'KINB', 'KINO', 'KINW', 'CAPO', 'ATCC', 'MISS', 'ANGL', 'ALAM', 'OCMM', 'WLNT', 'RGNT', 'QUAK', 'NEWO', 'GPCC', 'SJOS', 'PLAC', 'HBHO']\n"
     ]
    }
   ],
   "source": [
    "runDesc = '/home/welling/git/pyRHEA_github/src/sim/week_run_OC.yaml'\n",
    "\n",
    "inputDict = readModelInputs(runDesc)\n",
    "facDict = getFacDict(inputDict)\n",
    "\n",
    "totD = defaultdict(int)\n",
    "nFacD = defaultdict(int)\n",
    "for fac, rec in facDict.items():\n",
    "    nFacD[rec['category']] += 1\n",
    "    totD[rec['category']] += rec['meanPop']['value']\n",
    "print 'totD: ', totD\n",
    "print 'nFacD: ', nFacD\n",
    "\n",
    "# Drop annoying community entries\n",
    "dropL = []\n",
    "for abbrev, rec in facDict.items():\n",
    "    if rec['category'] == 'COMMUNITY':\n",
    "        dropL.append(abbrev)\n",
    "for abbrev in dropL:\n",
    "    del facDict[abbrev]\n",
    "print facDict.keys()"
   ]
  },
  {
   "cell_type": "code",
   "execution_count": 3,
   "metadata": {
    "collapsed": false
   },
   "outputs": [
    {
     "name": "stdout",
     "output_type": "stream",
     "text": [
      "[u'CODE', u'N', u'LN_MEAN', u'LN_STD DEV', u'LN_MINIMUM', u'LN_MAXIMUM', u'LN_25TH PCTL', u'LN_75TH PCTL', u'LN_QUARTILE RANGE', u'']\n"
     ]
    }
   ],
   "source": [
    "mMinusFName = pu.pathTranslate('$(MODELDIR)/Updated_MRSA-Stratified_LOS_Distributions_for_RHEA_2.0_-_10-15-2018_MSRAMINUS_LOS_LE365.csv')\n",
    "with open(mMinusFName, 'rU') as f:\n",
    "          mMinusKeys, mMinusRecs = csv_tools.parseCSV(f)\n",
    "print mMinusKeys\n",
    "mMinusD = {rec['CODE']: rec for rec in mMinusRecs}"
   ]
  },
  {
   "cell_type": "code",
   "execution_count": 4,
   "metadata": {
    "collapsed": false
   },
   "outputs": [
    {
     "name": "stdout",
     "output_type": "stream",
     "text": [
      "[u'CODE', u'N', u'LN_MEAN', u'LN_STD DEV', u'LN_MINIMUM', u'LN_MAXIMUM', u'LN_25TH PCTL', u'LN_75TH PCTL', u'LN_QUARTILE RANGE', u'']\n"
     ]
    }
   ],
   "source": [
    "mPlusFName = pu.pathTranslate('$(MODELDIR)/Updated_MRSA-Stratified_LOS_Distributions_for_RHEA_2.0_-_10-15-2018_MSRAPLUS_LOS_LE365.csv')\n",
    "with open(mPlusFName, 'rU') as f:\n",
    "          mPlusKeys, mPlusRecs = csv_tools.parseCSV(f)\n",
    "print mPlusKeys\n",
    "mPlusD = {rec['CODE']: rec for rec in mPlusRecs}"
   ]
  },
  {
   "cell_type": "code",
   "execution_count": 5,
   "metadata": {
    "collapsed": false
   },
   "outputs": [
    {
     "name": "stdout",
     "output_type": "stream",
     "text": [
      "5.162746096033781\n"
     ]
    }
   ],
   "source": [
    "abbrev = 'FVRH'\n",
    "losMu = mMinusD[abbrev]['LN_MEAN']\n",
    "losSigma = mMinusD[abbrev]['LN_STD DEV']\n",
    "losRV = lognorm(losSigma, scale=math.exp(losMu), loc=0.0)\n",
    "print losRV.mean()"
   ]
  },
  {
   "cell_type": "code",
   "execution_count": 6,
   "metadata": {
    "collapsed": false
   },
   "outputs": [
    {
     "name": "stdout",
     "output_type": "stream",
     "text": [
      "[u'ANGL', u'ANRG', u'CHAP', u'FVRH', u'GGMC', u'HBHO', u'HGOR', u'HOAG', u'KAIA', u'LAMC', u'LPIH', u'MISS', u'MSLG', u'OCGB', u'OCMM', u'PLAC', u'SCGL', u'SJOS', u'SJUD', u'SMMC', u'UCIM', u'WAMC']\n",
      "[u'COLL', u'HSOU', u'KINB', u'KINW']\n"
     ]
    }
   ],
   "source": [
    "hospNames = [abbrev for abbrev in mMinusD\n",
    "             if mMinusD[abbrev]['LN_MEAN'] != '' and facDict[abbrev]['category'] == 'HOSPITAL']\n",
    "hospNames.sort()\n",
    "print hospNames\n",
    "ltacNames = [abbrev for abbrev in mMinusD\n",
    "             if mMinusD[abbrev]['LN_MEAN'] != '' and facDict[abbrev]['category'] == 'LTAC']\n",
    "ltacNames.sort()\n",
    "print ltacNames"
   ]
  },
  {
   "cell_type": "code",
   "execution_count": 7,
   "metadata": {
    "collapsed": false
   },
   "outputs": [],
   "source": [
    "for fac in hospNames + ltacNames:\n",
    "    losMu = mMinusD[fac]['LN_MEAN']\n",
    "    losSigma = mMinusD[fac]['LN_STD DEV']\n",
    "    mMinusD[fac]['crv'] = lognorm(losSigma, scale=math.exp(losMu), loc=0.0)\n",
    "\n",
    "    losMu = mPlusD[fac]['LN_MEAN']\n",
    "    losSigma = mPlusD[fac]['LN_STD DEV']\n",
    "    mPlusD[fac]['crv'] = lognorm(losSigma, scale=math.exp(losMu), loc=0.0)\n"
   ]
  },
  {
   "cell_type": "code",
   "execution_count": 8,
   "metadata": {
    "collapsed": false
   },
   "outputs": [],
   "source": [
    "NSAMP = 5\n",
    "\n",
    "def genWts(dct, nameL):\n",
    "    nNm = len(nameL)\n",
    "    nTot = sum([dct[fac]['N'] for fac in nameL])\n",
    "    wts = np.zeros(nNm)\n",
    "    for idx, fac in enumerate(nameL):\n",
    "        wts[idx] = float(dct[fac]['N'])/float(nTot)\n",
    "    return wts\n",
    "\n",
    "nPlusWts = genWts(mPlusD, hospNames)\n",
    "#print nPlusWts\n",
    "#print sum(nPlusWts)\n",
    "nMinusWts = genWts(mMinusD, hospNames)\n",
    "#print sum(nMinusWts)"
   ]
  },
  {
   "cell_type": "code",
   "execution_count": 9,
   "metadata": {
    "collapsed": false
   },
   "outputs": [],
   "source": [
    "def sampleMixture(dct, nameL):\n",
    "    wts = genWts(dct, nameL)\n",
    "    randIndices = np.random.choice(len(nameL), size=NSAMP, p=wts)\n",
    "    sampA = np.empty((NSAMP, len(nameL)))\n",
    "    for idx, fac in enumerate(nameL):\n",
    "        sampA[:, idx] = dct[fac]['crv'].rvs(NSAMP)\n",
    "    mixV = np.fromiter([sampA[col, randIndices[col]] for col in xrange(NSAMP)], dtype=np.float)\n",
    "    return mixV\n",
    "#nPlusRVs = [mPlusD[idx]['crv'] for idx in xrange(len(hospNames))]\n",
    "#samps = \n",
    "samps = sampleMixture(mPlusD, hospNames)\n",
    "#print samps"
   ]
  },
  {
   "cell_type": "code",
   "execution_count": 10,
   "metadata": {
    "collapsed": false
   },
   "outputs": [
    {
     "data": {
      "image/png": "[encoded data removed]",
      "text/plain": [
       "<Figure size 432x288 with 1 Axes>"
      ]
     },
     "metadata": {},
     "output_type": "display_data"
    }
   ],
   "source": [
    "NSAMP = 1000000\n",
    "plt.hist(sampleMixture(mPlusD, hospNames), bins=100, label='MRSA+')\n",
    "plt.hist(sampleMixture(mMinusD, hospNames), bins=100, label='MRSA-')\n",
    "plt.title('Hospitals')\n",
    "plt.legend()\n",
    "plt.show()"
   ]
  },
  {
   "cell_type": "code",
   "execution_count": 11,
   "metadata": {
    "collapsed": false
   },
   "outputs": [
    {
     "data": {
      "image/png": "[encoded data removed]",
      "text/plain": [
       "<Figure size 432x288 with 1 Axes>"
      ]
     },
     "metadata": {},
     "output_type": "display_data"
    }
   ],
   "source": [
    "NSAMP = 1000000\n",
    "plt.hist(sampleMixture(mPlusD, ltacNames), bins=100, label='MRSA+')\n",
    "plt.hist(sampleMixture(mMinusD, ltacNames), bins=100, label='MRSA-')\n",
    "plt.title('LTACs')\n",
    "plt.legend()\n",
    "plt.show()"
   ]
  },
  {
   "cell_type": "code",
   "execution_count": 12,
   "metadata": {
    "collapsed": false
   },
   "outputs": [
    {
     "data": {
      "image/png": "[encoded data removed]",
      "text/plain": [
       "<Figure size 432x288 with 1 Axes>"
      ]
     },
     "metadata": {},
     "output_type": "display_data"
    },
    {
     "name": "stdout",
     "output_type": "stream",
     "text": [
      "mean:  3.359660235850788\n",
      "stdv:  7.648198556814007\n"
     ]
    }
   ],
   "source": [
    "NSAMP = 1000000\n",
    "delayV = sampleMixture(mPlusD, hospNames) - sampleMixture(mMinusD, hospNames)\n",
    "plt.hist(delayV, bins=100)\n",
    "plt.title('Hospital delay')\n",
    "plt.show()\n",
    "print 'mean: ', np.mean(delayV)\n",
    "print 'stdv: ', np.std(delayV)"
   ]
  },
  {
   "cell_type": "code",
   "execution_count": 13,
   "metadata": {
    "collapsed": false
   },
   "outputs": [
    {
     "data": {
      "image/png": "[encoded data removed]",
      "text/plain": [
       "<Figure size 432x288 with 1 Axes>"
      ]
     },
     "metadata": {},
     "output_type": "display_data"
    },
    {
     "name": "stdout",
     "output_type": "stream",
     "text": [
      "mean:  15.022576933643187\n",
      "stdv:  36.93461927586869\n"
     ]
    }
   ],
   "source": [
    "NSAMP = 1000000\n",
    "delayV = sampleMixture(mPlusD, ltacNames) - sampleMixture(mMinusD, ltacNames)\n",
    "plt.hist(delayV, bins=100)\n",
    "plt.title('LTAC delay')\n",
    "plt.show()\n",
    "print 'mean: ', np.mean(delayV)\n",
    "print 'stdv: ', np.std(delayV)"
   ]
  },
  {
   "cell_type": "code",
   "execution_count": null,
   "metadata": {
    "collapsed": true
   },
   "outputs": [],
   "source": []
  }
 ],
 "metadata": {
  "kernelspec": {
   "display_name": "Python2 (myenv)",
   "language": "python",
   "name": "myenv"
  },
  "language_info": {
   "codemirror_mode": {
    "name": "ipython",
    "version": 2
   },
   "file_extension": ".py",
   "mimetype": "text/x-python",
   "name": "python",
   "nbconvert_exporter": "python",
   "pygments_lexer": "ipython2",
   "version": "2.7.12"
  }
 },
 "nbformat": 4,
 "nbformat_minor": 2
}
