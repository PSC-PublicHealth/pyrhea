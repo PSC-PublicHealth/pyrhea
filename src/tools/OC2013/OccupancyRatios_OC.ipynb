{
 "cells": [
  {
   "cell_type": "code",
   "execution_count": null,
   "metadata": {
    "collapsed": true
   },
   "outputs": [],
   "source": [
    "%matplotlib inline\n",
    "import matplotlib.pyplot as plt\n",
    "import numpy as np\n",
    "import yaml\n",
    "import phacsl.utils.formats.csv_tools as csv_tools\n",
    "import os.path\n",
    "from phacsl.utils.collections.phacollections import SingletonMetaClass\n",
    "import pyrheautils\n",
    "import random\n",
    "from collections import deque, defaultdict\n",
    "from policybase import TransferDestinationPolicy as BaseTransferDestinationPolicy\n",
    "from facilitybase import CareTier, tierToQueueMap\n",
    "from tools_util import readModelInputs, getFacDict\n"
   ]
  },
  {
   "cell_type": "code",
   "execution_count": null,
   "metadata": {
    "collapsed": false
   },
   "outputs": [],
   "source": [
    "runDesc = '/home/welling/git/pyRHEA_github/src/sim/twoyear_allfac_OC.yaml'\n",
    "inputDict = readModelInputs(runDesc)\n",
    "facDict = getFacDict(inputDict)\n",
    "\n",
    "# Drop annoying community entries\n",
    "dropL = []\n",
    "for abbrev, rec in facDict.items():\n",
    "    if rec['category'] == 'COMMUNITY':\n",
    "        dropL.append(abbrev)\n",
    "for abbrev in dropL:\n",
    "    del facDict[abbrev]\n",
    "\n",
    "_constants = pyrheautils.importConstants(pyrheautils.pathTranslate('$(MODELDIR)/constants/indirecttransferdestination_constants.yaml'),\n",
    "                                        '../schemata/indirecttransferdestination_constants_schema.yaml')\n",
    "print _constants['transferFilePaths']"
   ]
  },
  {
   "cell_type": "code",
   "execution_count": null,
   "metadata": {
    "collapsed": false
   },
   "outputs": [],
   "source": []
  },
  {
   "cell_type": "code",
   "execution_count": null,
   "metadata": {
    "collapsed": false
   },
   "outputs": [],
   "source": [
    "with open('/home/welling/git/pyRHEA_github/src/sim/time_samples.yaml', 'r') as f:\n",
    "    sampJSON = yaml.load(f)\n",
    "sampD = {}\n",
    "for ent in sampJSON:\n",
    "    if ent['abbrev'] not in sampD:\n",
    "        sampD[ent['abbrev']] = []\n",
    "    if 'occupancy' in ent['samples'] and ent['time'] >= 800 and ent['time'] <= 830:\n",
    "        sampD[ent['abbrev']].extend(ent['samples']['occupancy'])\n",
    "print sampD['SJUD']\n",
    "                                        "
   ]
  },
  {
   "cell_type": "code",
   "execution_count": null,
   "metadata": {
    "collapsed": false
   },
   "outputs": [],
   "source": [
    "print len(sampD['SJUD'])"
   ]
  },
  {
   "cell_type": "code",
   "execution_count": null,
   "metadata": {
    "collapsed": false
   },
   "outputs": [],
   "source": [
    "meanOccD = {}\n",
    "for abbrev, valL in sampD.items():\n",
    "    if not valL:\n",
    "        continue\n",
    "    meanV = sum(valL)/len(valL)\n",
    "    meanOccD[abbrev] = meanV\n",
    "#print meanOccD\n"
   ]
  },
  {
   "cell_type": "code",
   "execution_count": null,
   "metadata": {
    "collapsed": false
   },
   "outputs": [],
   "source": [
    "nBedsD = {}\n",
    "for abbrev in sampD:\n",
    "    nBedsD[abbrev] = facDict[abbrev]['nBeds']['value']\n",
    "print nBedsD['SJUD']"
   ]
  },
  {
   "cell_type": "code",
   "execution_count": null,
   "metadata": {
    "collapsed": false
   },
   "outputs": [],
   "source": [
    "abbrevL = sampD.keys()\n",
    "abbrevL.sort()\n",
    "recs = []\n",
    "keys = ['abbrev', 'nBeds', 'meanPop', 'occupancy']\n",
    "for abbrev in abbrevL:\n",
    "    occVal = meanOccD[abbrev] if abbrev in meanOccD else None\n",
    "    recs.append({'abbrev': abbrev, 'nBeds': nBedsD[abbrev], 'meanPop': facDict[abbrev]['meanPop']['value'],\n",
    "                 'occupancy': occVal})\n",
    "with open('tmp.csv', 'w') as f:\n",
    "    csv_tools.writeCSV(f, keys, recs)\n",
    "                 "
   ]
  },
  {
   "cell_type": "code",
   "execution_count": null,
   "metadata": {
    "collapsed": false
   },
   "outputs": [],
   "source": [
    "sampD = defaultdict(list)\n",
    "ratioTplL = []\n",
    "for abbrev in abbrevL:\n",
    "    cat = facDict[abbrev]['category']\n",
    "    if abbrev in meanOccD and meanOccD[abbrev] is not None:\n",
    "        ratio = float(meanOccD[abbrev])/float(nBedsD[abbrev])\n",
    "        sampD[cat].append(ratio)\n",
    "        ratioTplL.append((ratio, abbrev))\n",
    "    #sampD[cat].append(float(meanOccD[abbrev]/float(facDict[abbrev]['meanPop']['value'])))\n",
    "#print sampD\n",
    "ratioTplL.sort()\n",
    "print ratioTplL[-8:]\n",
    "\n",
    "                      "
   ]
  },
  {
   "cell_type": "code",
   "execution_count": null,
   "metadata": {
    "collapsed": false
   },
   "outputs": [],
   "source": [
    "sampGpL = []\n",
    "labelL = []\n",
    "for k, v in sampD.items():\n",
    "    sampGpL.append(v)\n",
    "    labelL.append(k)"
   ]
  },
  {
   "cell_type": "code",
   "execution_count": null,
   "metadata": {
    "collapsed": false,
    "scrolled": true
   },
   "outputs": [],
   "source": [
    "%config InlineBackend.print_figure_kwargs = {'bbox_inches':None}\n",
    "plt.rcParams[\"figure.figsize\"] = [12, 9]\n",
    "fig, axes = plt.subplots(1,1)\n",
    "axes.hist(sampGpL, bins=20, stacked=True, label=labelL)\n",
    "axes.set_ylabel('counts')\n",
    "axes.set_xlabel('ratio of occupancy to num beds')\n",
    "axes.set_title('Occupancy-to-beds ratio for each facility')\n",
    "axes.legend()\n",
    "plt.savefig('test.png')"
   ]
  },
  {
   "cell_type": "code",
   "execution_count": null,
   "metadata": {
    "collapsed": true
   },
   "outputs": [],
   "source": []
  }
 ],
 "metadata": {
  "kernelspec": {
   "display_name": "Python 2",
   "language": "python",
   "name": "python2"
  },
  "language_info": {
   "codemirror_mode": {
    "name": "ipython",
    "version": 2
   },
   "file_extension": ".py",
   "mimetype": "text/x-python",
   "name": "python",
   "nbconvert_exporter": "python",
   "pygments_lexer": "ipython2",
   "version": "2.7.12"
  }
 },
 "nbformat": 4,
 "nbformat_minor": 1
}
