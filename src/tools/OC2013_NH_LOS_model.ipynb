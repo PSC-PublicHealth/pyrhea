{
 "cells": [
  {
   "cell_type": "markdown",
   "metadata": {},
   "source": [
    "## This notebook tests LOS internal consistency for NH facilityfacts files ##"
   ]
  },
  {
   "cell_type": "code",
   "execution_count": null,
   "metadata": {
    "collapsed": false
   },
   "outputs": [],
   "source": [
    "import os\n",
    "import pandas as pd\n",
    "import numpy as np\n",
    "import matplotlib.pyplot as plt\n",
    "from scipy.stats import expon\n",
    "import scipy.optimize as op\n",
    "from stats import fullCRVFromPDFModel, CachedCDFGenerator\n",
    "import tools_util as tu\n",
    "import pyrheautils as pu"
   ]
  },
  {
   "cell_type": "code",
   "execution_count": null,
   "metadata": {
    "collapsed": false
   },
   "outputs": [],
   "source": [
    "runDesc = '/home/welling/git/pyRHEA_github/src/sim/twoyear_allfac_OC.yaml'\n",
    "inputDict = tu.readModelInputs(runDesc)\n",
    "pu.prepPathTranslations(inputDict)\n",
    "facDict = tu.getFacDict(inputDict)\n"
   ]
  },
  {
   "cell_type": "code",
   "execution_count": null,
   "metadata": {
    "collapsed": false
   },
   "outputs": [],
   "source": [
    "print 'hello world'\n",
    "print facDict['NEWO']['losModel']"
   ]
  },
  {
   "cell_type": "code",
   "execution_count": null,
   "metadata": {
    "collapsed": false
   },
   "outputs": [],
   "source": [
    "xV = []\n",
    "yV = []\n",
    "labels = []\n",
    "for abbrev, rec in facDict.items():\n",
    "    if rec['category'] == 'NURSINGHOME':\n",
    "        print abbrev\n",
    "        losModel = facDict[abbrev]['losModel']\n",
    "        losCRV = fullCRVFromPDFModel(losModel)\n",
    "        xV.append(rec['meanLOS']['value'])\n",
    "        yV.append(losCRV.mean())\n",
    "        labels.append(abbrev)\n",
    "        \n"
   ]
  },
  {
   "cell_type": "code",
   "execution_count": null,
   "metadata": {
    "collapsed": false
   },
   "outputs": [],
   "source": [
    "xVV = np.asarray(xV)\n",
    "yVV = np.asarray(yV)\n",
    "plt.plot(xVV, yVV, '*')\n",
    "plt.plot([xVV.min(), xVV.max()], [xVV.min(), xVV.max()], '-')\n",
    "plt.xlabel('meanLOS')\n",
    "plt.ylabel('LOS PDF mean')\n",
    "for x, y, abbrev in zip(xV, yV, labels):\n",
    "    ratio = x/y\n",
    "    if ratio < 0.99 or ratio > 1.01 or abbrev in ['EXTW']:\n",
    "        print abbrev, x, y, facDict[abbrev]['losModel']\n",
    "        plt.annotate(abbrev, xy=(x, y))\n",
    "plt.show()"
   ]
  },
  {
   "cell_type": "code",
   "execution_count": null,
   "metadata": {
    "collapsed": false
   },
   "outputs": [],
   "source": [
    "lm = facDict['STAN']['losModel'].copy()\n",
    "lm['parms'] = lm['parms'][:]  # avoid overwriting\n",
    "print lm"
   ]
  },
  {
   "cell_type": "code",
   "execution_count": null,
   "metadata": {
    "collapsed": false
   },
   "outputs": [],
   "source": [
    "lm['parms'][0] = 0.0\n",
    "print lm\n",
    "print facDict['STAN']['losModel']"
   ]
  },
  {
   "cell_type": "code",
   "execution_count": null,
   "metadata": {
    "collapsed": false
   },
   "outputs": [],
   "source": [
    "print lm"
   ]
  },
  {
   "cell_type": "code",
   "execution_count": null,
   "metadata": {
    "collapsed": true
   },
   "outputs": [],
   "source": [
    "crv = fullCRVFromPDFModel(facDict['STAN']['losModel'])"
   ]
  },
  {
   "cell_type": "code",
   "execution_count": null,
   "metadata": {
    "collapsed": false
   },
   "outputs": [],
   "source": [
    "print crv.mean()"
   ]
  },
  {
   "cell_type": "code",
   "execution_count": null,
   "metadata": {
    "collapsed": false
   },
   "outputs": [],
   "source": [
    "from scipy.stats import weibull_min\n",
    "print weibull_min(0.610925, scale=162.329318).mean()"
   ]
  },
  {
   "cell_type": "code",
   "execution_count": null,
   "metadata": {
    "collapsed": false
   },
   "outputs": [],
   "source": [
    "baseScale = 20.559685\n",
    "baseK = 1.352236\n",
    "nonFrailCRV = weibull_min(baseK, scale=baseScale)\n",
    "print nonFrailCRV.mean()"
   ]
  },
  {
   "cell_type": "code",
   "execution_count": null,
   "metadata": {
    "collapsed": false
   },
   "outputs": [],
   "source": [
    "xV = np.linspace(0.0, 100.0, 101)\n",
    "yV = nonFrailCRV.pdf(xV)\n",
    "plt.plot(xV, yV, '-')\n",
    "plt.plot([nonFrailCRV.mean()], [0.0], '*')\n",
    "plt.show()"
   ]
  },
  {
   "cell_type": "code",
   "execution_count": null,
   "metadata": {
    "collapsed": true
   },
   "outputs": [],
   "source": [
    "def pltCRV(crv, scale=1.0, label=None, xlim=None):\n",
    "    mv = crv.mean()\n",
    "    if xlim is None:\n",
    "        xV = np.linspace(0.0, round(3*mv), 101)\n",
    "    else:\n",
    "        xV = np.linspace(0.0, xlim, 101)\n",
    "    yV = scale * crv.pdf(xV)\n",
    "    if label is None:\n",
    "        plt.plot(xV, yV, '-')\n",
    "    else:\n",
    "        plt.plot(xV, yV, '-', label=label)\n",
    "    plt.plot([mv], [0.0], '*')\n",
    "    print mv\n"
   ]
  },
  {
   "cell_type": "code",
   "execution_count": null,
   "metadata": {
    "collapsed": false
   },
   "outputs": [],
   "source": [
    "pltCRV(nonFrailCRV)\n",
    "pltCRV(weibull_min(baseK, scale=1.5*baseScale))\n",
    "plt.show()"
   ]
  },
  {
   "cell_type": "code",
   "execution_count": null,
   "metadata": {
    "collapsed": false
   },
   "outputs": [],
   "source": [
    "frailCRV = weibull_min(0.610925, scale=162.329318)\n",
    "pltCRV(frailCRV)\n",
    "plt.show()"
   ]
  },
  {
   "cell_type": "code",
   "execution_count": null,
   "metadata": {
    "collapsed": false
   },
   "outputs": [],
   "source": [
    "for idx in xrange(10000):\n",
    "    sv = frailCRV.cdf(float(idx))\n",
    "    ev = frailCRV.cdf(float(idx+1))\n",
    "    chance = (ev-sv)/(1.0-sv)\n",
    "    if np.random.random() < chance:\n",
    "        print idx, chance\n"
   ]
  },
  {
   "cell_type": "code",
   "execution_count": null,
   "metadata": {
    "collapsed": false
   },
   "outputs": [],
   "source": [
    "import phacsl.utils.formats.csv_tools as csv_tools\n",
    "keys, recs = csv_tools.parseCSV(pu.pathTranslate('$(MODELDIR)/'\n",
    "                                                 'OC_Nursing_Home_LOS_Line-Lists_for_RHEA_2.0_-_2011-2015_-_Adult_Only_-_09-29-2017_FINAL_NH_LOS_Line_List.csv'))\n",
    "print keys\n",
    "samps = []\n",
    "for rec in recs:\n",
    "    if rec['CODE'] == 'NEWO':\n",
    "        samps.append(rec['LOS'])"
   ]
  },
  {
   "cell_type": "code",
   "execution_count": null,
   "metadata": {
    "collapsed": false,
    "scrolled": false
   },
   "outputs": [],
   "source": [
    "%config InlineBackend.print_figure_kwargs = {'bbox_inches':None}\n",
    "plt.rcParams[\"figure.figsize\"] = [16, 10]\n",
    "\n",
    "baseScale = 20.559685\n",
    "baseK = 1.352236\n",
    "nonFrailCRV = weibull_min(baseK, scale=baseScale)\n",
    "scaledNonFrailCRV = weibull_min(baseK, scale=2.4*baseScale)\n",
    "\n",
    "frailScale = 162.329318\n",
    "frailK = 0.610925\n",
    "frailCRV = weibull_min(frailK, scale=frailScale)\n",
    "scaledFrailCRV = weibull_min(frailK, scale=2.4*frailScale)\n",
    "\n",
    "\n",
    "sampV = np.asarray(samps)\n",
    "newoLOSModel = facDict['NEWO']['losModel']\n",
    "newoCRV = fullCRVFromPDFModel(newoLOSModel)\n",
    "xlim = 300\n",
    "#xlim = None\n",
    "plt.hist(sampV, bins=100, range=(0.0, xlim), density=True, label='LINE_LIST samples')\n",
    "#plt.hist(sampV, bins=100, density=True, label='LINE_LIST samples', log=True)\n",
    "#pltCRV(newoCRV, label='NEWO scaled LOS', xlim=xlim)\n",
    "lmda = newoLOSModel['parms'][0]\n",
    "pltCRV(frailCRV, scale=lmda, label='FRAIL before scaling', xlim=xlim)\n",
    "pltCRV(nonFrailCRV, scale=1.0-lmda, label='non-FRAIL before scaling', xlim=xlim)\n",
    "pltCRV(scaledFrailCRV, scale=lmda, label='FRAIL after scaling', xlim=xlim)\n",
    "pltCRV(scaledNonFrailCRV, scale=1.0-lmda, label='non-FRAIL after scaling', xlim=xlim)\n",
    "\n",
    "unscaledLOSModel = newoLOSModel.copy()\n",
    "unscaledLOSModel['parms'] = newoLOSModel['parms'][:]  # avoid overwriting\n",
    "print unscaledLOSModel['parms']\n",
    "unscaledLOSModel['parms'][4] = baseScale\n",
    "unscaledLOSModel['parms'][2] = frailScale\n",
    "print unscaledLOSModel['parms']\n",
    "unscaledFullCRV = fullCRVFromPDFModel(unscaledLOSModel)\n",
    "pltCRV(unscaledFullCRV, label='NEWO LOS model before scaling', xlim=xlim)\n",
    "\n",
    "plt.legend()\n",
    "plt.show()"
   ]
  },
  {
   "cell_type": "code",
   "execution_count": null,
   "metadata": {
    "collapsed": false
   },
   "outputs": [],
   "source": [
    "print nonFrailCRV.mean()\n",
    "print frailCRV.mean()"
   ]
  },
  {
   "cell_type": "code",
   "execution_count": null,
   "metadata": {
    "collapsed": false
   },
   "outputs": [],
   "source": [
    "samps = []\n",
    "for idx in range(10):\n",
    "    samps.append(frailCRV.rvs(100).mean())\n",
    "print np.asarray(samps).mean()"
   ]
  },
  {
   "cell_type": "code",
   "execution_count": null,
   "metadata": {
    "collapsed": false
   },
   "outputs": [],
   "source": [
    "samps = []\n",
    "for idx in range(10):\n",
    "    samps.append(nonFrailCRV.rvs(100).sum()/100.0)\n",
    "print np.asarray(samps).mean()"
   ]
  },
  {
   "cell_type": "code",
   "execution_count": null,
   "metadata": {
    "collapsed": false
   },
   "outputs": [],
   "source": [
    "print facDict['NEWO']['losModel']"
   ]
  },
  {
   "cell_type": "code",
   "execution_count": null,
   "metadata": {
    "collapsed": false
   },
   "outputs": [],
   "source": [
    "import cPickle as pickle\n",
    "with open('/home/welling/git/pyRHEA_github/src/sim/tmp.pkl', 'rU') as f:\n",
    "    sampBins, sampCounts = pickle.load(f)\n",
    "print sampBins\n",
    "print sampCounts\n",
    "ctSum = float(sum(sampCounts))\n",
    "scaledCounts = [float(ct)/ctSum for ct in sampCounts]\n",
    "print scaledCounts"
   ]
  },
  {
   "cell_type": "code",
   "execution_count": null,
   "metadata": {
    "collapsed": false
   },
   "outputs": [],
   "source": [
    "wtSum = 0.0\n",
    "for x, ct in zip(sampBins, sampCounts):\n",
    "    wtSum += x * ct\n",
    "print wtSum/ctSum"
   ]
  },
  {
   "cell_type": "code",
   "execution_count": null,
   "metadata": {
    "collapsed": false
   },
   "outputs": [],
   "source": [
    "newoCRV = fullCRVFromPDFModel(facDict['NEWO']['losModel'])\n",
    "#plt.hist(sampV, bins=100, range=(0,300), density=True, label='double Weibull CRV')\n",
    "pltCRV(newoCRV, label='NEWO LINE_LIST')\n",
    "meanLOS = facDict['NEWO']['meanLOS']['value']\n",
    "plt.plot((meanLOS, meanLOS), (0.0, 0.03), '-')\n",
    "rects = plt.bar(sampBins, scaledCounts, width=1.0,  color='b')\n",
    "\n",
    "plt.legend()\n",
    "plt.show()"
   ]
  },
  {
   "cell_type": "code",
   "execution_count": null,
   "metadata": {
    "collapsed": false
   },
   "outputs": [],
   "source": [
    "cG = CachedCDFGenerator(newoCRV)\n",
    "totPatients = 10000.0\n",
    "nPatients = totPatients\n",
    "low = 0.0\n",
    "tripleL = []\n",
    "while low < 300.0:\n",
    "    high = low + 1.0\n",
    "    drop = cG.intervalProb(low, high) * nPatients\n",
    "    tripleL.append((low, high, drop))\n",
    "    nPatients -= drop\n",
    "    low += 1.0\n",
    "print '%s patients remain' % nPatients\n",
    "\n",
    "\n",
    "synthBins = []\n",
    "synthCts = []\n",
    "for low, high, drop in tripleL:\n",
    "    synthBins.append(0.5*(low + high))\n",
    "    synthCts.append(drop/totPatients)\n",
    "rects = plt.bar(synthBins, synthCts, width=1.0,  color='b', label='fractions', alpha=0.3)\n",
    "pltCRV(newoCRV, label='NEWO CRV')\n",
    "plt.legend()\n",
    "plt.show()\n",
    "print sum([a*b for a, b in zip(synthBins, synthCts)])/totPatients\n"
   ]
  },
  {
   "cell_type": "code",
   "execution_count": null,
   "metadata": {
    "collapsed": false
   },
   "outputs": [],
   "source": [
    "df = pd.read_msgpack('/home/welling/git/pyRHEA_github/src/sim/cdf_intervalprob_results.mpz')\n",
    "df.columns"
   ]
  },
  {
   "cell_type": "code",
   "execution_count": null,
   "metadata": {
    "collapsed": false
   },
   "outputs": [],
   "source": [
    "newoDF = df[df.abbrev == 'NEWO']\n",
    "print newoDF['abbrev'].count()\n",
    "xL = []\n",
    "yL = []\n",
    "for row in xrange(newoDF['abbrev'].count()):\n",
    "    ser = newoDF.iloc[row]\n",
    "    xL.append(ser['start'])\n",
    "    yL.append(ser['rslt'])\n",
    "plt.plot(xL, yL, 'o', alpha=0.1)\n",
    "rects = plt.bar(synthBins, synthCts, width=1.0,  color='b', label='fractions')\n",
    "\n",
    "plt.show()\n"
   ]
  },
  {
   "cell_type": "code",
   "execution_count": null,
   "metadata": {
    "collapsed": false
   },
   "outputs": [],
   "source": [
    "uniqueDF = newoDF.drop_duplicates(subset=['start', 'end', 'abbrev'])\n",
    "uniqueDF.columns\n",
    "all(uniqueDF['end'] - uniqueDF['start'] == 1)\n",
    "#uniqueDF['dt'] = (uniqueDF['end'] - uniqueDF['start']).copy()\n",
    "#uniqueDF['dt'] == 1"
   ]
  },
  {
   "cell_type": "code",
   "execution_count": null,
   "metadata": {
    "collapsed": false
   },
   "outputs": [],
   "source": [
    "vL = []\n",
    "wt = 1.0\n",
    "for idx, row in uniqueDF.iterrows():\n",
    "    frac = row['rslt']\n",
    "    wt *= (1.0-frac)\n",
    "    vL.append(wt)\n",
    "uniqueDF['accumwt'] = np.asarray(vL)\n",
    "#uniqueDF"
   ]
  },
  {
   "cell_type": "code",
   "execution_count": null,
   "metadata": {
    "collapsed": false,
    "scrolled": true
   },
   "outputs": [],
   "source": [
    "plt.plot(0.5*(uniqueDF['start']+uniqueDF['end']), uniqueDF['accumwt'])\n",
    "xV = np.linspace(0.0, 300.0, 100)\n",
    "yV = 1.0 - newoCRV.cdf(xV)\n",
    "plt.plot(xV, yV, 'x')\n",
    "plt.show()"
   ]
  },
  {
   "cell_type": "code",
   "execution_count": null,
   "metadata": {
    "collapsed": false
   },
   "outputs": [],
   "source": [
    "lst = [(x, y) for x, y in zip(xL, yL)]\n",
    "lst.sort()\n",
    "print lst[:10]"
   ]
  },
  {
   "cell_type": "code",
   "execution_count": null,
   "metadata": {
    "collapsed": false
   },
   "outputs": [],
   "source": [
    "plt.hist([a for a,b in lst], bins=30, log=True)\n",
    "plt.show()"
   ]
  },
  {
   "cell_type": "code",
   "execution_count": null,
   "metadata": {
    "collapsed": false
   },
   "outputs": [],
   "source": [
    "oldDS = pd.read_csv(pu.pathTranslate('$(MODELDIR)/OC_Nursing_Home_LOS_Line-Lists_for_RHEA_2.0_-_2011-2015_-_Adult_Only_-_09-29-2017_FINAL_NH_LOS_Line_List.csv'))"
   ]
  },
  {
   "cell_type": "code",
   "execution_count": null,
   "metadata": {
    "collapsed": false
   },
   "outputs": [],
   "source": [
    "newDS = pd.read_csv(pu.pathTranslate('$(MODELDIR)/OC_Nursing_Home_LOS_Line-Lists_for_RHEA_2.0_-_2011-2015_-_Adult_Only_-_05-21-2019_UPDATE_v2_NH_LOS_Line_List.csv'))"
   ]
  },
  {
   "cell_type": "code",
   "execution_count": null,
   "metadata": {
    "collapsed": false
   },
   "outputs": [],
   "source": [
    "oldDS.columns"
   ]
  },
  {
   "cell_type": "code",
   "execution_count": null,
   "metadata": {
    "collapsed": false
   },
   "outputs": [],
   "source": [
    "newDS.columns"
   ]
  },
  {
   "cell_type": "code",
   "execution_count": null,
   "metadata": {
    "collapsed": false
   },
   "outputs": [],
   "source": [
    "newDS[(newDS['NH CODE'] == 'NEWO') & (newDS['DISCHARGE/ASSESSMENT YEAR']==2014) & newDS['NOT YET DISCHARGED?'].notna()]"
   ]
  },
  {
   "cell_type": "code",
   "execution_count": null,
   "metadata": {
    "collapsed": false
   },
   "outputs": [],
   "source": [
    "print newDS[newDS['NH CODE'] == 'NEWO'].columns\n",
    "subDS = newDS[newDS['NH CODE'] == 'NEWO']\n",
    "subDS[subDS['NOT YET DISCHARGED?'] == 'X']"
   ]
  },
  {
   "cell_type": "code",
   "execution_count": null,
   "metadata": {
    "collapsed": false
   },
   "outputs": [],
   "source": [
    "oldCtDS = oldDS.groupby(['CODE', 'DISCHARGE YEAR']).count()\n",
    "oldCtDS"
   ]
  },
  {
   "cell_type": "code",
   "execution_count": null,
   "metadata": {
    "collapsed": false
   },
   "outputs": [],
   "source": [
    "dischargeDS = oldCtDS.groupby('CODE').mean().rename(columns={'LOS':'OLD DISCH MEAN'})\n",
    "dischargeDS"
   ]
  },
  {
   "cell_type": "code",
   "execution_count": null,
   "metadata": {
    "collapsed": false
   },
   "outputs": [],
   "source": [
    "print newDS.columns\n",
    "newNotDischDS = newDS.dropna().groupby(['NH CODE', 'YEAR']).count().groupby('NH CODE').mean()\n"
   ]
  },
  {
   "cell_type": "code",
   "execution_count": null,
   "metadata": {
    "collapsed": false
   },
   "outputs": [],
   "source": [
    "dischargeDS = dischargeDS.join(newNotDischDS, how='left').drop(columns=['LOS (days)'])\n"
   ]
  },
  {
   "cell_type": "code",
   "execution_count": null,
   "metadata": {
    "collapsed": true
   },
   "outputs": [],
   "source": [
    "print newDS.columns\n",
    "print dischargeDS.columns\n",
    "newDischCtDS = newDS[newDS['Not yet discharged?'].isna()].drop(columns=['Not yet discharged?']).groupby(['NH CODE', 'YEAR']).count().groupby(['NH CODE']).mean()\n",
    "\n",
    "#dischargeDS = dischargeDS.join(newDischCtDS, how='left')\n",
    "print dischargeDS.columns\n",
    "dischargeDS = dischargeDS.rename(columns={'LOS (days)': 'NEW DISCH MEAN'})\n",
    "dischargeDS"
   ]
  },
  {
   "cell_type": "code",
   "execution_count": null,
   "metadata": {
    "collapsed": false
   },
   "outputs": [],
   "source": [
    "print facDict['NEWO'].keys()\n",
    "print facDict['NEWO']['meanLOS']\n",
    "print 365.0*(facDict['NEWO']['meanPop']['value']/facDict['NEWO']['totalAdmissions']['value'])"
   ]
  },
  {
   "cell_type": "code",
   "execution_count": null,
   "metadata": {
    "collapsed": true
   },
   "outputs": [],
   "source": [
    "dischargeDS = dischargeDS.reset_index()"
   ]
  },
  {
   "cell_type": "code",
   "execution_count": null,
   "metadata": {
    "collapsed": true
   },
   "outputs": [],
   "source": [
    "def myFun(row):\n",
    "    abbrev = row['CODE']\n",
    "    if abbrev in facDict:\n",
    "        return facDict[abbrev]['totalAdmissions']['value']\n",
    "    else:\n",
    "        return np.NaN\n",
    "dischargeDS['totalAdmissions'] = dischargeDS.apply(myFun, axis=1)\n",
    "dischargeDS"
   ]
  },
  {
   "cell_type": "code",
   "execution_count": null,
   "metadata": {
    "collapsed": true
   },
   "outputs": [],
   "source": [
    "def myFun(row):\n",
    "    abbrev = row['CODE']\n",
    "    if abbrev in facDict:\n",
    "        return facDict[abbrev]['totalDischarges']['value']\n",
    "    else:\n",
    "        return np.NaN\n",
    "dischargeDS['totalDischarges'] = dischargeDS.apply(myFun, axis=1)\n",
    "dischargeDS"
   ]
  },
  {
   "cell_type": "code",
   "execution_count": null,
   "metadata": {
    "collapsed": false
   },
   "outputs": [],
   "source": [
    "def myFun(row):\n",
    "    abbrev = row['CODE']\n",
    "    if abbrev in facDict:\n",
    "        return facDict[abbrev]['meanPop']['value']\n",
    "    else:\n",
    "        return np.NaN\n",
    "dischargeDS['meanPop'] = dischargeDS.apply(myFun, axis=1)\n",
    "dischargeDS"
   ]
  },
  {
   "cell_type": "code",
   "execution_count": null,
   "metadata": {
    "collapsed": true
   },
   "outputs": [],
   "source": [
    "newDF = newDS\n",
    "oldDF = oldDS"
   ]
  },
  {
   "cell_type": "code",
   "execution_count": null,
   "metadata": {
    "collapsed": false
   },
   "outputs": [],
   "source": [
    "plt.hist(newDF['LOS (days)'], bins=300, log=True, label='include')\n",
    "plt.hist(newDF[newDF['Not yet discharged?'].isna()]['LOS (days)'], bins=300, log=True, label='exclude')\n",
    "plt.hist(oldDF['LOS'], bins=300, log=True, label='old')\n",
    "plt.legend()\n",
    "plt.show()"
   ]
  },
  {
   "cell_type": "code",
   "execution_count": null,
   "metadata": {
    "collapsed": false
   },
   "outputs": [],
   "source": [
    "plt.hist(newDF['LOS (days)'], bins=300, label='include', range=(0,300))\n",
    "#plt.hist(oldDF['LOS'], bins=300, label='old', range=(0,300))\n",
    "plt.hist(newDF[newDF['Not yet discharged?'].isna()]['LOS (days)'], bins=300, label='exclude', range=(0, 300))\n",
    "plt.xlim(0, 300)\n",
    "plt.legend()\n",
    "plt.show()"
   ]
  },
  {
   "cell_type": "code",
   "execution_count": null,
   "metadata": {
    "collapsed": false
   },
   "outputs": [],
   "source": [
    "df = newDF[newDS['Not yet discharged?'].isna()].drop(columns=['Not yet discharged?', 'YEAR']).groupby(['NH CODE']).mean()\n",
    "\n",
    "df = df.rename(columns={'LOS (days)':'New mean LOS'})\n",
    "losDF = df.copy()\n",
    "df = oldDF.drop(columns='DISCHARGE YEAR').groupby(['CODE']).mean()\n",
    "losDF = losDF.join(df, how='left')\n",
    "losDF = losDF.rename(columns={'LOS':'Old mean LOS'})\n",
    "\n",
    "def myFun(row):\n",
    "    abbrev = row.name\n",
    "    if abbrev in facDict:\n",
    "        return facDict[abbrev]['meanLOS']['value']\n",
    "    else:\n",
    "        return np.NaN\n",
    "ser = losDF.apply(myFun, axis=1)\n",
    "losDF['LOS from props'] = ser\n",
    "losDF"
   ]
  },
  {
   "cell_type": "code",
   "execution_count": null,
   "metadata": {
    "collapsed": false
   },
   "outputs": [],
   "source": [
    "plt.plot(losDF['New mean LOS'], losDF['LOS from props'], 'o')\n",
    "plt.plot((0.0, 300.0), (0.0, 300.0))\n",
    "plt.show()"
   ]
  },
  {
   "cell_type": "code",
   "execution_count": null,
   "metadata": {
    "collapsed": false
   },
   "outputs": [],
   "source": [
    "print newDS.columns\n",
    "newDS.head()"
   ]
  },
  {
   "cell_type": "code",
   "execution_count": null,
   "metadata": {
    "collapsed": true
   },
   "outputs": [],
   "source": [
    "newDS['COUNTME'] = 1"
   ]
  },
  {
   "cell_type": "code",
   "execution_count": null,
   "metadata": {
    "collapsed": false
   },
   "outputs": [],
   "source": [
    "rawCountDF = newDS[['NH CODE', 'DISCHARGE/ASSESSMENT YEAR', 'COUNTME']].groupby(['NH CODE', 'DISCHARGE/ASSESSMENT YEAR']).count()\n",
    "rawCountDF = rawCountDF.reset_index()"
   ]
  },
  {
   "cell_type": "code",
   "execution_count": null,
   "metadata": {
    "collapsed": false
   },
   "outputs": [],
   "source": [
    "rawCountDF[rawCountDF['NH CODE'] == 'NEWO']"
   ]
  },
  {
   "cell_type": "code",
   "execution_count": null,
   "metadata": {
    "collapsed": false
   },
   "outputs": [],
   "source": [
    "nydCountDF = newDS[['NH CODE', 'DISCHARGE/ASSESSMENT YEAR', 'NOT YET DISCHARGED?']].groupby(['NH CODE', 'DISCHARGE/ASSESSMENT YEAR']).count()\n",
    "nydCountDF = nydCountDF.reset_index()"
   ]
  },
  {
   "cell_type": "code",
   "execution_count": null,
   "metadata": {
    "collapsed": false
   },
   "outputs": [],
   "source": [
    "nydCountDF[nydCountDF['NH CODE'] == 'NEWO']"
   ]
  },
  {
   "cell_type": "code",
   "execution_count": null,
   "metadata": {
    "collapsed": false
   },
   "outputs": [],
   "source": [
    "adCountDF = newDS[['NH CODE', 'DISCHARGE/ASSESSMENT YEAR', 'ADD 45 DAYS?']].groupby(['NH CODE', 'DISCHARGE/ASSESSMENT YEAR']).count()\n",
    "adCountDF = adCountDF.reset_index()"
   ]
  },
  {
   "cell_type": "code",
   "execution_count": null,
   "metadata": {
    "collapsed": false
   },
   "outputs": [],
   "source": [
    "adCountDF[adCountDF['NH CODE'] == 'NEWO']"
   ]
  },
  {
   "cell_type": "code",
   "execution_count": null,
   "metadata": {
    "collapsed": false
   },
   "outputs": [],
   "source": [
    "countsDF = rawCountDF.copy().rename(columns={'COUNTME':'TOTAL RECS'})\n",
    "countsDF['NOT YET DISCHARGED?'] = nydCountDF['NOT YET DISCHARGED?']\n",
    "countsDF['ADD 45 DAYS?'] = adCountDF['ADD 45 DAYS?']\n",
    "countsDF['NH CODE'] = countsDF['NH CODE'].astype('category')\n",
    "countsDF['FRAC LOST DISCHARGES'] = countsDF['ADD 45 DAYS?'].astype(np.float32)/countsDF['TOTAL RECS'].astype(np.float32)"
   ]
  },
  {
   "cell_type": "code",
   "execution_count": null,
   "metadata": {
    "collapsed": false
   },
   "outputs": [],
   "source": [
    "countsDF[countsDF['NH CODE'] == 'NEWO']"
   ]
  },
  {
   "cell_type": "code",
   "execution_count": null,
   "metadata": {
    "collapsed": false
   },
   "outputs": [],
   "source": [
    "countsDF.dtypes"
   ]
  },
  {
   "cell_type": "code",
   "execution_count": null,
   "metadata": {
    "collapsed": true
   },
   "outputs": [],
   "source": [
    "sumsDF = countsDF.groupby(['NH CODE']).sum().drop(columns=['DISCHARGE/ASSESSMENT YEAR', 'FRAC LOST DISCHARGES']).reset_index()\n",
    "\n",
    "sumsDF['FRAC LOST DISCHARGES'] = sumsDF['ADD 45 DAYS?'].astype(np.float32)/sumsDF['TOTAL RECS'].astype(np.float32)"
   ]
  },
  {
   "cell_type": "code",
   "execution_count": null,
   "metadata": {
    "collapsed": false
   },
   "outputs": [],
   "source": [
    "sumsDF[sumsDF['NH CODE'] == 'NEWO']"
   ]
  },
  {
   "cell_type": "code",
   "execution_count": null,
   "metadata": {
    "collapsed": false
   },
   "outputs": [],
   "source": [
    "print 'min: ', sumsDF['FRAC LOST DISCHARGES'].min()\n",
    "print 'median: ', sumsDF['FRAC LOST DISCHARGES'].median()\n",
    "print 'mean: ', sumsDF['FRAC LOST DISCHARGES'].mean()\n",
    "print 'max: ', sumsDF['FRAC LOST DISCHARGES'].max()\n"
   ]
  },
  {
   "cell_type": "code",
   "execution_count": null,
   "metadata": {
    "collapsed": true
   },
   "outputs": [],
   "source": []
  }
 ],
 "metadata": {
  "kernelspec": {
   "display_name": "Python2 (myenv)",
   "language": "python",
   "name": "myenv"
  },
  "language_info": {
   "codemirror_mode": {
    "name": "ipython",
    "version": 2
   },
   "file_extension": ".py",
   "mimetype": "text/x-python",
   "name": "python",
   "nbconvert_exporter": "python",
   "pygments_lexer": "ipython2",
   "version": "2.7.12"
  }
 },
 "nbformat": 4,
 "nbformat_minor": 2
}
