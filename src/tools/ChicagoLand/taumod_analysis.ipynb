{
 "cells": [
  {
   "cell_type": "code",
   "execution_count": 7,
   "metadata": {
    "collapsed": true
   },
   "outputs": [],
   "source": [
    "% matplotlib inline\n",
    "import matplotlib.pyplot as plt\n",
    "import numpy as np\n",
    "import random\n",
    "import pandas as pd\n",
    "import matplotlib.pyplot as plt\n",
    "import scipy.stats as st\n",
    "import yaml\n",
    "import phacsl.utils.formats.csv_tools as csv_tools\n",
    "import os.path\n",
    "from collections import defaultdict\n",
    "\n",
    "from tools_util import readModelInputs, getFacDict"
   ]
  },
  {
   "cell_type": "code",
   "execution_count": 8,
   "metadata": {
    "collapsed": false
   },
   "outputs": [
    {
     "name": "stdout",
     "output_type": "stream",
     "text": [
      "totD:  defaultdict(<type 'int'>, {'SNF': 44029.96048152038, 'HOSPITAL': 13839.558332146706, 'VSNF': 2359.043835616, 'COMMUNITY': 9082963, 'LTACH': 528.550274452})\n",
      "nFacD:  defaultdict(<type 'int'>, {'SNF': 351, 'HOSPITAL': 90, 'VSNF': 12, 'COMMUNITY': 2260, 'LTACH': 9})\n"
     ]
    }
   ],
   "source": [
    "#\n",
    "# Point this at the run description\n",
    "#\n",
    "#runDesc = '/home/welling/git/pyRHEA_github/src/sim/week_run_OC.yaml'\n",
    "runDesc = '/home/welling/git/pyRHEA_github/src/sim/week_run_ChicagoLand.yaml'\n",
    "\n",
    "inputDict = readModelInputs(runDesc)\n",
    "facDict = getFacDict(inputDict)\n",
    "\n",
    "totD = defaultdict(int)\n",
    "nFacD = defaultdict(int)\n",
    "for fac, rec in facDict.items():\n",
    "    nFacD[rec['category']] += 1\n",
    "    totD[rec['category']] += rec['meanPop']['value']\n",
    "print 'totD: ', totD\n",
    "print 'nFacD: ', nFacD\n"
   ]
  },
  {
   "cell_type": "code",
   "execution_count": null,
   "metadata": {
    "collapsed": false
   },
   "outputs": [],
   "source": [
    "#\n",
    "#  Point this at the .mpk file produced by parse_taumod_taumod_out.py\n",
    "#\n",
    "#fullDF = pd.read_msgpack('/home/welling/git/pyRHEA_github/src/tools/taumod_work6.mpk')\n",
    "#fullDF = pd.read_msgpack('/home/welling/sshfshook/taumod_oc_mrsa_201811/work5/taumod_work5.mpk')\n",
    "#fullDF = pd.read_msgpack('/home/welling/sshfshook/taumod_oc_mrsa_201811b/work1/taumod_b_work1.mpk')\n",
    "#fullDF = pd.read_msgpack('/home/welling/sshfshook/taumod_oc_mrsa_201811b/work2/taumod_b_work2.mpk')\n",
    "#fullDF = pd.read_msgpack('/home/welling/sshfshook/taumod_oc_mrsa_201811b/work3/taumod_b_work3.mpk')\n",
    "#fullDF = pd.read_msgpack('/home/welling/sshfshook/taumod_oc_mrsa_201811b/work4/taumod_b_work4.mpk')\n",
    "#fullDF = pd.read_msgpack('/home/welling/sshfshook/taumod_oc_mrsa_201811b/work9/taumod_work9.mpk')\n",
    "fullDF = pd.read_msgpack('/home/welling/sshfshook/taumod_201810/work13/taumod_work13.mpk')\n",
    "print fullDF.columns"
   ]
  },
  {
   "cell_type": "code",
   "execution_count": null,
   "metadata": {
    "collapsed": true
   },
   "outputs": [],
   "source": [
    "tierPairs = [('NURSINGHOME', 'NURSING'), ('HOSPITAL', 'HOSP'), ('HOSPITAL', 'ICU'),\n",
    "            ('LTAC', 'LTAC'), ('LTACH', 'LTAC')]\n"
   ]
  },
  {
   "cell_type": "code",
   "execution_count": null,
   "metadata": {
    "collapsed": false
   },
   "outputs": [],
   "source": [
    "#loc, tier = 'PRES_333_H', 'HOSP'\n",
    "#loc, tier = 'PRES_333_H', 'ICU'\n",
    "#loc, tier = 'ADVO_4440_H', 'HOSP'\n",
    "#loc, tier = 'ADVO_4440_H', 'ICU'\n",
    "#loc, tier = 'ADVO_3435_L', 'LTAC'\n",
    "#loc, tier = 'PRES_400_S', 'NURSING'\n",
    "#loc, tier = 'PARK_2320_V', 'NURSING'\n",
    "#loc, tier = 'CHAT_7050_S', 'NURSING'\n",
    "loc, tier = '*', 'NURSING'\n"
   ]
  },
  {
   "cell_type": "code",
   "execution_count": null,
   "metadata": {
    "collapsed": true
   },
   "outputs": [],
   "source": [
    "%config InlineBackend.print_figure_kwargs = {'bbox_inches':None}\n",
    "plt.rcParams[\"figure.figsize\"] = [16, 4.5]\n",
    "\n",
    "def plotLoc(loc, tier, fullDF):\n",
    "    locDF = fullDF[np.logical_and(fullDF['fac']==loc, fullDF['tier']==tier)]\n",
    "    fig, axes = plt.subplots(1,2)\n",
    "    axes[0].plot(locDF['samp'], locDF['newTau'], label='newTau')\n",
    "    axes[0].plot(locDF['samp'], locDF['current_best_tau'], label='current_best')\n",
    "    axes[0].plot(locDF['samp'], locDF['tau'], label='tau')\n",
    "    axes[0].legend()\n",
    "    axes[0].set_title('%s %s tau' % (loc, tier))\n",
    "    axes[0].set_yscale('log')\n",
    "    axes[1].plot(locDF['samp'], locDF['expected'], label='expected')\n",
    "    axes[1].plot(locDF['samp'], locDF['prev_q1'], label='q1')\n",
    "    axes[1].plot(locDF['samp'], locDF['prev_q2'], label='median')\n",
    "    axes[1].plot(locDF['samp'], locDF['prev_q3'], label='q3')\n",
    "    axes[1].plot(locDF['samp'], locDF['prevalence'], label='prevalence')\n",
    "    axes[1].legend()\n",
    "    if loc == '*':\n",
    "        axes[1].set_title('prevalence')\n",
    "    else:\n",
    "        axes[1].set_title('prevalence (meanPop=%s)' % facDict[loc]['meanPop']['value'])\n",
    "    #axes[1].set_yscale('log')\n",
    "    plt.show()"
   ]
  },
  {
   "cell_type": "code",
   "execution_count": null,
   "metadata": {
    "collapsed": false
   },
   "outputs": [],
   "source": [
    "maxSamp = fullDF['samp'].max()\n",
    "allTiers = set([tier for loc, tier in tierPairs])\n",
    "for tier in allTiers:\n",
    "    plotLoc('*', tier, fullDF[fullDF['samp']>maxSamp-15])"
   ]
  },
  {
   "cell_type": "code",
   "execution_count": null,
   "metadata": {
    "collapsed": false,
    "scrolled": true
   },
   "outputs": [],
   "source": [
    "# Tau plots\n",
    "#ctg, tier = 'NURSINGHOME', 'NURSING'\n",
    "#ctg, tier = 'HOSPITAL', 'HOSP'\n",
    "#ctg, tier = 'HOSPITAL', 'ICU'\n",
    "#ctg, tier = 'LTAC', 'LTAC'\n",
    "ctg, tier = 'LTACH', 'LTAC'\n",
    "#ctg, tier = 'VSNF', 'SKILNRS'\n",
    "#ctg, tier = 'VSNF', 'VENT'\n",
    "#ctg, tier = 'VSNF', 'NURSING'\n",
    "count = 0\n",
    "candidateL = []\n",
    "for loc, rec in facDict.items():\n",
    "    if rec['category'] == ctg:\n",
    "        candidateL.append((loc, tier))\n",
    "random.seed(1234) # for consistency\n",
    "random.shuffle(candidateL)\n",
    "for loc, tier in candidateL[:12]:\n",
    "    plotLoc(loc, tier, fullDF)\n"
   ]
  },
  {
   "cell_type": "code",
   "execution_count": null,
   "metadata": {
    "collapsed": false
   },
   "outputs": [],
   "source": [
    "zeroD = defaultdict(list)\n",
    "oneD = defaultdict(list)\n",
    "goodD = defaultdict(list)\n",
    "invalidD = defaultdict(list)\n",
    "maxSamp = fullDF['samp'].max()\n",
    "for cat, tier in tierPairs:\n",
    "    for fac, rec in facDict.items():\n",
    "        if rec['category'] == cat:\n",
    "            locDF = fullDF[np.logical_and(fullDF['fac']==fac, fullDF['tier']==tier)]\n",
    "            #print fac, tier, len(locDF)\n",
    "            sampDF = locDF[locDF['samp']>=maxSamp-15]\n",
    "            tau = sampDF.mean()['tau']\n",
    "            #print fac, tier, sampDF.mean()['tau']\n",
    "            if np.isnan(tau):\n",
    "                invalidD[(cat, tier)].append(fac)\n",
    "            elif tau > 0.8:\n",
    "                oneD[(cat, tier)].append(fac)\n",
    "            elif tau < 1.0e-6:\n",
    "                zeroD[(cat, tier)].append(fac)\n",
    "            else:\n",
    "                goodD[(cat, tier)].append(fac)\n",
    "print 'cat\\ttier\\tgood\\tzero\\tone\\tnan'\n",
    "for cat, tier in tierPairs:\n",
    "    print '%s\\t%s\\t%s\\t%s\\t%s\\t%s' % (cat[:6], tier, len(goodD[(cat,tier)]),\n",
    "                         len(zeroD[(cat, tier)]), len(oneD[(cat, tier)]), len(invalidD[(cat,tier)]))\n",
    "            \n"
   ]
  },
  {
   "cell_type": "markdown",
   "metadata": {
    "collapsed": true
   },
   "source": [
    "## Estimating tau for an ICU ##\n",
    "\n",
    "```\n",
    "Prevalence: 0.03\n",
    "mean ICU LOS: 3.67\n",
    "Ward size: 12 beds max\n",
    "mean exposures: 12 * 3.67 * 0.03 = 1.32\n",
    "1.32 * tau = 0.03\n",
    "tau = 0.023\n",
    "```\n"
   ]
  },
  {
   "cell_type": "markdown",
   "metadata": {
    "collapsed": true
   },
   "source": [
    "## Estimating tau for a HOSP ward ##\n",
    "\n",
    "```\n",
    "Prevalence: 0.05\n",
    "mean ICU LOS: 5.41\n",
    "Ward size: 20 beds max\n",
    "mean exposures: 20 * 5.41 * 0.05 = 5.41\n",
    "5.41 * tau = 0.05\n",
    "tau = 0.0092\n",
    "```\n"
   ]
  },
  {
   "cell_type": "markdown",
   "metadata": {
    "collapsed": true
   },
   "source": [
    "## Estimating tau for a NURSING ward ##\n",
    "\n",
    "```\n",
    "Prevalence: 0.015\n",
    "mean ICU LOS: 118.8\n",
    "facility size: 125.4 beds mean\n",
    "mean exposures: 125.4 * 118.8 * 0.015 = 223.46\n",
    "223.46 * tau = 0.015\n",
    "tau = 6.7e-5\n",
    "```\n"
   ]
  },
  {
   "cell_type": "code",
   "execution_count": null,
   "metadata": {
    "collapsed": false
   },
   "outputs": [],
   "source": [
    "vL = []\n",
    "for fac, rec in facDict.items():\n",
    "    if rec['category'] != 'NURSINGHOME':\n",
    "        continue\n",
    "    locDF = fullDF[np.logical_and(fullDF['fac']==fac, fullDF['tier']=='NURSING')]\n",
    "    sampDF = locDF[locDF['samp']>=maxSamp-15]\n",
    "    tau = sampDF.mean()['tau']\n",
    "    vL.append((rec['nBeds']['value'], tau, fac))\n",
    "vL.sort()\n",
    "#print vL\n",
    "fig, axes = plt.subplots(1,1)\n",
    "axes.plot([v[0] for v in vL],[v[1] for v in vL], 'r+')\n",
    "axes.set_yscale('log')\n",
    "axes.set_xlabel('nBeds')\n",
    "axes.set_ylabel('tau')\n",
    "axes.set_title('SNF NURSING tau vs nBeds')\n",
    "#axes.set_ylim(1.0e-9, 1.0e-1)\n",
    "plt.show()\n",
    "            "
   ]
  },
  {
   "cell_type": "code",
   "execution_count": null,
   "metadata": {
    "collapsed": true
   },
   "outputs": [],
   "source": []
  },
  {
   "cell_type": "code",
   "execution_count": null,
   "metadata": {
    "collapsed": true
   },
   "outputs": [],
   "source": []
  }
 ],
 "metadata": {
  "kernelspec": {
   "display_name": "Python2 (myenv)",
   "language": "python",
   "name": "myenv"
  },
  "language_info": {
   "codemirror_mode": {
    "name": "ipython",
    "version": 2
   },
   "file_extension": ".py",
   "mimetype": "text/x-python",
   "name": "python",
   "nbconvert_exporter": "python",
   "pygments_lexer": "ipython2",
   "version": "2.7.12"
  }
 },
 "nbformat": 4,
 "nbformat_minor": 2
}
