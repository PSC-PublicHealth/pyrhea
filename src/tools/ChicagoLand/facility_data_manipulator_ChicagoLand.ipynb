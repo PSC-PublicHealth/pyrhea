{
 "cells": [
  {
   "cell_type": "code",
   "execution_count": 1,
   "metadata": {
    "collapsed": false
   },
   "outputs": [
    {
     "name": "stderr",
     "output_type": "stream",
     "text": [
      "/home/welling/myEnv/local/lib/python2.7/site-packages/requests/__init__.py:80: RequestsDependencyWarning: urllib3 (1.22) or chardet (2.3.0) doesn't match a supported version!\n",
      "  RequestsDependencyWarning)\n"
     ]
    },
    {
     "name": "stdout",
     "output_type": "stream",
     "text": [
      "totD:  defaultdict(<type 'int'>, {'SNF': 44029.96048152038, 'HOSPITAL': 13839.558332146706, 'VSNF': 2359.043835616, 'COMMUNITY': 9082963, 'LTACH': 528.550274452})\n",
      "nFacD:  defaultdict(<type 'int'>, {'SNF': 351, 'HOSPITAL': 90, 'VSNF': 12, 'COMMUNITY': 2260, 'LTACH': 9})\n",
      "['HEAT_15600_S', 'BMO_10602_S', 'NORW_6016_S', 'BETH_5025_H', 'SOUT_2649_S', 'PRES_8001_S', 'CRES_14255_S', 'PERS_3900_S', 'COUN_2330_S', 'MID_4920_S', 'SOUT_1010_S', 'GLEN_4340_S', 'RESU_2380_S', 'ARBO_1512_S', 'GROS_6601_S', 'PRES_1100_S', 'PRES_1325_H', 'MANO_7850_S', 'FRAN_555_S', 'MICH_802_S', 'ST_3800_S', 'THE_110_S', 'MAYF_5905_S', 'GLEN_270_S', 'MANO_940_S', 'ALDE_2021_S', 'MAJO_7935_S', 'OAKT_1660_S', 'ALSH_2840_S', 'MANO_11860_S', 'EVAN_1300_S', 'ADVO_17800_H', 'HEND_1700_S', 'WEAL_150_S', 'IMPE_3300_S', 'MAJO_10352_S', 'OAKR_323_S', 'FOUN_1000_S', 'PRES_7435_H', 'GEOR_3623_S', 'CLAR_7433_S', 'MANO_600_S', 'MANO_9401_S', 'NORT_2650_H', 'PROV_13259_S', 'DOLT_14325_S', 'REGE_6631_S', 'GLEN_2451_V', 'GLEN_8333_V', 'EXCE_5701_S', 'PINN_2222_S', 'CLAR_1366_S', 'JOHN_2901_S', 'ALDE_1221_S', 'CARL_725_S', 'ALDE_820_V', 'MIDW_1430_H', 'COUR_3601_S', 'CCL_2401_S', 'ALDE_1535_S', 'JOLI_2230_S', 'INDI_1007_H', 'THOR_850_H', 'EVER_10124_S', 'FRAN_301_H', 'ADVO_836_H', 'SHER_2534_S', 'JASP_1104_H', 'RENA_2940_S', 'ALDE_255_S', 'MATH_820_S', 'NORT_4201_H', 'BUTT_431_S', 'JACK_7531_H', 'NILE_9777_S', 'BRIT_8700_S', 'BRAV_2355_S', 'STA_1725_V', 'MORR_1223_S', 'COUN_421_S', 'PRES_1001_S', 'MANO_715_S', 'MCAL_18300_S', 'MANO_200_S', 'LUTH_1601_S', 'ALEX_800_H', 'WINF_28W141_S', 'BRAV_1800_S', 'PRES_611_S', 'BROO_1800_S', 'NORW_2833_S', 'WASH_10501_S', 'DOBS_120_S', 'WEST_3200_S', 'EVAN_350_S', 'THE_4600_S', 'BRIA_6800_S', 'CONT_5336_S', 'VALP_3405_S', 'HOLY_12220_S', 'PRES_500_H', 'LEXI_900_S', 'PRES_355_H', 'THC_225_L', 'CHEV_3400_S', 'PRES_1127_H', 'COLU_901_S', 'ST_1555_H', 'DEER_306_S', 'MSMC_12935_H', 'CLAR_829_S', 'CHAT_7050_S', 'ASTA_134_S', 'TOWE_759_S', 'MANO_1920_S', 'NORT_9600_H', 'MERC_2525_H', 'BRAV_4101_S', 'WOOD_920_S', 'KISH_ONE_H', 'KANK_100_S', 'WHIT_300_S', 'RML_5601_L', 'PETE_6141_S', 'LUTH_800_S', 'CRES_13301_S', 'MEMO_527_S', 'WATE_7445_S', 'THE_908_S', 'BUTT_339_S', 'ADVO_3815_H', 'PARK_2320_V', 'ALDE_201_S', 'FRAN_1270_S', 'BERK_8200_S', 'ALDE_504_S', 'THE_710_S', 'ZIKA_5448_S', 'INTE_4815_S', 'KIND_2300_S', 'TRI_2500_S', 'MUNS_901_H', 'LEXI_165_S', 'FRAN_1055_S', 'KENS_3405_S', 'WAUK_919_S', 'LEXI_2100_S', 'COVE_2625_S', 'ELMH_200_H', 'BETH_3298_S', 'COOK_1901_H', 'ELMH_200_S', 'ELMW_7733_V', 'LOYO_2160_H', 'WEST_6501_S', 'ALDE_2520_S', 'BELH_11401_S', 'SALE_1314_S', 'CITY_5825_S', 'ELMB_127_S', 'LIFE_250_S', 'WAUC_176_S', 'WOOD_7444_S', 'PRES_901_S', 'HELI_1308_S', 'TRIL_1101_S', 'WARR_66_S', 'MANO_3300_S', 'MANO_6300_S', 'SAIN_2875_H', 'GOTT_701_H', 'WATE_7750_S', 'TRIL_1251_S', 'MORR_150_H', 'HERI_355_S', 'LUTH_16220_S', 'APPL_21020_S', 'PROV_3450_S', 'CHUR_2000_S', 'PLAZ_3249_S', 'RUSH_520_H', 'ST_326_H', 'HEND_8800_S', 'WITT_1200_S', 'LEXI_420_S', 'SKOK_9615_S', 'LEXI_675_S', 'STC_4321_H', 'CONC_9401_S', 'HEND_3175_S', 'ADVE_120_H', 'LORE_645_H', 'FAIR_222_S', 'HICK_9246_S', 'MERC_901_H', 'ADVO_2320_H', 'COMM_4314_S', 'COUN_1635_S', 'DECA_353_S', 'SHER_7350_S', 'THI_5400_S', 'HEND_1900_S', 'PARK_665_S', 'MANO_2145_S', 'MOME_500_S', 'MANO_900_S', 'RIVE_350_H', 'PRAI_345_S', 'WILL_546_S', 'AVEN_4505_S', 'FAL_9630_S', 'ALDE_BOX_S', 'PRES_20_S', 'COVE_700_S', 'SLOV_3615_S', 'DELN_300_H', 'CRYS_335_S', 'PALO_12251_H', 'RIVI_490_S', 'CENT_2450_S', 'FRAN_24_H', 'ALDE_5831_S', 'PALO_10426_S', 'RESU_500_S', 'WHEA_1325_S', 'MAPL_50_S', 'COMM_503_S', 'FRAN_701_H', 'RENS_1309_S', 'RENA_4437_S', 'WASH_11308_S', 'LITT_80_S', 'LEMO_12450_S', 'JOHN_5909_S', 'OAK_2013_S', 'MORR_1095_S', 'WRHC_309_S', 'WEST_928_S', 'THC_2544_L', 'FRAN_4021_S', 'THE_1740_H', 'MAJO_2350_S', 'MAJO_8380_S', 'MANO_2773_S', 'PRES_480_S', 'DUPA_400_S', 'ABBI_31_S', 'SHAB_409_S', 'MANO_1500_S', 'FRAN_5454_H', 'PETE_310_S', 'HIGH_50_S', 'ADVO_3435_L', 'SHER_1950_S', 'BUTT_720_S', 'ROSE_45_H', 'NORT_777_H', 'ADVO_801_H', 'LAKE_263_S', 'GREE_220_S', 'PORT_85_H', 'MEMO_3701_H', 'BALL_9300_V', 'ASTO_6300_S', 'VHS_3249_H', 'THE_6000_S', 'ADVE_701_H', 'HEAR_3100_S', 'VHS_1225_H', 'MONT_5550_S', 'COMM_1136_S', 'FRAN_1201_H', 'COPL_2000_H', 'PROV_1101_S', 'LINC_960_S', 'FRAN_20201_H', 'PLYM_315_S', 'PRES_811_S', 'EXTE_8633_S', 'PRES_1700_S', 'RENA_10935_S', 'THE_600_H', 'THE_606_S', 'CHIC_1415_S', 'TABO_1347_S', 'STP_1400_S', 'SOUT_19000_S', 'BROO_3506_S', 'SOUT_3311_S', 'GLEN_22660_V', 'CENT_4747_S', 'COMM_5645_H', 'ST_9244_S', 'LEXI_10300_S', 'NORT_251_H', 'PRES_6930_S', 'FRAN_40_S', 'STM_1500_H', 'SWED_5145_H', 'GLEN_19330_S', 'CENT_1401_S', 'WILL_515_S', 'THE_1615_S', 'ELMW_1017_S', 'DEKA_2944_S', 'KIND_8400_S', 'BURN_14500_S', 'ALDE_4660_S', 'OAK_625_S', 'AURO_1601_S', 'SSC_2901_S', 'NORW_1044_H', 'AURO_10400_H', 'WEST_311_S', 'JOSE_1127_H', 'SLL_7000_S', 'COUN_1125_S', 'THC_6130_L', 'RIDG_12550_S', 'BAYS_1100_S', 'HOLY_2701_H', 'MAJO_4410_S', 'LITT_2800_H', 'PETE_902_S', 'SOUT_8012_H', 'GRAS_4621_S', 'PETE_746_S', 'PRES_210_S', 'CLAR_150_S', 'DEKA_2600_S', 'BRIG_4538_S', 'BRAD_650_S', 'VIBR_9509_L', 'MIDW_8540_S', 'ATRI_1425_S', 'AMBA_4900_S', 'ADVE_500_H', 'COUN_2406_S', 'FORT_4621_S', 'RUSH_1653_H', 'HANC_203_S', 'VHS_3_H', 'EMBA_555_S', 'CLAR_700_S', 'SH_700_S', 'OAK_9525_V', 'BETH_8425_S', 'SHER_1425_H', 'PINN_9301_H', 'LITT_2325_S', 'PRES_100_L', 'SSC_10330_S', 'WIND_16000_S', 'THE_55_S', 'BEEC_1201_S', 'HILL_777_S', 'SILV_1900_H', 'PAVI_2217_S', 'ALDE_16450_S', 'CENT_25_H', 'LONG_1666_S', 'MIDW_111_S', 'WAUK_1324_H', 'EDWA_801_H', 'MANO_180_S', 'LAKE_7200_S', 'THE_4390_S', 'VHS_4646_H', 'LEXI_730_S', 'WIND_124_S', 'THE_1_H', 'FORE_6840_S', 'MANO_512_S', 'BIRC_1426_S', 'BALM_2055_S', 'UNIT_6308_H', 'MIDW_1519_S', 'HARM_3919_S', 'COUN_9700_S', 'HEND_251_S', 'GLEN_3901_S', 'RREM_2155_S', 'MANO_4225_S', 'LEXI_815_S', 'CONS_1000_S', 'BRAV_3401_S', 'ADVE_5101_H', 'HANC_101_S', 'THE_2425_S', 'LEXI_4735_S', 'THC_365_L', 'GROV_9000_S', 'PRES_77_H', 'THOR_160_S', 'MANO_432_S', 'BERK_6909_S', 'ADAM_119_S', 'FAIR_5061_S', 'HEAL_5801_S', 'RIDG_6450_S', 'BRID_8100_S', 'PETE_520_S', 'WOOD_2242_S', 'MST_120_S', 'MOUN_2028_H', 'BUCK_2625_S', 'WISC_471_S', 'MAJO_5025_S', 'ALDE_275_S', 'FRAN_1423_H', 'LEXI_14601_S', 'BRAV_850_S', 'PLUM_24_S', 'ADVO_1775_H', 'LAKE_14718_S', 'THC_4058_L', 'SENE_1301_S', 'REST_16300_S', 'GLEN_1511_S', 'CHIC_6685_S', 'KIND_3415_S', 'LAKE_735_S', 'ALDE_5050_S', 'JACK_5130_S', 'ALDE_1420_S', 'NORR_7001_S', 'OAK_221_S', 'ALDE_6120_S', 'ALDE_1545_S', 'CALI_2829_S', 'ARBO_535_S', 'BREN_3705_S', 'ADVO_4440_H', 'MAJO_3301_S', 'ALDE_803_S', 'SNH_1200_S', 'GENE_3856_S', 'HILL_1740_S', 'WYND_2180_S', 'PRES_400_S', 'VALL_1302_H', 'PINE_1212_S', 'PARK_6125_V', 'OUR_1201_S', 'NORT_660_H', 'PRES_333_H', 'WARR_6700_S', 'LIFE_1000_S', 'GROV_701_S', 'RIVE_1601_S', 'THE_5841_H', 'THE_2732_S', 'LAKE_7618_S', 'MAJO_601_S', 'BOUR_133_S', 'SHER_5838_S', 'NORT_800_H', 'HERI_5888_S', 'LIBE_610_S', 'EMER_6801_S', 'ADVO_450_H', 'BEVE_1703_S']\n"
     ]
    }
   ],
   "source": [
    "#! /usr/bin/env python\n",
    "\n",
    "###################################################################################\n",
    "# Copyright   2015, Pittsburgh Supercomputing Center (PSC).  All Rights Reserved. #\n",
    "# =============================================================================== #\n",
    "#                                                                                 #\n",
    "# Permission to use, copy, and modify this software and its documentation without #\n",
    "# fee for personal use within your organization is hereby granted, provided that  #\n",
    "# the above copyright notice is preserved in all copies and that the copyright    #\n",
    "# and this permission notice appear in supporting documentation.  All other       #\n",
    "# restrictions and obligations are defined in the GNU Affero General Public       #\n",
    "# License v3 (AGPL-3.0) located at http://www.gnu.org/licenses/agpl-3.0.html  A   #\n",
    "# copy of the license is also provided in the top level of the source directory,  #\n",
    "# in the file LICENSE.txt.                                                        #\n",
    "#                                                                                 #\n",
    "###################################################################################\n",
    "\n",
    "import logging\n",
    "\n",
    "import os.path\n",
    "from phacsl.utils.collections.phacollections import SingletonMetaClass\n",
    "import pyrheautils\n",
    "from collections import deque, defaultdict\n",
    "from facilitybase import CareTier\n",
    "from tools_util import readModelInputs, getFacDict\n",
    "import yaml\n",
    "\n",
    "runDesc = '/home/welling/git/pyRHEA_github/src/sim/week_run_ChicagoLand.yaml'\n",
    "\n",
    "inputDict = readModelInputs(runDesc)\n",
    "facDict = getFacDict(inputDict)\n",
    "\n",
    "totD = defaultdict(int)\n",
    "nFacD = defaultdict(int)\n",
    "for fac, rec in facDict.items():\n",
    "    nFacD[rec['category']] += 1\n",
    "    totD[rec['category']] += rec['meanPop']['value']\n",
    "print 'totD: ', totD\n",
    "print 'nFacD: ', nFacD\n",
    "\n",
    "# Drop annoying community entries\n",
    "dropL = []\n",
    "for abbrev, rec in facDict.items():\n",
    "    if rec['category'] == 'COMMUNITY':\n",
    "        dropL.append(abbrev)\n",
    "for abbrev in dropL:\n",
    "    del facDict[abbrev]\n",
    "\n",
    "print facDict.keys()\n",
    "\n"
   ]
  },
  {
   "cell_type": "code",
   "execution_count": 4,
   "metadata": {
    "collapsed": false
   },
   "outputs": [
    {
     "name": "stdout",
     "output_type": "stream",
     "text": [
      "[u'UNIQUE_ID', u'Distinct_Beneficiaries', u'N Obs', u'Sum', u'Mean', u'Minimum', u'Maximum', u'Median', u'Std Dev', u'Mode', u'Lower 95%', u'Upper 95%', u'25th Pctl', u'75th Pctl']\n"
     ]
    }
   ],
   "source": [
    "import phacsl.utils.formats.csv_tools as csv_tools\n",
    "import phacsl.utils.formats.yaml_tools as yaml_tools\n",
    "from pyrheautils import pathTranslate\n",
    "\n",
    "trnsFacLOSFName = 'Matrices_LOS_09292016_cleaned_Facilities_LOS.csv'\n",
    "\n",
    "trnsFacLOSPath = pathTranslate('$(MODELDIR)/%s' % trnsFacLOSFName)\n",
    "with open(trnsFacLOSPath, 'rU') as f:\n",
    "    tflKeys, tflRecs = csv_tools.parseCSV(f)\n",
    "print tflKeys\n",
    "tflCsvD = {r['UNIQUE_ID']: r for r in tflRecs}"
   ]
  },
  {
   "cell_type": "code",
   "execution_count": 17,
   "metadata": {
    "collapsed": false
   },
   "outputs": [
    {
     "name": "stdout",
     "output_type": "stream",
     "text": [
      "['WINC_6326_S', 'ANN_225_C', 'COOK_15900_H', 'SOME_5009_S', 'WESL_1751_S', 'JOHN_1367_S', 'SNOW_5000_S', 'COOK_500_H', 'KENW_7434_S', 'OAK_520_S', 'WEST_3240_H', 'WAUK_2615_H', 'THE_116_S', 'CAPI_7250_S', 'DEKA_1316_H', 'NEWT_300_S', 'MISE_6300_S', 'LAR_E_C', 'PHWD_3500_S']\n"
     ]
    }
   ],
   "source": [
    "excludedFacPath = pathTranslate('$(MODELDIR)/facilityfacts_excluded')\n",
    "keys, recs = yaml_tools.parse_all(excludedFacPath)\n",
    "excludedFacD = {r['abbrev']: r for r in recs}\n",
    "print excludedFacD.keys()"
   ]
  },
  {
   "cell_type": "code",
   "execution_count": 25,
   "metadata": {
    "collapsed": false
   },
   "outputs": [
    {
     "name": "stdout",
     "output_type": "stream",
     "text": [
      "5.0\n",
      "OrderedDict([('ALEX_800_H', 1)])\n"
     ]
    }
   ],
   "source": [
    "with open(pathTranslate('$(MODELDIR)/direct_transfer_counts.yaml'), 'rU') as f:\n",
    "    directTransferCts = yaml.load(f)\n",
    "totTransIn = defaultdict(lambda: 0.0)\n",
    "for src, rec in directTransferCts.items():\n",
    "    for dst, ct in rec.items():\n",
    "        totTransIn[dst] += ct\n",
    "print totTransIn['LITT_80_S']\n",
    "print directTransferCts['LITT_80_S']"
   ]
  },
  {
   "cell_type": "code",
   "execution_count": 32,
   "metadata": {
    "collapsed": false
   },
   "outputs": [
    {
     "name": "stdout",
     "output_type": "stream",
     "text": [
      "set(['SNF', 'HOSPITAL', 'VSNF', 'LTACH'])\n",
      "defaultdict(<function <lambda> at 0x7f5df235fde8>, {'HOSPITAL': 1})\n"
     ]
    }
   ],
   "source": [
    "catS = set()\n",
    "facToCatD = {}\n",
    "for src, rec in directTransferCts.items():\n",
    "    facToCatD[src] = defaultdict(lambda: 0)\n",
    "    for dst, ct in rec.items():\n",
    "        if dst in facDict:\n",
    "            cat = facDict[dst]['category']\n",
    "            catS.add(cat)\n",
    "            facToCatD[src][cat] += ct\n",
    "        else:\n",
    "            cat = excludedFacD[dst]['category']\n",
    "            facToCatD[src][cat] += ct\n",
    "print catS\n",
    "print facToCatD['LITT_80_S']"
   ]
  },
  {
   "cell_type": "code",
   "execution_count": 36,
   "metadata": {
    "collapsed": false
   },
   "outputs": [],
   "source": [
    "from scipy.stats.distributions import rv_continuous, lognorm\n",
    "import math\n",
    "newFacDict = {}\n",
    "directMtxFname = 'Matrices_LOS_09292016_cleaned.xlsx:Transfer3day'\n",
    "transProv = ('%s translated by translate_direct_transfer_data.py d527d6a1 and marginalized by category'\n",
    "             % directMtxFname)\n",
    "transInProv = ('%s translated by translate_direct_transfer_data.py d527d6a1 summed over sources'\n",
    "               % directMtxFname)\n",
    "totDischProv = ('%s 8eb6e6c1 column \"N Obs\"' % trnsFacLOSFName)\n",
    "for abbrev, rec in facDict.items():\n",
    "    newR = rec.copy()\n",
    "    if rec['category'] in ['NURSINGHOME', 'SNF', 'LTAC', 'LTACH', 'VSNF', 'HOSPITAL']:\n",
    "        newR['totalDischarges'] = {'value': tflCsvD[abbrev]['N Obs'], 'prov': totDischProv}\n",
    "        newR['totalTransfersIn'] = {'value': totTransIn[abbrev], 'prov': transInProv}\n",
    "        newR['totalTransfersOut'] = [{'category': cat, 'count': {'value': ct, 'prov': transProv}}\n",
    "                                     for cat, ct in facToCatD[abbrev].items()]\n",
    "        #meanPopProv = \"%s col 'AVERAGE DAILY CENSUS'\" % snfChrFname\n",
    "        #nBedsProv = \"%s col 'TOTAL LICENSED BEDS'\" % snfChrFname\n",
    "        #csvR = snfCsvD[abbrev]\n",
    "        #newR['meanPop'] = {'value': snfChrD[abbrev]['AVERAGE DAILY CENSUS'],\n",
    "        #                  'prov': meanPopProv}\n",
    "        #newR['nBeds'] = {'value': snfChrD[abbrev]['TOTAL LICENSED BEDS'],\n",
    "        #                'prov': nBedsProv}\n",
    "        #newR['meanLOSICU'] = {'value': 0.0, 'prov': 'NURSINGHOMEs do not have ICUs'}\n",
    "        #newR['fracAdultPatientDaysICU'] = {'value': 0.0, 'prov': 'NURSINGHOMEs do not have ICUs'}\n",
    "        ##losR = nhLOSD[abbrev]\n",
    "        ##newR['losModel'] = {'negLogLikPerSample': -float(losR['lnLikPerSample'].strip('[]')),\n",
    "        ##                    'nsamp': losR['nsamples'],\n",
    "        ##                    'parms': [losR['k'], losR['mu'], losR['sigma'], losR['lmda']],\n",
    "        ##                    'pdf': losR['pdf'].strip('\"'),\n",
    "        ##                    'prov': ('los_model_fit_fixedmean.py e308e809 applied to '\n",
    "        ##                             'OC_Nursing_Home_LOS_Line-Lists_for_RHEA_2.0_-_2011-2015_-_Adult_Only_-_09-29-2017_FINAL.xlsx')\n",
    "        ##                    }\n",
    "        #losR = wbNHLOSD[abbrev]\n",
    "        #newR['losModel'] = {'parms': [1.0 - losR['k'], losR['shape2'], losR['scale2'],\n",
    "        #                              losR['shape1'], losR['scale1']],\n",
    "        #                    'pdf': '$0*weibull(k=$1, lmda=$2)+(1-$0)*weibull(k=$3, lmda=$4)',\n",
    "        #                    'prov': 'nh-fitting-2weibull.R 14d707b7 based on OC_Nursing_Home_LOS_Line-Lists_for_RHEA_2.0_-_2011-2015_-_Adult_Only_-_09-29-2017_FINAL_NH_LOS_Line_List.csv'}\n",
    "        #snfChrR = snfChrD[abbrev]\n",
    "        #newR['meanLOS'] = {'value': (365.*float(snfChrR['AVERAGE DAILY CENSUS'])\n",
    "        #                             / float(snfChrR['\"ANNUAL ADMISSIONS ADULT ONLY\"'])),\n",
    "        #                   'prov': ('%s 365*\"AVERAGE DAILY CENSUS\"/\"ANNUAL ADMISSIONS ADULT ONLY\"'\n",
    "        #                            % snfChrFname)\n",
    "        #                   }\n",
    "    else:\n",
    "        raise RuntimeError('unknown category %s for %s' % (rec['category'], abbrev))\n",
    "        #transProv = ('(%s summed by dest category and normalized) * (%s total discharges * frac to NH or HOSP)'\n",
    "        #             % (directMtxFname, hospDspFname))\n",
    "        ##meanPopProv = \"%s col 'AVERAGE DAILY CENSUS'\" % hospChrFname\n",
    "        ##nBedsProv = \"%s col 'TOTAL LICENSED BEDS'\" % hospChrFname\n",
    "        #if abbrev in hospCsvD:\n",
    "            #csvR = hospCsvD[abbrev]\n",
    "            #totDsch = csvR['Total Annual Discharges']\n",
    "            #totTrans = totDsch * (1.0 - (csvR[u'(4) Indirectly transferred to hospital within 365 days']\n",
    "            #                             + csvR[u'(5) Discharged and NOT readmitted to hospital within 365 days']\n",
    "            #                             + csvR[u'(1) Patient Died']))\n",
    "            #tNHFrac = facToCatD[abbrev]['NURSINGHOME'] if 'NURSINGHOME' in facToCatD[abbrev] else 0.0\n",
    "            #tLTACFrac = facToCatD[abbrev]['LTAC'] if 'LTAC' in facToCatD[abbrev] else 0.0\n",
    "            #tHospFrac = facToCatD[abbrev]['HOSPITAL'] if 'HOSPITAL' in facToCatD[abbrev] else 0.0\n",
    "            #newR['totalDischarges'] = {'value': totDsch,\n",
    "            #                          'prov': '%s col B' % hospDspFname}\n",
    "            #newR['totalTransfersOut'] = [\n",
    "            #    {'category': 'NURSINGHOME', 'count': {'value': totTrans*tNHFrac, 'prov': transProv}},\n",
    "            #    {'category': 'LTAC', 'count': {'value': totTrans*tLTACFrac, 'prov': transProv}},\n",
    "            #    {'category': 'HOSPITAL', 'count': {'value': totTrans*tHospFrac, 'prov': transProv}}\n",
    "            #]\n",
    "            #newR['meanPop'] = {'value': hospChrD[abbrev][u'AVERAGE DAILY CENSUS ADULT ONLY'],\n",
    "            #                'prov': meanPopProv}\n",
    "            #newR['nBeds'] = {'value':hospChrD[abbrev]['TOTAL ADULT BEDS'],\n",
    "            #                'prov': nBedsProv}\n",
    "            #losMu = hospLOSD[abbrev]['LN_MEAN']\n",
    "            #losSigma = hospLOSD[abbrev]['LN_STD_DEV']\n",
    "            #losRV = lognorm(losSigma, scale=math.exp(losMu), loc=0.0)\n",
    "            #meanLOS = losRV.mean()\n",
    "            #newR['meanLOS'] = {'value': float(losRV.mean()), \n",
    "            #                   'prov':'%s mean of lognorm(sigma=LN_STD_DEV, mu=LN_MEAN)'% hospLOSFname}\n",
    "            #newR['losModel'] = {'parms': [losMu, losSigma], 'pdf': 'lognorm(mu=$0,sigma=$1)',\n",
    "            #                   'prov': '%s lognorm(sigma=LN_STD_DEV, mu=LN_MEAN)' % hospLOSFname}\n",
    "            #newR['totalTransfersIn'] = {'value': totTransIn[abbrev],\n",
    "            #                           'prov': ('translate_direct_transfer_data_OC.py d6d33794'\n",
    "            #                                    + ' with input CSVs bdfa32e4')}\n",
    "            #newR['scaleLengthOfStay'] = {'value': 1.0, 'prov': 'default is no scaling'}\n",
    "    if 'totTransfersOut' in newR:\n",
    "        del newR['totTransfersOut']\n",
    "\n",
    "    newFacDict[abbrev] = newR\n",
    "yaml_tools.save_all(pathTranslate('$(MODELDIR)/facilityfacts_updated'), newFacDict.values())"
   ]
  },
  {
   "cell_type": "code",
   "execution_count": null,
   "metadata": {
    "collapsed": true
   },
   "outputs": [],
   "source": []
  },
  {
   "cell_type": "code",
   "execution_count": null,
   "metadata": {
    "collapsed": false
   },
   "outputs": [],
   "source": [
    "hospDspFname = 'Hospital_and_NH_Disposition_Outcomes_for_RHEA_2.0_-_Adult_Only_-_UPDATED_-_11-15-2017_Hosp_Outcomes.csv'\n",
    "\n",
    "hospPath = pathTranslate('$(MODELDIR)/%s' % hospDspFname)\n",
    "with open(hospPath, 'rU') as f:\n",
    "    hospKeys, hospRecs = csv_tools.parseCSV(f)\n",
    "print hospKeys\n",
    "hospCsvD = {r['HOSPITAL']: r for r in hospRecs}"
   ]
  },
  {
   "cell_type": "code",
   "execution_count": null,
   "metadata": {
    "collapsed": false
   },
   "outputs": [],
   "source": [
    "snfChrFname = 'OC_Hospital_and_Nursing_Home_Characteristics_for_RHEA_2.0_-_Adult_Only_-_09-15-2017_FINAL_NH_CHAR.csv'\n",
    "\n",
    "with open(pathTranslate('$(MODELDIR)/%s' % snfChrFname), 'rU') as f:\n",
    "    snfChrKeys, snfChrRecs = csv_tools.parseCSV(f)\n",
    "print snfChrKeys\n",
    "snfChrD = {r['RHEA 2.0 CODE']: r for r in snfChrRecs}"
   ]
  },
  {
   "cell_type": "code",
   "execution_count": null,
   "metadata": {
    "collapsed": false
   },
   "outputs": [],
   "source": [
    "with open(pathTranslate('$(MODELDIR)/fac_to_cat_marginalized_direct.yaml'), 'rU') as f:\n",
    "    facToCatD = yaml.load(f)\n",
    "print facToCatD.keys()"
   ]
  },
  {
   "cell_type": "code",
   "execution_count": null,
   "metadata": {
    "collapsed": false
   },
   "outputs": [],
   "source": [
    "with open(pathTranslate('$(MODELDIR)/los_model_fit_parms_fixedmean.csv'), 'rU') as f:\n",
    "    nhLOSKeys, nhLOSRecs = csv_tools.parseCSV(f)\n",
    "print nhLOSKeys\n",
    "nhLOSD = {r['abbrev']: r for r in nhLOSRecs}\n",
    "print nhLOSD['PSUP']"
   ]
  },
  {
   "cell_type": "code",
   "execution_count": null,
   "metadata": {
    "collapsed": false
   },
   "outputs": [],
   "source": [
    "hospChrFname = 'OC_Hospital_and_Nursing_Home_Characteristics_for_RHEA_2.0_-_Adult_Only_-_09-15-2017_FINAL_HOSP_CHAR.csv'\n",
    "\n",
    "with open(pathTranslate('$(MODELDIR)/%s' % hospChrFname), 'rU') as f:\n",
    "    hospChrKeys, hospChrRecs = csv_tools.parseCSV(f)\n",
    "print hospChrKeys\n",
    "hospChrD = {r['RHEA 2.0 CODE']: r for r in hospChrRecs}"
   ]
  },
  {
   "cell_type": "code",
   "execution_count": null,
   "metadata": {
    "collapsed": false
   },
   "outputs": [],
   "source": [
    "with open(pathTranslate('$(MODELDIR)/los_model_fit_nh_two_weibull.csv'), 'rU') as f:\n",
    "    wbNHLOSKeys, wbNHLOSRecs = csv_tools.parseCSV(f)\n",
    "print wbNHLOSKeys\n",
    "wbNHLOSD = {r['abbrev']: r for r in wbNHLOSRecs}\n",
    "print wbNHLOSD['PSUP']"
   ]
  },
  {
   "cell_type": "code",
   "execution_count": null,
   "metadata": {
    "collapsed": false
   },
   "outputs": [],
   "source": [
    "hospLOSFname = 'OC_Hospital_MRSA-Stratified_LOS_Distributions_for_RHEA_2.0_-_Adult_Only_-_09-18-2017_FINAL_MRSAMINUS_LOS_ALL.csv'\n",
    "with open(pathTranslate('$(MODELDIR)/%s' % hospLOSFname), 'rU') as f:\n",
    "    hospLOSKeys, hospLOSRecs = csv_tools.parseCSV(f)\n",
    "print hospLOSKeys\n",
    "hospLOSD = {r['CODE']: r for r in hospLOSRecs}\n"
   ]
  },
  {
   "cell_type": "code",
   "execution_count": null,
   "metadata": {
    "collapsed": true
   },
   "outputs": [],
   "source": []
  },
  {
   "cell_type": "code",
   "execution_count": null,
   "metadata": {
    "collapsed": true
   },
   "outputs": [],
   "source": []
  },
  {
   "cell_type": "code",
   "execution_count": null,
   "metadata": {
    "collapsed": false
   },
   "outputs": [],
   "source": [
    "from scipy.stats.distributions import rv_continuous, lognorm, weibull_min\n",
    "import math\n",
    "# 1.94 is the ln of the mean\n",
    "# .83 is the ln of stdv\n",
    "mu = 1.94\n",
    "sigma = 0.83\n",
    "rv = lognorm(sigma, math.exp(mu))\n",
    "print rv.mean(), rv.median()\n"
   ]
  },
  {
   "cell_type": "code",
   "execution_count": null,
   "metadata": {
    "collapsed": false
   },
   "outputs": [],
   "source": [
    "mean = math.exp(1.94)\n",
    "stdv = math.exp(0.83)\n",
    "#mu = math.log(mean) - (0.5*stdv*stdv)\n",
    "mu = mean - (0.5*stdv*stdv)\n",
    "#rv = lognorm(stdv, scale=math.exp(mu), loc=0.0)\n",
    "rv1 = lognorm(0.83, scale=mu, loc=0.0)\n",
    "print rv1.median()"
   ]
  },
  {
   "cell_type": "code",
   "execution_count": null,
   "metadata": {
    "collapsed": false
   },
   "outputs": [],
   "source": [
    "mu = 1.94\n",
    "#mu = 0.0\n",
    "sigma = 0.83\n",
    "#sigma = 1.0\n",
    "rv2 = lognorm(sigma, scale=math.exp(mu), loc=0.0)\n",
    "print 'mean:   ', rv2.mean()\n",
    "print 'median: ', rv2.median()"
   ]
  },
  {
   "cell_type": "code",
   "execution_count": null,
   "metadata": {
    "collapsed": false
   },
   "outputs": [],
   "source": [
    "mu = 1.94\n",
    "#mu = 0.0\n",
    "sigma = 0.83\n",
    "#sigma = 1.0\n",
    "rv3 = lognorm(sigma, scale=math.exp(mu), loc=10.0)\n",
    "print 'mean:   ', rv3.mean()\n",
    "print 'median: ', rv3.median()"
   ]
  },
  {
   "cell_type": "code",
   "execution_count": null,
   "metadata": {
    "collapsed": false
   },
   "outputs": [],
   "source": [
    "k, shape1, scale1, shape2, scale2 = 0.5416364701, 0.6074742465, 165.0048283694, 1.3523950354, 20.4852828978\n",
    "\n",
    "rv4 = weibull_min(shape1, scale=scale1)\n",
    "rv5 = weibull_min(shape2, scale=scale2)\n",
    "#mu = 0.0\n",
    "sigma = 0.83\n",
    "#sigma = 1.0\n",
    "rv3 = lognorm(sigma, scale=math.exp(mu), loc=10.0)\n",
    "print 'mean:   ', rv4.mean(), rv5.mean()\n",
    "print 'median: ', rv4.median(), rv5.median()"
   ]
  },
  {
   "cell_type": "code",
   "execution_count": null,
   "metadata": {
    "collapsed": false
   },
   "outputs": [],
   "source": [
    "import numpy as np\n",
    "%matplotlib inline\n",
    "import matplotlib\n",
    "import matplotlib.pyplot as plt\n",
    "fig = plt.figure()\n",
    "axes = plt.subplot(111)\n",
    "x = np.linspace(0, 31)\n",
    "axes.plot(x, rv1.pdf(x), label='rv1')\n",
    "axes.plot(x, rv2.pdf(x), label='rv2')\n",
    "axes.plot(x, rv3.pdf(x), label='rv3')\n",
    "axes.plot(x, rv5.pdf(x), label='rv5')\n",
    "axes.legend()\n",
    "plt.show()"
   ]
  },
  {
   "cell_type": "code",
   "execution_count": null,
   "metadata": {
    "collapsed": false
   },
   "outputs": [],
   "source": [
    "lnRV = lognorm(8.96443506e-01 , scale=math.exp(2.91480721e+00))\n",
    "print lnRV.mean()"
   ]
  },
  {
   "cell_type": "code",
   "execution_count": null,
   "metadata": {
    "collapsed": false
   },
   "outputs": [],
   "source": [
    "from scipy.stats.distributions import expon\n",
    "expRV = expon(scale=(1.0/2.36826336e-04))\n",
    "print expRV.mean()"
   ]
  },
  {
   "cell_type": "code",
   "execution_count": null,
   "metadata": {
    "collapsed": true
   },
   "outputs": [],
   "source": []
  }
 ],
 "metadata": {
  "kernelspec": {
   "display_name": "Python2 (myenv)",
   "language": "python",
   "name": "myenv"
  },
  "language_info": {
   "codemirror_mode": {
    "name": "ipython",
    "version": 2
   },
   "file_extension": ".py",
   "mimetype": "text/x-python",
   "name": "python",
   "nbconvert_exporter": "python",
   "pygments_lexer": "ipython2",
   "version": "2.7.12"
  }
 },
 "nbformat": 4,
 "nbformat_minor": 1
}
