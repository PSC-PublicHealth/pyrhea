{
 "cells": [
  {
   "cell_type": "code",
   "execution_count": null,
   "metadata": {
    "collapsed": true
   },
   "outputs": [],
   "source": [
    "import math\n",
    "import numpy as np\n",
    "from scipy.stats import lognorm\n",
    "from scipy.optimize import minimize_scalar\n",
    "from scipy.optimize import brentq\n",
    "import matplotlib.pyplot as plt\n",
    "from scipy.stats import kstest\n"
   ]
  },
  {
   "cell_type": "code",
   "execution_count": null,
   "metadata": {
    "collapsed": false,
    "scrolled": true
   },
   "outputs": [],
   "source": [
    "hospLM = {'parms': [1.45, 0.61], 'pdf': 'lognorm(mu=$0,sigma=$1)', 'prov':'test hosp LOSModel'} # includes ICU stays\n",
    "icuLOSLogNormSigma = 0.7\n",
    "meanLOSICU = 7.7\n",
    "mu = math.log(meanLOSICU) - (0.5 * icuLOSLogNormSigma * icuLOSLogNormSigma)\n",
    "icuLM = {'parms': [mu, icuLOSLogNormSigma], 'pdf': 'lognorm(mu=$0,sigma=$1)', 'prov':'test icu LOSModel' }\n",
    "fracPatientDaysICU = 0.108\n",
    "print 'hospLM: ', hospLM\n",
    "print 'icuLM: ', icuLM"
   ]
  },
  {
   "cell_type": "code",
   "execution_count": null,
   "metadata": {
    "collapsed": false
   },
   "outputs": [],
   "source": [
    "hospCRV = lognorm(hospLM['parms'][1], scale=math.exp(hospLM['parms'][0]))\n",
    "icuCRV = lognorm(icuLM['parms'][1], scale=math.exp(icuLM['parms'][0]))\n",
    "print hospCRV.mean()\n",
    "print icuCRV.mean()"
   ]
  },
  {
   "cell_type": "markdown",
   "metadata": {},
   "source": [
    "## Derivation of meanLOSHosp ##\n",
    "\n",
    "$fracPatientDaysHosp=1.0-fracPatientDaysICU$\n",
    "\n",
    "$(A+B)*meanLOSHosp+B*meanLOSICU=(A+B)*meanLOS$\n",
    "\n",
    "$(B*meanLOSICU)/((A+B)*meanLOS) = fracPatientDaysICU$\n",
    "\n",
    "$(B*meanLOSICU)/fracPatientDaysICU = (A+B)*meanLOS$\n",
    "\n",
    "$meanLOSICU/(fracPatientDaysICU*meanLOS) = (A+B)/B$\n",
    "\n",
    "$(fracPatientDaysICU*meanLOS)/(meanLOSICU) = B/(A+B)$\n",
    "\n",
    "$meanLOSHosp + (B/(A+B))*meanLOSICU = meanLOS$\n",
    "\n",
    "$meanLOSHosp = meanLOS - (B/(A+B))*meanLOSICU$"
   ]
  },
  {
   "cell_type": "code",
   "execution_count": null,
   "metadata": {
    "collapsed": false
   },
   "outputs": [],
   "source": [
    "fracICU = (fracPatientDaysICU * hospCRV.mean())/icuCRV.mean()\n",
    "print fracICU\n",
    "meanLOSHosp = hospCRV.mean() - (fracICU*icuCRV.mean())\n",
    "print meanLOSHosp"
   ]
  },
  {
   "cell_type": "code",
   "execution_count": null,
   "metadata": {
    "collapsed": true
   },
   "outputs": [],
   "source": [
    "def crvFromMeanAndLogNormSigma(meanV, logNormSigma):\n",
    "    mu = math.log(meanV) - (0.5 * logNormSigma * logNormSigma)\n",
    "    return lognorm(logNormSigma, scale=math.exp(mu))\n",
    "\n"
   ]
  },
  {
   "cell_type": "code",
   "execution_count": null,
   "metadata": {
    "collapsed": true
   },
   "outputs": [],
   "source": [
    "def jointSamps(nSamps, aCRV, bCRV, frac):\n",
    "    aSamps = aCRV.rvs(nSamps)\n",
    "    bSamps = bCRV.rvs(nSamps)\n",
    "    choices = np.random.choice(2, nSamps, p=[frac, 1.0 - frac])\n",
    "    return np.choose(choices, [aSamps + bSamps, aSamps])"
   ]
  },
  {
   "cell_type": "code",
   "execution_count": null,
   "metadata": {
    "collapsed": true
   },
   "outputs": [],
   "source": [
    "%config InlineBackend.print_figure_kwargs = {'bbox_inches':None}\n",
    "plt.rcParams[\"figure.figsize\"] = [16, 4.5]\n",
    "\n",
    "def plotit(samples, sampLbl, outerCRV, outerCRVLbl, titleStr):\n",
    "    nBins = 200\n",
    "    histoRange = [0.0, 20.0]\n",
    "    nSamps = len(samples)\n",
    "    scale = len(samples) * (histoRange[1] - histoRange[0])/nBins\n",
    "    plt.hist(samples, bins=nBins, range=histoRange, label=sampLbl)\n",
    "    xV = np.linspace(histoRange[0], histoRange[1], nBins)\n",
    "    yV = scale * outerCRV.pdf(xV)\n",
    "    plt.plot(xV, yV, '-', label=outerCRVLbl)\n",
    "    plt.legend()\n",
    "    plt.title(titleStr)\n",
    "    plt.show()\n",
    "\n"
   ]
  },
  {
   "cell_type": "code",
   "execution_count": null,
   "metadata": {
    "collapsed": false
   },
   "outputs": [],
   "source": [
    "nSamps = 1000000\n",
    "plotit(jointSamps(nSamps, hospCRV, icuCRV, fracICU), 'joint ICU + HOSP', \n",
    "       hospCRV, 'expected', 'Uncorrected')"
   ]
  },
  {
   "cell_type": "markdown",
   "metadata": {},
   "source": [
    "## Correction based on stdv matching ##"
   ]
  },
  {
   "cell_type": "code",
   "execution_count": null,
   "metadata": {
    "collapsed": false
   },
   "outputs": [],
   "source": [
    "def func(val, nSamps, meanLOSHosp, hospCRV, icuCRV):\n",
    "    guessCRV = crvFromMeanAndLogNormSigma(meanLOSHosp, val)\n",
    "    samps = jointSamps(nSamps, guessCRV, icuCRV, fracICU)\n",
    "    #print 'mean: %s vs %s' % (np.mean(samps), hospCRV.mean())\n",
    "    #print 'stdv: %s vs %s' % (np.std(samps), hospCRV.std())\n",
    "    return np.std(samps) - hospCRV.std()\n",
    "\n",
    "rslt = brentq(func, 0.1 * hospLM['parms'][1], hospLM['parms'][1], maxiter=10,\n",
    "             disp=False, args=(10000, meanLOSHosp, hospCRV, icuCRV))\n",
    "print rslt\n",
    "stdvCorrCRV = crvFromMeanAndLogNormSigma(meanLOSHosp, rslt)\n",
    "nSamps = 1000000\n",
    "plotit(jointSamps(nSamps, stdvCorrCRV, icuCRV, fracICU), 'joint ICU + HOSP', \n",
    "       hospCRV, 'expected', 'Corrected based on stdv')"
   ]
  },
  {
   "cell_type": "code",
   "execution_count": null,
   "metadata": {
    "collapsed": true
   },
   "outputs": [],
   "source": [
    "## Corrected via K-S matching ##"
   ]
  },
  {
   "cell_type": "code",
   "execution_count": null,
   "metadata": {
    "collapsed": false,
    "scrolled": true
   },
   "outputs": [],
   "source": [
    "def func(val, nSamps, meanLOSHosp, hospCRV, icuCRV):\n",
    "    guessCRV = crvFromMeanAndLogNormSigma(meanLOSHosp, val)\n",
    "    samps = jointSamps(nSamps, guessCRV, icuCRV, fracICU)\n",
    "    rslt = kstest(samps, hospCRV.cdf).statistic\n",
    "    #print '%s -> %s' % (val, rslt)\n",
    "    return rslt\n",
    "\n",
    "rslt = minimize_scalar(func, [0.1 * hospLM['parms'][1], hospLM['parms'][1]],\n",
    "                      args=(1000000, meanLOSHosp, hospCRV, icuCRV))\n",
    "print rslt\n",
    "ksCorrCRV = crvFromMeanAndLogNormSigma(meanLOSHosp, rslt.x)\n",
    "nSamps = 1000000\n",
    "plotit(jointSamps(nSamps, ksCorrCRV, icuCRV, fracICU), 'joint ICU + HOSP', \n",
    "       hospCRV, 'expected', 'Corrected based on stdv')"
   ]
  },
  {
   "cell_type": "code",
   "execution_count": null,
   "metadata": {
    "collapsed": true
   },
   "outputs": [],
   "source": []
  }
 ],
 "metadata": {
  "kernelspec": {
   "display_name": "Python2 (myenv)",
   "language": "python",
   "name": "myenv"
  },
  "language_info": {
   "codemirror_mode": {
    "name": "ipython",
    "version": 2
   },
   "file_extension": ".py",
   "mimetype": "text/x-python",
   "name": "python",
   "nbconvert_exporter": "python",
   "pygments_lexer": "ipython2",
   "version": "2.7.12"
  }
 },
 "nbformat": 4,
 "nbformat_minor": 2
}
