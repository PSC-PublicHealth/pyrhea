{
 "cells": [
  {
   "cell_type": "code",
   "execution_count": null,
   "metadata": {
    "collapsed": false
   },
   "outputs": [],
   "source": [
    "import math\n",
    "import os\n",
    "import yaml\n",
    "import numpy as np\n",
    "import git\n",
    "from scipy.stats import lognorm\n",
    "from scipy.optimize import minimize_scalar\n",
    "from scipy.optimize import brentq\n",
    "import matplotlib.pyplot as plt\n",
    "from scipy.stats import kstest\n",
    "from tools_util import readModelInputs, getFacDict\n",
    "from pyrheautils import pathTranslate, prepPathTranslations\n",
    "from stats import jointSamples, fullLogNormCRVFromMean, correctLogNormCRVForComponent\n",
    "import phacsl.utils.formats.yaml_tools as yaml_tools"
   ]
  },
  {
   "cell_type": "code",
   "execution_count": null,
   "metadata": {
    "collapsed": false
   },
   "outputs": [],
   "source": [
    "#runDesc = '/home/welling/git/pyRHEA_github/src/sim/week_run_OC.yaml'\n",
    "runDesc = '/home/welling/git/pyRHEA_github/src/sim/week_run_ChicagoLand.yaml'\n",
    "\n",
    "\n",
    "inputDict = readModelInputs(runDesc)\n",
    "prepPathTranslations(inputDict)\n",
    "facDict = getFacDict(inputDict)\n"
   ]
  },
  {
   "cell_type": "code",
   "execution_count": null,
   "metadata": {
    "collapsed": false
   },
   "outputs": [],
   "source": [
    "with open(pathTranslate('$(MODELDIR)/constants/hospital_constants.yaml'), 'rU') as f:\n",
    "    hospConstants = yaml.load(f)\n",
    "print hospConstants['icuLOSLogNormSigma']"
   ]
  },
  {
   "cell_type": "markdown",
   "metadata": {},
   "source": [
    "## Derivation of meanLOSHosp ##\n",
    "\n",
    "$fracPatientDaysHosp=1.0-fracPatientDaysICU$\n",
    "\n",
    "$(A+B)*meanLOSHosp+B*meanLOSICU=(A+B)*meanLOS$\n",
    "\n",
    "$(B*meanLOSICU)/((A+B)*meanLOS) = fracPatientDaysICU$\n",
    "\n",
    "$(B*meanLOSICU)/fracPatientDaysICU = (A+B)*meanLOS$\n",
    "\n",
    "$meanLOSICU/(fracPatientDaysICU*meanLOS) = (A+B)/B$\n",
    "\n",
    "$(fracPatientDaysICU*meanLOS)/(meanLOSICU) = B/(A+B)$\n",
    "\n",
    "$meanLOSHosp + (B/(A+B))*meanLOSICU = meanLOS$\n",
    "\n",
    "$meanLOSHosp = meanLOS - (B/(A+B))*meanLOSICU$"
   ]
  },
  {
   "cell_type": "code",
   "execution_count": null,
   "metadata": {
    "collapsed": true
   },
   "outputs": [],
   "source": [
    "def crvFromMeanAndLogNormSigma(meanV, logNormSigma):\n",
    "    return fullLogNormCRVFromMean(meanV, logNormSigma)\n"
   ]
  },
  {
   "cell_type": "code",
   "execution_count": null,
   "metadata": {
    "collapsed": true
   },
   "outputs": [],
   "source": [
    "def jointSamps(nSamps, aCRV, bCRV, frac):\n",
    "    return jointSamples(nSamps, aCRV, bCRV, frac)"
   ]
  },
  {
   "cell_type": "code",
   "execution_count": null,
   "metadata": {
    "collapsed": true
   },
   "outputs": [],
   "source": [
    "%config InlineBackend.print_figure_kwargs = {'bbox_inches':None}\n",
    "plt.rcParams[\"figure.figsize\"] = [16, 4.5]\n",
    "\n",
    "def plotit(samples, sampLbl, outerCRV, outerCRVLbl, titleStr):\n",
    "    nBins = 200\n",
    "    histoRange = [0.0, 20.0]\n",
    "    nSamps = len(samples)\n",
    "    scale = len(samples) * (histoRange[1] - histoRange[0])/nBins\n",
    "    plt.hist(samples, bins=nBins, range=histoRange, label=sampLbl)\n",
    "    xV = np.linspace(histoRange[0], histoRange[1], nBins)\n",
    "    yV = scale * outerCRV.pdf(xV)\n",
    "    plt.plot(xV, yV, '-', label=outerCRVLbl)\n",
    "    plt.legend()\n",
    "    plt.title(titleStr)\n",
    "    plt.show()\n",
    "\n"
   ]
  },
  {
   "cell_type": "markdown",
   "metadata": {},
   "source": [
    "## Correct via K-S matching ##"
   ]
  },
  {
   "cell_type": "code",
   "execution_count": null,
   "metadata": {
    "collapsed": false
   },
   "outputs": [],
   "source": [
    "nSamps = 1000000\n",
    "icuLOSLogNormSigma = hospConstants['icuLOSLogNormSigma']['value']\n",
    "\n",
    "hospL = []\n",
    "for fac, rec in facDict.items():\n",
    "    if rec['category'] == 'HOSPITAL':\n",
    "        hospL.append(fac)\n",
    "hospL.sort()\n",
    "print '%d pdfs to correct' % len(hospL)\n",
    "\n",
    "corrD = {}\n",
    "for fac in hospL:\n",
    "    print 'Correcting %s' % fac\n",
    "    hospLM = facDict[fac]['losModel']\n",
    "    fracPatientDaysICU = facDict[fac]['fracAdultPatientDaysICU']['value']\n",
    "    meanLOSICU = facDict[fac]['meanLOSICU']['value']\n",
    "\n",
    "    mu = math.log(meanLOSICU) - (0.5 * icuLOSLogNormSigma * icuLOSLogNormSigma)\n",
    "    icuLM = {'parms': [mu, icuLOSLogNormSigma], 'pdf': 'lognorm(mu=$0,sigma=$1)'}\n",
    "\n",
    "    hospCRV = lognorm(hospLM['parms'][1], scale=math.exp(hospLM['parms'][0]))\n",
    "    icuCRV = lognorm(icuLM['parms'][1], scale=math.exp(icuLM['parms'][0]))\n",
    "\n",
    "    fracICU = (fracPatientDaysICU * hospCRV.mean())/icuCRV.mean()\n",
    "    meanLOSHosp = hospCRV.mean() - (fracICU*icuCRV.mean())\n",
    "\n",
    "    corrSigma = correctLogNormCRVForComponent(meanLOSHosp,\n",
    "                                              0.1 * hospLM['parms'][1], hospLM['parms'][1],\n",
    "                                              hospCRV, fracICU, icuCRV, nSamps)\n",
    "    corrCRV = crvFromMeanAndLogNormSigma(meanLOSHosp, corrSigma)\n",
    "    corrMu = math.log(meanLOSHosp) - (0.5 * corrSigma * corrSigma)\n",
    "    corrLM = {'parms': [float(corrMu), float(corrSigma)], 'pdf': 'lognorm(mu=$0,sigma=$1)'}\n",
    "    print '%s: %s' % (fac, corrLM)\n",
    "    corrD[fac] = corrLM\n"
   ]
  },
  {
   "cell_type": "code",
   "execution_count": null,
   "metadata": {
    "collapsed": false
   },
   "outputs": [],
   "source": [
    "for fac in ['SJUD', 'UCIM', 'HOAG', 'PALO_12251_H', 'VHS_1225_H']:\n",
    "    if fac not in facDict:\n",
    "        continue\n",
    "    hospLM = facDict[fac]['losModel']\n",
    "\n",
    "    fracPatientDaysICU = facDict[fac]['fracAdultPatientDaysICU']['value']\n",
    "    meanLOSICU = facDict[fac]['meanLOSICU']['value']\n",
    "    mu = math.log(meanLOSICU) - (0.5 * icuLOSLogNormSigma * icuLOSLogNormSigma)\n",
    "    icuLM = {'parms': [mu, icuLOSLogNormSigma], 'pdf': 'lognorm(mu=$0,sigma=$1)'}\n",
    "    corrLM = corrD[fac]\n",
    "\n",
    "    hospCRV = lognorm(hospLM['parms'][1], scale=math.exp(hospLM['parms'][0]))\n",
    "    icuCRV = lognorm(icuLM['parms'][1], scale=math.exp(icuLM['parms'][0]))\n",
    "    corrCRV = lognorm(corrLM['parms'][1], scale=math.exp(corrLM['parms'][0]))\n",
    "\n",
    "    fracICU = (fracPatientDaysICU * hospCRV.mean())/icuCRV.mean()\n",
    "    uncorSamps = jointSamps(nSamps, hospCRV, icuCRV, fracICU)\n",
    "    uncorMean = np.mean(uncorSamps)\n",
    "    plotit(uncorSamps, 'joint ICU + HOSP', \n",
    "           hospCRV, 'expected', '%s Uncorrected (mean %f)' % (fac, uncorMean))\n",
    "    corSamps = jointSamps(nSamps, corrCRV, icuCRV, fracICU)\n",
    "    corMean = np.mean(corSamps)\n",
    "    plotit(corSamps, 'joint ICU + HOSP', \n",
    "           hospCRV, 'expected', '%s Corrected based on K-S fit (mean %f)' % (fac, corMean))"
   ]
  },
  {
   "cell_type": "code",
   "execution_count": null,
   "metadata": {
    "collapsed": false
   },
   "outputs": [],
   "source": [
    "#with open('corr_pdfs.yaml', 'w') as f:\n",
    "#    yaml.safe_dump(corrD, f, indent=4,\n",
    "#                   encoding='utf-8', width=130, explicit_start=True)"
   ]
  },
  {
   "cell_type": "code",
   "execution_count": null,
   "metadata": {
    "collapsed": false
   },
   "outputs": [],
   "source": [
    "%%javascript\n",
    "var kernel = IPython.notebook.kernel;\n",
    "var thename = window.document.getElementById(\"notebook_name\").innerHTML;\n",
    "var command = \"nameOfThisNotebook = \" + \"'\"+thename+\"'\";\n",
    "kernel.execute(command);"
   ]
  },
  {
   "cell_type": "code",
   "execution_count": null,
   "metadata": {
    "collapsed": false
   },
   "outputs": [],
   "source": [
    "simStatus = git.cmd.Git(pathTranslate('$(SIMDIR)')).describe('--always', '--dirty')\n",
    "modelStatus = git.cmd.Git(pathTranslate('$(MODELDIR)')).describe('--always', '--dirty')\n",
    "print 'simStatus: %s' % simStatus\n",
    "print 'modelStatus: %s' % modelStatus\n"
   ]
  },
  {
   "cell_type": "code",
   "execution_count": null,
   "metadata": {
    "collapsed": false
   },
   "outputs": [],
   "source": [
    "provS = \"Generated using {0} notebook {1} based on model data {2}\".format(nameOfThisNotebook,\n",
    "                                                                         simStatus, modelStatus)\n",
    "for fac, rec in corrD.items():\n",
    "    rec.update({'prov': provS})\n",
    "newFacDict = {}\n",
    "for fac in hospL:\n",
    "    rec = facDict[fac].copy()\n",
    "    rec['correctedLOSModel'] = corrD[fac]\n",
    "    newFacDict[fac] = rec\n",
    "\n",
    "yaml_tools.save_all(pathTranslate('$(MODELDIR)/facilityfactsUpdated'), newFacDict.values())"
   ]
  },
  {
   "cell_type": "code",
   "execution_count": null,
   "metadata": {
    "collapsed": true
   },
   "outputs": [],
   "source": []
  }
 ],
 "metadata": {
  "kernelspec": {
   "display_name": "Python2 (myenv)",
   "language": "python",
   "name": "myenv"
  },
  "language_info": {
   "codemirror_mode": {
    "name": "ipython",
    "version": 2
   },
   "file_extension": ".py",
   "mimetype": "text/x-python",
   "name": "python",
   "nbconvert_exporter": "python",
   "pygments_lexer": "ipython2",
   "version": "2.7.12"
  }
 },
 "nbformat": 4,
 "nbformat_minor": 2
}
