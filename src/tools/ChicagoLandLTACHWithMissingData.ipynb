{
 "cells": [
  {
   "cell_type": "code",
   "execution_count": 4,
   "metadata": {
    "collapsed": false
   },
   "outputs": [],
   "source": [
    "import os.path\n",
    "import types\n",
    "import math\n",
    "import yaml\n",
    "import phacsl.utils.formats.csv_tools as csv_tools\n",
    "import phacsl.utils.formats.yaml_tools as yaml_tools\n",
    "\n",
    "%matplotlib inline\n",
    "\n",
    "import matplotlib\n",
    "import numpy as np\n",
    "import matplotlib.pyplot as plt\n",
    "from scipy import stats, optimize\n",
    "\n",
    "def loadCSVByAbbrev(modelDir, fname, key=None):\n",
    "    if key is None:\n",
    "        key = 'abbrev'\n",
    "    fullName = os.path.join(modelDir, fname)\n",
    "    with open(fullName) as fl:\n",
    "        keys, recs = csv_tools.parseCSV(fl)\n",
    "    assert key in keys, ('%s has no \"%s\" field' % (fullName, key))\n",
    "    return {rec[key]: rec for rec in recs}\n",
    "\n",
    "def typeCheck(val):\n",
    "    return (type(val) in [types.FloatType, types.IntType]) \n",
    "\n",
    "modelDir = '/home/welling/git/pyrhea/models/ChicagoLand'\n",
    "\n",
    "allKeySet, recs = yaml_tools.parse_all(os.path.join(modelDir, 'facilityfacts'))\n",
    "facDict = {r['abbrev']:r for r in recs}\n",
    "\n",
    "kL, uRecs = yaml_tools.parse_all(os.path.join(modelDir, 'facilityfactsUpdated'))\n",
    "updatedFacDict= {r['abbrev']:r for r in uRecs}\n"
   ]
  },
  {
   "cell_type": "code",
   "execution_count": 5,
   "metadata": {
    "collapsed": false
   },
   "outputs": [],
   "source": [
    "isLTACH = [k for k, rec in facDict.items() if rec['category'] in ['LTACH']]\n"
   ]
  },
  {
   "cell_type": "code",
   "execution_count": 6,
   "metadata": {
    "collapsed": false
   },
   "outputs": [],
   "source": [
    "def getVal(abbrev, key):\n",
    "    if key == 'totalTransfersOut':\n",
    "        if key in facDict[abbrev]:\n",
    "            return sum([d['count']['value'] for d in facDict[abbrev][key]])\n",
    "        else:\n",
    "            return None\n",
    "    else:\n",
    "        if key in facDict[abbrev]:\n",
    "            return float(facDict[abbrev][key]['value'])\n",
    "        else:\n",
    "            return None\n",
    "\n",
    "def checkPairValid(val, prov):\n",
    "    for s in ['average', 'median', 'regression', 'slope']:\n",
    "        if s in prov.lower():\n",
    "            return False\n",
    "    if val == 0:\n",
    "        return False\n",
    "    return True\n",
    "    \n",
    "def checkValid(abbrev, key):\n",
    "    if key == 'totalTransfersOut':\n",
    "        for hook in facDict[abbrev][key]:\n",
    "            if not checkPairValid(hook['value'], hook['prov']):\n",
    "                return False\n",
    "        return True\n",
    "    else:\n",
    "        hook = facDict[abbrev][key]\n",
    "        return checkPairValid(hook['value'], hook['prov'])\n"
   ]
  },
  {
   "cell_type": "code",
   "execution_count": 7,
   "metadata": {
    "collapsed": false
   },
   "outputs": [],
   "source": [
    "def findThoseWith(key):\n",
    "    if key == 'totalTransfersOut':\n",
    "        return [k for k in isLTACH if key in facDict[k]]\n",
    "    else:\n",
    "        return [k for k in isLTACH if key in facDict[k] and typeCheck(facDict[k][key]['value'])]\n"
   ]
  },
  {
   "cell_type": "code",
   "execution_count": 8,
   "metadata": {
    "collapsed": false
   },
   "outputs": [],
   "source": [
    "def findThoseWithout(key):\n",
    "    l = findThoseWith(key)\n",
    "    return [k for k in isLTACH if k not in l]"
   ]
  },
  {
   "cell_type": "code",
   "execution_count": 9,
   "metadata": {
    "collapsed": false
   },
   "outputs": [],
   "source": [
    "def findThoseWithoutValid(key):\n",
    "    noneL = findThoseWithout(key)\n",
    "    withL = findThoseWith(key)\n",
    "    fakeL = [k for k in withL if not checkValid(k, key)]\n",
    "    return noneL + fakeL\n"
   ]
  },
  {
   "cell_type": "code",
   "execution_count": 10,
   "metadata": {
    "collapsed": false
   },
   "outputs": [],
   "source": [
    "def findThoseWithValid(key):\n",
    "    withL = findThoseWith(key)\n",
    "    validL = [k for k in withL if checkValid(k, key)]\n",
    "    return validL\n"
   ]
  },
  {
   "cell_type": "code",
   "execution_count": 11,
   "metadata": {
    "collapsed": false
   },
   "outputs": [
    {
     "name": "stdout",
     "output_type": "stream",
     "text": [
      "set([])\n",
      "True\n"
     ]
    }
   ],
   "source": [
    "s1 = set(findThoseWithValid('fracAdultPatientDaysICU'))\n",
    "s2 = set(findThoseWithoutValid('fracAdultPatientDaysICU'))\n",
    "hospSet = set(isLTACH)\n",
    "print s1.intersection(s2)\n",
    "print hospSet == s1.union(s2)\n"
   ]
  },
  {
   "cell_type": "code",
   "execution_count": 14,
   "metadata": {
    "collapsed": false
   },
   "outputs": [
    {
     "data": {
      "image/png": "[encoded data removed]",
      "text/plain": [
       "<matplotlib.figure.Figure at 0x7fe3cbf89c50>"
      ]
     },
     "metadata": {},
     "output_type": "display_data"
    },
    {
     "name": "stdout",
     "output_type": "stream",
     "text": [
      "slope: 0.915393514265\n",
      "intercept: -17.1672830436\n",
      "std_err: 0.0896885497054\n",
      "r_value: 0.972388088035\n",
      "p_value: 5.1545642312e-05\n",
      "----------------------\n",
      "VIBR_9509_L, 19.448458,\n"
     ]
    }
   ],
   "source": [
    "depKey = 'meanPop'\n",
    "lDep = findThoseWithValid(depKey)\n",
    "indepKey = 'nBeds'\n",
    "lIndep = findThoseWithValid(indepKey)\n",
    "workL = [k for k in lIndep if k in lDep]\n",
    "xL = [getVal(k, indepKey) for k in workL]\n",
    "yL = [getVal(k, depKey) for k in workL]\n",
    "slope, intercept, r_value, p_value, std_err = stats.linregress(xL,yL)\n",
    "yFit = [intercept + (x * slope) for x in xL]\n",
    "plt.xlabel(indepKey)\n",
    "plt.ylabel(depKey)\n",
    "plt.plot(xL, yL, '*')\n",
    "plt.plot(xL, yFit, '--')\n",
    "plt.show()\n",
    "print 'slope: %s' % slope\n",
    "print 'intercept: %s' % intercept\n",
    "print 'std_err: %s' % std_err\n",
    "print 'r_value: %s' % r_value\n",
    "print 'p_value: %s' % p_value\n",
    "print '----------------------'\n",
    "targetL = findThoseWithoutValid(depKey)\n",
    "targetL.sort()\n",
    "for abbrev in targetL:\n",
    "    if abbrev in findThoseWithValid(indepKey):\n",
    "        print '%s, %f,' % (abbrev, (slope*(getVal(abbrev,indepKey)) + intercept))\n",
    "    else:\n",
    "        print '%s,,no %s' % indepKey"
   ]
  },
  {
   "cell_type": "code",
   "execution_count": null,
   "metadata": {
    "collapsed": false
   },
   "outputs": [],
   "source": [
    "def innerTermCompare(oldTerm, newTerm, preamble=None):\n",
    "    if preamble is None:\n",
    "        preamble = ''\n",
    "    # print '%s %s -> %s' % (preamble, oldTerm, newTerm)\n",
    "    if isinstance(oldTerm, types.DictType):\n",
    "        if isinstance(newTerm, types.DictType):\n",
    "            allKeys = set(newTerm.keys() + oldTerm.keys())\n",
    "            for key in allKeys:\n",
    "                if key in oldTerm:\n",
    "                    if key in newTerm:\n",
    "                        if newTerm[key] != oldTerm[key]:\n",
    "                            newPreamble = '%s %s: ' % (preamble, key)\n",
    "                            innerTermCompare(oldTerm[key], newTerm[key], preamble=newPreamble)\n",
    "                    else:\n",
    "                        print '%s %s: this key was deleted' % (preamble, key)\n",
    "                elif key in newTerm:\n",
    "                    print '%s %s: this key was added' % (preamble, key)\n",
    "                else:\n",
    "                    raise RuntimeError('Vanishing key %s' % key)\n",
    "        else:\n",
    "            print '%s%s -> %s' % (preamble, oldTerm, newTerm)\n",
    "    elif isinstance(oldTerm, types.ListType):\n",
    "        if isinstance(newTerm, types.ListType):\n",
    "            oldL = oldTerm[:]\n",
    "            oldL.sort()\n",
    "            newL = newTerm[:]\n",
    "            newL.sort()\n",
    "            idx = 0\n",
    "            while oldL and newL:\n",
    "                innerTermCompare(oldL.pop(0), newL.pop(0), preamble='%s %s:'%(preamble, idx))\n",
    "                idx += 1\n",
    "            if oldL:\n",
    "                print '%s: lost %s in update' % (preamble, oldL)\n",
    "            elif newL:\n",
    "                print '%s: gained %s in update' % (preamble, newL)\n",
    "            else:\n",
    "                pass  # lists have been compared\n",
    "        else:\n",
    "            print '%s%s -> %s' % (preamble, oldTerm, newTerm)\n",
    "    else:\n",
    "        if oldTerm != newTerm:\n",
    "            print '%s%s -> %s' % (preamble, oldTerm, newTerm)\n",
    "\n",
    "\n",
    "    \n",
    "def termCompare(abbrev, key):\n",
    "    if abbrev in facDict:\n",
    "        if abbrev in updatedFacDict:\n",
    "            if key in facDict[abbrev]:\n",
    "                if key in updatedFacDict[abbrev]:\n",
    "                    oldTerm = facDict[abbrev][key]\n",
    "                    newTerm = updatedFacDict[abbrev][key]\n",
    "                    if newTerm != oldTerm:\n",
    "                        innerTermCompare(oldTerm, newTerm, '%s: %s: ' % (abbrev, key))\n",
    "                else:\n",
    "                    pass\n",
    "            else:\n",
    "                if key in updatedFacDict[abbrev]:\n",
    "                    print '%s: %s field was added in update' % (abbrev, key)\n",
    "                else:\n",
    "                    pass # no such abbrev key pair exists\n",
    "        else:\n",
    "            pass  # This abbrev was not updated\n",
    "    elif abbrev in updatedFacDict:\n",
    "        print '%s record was newly created in the update' % abbrev\n",
    "    else:\n",
    "        pass  # no such entry exists\n",
    "        \n",
    "allKeySet, recs = yaml_tools.parse_all(os.path.join(modelDir, 'facilityfacts'))\n",
    "facDict = {r['abbrev']:r for r in recs}\n",
    "\n",
    "kL, uRecs = yaml_tools.parse_all(os.path.join(modelDir, 'facilityfactsUpdated'))\n",
    "updatedFacDict= {r['abbrev']:r for r in uRecs}\n",
    "\n",
    "for abbrev, rec in facDict.items():\n",
    "    if abbrev in updatedFacDict:\n",
    "        uRec = updatedFacDict[abbrev]\n",
    "        allKeys = set(rec.keys() + uRec.keys())\n",
    "        for key in allKeys:\n",
    "            if key in rec:\n",
    "                if key in uRec:\n",
    "                    termCompare(abbrev, key)\n",
    "                else:\n",
    "                    print '%s: no %s in updated rec' % (abbrev, key)\n",
    "            else:\n",
    "                print '%s: %s key was added' % (abbrev, key)\n",
    "\n",
    "print '----DONE----'\n"
   ]
  },
  {
   "cell_type": "code",
   "execution_count": 21,
   "metadata": {
    "collapsed": false
   },
   "outputs": [
    {
     "name": "stdout",
     "output_type": "stream",
     "text": [
      "['RML_5601_L', 'THC_2544_L', 'ADVO_3435_L', 'THC_365_L', 'THC_4058_L', 'PRES_100_L', 'THC_225_L', 'VIBR_9509_L', 'THC_6130_L']\n",
      "['RML_5601_L', 'THC_2544_L', 'ADVO_3435_L', 'THC_365_L', 'THC_4058_L', 'PRES_100_L', 'THC_225_L', 'VIBR_9509_L', 'THC_6130_L']\n"
     ]
    }
   ],
   "source": [
    "print findThoseWithoutValid('meanLOSICU')\n",
    "print isLTACH"
   ]
  },
  {
   "cell_type": "code",
   "execution_count": 20,
   "metadata": {
    "collapsed": false
   },
   "outputs": [
    {
     "name": "stdout",
     "output_type": "stream",
     "text": [
      "VIBR_9509_L: 9509 GEORGIA ST, CROWN POINT, Lake County, IN 46307, USA\n"
     ]
    }
   ],
   "source": [
    "l1 = findThoseWithoutValid('meanPop')\n",
    "l2 = findThoseWithValid('nBeds')\n",
    "for abbrev in l1:\n",
    "    print '%s: %s' % (abbrev, facDict[abbrev]['address'])\n"
   ]
  },
  {
   "cell_type": "code",
   "execution_count": 13,
   "metadata": {
    "collapsed": false
   },
   "outputs": [
    {
     "name": "stdout",
     "output_type": "stream",
     "text": [
      "VIBR_9509_L: None\n"
     ]
    }
   ],
   "source": [
    "for abbrev in findThoseWithoutValid('meanPop'):\n",
    "    print '%s: %s' % (abbrev, getVal(abbrev, 'meanPop'))"
   ]
  },
  {
   "cell_type": "code",
   "execution_count": null,
   "metadata": {
    "collapsed": true
   },
   "outputs": [],
   "source": []
  }
 ],
 "metadata": {
  "kernelspec": {
   "display_name": "Python 2",
   "language": "python",
   "name": "python2"
  },
  "language_info": {
   "codemirror_mode": {
    "name": "ipython",
    "version": 2
   },
   "file_extension": ".py",
   "mimetype": "text/x-python",
   "name": "python",
   "nbconvert_exporter": "python",
   "pygments_lexer": "ipython2",
   "version": "2.7.12"
  }
 },
 "nbformat": 4,
 "nbformat_minor": 1
}
