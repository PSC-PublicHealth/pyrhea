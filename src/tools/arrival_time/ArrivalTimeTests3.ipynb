{
 "cells": [
  {
   "cell_type": "code",
   "execution_count": null,
   "metadata": {
    "scrolled": true
   },
   "outputs": [],
   "source": [
    "%matplotlib inline\n",
    "import pylab\n",
    "import numpy as np\n",
    "import pandas as pd\n",
    "import scipy.stats\n",
    "import scipy.sparse\n",
    "from ggplot import *\n",
    "import concurrent.futures"
   ]
  },
  {
   "cell_type": "code",
   "execution_count": null,
   "metadata": {},
   "outputs": [],
   "source": [
    "d = np.load('../arrival_time_arrays.npz')\n",
    "d.files"
   ]
  },
  {
   "cell_type": "code",
   "execution_count": null,
   "metadata": {},
   "outputs": [],
   "source": [
    "d.files"
   ]
  },
  {
   "cell_type": "code",
   "execution_count": null,
   "metadata": {},
   "outputs": [],
   "source": [
    "for f in d.files:\n",
    "    print(f,np.sum(d[f]))"
   ]
  },
  {
   "cell_type": "code",
   "execution_count": null,
   "metadata": {},
   "outputs": [],
   "source": [
    "def softmax(X, theta = 1.0, axis = None):\n",
    "    \"\"\"\n",
    "    Compute the softmax of each element along an axis of X.\n",
    "\n",
    "    Parameters\n",
    "    ----------\n",
    "    X: ND-Array. Probably should be floats. \n",
    "    theta (optional): float parameter, used as a multiplier\n",
    "        prior to exponentiation. Default = 1.0\n",
    "    axis (optional): axis to compute values along. Default is the \n",
    "        first non-singleton axis.\n",
    "\n",
    "    Returns an array the same size as X. The result will sum to 1\n",
    "    along the specified axis.\n",
    "    \n",
    "    Implementation from: https://nolanbconaway.github.io/blog/2017/softmax-numpy\n",
    "    \"\"\"\n",
    "\n",
    "    # make X at least 2d\n",
    "    y = np.atleast_2d(X)\n",
    "\n",
    "    # find axis\n",
    "    if axis is None:\n",
    "        axis = next(j[0] for j in enumerate(y.shape) if j[1] > 1)\n",
    "\n",
    "    # multiply y against the theta parameter, \n",
    "    y = y * float(theta)\n",
    "\n",
    "    # subtract the max for numerical stability\n",
    "    y = y - np.expand_dims(np.max(y, axis = axis), axis)\n",
    "    \n",
    "    # exponentiate y\n",
    "    y = np.exp(y)\n",
    "\n",
    "    # take the sum along the specified axis\n",
    "    ax_sum = np.expand_dims(np.sum(y, axis = axis), axis)\n",
    "\n",
    "    # finally: divide elementwise\n",
    "    p = y / ax_sum\n",
    "\n",
    "    # flatten if X was 1D\n",
    "    if len(X.shape) == 1: p = p.flatten()\n",
    "\n",
    "    return p"
   ]
  },
  {
   "cell_type": "code",
   "execution_count": null,
   "metadata": {},
   "outputs": [],
   "source": [
    "def bootstrap_test(ma, mb, bootstrap_size=10000, num_samples=1000):\n",
    "    def bootstrap_samples(ma, mb, bootstrap_size, num_samples):\n",
    "        aa = ma.flatten()\n",
    "        ba = mb.flatten()\n",
    "        \n",
    "        assert(len(aa)==len(ba))\n",
    "        \n",
    "        aprobs = aa.astype(float) / float(sum(aa))\n",
    "        bprobs = ba.astype(float) / float(sum(ba))\n",
    "\n",
    "        for sample in range(num_samples):\n",
    "            aidxs = np.random.choice(len(aa), size=bootstrap_size, replace=True, p=aprobs)\n",
    "            bidxs = np.random.choice(len(ba), size=bootstrap_size, replace=True, p=bprobs)\n",
    "            a_permute_idxs = np.random.randint(0,2,bootstrap_size,dtype=bool)\n",
    "            b_permute_idxs = np.random.randint(0,2,bootstrap_size,dtype=bool)\n",
    "\n",
    "            null_a_s = np.zeros(len(aa), dtype=float)\n",
    "            null_b_s = np.zeros(len(aa), dtype=float)\n",
    "            a_s = np.zeros(len(aa), dtype=float)\n",
    "            b_s = np.zeros(len(aa), dtype=float)\n",
    "\n",
    "            for i in range(bootstrap_size):\n",
    "                a_s[aidxs[i]] += 1\n",
    "                b_s[bidxs[i]] += 1\n",
    "\n",
    "                if a_permute_idxs[i]:\n",
    "                    null_a_s[aidxs[i]] += 1\n",
    "                else:\n",
    "                    null_a_s[bidxs[i]] += 1\n",
    "\n",
    "                if b_permute_idxs[i]:\n",
    "                    null_b_s[bidxs[i]] += 1\n",
    "                else:\n",
    "                    null_b_s[aidxs[i]] += 1\n",
    "\n",
    "            yield tuple(x.reshape(ma.shape) for x in [a_s, b_s, null_a_s, null_b_s])\n",
    "            \n",
    "    result = []\n",
    "    for a,b,null_a,null_b in bootstrap_samples(ma, mb, bootstrap_size, num_samples):\n",
    "        result.append(\n",
    "            (scipy.stats.entropy(softmax(a).flatten(),softmax(b).flatten()),\n",
    "             scipy.stats.entropy(softmax(null_a).flatten(),softmax(null_b).flatten())))\n",
    "    return pd.DataFrame(result, columns=['test','null'])"
   ]
  },
  {
   "cell_type": "code",
   "execution_count": null,
   "metadata": {},
   "outputs": [],
   "source": [
    "bootstrap_size = 1000\n",
    "total_samples = 16000\n",
    "num_workers = 8\n",
    "samples_per_worker = total_samples // num_workers"
   ]
  },
  {
   "cell_type": "code",
   "execution_count": null,
   "metadata": {},
   "outputs": [],
   "source": [
    "futures = []\n",
    "with concurrent.futures.ProcessPoolExecutor(num_workers) as executor:\n",
    "    for s in range(0,total_samples,samples_per_worker):\n",
    "        futures.append(\n",
    "            executor.submit(\n",
    "                bootstrap_test,\n",
    "                d['indirect_measured'], d['indirect_simulated'], bootstrap_size, samples_per_worker))\n",
    "df_indirect = pd.concat([future.result() for future in futures])"
   ]
  },
  {
   "cell_type": "code",
   "execution_count": null,
   "metadata": {},
   "outputs": [],
   "source": [
    "ggplot(df_indirect, aes()) \\\n",
    "    + xlab('Summary Statistic Distribution') \\\n",
    "    + ggtitle('Permutation Test: Indirect Transfers \\n(Null Distribution shown in gray)') \\\n",
    "    + geom_histogram(aes(x='null'), fill='black', color='black', alpha=0.5, binwidth=0.004) \\\n",
    "    + geom_histogram(aes(x='test'), fill='red', color='red', alpha=0.5, binwidth=0.004)"
   ]
  },
  {
   "cell_type": "code",
   "execution_count": null,
   "metadata": {},
   "outputs": [],
   "source": [
    "futures = []\n",
    "with concurrent.futures.ProcessPoolExecutor(num_workers) as executor:\n",
    "    for s in range(0,total_samples,samples_per_worker):\n",
    "        futures.append(\n",
    "            executor.submit(\n",
    "                bootstrap_test,\n",
    "                d['direct_measured'], d['direct_simulated'], bootstrap_size, samples_per_worker))\n",
    "df_direct = pd.concat([future.result() for future in futures])"
   ]
  },
  {
   "cell_type": "code",
   "execution_count": null,
   "metadata": {},
   "outputs": [],
   "source": [
    "ggplot(df_direct, aes()) \\\n",
    "    + xlab('Summary Statistic Distribution') \\\n",
    "    + ggtitle('Permutation Test: Direct Transfers \\n(Null Distribution shown in gray)') \\\n",
    "    + geom_histogram(aes(x='null'), fill='black', color='black', alpha=0.5, binwidth=0.001) \\\n",
    "    + geom_histogram(aes(x='test'), fill='red', color='red', alpha=0.5, binwidth=0.001)"
   ]
  },
  {
   "cell_type": "code",
   "execution_count": null,
   "metadata": {},
   "outputs": [],
   "source": []
  }
 ],
 "metadata": {
  "kernelspec": {
   "display_name": "pyrhea",
   "language": "python",
   "name": "pyrhea"
  },
  "language_info": {
   "codemirror_mode": {
    "name": "ipython",
    "version": 2
   },
   "file_extension": ".py",
   "mimetype": "text/x-python",
   "name": "python",
   "nbconvert_exporter": "python",
   "pygments_lexer": "ipython2",
   "version": "2.7.13"
  }
 },
 "nbformat": 4,
 "nbformat_minor": 2
}
