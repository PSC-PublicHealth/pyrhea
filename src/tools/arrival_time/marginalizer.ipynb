{
 "cells": [
  {
   "cell_type": "code",
   "execution_count": 17,
   "metadata": {
    "collapsed": false
   },
   "outputs": [],
   "source": [
    "import sys\n",
    "import os.path\n",
    "import IPython.display\n",
    "from collections import defaultdict\n",
    "import textwrap\n",
    "import pyrheautils\n",
    "sys.path.append(os.path.join(os.path.dirname(pyrheautils.__file__), '../tools'))\n",
    "import tools_util as tu\n",
    "import yaml\n",
    "from typebase import CareTier, PatientOverallHealth, DiagClassA\n",
    "import phacsl.utils.formats.csv_tools as csv_tools\n"
   ]
  },
  {
   "cell_type": "markdown",
   "metadata": {},
   "source": [
    "## Some Utility Routines ##"
   ]
  },
  {
   "cell_type": "code",
   "execution_count": 18,
   "metadata": {
    "collapsed": true
   },
   "outputs": [],
   "source": [
    "def addTransfersToTable(srcFN, srcSchema, tbl=None):\n",
    "    if tbl is None:\n",
    "        tbl = {}\n",
    "    #print 'Importing the weight data file %s' % srcFN\n",
    "    pairsSeen = set()\n",
    "    rawTbl = pyrheautils.importConstants(pyrheautils.pathTranslate(srcFN), srcSchema)\n",
    "    for srcName, rec in rawTbl.items():\n",
    "        if srcName not in tbl:\n",
    "            tbl[srcName] = {}\n",
    "        for destName, ct in rec.items():\n",
    "            if (srcName, destName) in pairsSeen:\n",
    "                raise RuntimeError('Duplicate weight table entries for %s -> %s' %\n",
    "                                    (srcName, destName))\n",
    "            else:\n",
    "                pairsSeen.add((srcName, destName))\n",
    "                tbl[srcName][destName] = float(ct)\n",
    "    return tbl\n",
    "\n"
   ]
  },
  {
   "cell_type": "code",
   "execution_count": 19,
   "metadata": {
    "collapsed": true
   },
   "outputs": [],
   "source": [
    "def recsToDict(recL, lblKey):\n",
    "    rslt = {}\n",
    "    for rec in recL:\n",
    "        newR = {}\n",
    "        recKey = rec[lblKey]\n",
    "        for key, val in rec.items():\n",
    "            if key != lblKey:\n",
    "                if key.startswith('To_'):\n",
    "                    newR[key[3:]] = val\n",
    "        rslt[recKey] = newR\n",
    "    return rslt"
   ]
  },
  {
   "cell_type": "code",
   "execution_count": 20,
   "metadata": {
    "collapsed": false
   },
   "outputs": [],
   "source": [
    "def cleanTransferTbl(tbl, fnForMsg, obsoleteNameD):\n",
    "    inToOutD = defaultdict(lambda: 0)\n",
    "    outToInD = defaultdict(lambda: 0)\n",
    "    cleanedTbl = {}\n",
    "    for src, rec in tbl.items():\n",
    "        if src in obsoleteNameD:\n",
    "            if obsoleteNameD[src] in tbl:\n",
    "                print 'Src entries for both %s and %s in %s' % (src, obsoleteNameD[src], fnForMsg)\n",
    "                continue\n",
    "            print 'replacing src %s with new name %s'\n",
    "            src = obsoleteNameD[src]\n",
    "\n",
    "        if src in excludedFacDict:\n",
    "            for dst, ct in rec.items():\n",
    "                if dst in obsoleteNameD:\n",
    "                    if obsoleteNameD[dst] in rec:\n",
    "                        print 'Dst entries for both %s and %s in %s' % (src, obsoleteNameD[src], fnForMsg)\n",
    "                        continue\n",
    "                    print 'replacing %s with new name %s'\n",
    "                    dst = obsoleteNameD[dst]\n",
    "                if dst in facDict:\n",
    "                    outToInD[dst] += ct\n",
    "                    #print 'out to in: %s -> %s %s' % (src, dst, ct)\n",
    "        else:\n",
    "            assert src in facDict or src == 'COMMUNITY', 'unknown src %s in %s' % (src, fnForMsg)\n",
    "            cleanedTbl[src] = {}\n",
    "            for dst, ct in rec.items():\n",
    "                if dst in obsoleteNameD:\n",
    "                    if obsoleteNameD[dst] in rec:\n",
    "                        print 'Dst entries for both %s and %s in %s' % (src, obsoleteNameD[src], fnForMsg)\n",
    "                        continue\n",
    "                    print 'replacing dst %s with new name %s'\n",
    "                    dst = obsoleteNameD[dst]\n",
    "                if dst in excludedFacDict:\n",
    "                    #print '%s -> %s is going to an excluded destination' % (src, dst)\n",
    "                    inToOutD[src] += ct\n",
    "                    continue\n",
    "                assert dst in facDict, 'unknown dst %s in %s' % (dst, fnForMsg)\n",
    "                cleanedTbl[src][dst] = ct\n",
    "    return cleanedTbl, inToOutD, outToInD\n"
   ]
  },
  {
   "cell_type": "code",
   "execution_count": 23,
   "metadata": {
    "collapsed": false
   },
   "outputs": [
    {
     "data": {
      "application/javascript": [
       "var kernel = IPython.notebook.kernel;\n",
       "var thename = window.document.getElementById(\"notebook_name\").innerHTML;\n",
       "var command = \"nameOfThisNotebook = \" + \"'\"+thename+\"'\";\n",
       "kernel.execute(command);"
      ],
      "text/plain": [
       "<IPython.core.display.Javascript object>"
      ]
     },
     "metadata": {},
     "output_type": "display_data"
    }
   ],
   "source": [
    "%%javascript\n",
    "var kernel = IPython.notebook.kernel;\n",
    "var thename = window.document.getElementById(\"notebook_name\").innerHTML;\n",
    "var command = \"nameOfThisNotebook = \" + \"'\"+thename+\"'\";\n",
    "kernel.execute(command);"
   ]
  },
  {
   "cell_type": "code",
   "execution_count": 28,
   "metadata": {
    "collapsed": false
   },
   "outputs": [
    {
     "name": "stderr",
     "output_type": "stream",
     "text": [
      "<ipython-input-28-48decc33b0ae>:5: SyntaxWarning: name 'commitHash' is used prior to global declaration\n",
      "  global commitHash\n"
     ]
    }
   ],
   "source": [
    "def getCommitHash():\n",
    "    try:\n",
    "        commitHash\n",
    "    except NameError:\n",
    "        global commitHash\n",
    "        commitHash = raw_input('Please enter the commit hash of this notebook for provenance > ')\n",
    "        return commitHash"
   ]
  },
  {
   "cell_type": "code",
   "execution_count": 29,
   "metadata": {
    "collapsed": false
   },
   "outputs": [],
   "source": [
    "def tablesMatch(tbl1, tbl2):\n",
    "    if tbl1 is None:\n",
    "        if tbl2 is None:\n",
    "            return True\n",
    "        else:\n",
    "            return False\n",
    "    elif tbl2 is None:\n",
    "        return False\n",
    "    else:\n",
    "        return {k: v for k, v in tbl1.items()} == {k: v for k, v in tbl2.items()}\n",
    "\n",
    "def tableNonNeg(tbl):\n",
    "    return all([all([v >= 0 for v in r.values()]) for r in tbl.values()])\n",
    "\n",
    "def writeYamlComment(f, comment=None):\n",
    "    if comment is not None:\n",
    "        lines = textwrap.wrap(comment)\n",
    "        lines.append('generated by %s notebook %s' % (nameOfThisNotebook, getCommitHash()))\n",
    "        for line in lines:\n",
    "            f.write('# %s\\n' % line)\n",
    "\n",
    "def checkAndMaybeRewrite(rawPath, valD, comment=None, createOnlyThese=None):\n",
    "    assert tableNonNeg(valD), 'Some elements of the given new value table are negative'\n",
    "    fn = pyrheautils.pathTranslate(rawPath)\n",
    "    if os.path.exists(fn):\n",
    "        with open(fn, 'rU') as f:\n",
    "            oldJSON = yaml.load(f)\n",
    "        if tablesMatch(oldJSON, valD):\n",
    "            print 'Old and new versions of %s match' % rawPath\n",
    "        else:\n",
    "            if createOnlyThese is None or rawPath in createOnlyThese:\n",
    "                print 'Old and new versions of %s differ' % rawPath\n",
    "                reply = raw_input('overwrite? [yN]')\n",
    "                if len(reply) == 1 and reply in 'yY':\n",
    "                    print 'overwriting old version of %s' % rawPath\n",
    "                    with open(fn, 'w') as f:\n",
    "                        writeYamlComment(f, comment)\n",
    "                        yaml.safe_dump(valD, f, default_flow_style=True, indent=4,\n",
    "                                       encoding='utf-8', width=130, explicit_start=True)\n",
    "                else:\n",
    "                    print 'old version of %s was NOT overwritten' % rawPath\n",
    "            else:\n",
    "                print 'did not create %s because it was not on the list to be created' % rawPath\n",
    "    else:\n",
    "        if createOnlyThese is None or rawPath in createOnlyThese:\n",
    "            print 'Writing %s because there is no old version' % rawPath\n",
    "            with open(fn, 'w') as f:\n",
    "                writeYamlComment(f, comment)\n",
    "                yaml.safe_dump(valD, f, default_flow_style=True, indent=4,\n",
    "                                encoding='utf-8', width=130, explicit_start=True)\n",
    "        else:\n",
    "            print '%s did not exist and was not created' % rawPath"
   ]
  },
  {
   "cell_type": "code",
   "execution_count": 30,
   "metadata": {
    "collapsed": true
   },
   "outputs": [],
   "source": [
    "def sumOfTableValues(tbl):\n",
    "    return sum([sum(rec.values()) for rec in tbl.values()])"
   ]
  },
  {
   "cell_type": "markdown",
   "metadata": {},
   "source": [
    "## The following block loads the model ##"
   ]
  },
  {
   "cell_type": "code",
   "execution_count": 31,
   "metadata": {
    "collapsed": false
   },
   "outputs": [
    {
     "name": "stdout",
     "output_type": "stream",
     "text": [
      "['$(MODELDIR)/facilityfactsCurrent2013', '$(MODELDIR)/synthCommunities']\n",
      "/home/welling/git/pyRHEA_github/src/sim/../../models/OrangeCounty2013/facilityfactsCurrent2013\n",
      "/home/welling/git/pyRHEA_github/src/sim/../../models/OrangeCounty2013/synthCommunities\n"
     ]
    }
   ],
   "source": [
    "homeDir = '/home/welling/git/pyRHEA_github/src/sim'\n",
    "inputDict = tu.readModelInputs(os.path.join(homeDir, 'week_run_OC.yaml'))\n",
    "pyrheautils.prepPathTranslations(inputDict, homeDir=homeDir)\n",
    "print inputDict['facilityDirs']\n",
    "for dn in inputDict['facilityDirs']: print pyrheautils.pathTranslate(dn)\n",
    "facDict = tu.getFacDict(inputDict)"
   ]
  },
  {
   "cell_type": "code",
   "execution_count": 32,
   "metadata": {
    "collapsed": false
   },
   "outputs": [],
   "source": [
    "excludedFacDict = tu.parseFacilityData(pyrheautils.pathTranslate('$(MODELDIR)/facilityfacts_excluded'))"
   ]
  },
  {
   "cell_type": "code",
   "execution_count": 33,
   "metadata": {
    "collapsed": true
   },
   "outputs": [],
   "source": [
    "# This is a table of RHEA 1.0 -> RHEA 2.0 name changes\n",
    "obsoleteNameD = {'FDCT': 'FAIR', 'CCHS': 'SCNH', 'SJMC': 'SJNH', 'CMCS': 'CPNH'}"
   ]
  },
  {
   "cell_type": "markdown",
   "metadata": {},
   "source": [
    "## Load the YAML constants for the transfer pattern implementations ##"
   ]
  },
  {
   "cell_type": "code",
   "execution_count": 34,
   "metadata": {
    "collapsed": false
   },
   "outputs": [
    {
     "name": "stdout",
     "output_type": "stream",
     "text": [
      "/home/welling/git/pyRHEA_github/src/sim/../../models/OrangeCounty2013/constants/indirecttransferdestination_constants.yaml\n",
      "/home/welling/git/pyRHEA_github/src/sim/../../models/OrangeCounty2013/constants/transferbydrawwithreplacement_constants.yaml\n",
      "/home/welling/git/pyRHEA_github/src/sim/../../models/OrangeCounty2013/constants/categorydrawwithreplacement_constants.yaml\n",
      "/home/welling/git/pyRHEA_github/src/sim/../../models/OrangeCounty2013/constants/community_constants.yaml\n"
     ]
    }
   ],
   "source": [
    "indirectConstantsFN = pyrheautils.pathTranslate('$(MODELDIR)/constants/indirecttransferdestination_constants.yaml')\n",
    "indirectSchemaFN = 'indirecttransferdestination_constants_schema.yaml'\n",
    "directConstantsFN = pyrheautils.pathTranslate('$(MODELDIR)/constants/transferbydrawwithreplacement_constants.yaml')\n",
    "directSchemaFN = 'transferbydrawwithreplacement_constants_schema.yaml'\n",
    "categoryDirectConstantsFN = pyrheautils.pathTranslate('$(MODELDIR)/constants/categorydrawwithreplacement_constants.yaml')\n",
    "categoryDirectSchemaFN = directSchemaFN\n",
    "communityConstantsFN = pyrheautils.pathTranslate('$(MODELDIR)/constants/community_constants.yaml')\n",
    "communitySchemaFN = 'community_constants_schema.yaml'\n",
    "indirectJSON = pyrheautils.importConstants(indirectConstantsFN, indirectSchemaFN)\n",
    "directJSON = pyrheautils.importConstants(directConstantsFN, directSchemaFN)\n",
    "categoryDirectJSON = pyrheautils.importConstants(categoryDirectConstantsFN, categoryDirectSchemaFN)\n",
    "communityConstantsJSON = pyrheautils.importConstants(communityConstantsFN, communitySchemaFN)\n"
   ]
  },
  {
   "cell_type": "markdown",
   "metadata": {},
   "source": [
    "## Load the yaml tabular transfer data ##\n",
    "\n",
    "and remember their filenames"
   ]
  },
  {
   "cell_type": "code",
   "execution_count": 35,
   "metadata": {
    "collapsed": false
   },
   "outputs": [
    {
     "name": "stdout",
     "output_type": "stream",
     "text": [
      "loading indirect transfers\n",
      "/home/welling/git/pyRHEA_github/src/sim/../../models/OrangeCounty2013/hosp_indirect_transfer_counts.yaml\n",
      "/home/welling/git/pyRHEA_github/src/sim/../../models/OrangeCounty2013/nh_readmit_fake_transfer_counts.yaml\n",
      "loading direct transfers\n",
      "/home/welling/git/pyRHEA_github/src/sim/../../models/OrangeCounty2013/direct_transfer_counts.yaml\n",
      "/home/welling/git/pyRHEA_github/src/sim/../../models/OrangeCounty2013/com_to_fac_marginalized_indirect.yaml\n",
      "/home/welling/git/pyRHEA_github/src/sim/../../models/OrangeCounty2013/fac_to_community_inv_sep.yaml\n",
      "loading category direct transfers\n",
      "/home/welling/git/pyRHEA_github/src/sim/../../models/OrangeCounty2013/com_to_fac_indirect.yaml\n",
      "/home/welling/git/pyRHEA_github/src/sim/../../models/OrangeCounty2013/com_to_fac_missing_patients_indirect.yaml\n",
      "loading bypass indirect transfers\n",
      "/home/welling/git/pyRHEA_github/src/sim/../../models/OrangeCounty2013/com_to_fac_missing_patients_indirect.yaml\n",
      "noting some needed marginalized files\n",
      "Basic needed yaml tables:\n",
      "   $(MODELDIR)/com_to_cat_missing_patients_indirect.yaml\n",
      "   $(MODELDIR)/com_to_fac_indirect.yaml\n",
      "   $(MODELDIR)/com_to_fac_marginalized_indirect.yaml\n",
      "   $(MODELDIR)/com_to_fac_missing_patients_indirect.yaml\n",
      "   $(MODELDIR)/direct_transfer_counts.yaml\n",
      "   $(MODELDIR)/fac_to_cat_marginalized_direct.yaml\n",
      "   $(MODELDIR)/fac_to_cat_marginalized_indirect.yaml\n",
      "   $(MODELDIR)/fac_to_community_inv_sep.yaml\n",
      "   $(MODELDIR)/hosp_indirect_transfer_counts.yaml\n",
      "   $(MODELDIR)/nh_readmit_fake_transfer_counts.yaml\n",
      "   $(MODELDIR)/nh_to_cat_fake_indirect.yaml\n"
     ]
    }
   ],
   "source": [
    "allNeededYamlTables = []\n",
    "\n",
    "indirectTbl = {}\n",
    "print 'loading indirect transfers'\n",
    "for fn in indirectJSON['transferFilePaths']:\n",
    "    indirectTbl = addTransfersToTable(fn, indirectJSON['transferFileSchema'], indirectTbl)\n",
    "    allNeededYamlTables.append(fn)\n",
    "\n",
    "directTbl = {}\n",
    "print 'loading direct transfers'\n",
    "for fn in directJSON['transferFilePaths']:\n",
    "    directTbl = addTransfersToTable(fn, indirectJSON['transferFileSchema'], directTbl)\n",
    "    allNeededYamlTables.append(fn)\n",
    "\n",
    "categoryDirectTbl = {}\n",
    "print 'loading category direct transfers'\n",
    "for fn in categoryDirectJSON['transferFilePaths']:\n",
    "    categoryDirectTbl = addTransfersToTable(fn, indirectJSON['transferFileSchema'], categoryDirectTbl)\n",
    "    allNeededYamlTables.append(fn)\n",
    "\n",
    "bypassIndirectTbl = {}\n",
    "print 'loading bypass indirect transfers'\n",
    "for fn in indirectJSON['bypassTransferFilePaths']:\n",
    "    bypassIndirectTbl = addTransfersToTable(fn, indirectJSON['transferFileSchema'], bypassIndirectTbl)\n",
    "    allNeededYamlTables.append(fn)\n",
    "\n",
    "# For the marginalized tables we only need to know filenames so the correct files can get created\n",
    "print 'noting some needed marginalized files'\n",
    "for fn in (communityConstantsJSON['srcToCategoryMapFilePaths']\n",
    "           + communityConstantsJSON['bypassCategoryMapFilePaths']):\n",
    "    allNeededYamlTables.append(fn)\n",
    "    allNeededYamlTables.append('$(MODELDIR)/fac_to_cat_marginalized_direct.yaml') # needed by another notebook\n",
    "\n",
    "allNeededYamlTables = list(set(allNeededYamlTables))  # get rid of any duplicates\n",
    "allNeededYamlTables.sort()\n",
    "\n",
    "print 'Basic needed yaml tables:'\n",
    "for fn in allNeededYamlTables:\n",
    "    print '   %s' % fn"
   ]
  },
  {
   "cell_type": "markdown",
   "metadata": {},
   "source": [
    "## This block generates a new YAML table giving transfer counts for the 'missing' patients ##\n",
    "\n",
    "The steps are:\n",
    "\n",
    "* load the new and old versions of the CSV files\n",
    "* check for any extraneous changes in the transfer table data\n",
    "* check the new transfer table data against the current YAML version of that data\n",
    "* put the new data on 'missing' patients in a new YAML file"
   ]
  },
  {
   "cell_type": "code",
   "execution_count": 36,
   "metadata": {
    "collapsed": false
   },
   "outputs": [
    {
     "name": "stdout",
     "output_type": "stream",
     "text": [
      "[u'\"Transfers 2 Years of Data Averaged (2013-2014)\"', u'To_ALAM', u'To_ALTA', u'To_ACNC', u'To_ANHC', u'To_ATCC', u'To_BEAC', u'To_BGYL', u'To_BPNC', u'To_BVCC', u'To_CAPO', u'To_CARE', u'To_CSNC', u'To_CPNH', u'To_SCNH', u'To_CVLH', u'To_CVPL', u'To_CVSB', u'To_COCT', u'To_PSUP', u'To_BGSJ', u'To_EVER', u'To_EXTW', u'To_FAIR', u'To_FLAG', u'To_FOCC', u'To_FREE', u'To_FPCC', u'To_GGCH', u'To_GPCC', u'To_GORD', u'To_GREE', u'To_HVCC', u'To_HVAL', u'To_KNOT', u'To_LHAB', u'To_LPAL', u'To_LAKE', u'To_LEIS', u'To_MANO', u'To_MESA', u'To_HELP', u'To_NEWO', u'To_NNRC', u'To_NSUB', u'To_KINO', u'To_ORRH', u'To_PACI', u'To_PALM', u'To_PANA', u'To_PREG', u'To_PVIS', u'To_SCRT', u'To_PKVW', u'To_QUAK', u'To_RGNT', u'To_ROYL', u'To_SEAC', u'To_EDNA', u'To_ELIZ', u'To_SJNH', u'To_STAN', u'To_SNMR', u'To_TERR', u'To_COVI', u'To_TOWN', u'To_VICT', u'To_VIVA', u'To_WLNT', u'To_WAEC', u'To_WINF', u'To_WINA', u'TOTAL']\n",
      "[u'\"Hospital-NH Transfers 2 Years of Data Averaged (2013-2014)\"', u'To_ALAM', u'To_ALTA', u'To_ACNC', u'To_ANHC', u'To_ATCC', u'To_BEAC', u'To_BGYL', u'To_BPNC', u'To_BVCC', u'To_CAPO', u'To_CARE', u'To_CSNC', u'To_CPNH', u'To_SCNH', u'To_CVLH', u'To_CVPL', u'To_CVSB', u'To_COCT', u'To_PSUP', u'To_BGSJ', u'To_EVER', u'To_EXTW', u'To_FAIR', u'To_FLAG', u'To_FOCC', u'To_FREE', u'To_FPCC', u'To_GGCH', u'To_GPCC', u'To_GORD', u'To_GREE', u'To_HVCC', u'To_HVAL', u'To_KNOT', u'To_LHAB', u'To_LPAL', u'To_LAKE', u'To_LEIS', u'To_MANO', u'To_MESA', u'To_HELP', u'To_NEWO', u'To_NNRC', u'To_NSUB', u'To_KINO', u'To_ORRH', u'To_PACI', u'To_PALM', u'To_PANA', u'To_PREG', u'To_PVIS', u'To_SCRT', u'To_PKVW', u'To_QUAK', u'To_RGNT', u'To_ROYL', u'To_SEAC', u'To_EDNA', u'To_ELIZ', u'To_SJNH', u'To_STAN', u'To_SNMR', u'To_TERR', u'To_COVI', u'To_TOWN', u'To_VICT', u'To_VIVA', u'To_WLNT', u'To_WAEC', u'To_WINF', u'To_WINA', u'TOTAL']\n"
     ]
    }
   ],
   "source": [
    "with open(pyrheautils.pathTranslate('$(MODELDIR)/OC_Direct_Transfer_Matrices_for_RHEA_2.0_-_Adult_Only_-_09-15-2017_FINAL_HOSP-NH.csv')) as f:\n",
    "    oldKeys, oldRecs = csv_tools.parseCSV(f)\n",
    "print oldKeys\n",
    "with open(pyrheautils.pathTranslate('$(MODELDIR)/OC_Direct_Transfer_Matrices_for_RHEA_2.0_-_Adult_Only_-_06-29-2018_FINAL__missing_admit_update_HOSP-NH.csv')) as f:\n",
    "    newKeys, newRecs = csv_tools.parseCSV(f)\n",
    "print newKeys"
   ]
  },
  {
   "cell_type": "code",
   "execution_count": 37,
   "metadata": {
    "collapsed": false
   },
   "outputs": [],
   "source": [
    "trimmedNewRecs = []\n",
    "missingRec = {}\n",
    "lblKey = '\"Hospital-NH Transfers 2 Years of Data Averaged (2013-2014)\"'\n",
    "missingRec[lblKey] = 'MISSING_SRC'\n",
    "for rec in newRecs:\n",
    "    rowLbl = rec[lblKey]\n",
    "    if rowLbl.startswith('MISSING'):\n",
    "        for key, val in rec.items():\n",
    "            if key != lblKey:\n",
    "                if key in missingRec:\n",
    "                    missingRec[key] += val\n",
    "                else:\n",
    "                    missingRec[key] = val\n",
    "    else:\n",
    "        trimmedNewRecs.append(rec)\n",
    "trimmedNewRecs.append(missingRec)"
   ]
  },
  {
   "cell_type": "code",
   "execution_count": 38,
   "metadata": {
    "collapsed": false
   },
   "outputs": [
    {
     "name": "stdout",
     "output_type": "stream",
     "text": [
      "['MISSING_SRC', u'SCGL', u'HOAG', u'PLAC', u'COLL', u'HBRI', u'CMIS', u'NPBY', u'OCMM', u'HGOR', u'OCGB', u'CHOC', u'KINB', u'ANRG', u'KINW', u'MSLG', u'SMMC', u'GGMC', u'TOTAL', u'KAIA', u'SJUD', u'WAMC', u'SJOS', u'FVRH', u'FOOT', u'HBHO', u'HSOU', u'MISS', u'LAMC', u'ANGL', u'CHAP', u'LPIH', u'UCIM', u'PACO']\n",
      "[u'SCGL', u'HOAG', u'PLAC', u'COLL', u'HBRI', u'CMIS', u'NPBY', u'OCMM', u'HGOR', u'OCGB', u'CHOC', u'KINB', u'ANRG', u'KINW', u'MSLG', u'SMMC', u'GGMC', u'TOTAL', u'KAIA', u'SJUD', u'WAMC', u'SJOS', u'FVRH', u'FOOT', u'HBHO', u'HSOU', u'MISS', u'LAMC', u'ANGL', u'CHAP', u'LPIH', u'UCIM', u'PACO']\n"
     ]
    }
   ],
   "source": [
    "lblKey = '\"Hospital-NH Transfers 2 Years of Data Averaged (2013-2014)\"'\n",
    "newD = recsToDict(trimmedNewRecs, lblKey)\n",
    "print newD.keys()\n",
    "\n",
    "lblKey = '\"Transfers 2 Years of Data Averaged (2013-2014)\"'\n",
    "oldD = recsToDict(oldRecs, lblKey)\n",
    "print oldD.keys()"
   ]
  },
  {
   "cell_type": "markdown",
   "metadata": {},
   "source": [
    "This next cell checks the new direct transfer csv against the old (pre-missing-data) version, and checks the new version against the corresponding YAML data."
   ]
  },
  {
   "cell_type": "code",
   "execution_count": 39,
   "metadata": {
    "collapsed": false
   },
   "outputs": [
    {
     "name": "stdout",
     "output_type": "stream",
     "text": [
      "SCGL OK;  HOAG OK;  PLAC OK;  COLL OK;  HBRI OK;  CMIS OK;  NPBY OK;  OCMM OK;  HGOR OK;  OCGB OK;  CHOC OK;  KINB OK;  ANRG OK;  KINW OK;  MSLG OK;  SMMC OK;  GGMC OK;  TOTAL OK;  KAIA OK;  SJUD OK;  WAMC OK;  SJOS OK;  FVRH OK;  FOOT OK;  HBHO OK;  HSOU OK;  MISS OK;  LAMC OK;  ANGL OK;  CHAP OK;  LPIH OK;  UCIM OK;  PACO OK; \n"
     ]
    }
   ],
   "source": [
    "for key, rec in oldD.items():\n",
    "    assert key in newD, 'Missing key %s' % key\n",
    "    assert rec == newD[key], 'rec mismatch (%s vs %s)' % (rec, newD[key])\n",
    "    #print '%s OK' % key\n",
    "for key, rec in newD.items():\n",
    "    if key == 'MISSING_SRC':\n",
    "        continue\n",
    "    assert key in oldD, 'Missing key %s' % key\n",
    "    assert rec == oldD[key], 'rec mismatch (%s vs %s)' % (rec, oldD[key])\n",
    "    if key in directTbl:\n",
    "        commonDst = []\n",
    "        for dst, ct in rec.items():\n",
    "            if dst in directTbl[key]:\n",
    "                assert ct == directTbl[key][dst], 'Vals for %s %s do not match: %s vs %s' % (key, dst, ct, directTbl[key][dst])\n",
    "                commonDst.append(dst)\n",
    "        #print '%s common destinations: %s' % (key, commonDst)\n",
    "    print '%s OK; ' % key,"
   ]
  },
  {
   "cell_type": "code",
   "execution_count": 40,
   "metadata": {
    "collapsed": false
   },
   "outputs": [
    {
     "name": "stdout",
     "output_type": "stream",
     "text": [
      "excluding CPNH EXCLUDEEXCLUDE\n",
      "excluding SJNH EXCLUDEEXCLUDE\n",
      "excluding SCNH EXCLUDEEXCLUDE\n",
      "excluding FAIR EXCLUDEEXCLUDE\n"
     ]
    }
   ],
   "source": [
    "missingD = {}\n",
    "for dst, vStr in newD['MISSING_SRC'].items():\n",
    "    try:\n",
    "        v = float(vStr)\n",
    "        missingD[dst] = v\n",
    "    except ValueError:\n",
    "        print 'excluding %s %s' % (dst, vStr)"
   ]
  },
  {
   "cell_type": "code",
   "execution_count": 41,
   "metadata": {
    "collapsed": false
   },
   "outputs": [
    {
     "name": "stdout",
     "output_type": "stream",
     "text": [
      "total missing:  7965.01\n"
     ]
    }
   ],
   "source": [
    "totMissingPerYear = sum(missingD.values())\n",
    "print 'total missing: ', totMissingPerYear"
   ]
  },
  {
   "cell_type": "markdown",
   "metadata": {},
   "source": [
    "## Scan the existing yaml files without remembering them ##"
   ]
  },
  {
   "cell_type": "code",
   "execution_count": 42,
   "metadata": {
    "collapsed": false
   },
   "outputs": [
    {
     "name": "stdout",
     "output_type": "stream",
     "text": [
      "----------------\n",
      "/home/welling/git/pyRHEA_github/src/sim/../../models/OrangeCounty2013/hosp_indirect_transfer_counts.yaml\n",
      "$(MODELDIR)/hosp_indirect_transfer_counts.yaml: 56716.0 valid, 0 in-to-out, 0 out-to-in\n",
      "inToOutD: {}\n",
      "outToInD: {}\n",
      "----------------\n",
      "/home/welling/git/pyRHEA_github/src/sim/../../models/OrangeCounty2013/nh_readmit_fake_transfer_counts.yaml\n",
      "$(MODELDIR)/nh_readmit_fake_transfer_counts.yaml: 67.0 valid, 0 in-to-out, 0 out-to-in\n",
      "inToOutD: {}\n",
      "outToInD: {}\n",
      "----------------\n",
      "/home/welling/git/pyRHEA_github/src/sim/../../models/OrangeCounty2013/direct_transfer_counts.yaml\n",
      "$(MODELDIR)/direct_transfer_counts.yaml: 40157.0 valid, 429.5 in-to-out, 0 out-to-in\n",
      "inToOutD: {'ANRG': 2.5, 'NEWO': 1.0, 'BGYL': 1.0, 'LAKE': 4.5, 'HOAG': 95.5, 'COLL': 0.5, 'GGCH': 0.5, 'FVRH': 13.0, 'KNOT': 2.5, 'HBHO': 6.0, 'SEAC': 6.0, 'CVPL': 5.5, 'OCMM': 9.0, 'CVLH': 5.0, 'ELIZ': 0.5, 'LPAL': 3.0, 'PSUP': 1.5, 'OCGB': 7.0, 'GPCC': 0.5, 'KINB': 0.5, 'PVIS': 3.5, 'KINO': 2.0, 'WLNT': 1.0, 'KINW': 8.0, 'SCGL': 35.0, 'SMMC': 9.5, 'NSUB': 0.5, 'GGMC': 2.0, 'LHAB': 0.5, 'FOCC': 0.5, 'HVCC': 1.5, 'TERR': 2.0, 'UCIM': 12.5, 'MANO': 0.5, 'COVI': 1.0, 'WAMC': 4.5, 'RGNT': 2.5, 'EDNA': 1.0, 'HVAL': 4.5, 'ANHC': 1.0, 'FPCC': 1.5, 'FREE': 0.5, 'PANA': 10.5, 'CAPO': 2.0, 'PALM': 5.5, 'SJOS': 4.5, 'QUAK': 1.0, 'PLAC': 1.5, 'SJUD': 11.0, 'MESA': 10.0, 'MISS': 11.0, 'ROYL': 4.5, 'CARE': 1.5, 'VIVA': 4.0, 'LAMC': 2.5, 'BPNC': 3.0, 'SCRT': 8.0, 'FLAG': 2.5, 'WINF': 0.5, 'CVSB': 5.0, 'ACNC': 0.5, 'ALTA': 0.5, 'PACI': 0.5, 'ANGL': 1.0, 'MSLG': 4.5, 'KAIA': 1.5, 'VICT': 7.0, 'LEIS': 37.0, 'GORD': 1.5, 'CHAP': 15.0, 'WINA': 7.0, 'EVER': 1.5, 'NNRC': 2.0, 'BGSJ': 0.5}\n",
      "outToInD: {}\n",
      "----------------\n",
      "/home/welling/git/pyRHEA_github/src/sim/../../models/OrangeCounty2013/com_to_fac_marginalized_indirect.yaml\n",
      "$(MODELDIR)/com_to_fac_marginalized_indirect.yaml: 1.0 valid, 0 in-to-out, 0 out-to-in\n",
      "inToOutD: {}\n",
      "outToInD: {}\n",
      "----------------\n",
      "/home/welling/git/pyRHEA_github/src/sim/../../models/OrangeCounty2013/fac_to_community_inv_sep.yaml\n",
      "$(MODELDIR)/fac_to_community_inv_sep.yaml: 761.439290774 valid, 0 in-to-out, 17.0266132028 out-to-in\n",
      "inToOutD: {}\n",
      "outToInD: {'C319': 0.4640495098315209, 'C332': 0.5860863986339587, 'C274': 0.5599660086355425, 'C076': 0.9517815199203805, 'C289': 0.7201769894311346, 'C133': 0.8086103387940167, 'C056': 1.2111423952510052, 'C130': 0.6424844696656801, 'C484': 0.42723457610594007, 'C292': 1.2629063807855636, 'C112': 0.6366360826524904, 'C384': 0.4903442333091799, 'C326': 0.4421828335952999, 'C430': 0.70312826033383, 'C013': 2.3244957655290754, 'C238': 0.6757886863987266, 'C126': 0.6735150415677175, 'C219': 1.0876376505738934, 'C209': 1.5518351814544151, 'C514': 0.8066108802912788}\n",
      "----------------\n",
      "/home/welling/git/pyRHEA_github/src/sim/../../models/OrangeCounty2013/com_to_fac_indirect.yaml\n",
      "$(MODELDIR)/com_to_fac_indirect.yaml: 56716.0 valid, 0 in-to-out, 0 out-to-in\n",
      "inToOutD: {}\n",
      "outToInD: {}\n",
      "----------------\n",
      "/home/welling/git/pyRHEA_github/src/sim/../../models/OrangeCounty2013/com_to_fac_missing_patients_indirect.yaml\n",
      "$(MODELDIR)/com_to_fac_missing_patients_indirect.yaml: 7965.01 valid, 0 in-to-out, 0 out-to-in\n",
      "inToOutD: {}\n",
      "outToInD: {}\n",
      "----------------\n",
      "/home/welling/git/pyRHEA_github/src/sim/../../models/OrangeCounty2013/com_to_fac_missing_patients_indirect.yaml\n",
      "$(MODELDIR)/com_to_fac_missing_patients_indirect.yaml: 7965.01 valid, 0 in-to-out, 0 out-to-in\n",
      "inToOutD: {}\n",
      "outToInD: {}\n"
     ]
    }
   ],
   "source": [
    "for fn in (indirectJSON['transferFilePaths'] + directJSON['transferFilePaths']\n",
    "           + categoryDirectJSON['transferFilePaths'] + ['$(MODELDIR)/com_to_fac_missing_patients_indirect.yaml']):\n",
    "    print '----------------'\n",
    "    tbl = addTransfersToTable(fn, indirectJSON['transferFileSchema'])\n",
    "    tbl, inToOutD, outToInD = cleanTransferTbl(tbl, fn, obsoleteNameD)\n",
    "    cleanTot = sumOfTableValues(tbl)\n",
    "    inToOutTot = sum(inToOutD.values())\n",
    "    outToInTot = sum(outToInD.values())\n",
    "    print '%s: %s valid, %s in-to-out, %s out-to-in' % (fn, cleanTot, inToOutTot, outToInTot)\n",
    "    print 'inToOutD: %s' % {a: b for a, b in inToOutD.items()}\n",
    "    print 'outToInD: %s' % {a: b for a, b in outToInD.items()}"
   ]
  },
  {
   "cell_type": "markdown",
   "metadata": {},
   "source": [
    "## Traffic To and From Excluded Sites ##\n",
    "\n",
    "If an excluded site appears as a source in direct_transfer_counts, any patients flowing from that site to an included site (out-to-in) appear at the destination site from outside the system and thus should be 'missing source' patients.  That is, functionally they add to com_to_fac_missing_patients_indirect.yaml\n",
    "\n",
    "If an excluded site appears as a destination direct_transfer_counts, those patients are in-to-out and should appear as additional flow back to the community.  Ideally they would be removed from facDict[loc][totalTransfersOut] so that the go-home fraction calculated for the fac would increase appropriately.\n",
    "\n",
    "If an excluded site appears as a source in hosp_indirect_transfer_counts or nh_readmit_transfer_counts, the out-to-in patient is still transferred from community to some in-simulation facility but the source location for that patient becomes unknown.  This would essentially be an addition to com_to_fac_marginalized_indirect.yaml .\n",
    "\n",
    "If an excluded site appears as a destination in hosp_indirect_transfer_counts or nh_readmit_transfer_counts, the patient would appear not to have returned to the medical system from the community.  Thus these patients would subtract from com_to_fac_marginalized_indirect.yaml ."
   ]
  },
  {
   "cell_type": "markdown",
   "metadata": {},
   "source": [
    "## Rationale for Normalization ##\n",
    "\n",
    "For the indirect transfer tables, normalization is performed independently for each pair of source and destination tier, across all destinations matching that tier.  So as long as the source or tier is unique to a given input file, that input file can have any normalization.\n",
    "\n",
    "We are concerned with adding the 'MISSING_SRC' data, which is replicated identically across all sources.  So for NHs the normalization must match other NH sources, and for non-NHs it must match hosp_indirect_transfer_counts.\n",
    "\n",
    "| src tier  | dest tier  | count  | fname  | notes |\n",
    "|---|---|---|---|---|\n",
    "| non-NH  | non-NH  | 56863  | hosp_indirect_transfer_counts  | real counts over a year |\n",
    "| any  | NH  | 7965.01 | com_to_fac_missing_patients_indirect  | each src and tier is a real count over a year |\n",
    "| NH  | non-NH  | 76 x 1.0  | nh_readmit_fake_transfer_counts  | do we know the size of this channel? |\n",
    "\n",
    "The only channel that delivers patients to the NH tier is com_to_fac_missing_patients_indirect, so that channel can have its own normalization.  We do not know the total counts/year in the nh_readmit_fake_transfer_counts channel, but because its combination of src and dest tier are unique it will be independently normalized."
   ]
  },
  {
   "cell_type": "markdown",
   "metadata": {},
   "source": [
    "## Load and remember some principle files ##"
   ]
  },
  {
   "cell_type": "code",
   "execution_count": 43,
   "metadata": {
    "collapsed": false
   },
   "outputs": [
    {
     "name": "stdout",
     "output_type": "stream",
     "text": [
      "/home/welling/git/pyRHEA_github/src/sim/../../models/OrangeCounty2013/hosp_indirect_transfer_counts.yaml\n",
      "/home/welling/git/pyRHEA_github/src/sim/../../models/OrangeCounty2013/nh_readmit_transfer_counts.yaml\n",
      "/home/welling/git/pyRHEA_github/src/sim/../../models/OrangeCounty2013/direct_transfer_counts.yaml\n"
     ]
    }
   ],
   "source": [
    "fn = pyrheautils.pathTranslate('$(MODELDIR)/hosp_indirect_transfer_counts.yaml')\n",
    "rawHospIndirectTransfers = addTransfersToTable(fn, indirectJSON['transferFileSchema'])\n",
    "cleanHospIndirectTransfers, hospIndirectInToOutD, hospIndirectOutToInD = cleanTransferTbl(rawHospIndirectTransfers,\n",
    "                                                                                          fn, obsoleteNameD)\n",
    "fn = pyrheautils.pathTranslate('$(MODELDIR)/nh_readmit_transfer_counts.yaml')\n",
    "rawNHReadmitTransfers = addTransfersToTable(fn, indirectJSON['transferFileSchema'])\n",
    "cleanNHReadmitTransfers, nhReadmitInToOutD, nhReadmitOutToInD = cleanTransferTbl(rawNHReadmitTransfers,\n",
    "                                                                                 fn, obsoleteNameD)\n",
    "fn = pyrheautils.pathTranslate('$(MODELDIR)/direct_transfer_counts.yaml')\n",
    "rawDirectTransfers = addTransfersToTable(fn, indirectJSON['transferFileSchema'])\n",
    "cleanDirectTransfers, directInToOutD, directOutToInD = cleanTransferTbl(rawDirectTransfers,\n",
    "                                                                        fn, obsoleteNameD)\n"
   ]
  },
  {
   "cell_type": "markdown",
   "metadata": {},
   "source": [
    "## Put the missing data in the same format ##\n",
    "\n",
    "Note that we are regenerating the missing data from the newD CSV records rather than using any existing yaml file."
   ]
  },
  {
   "cell_type": "code",
   "execution_count": 44,
   "metadata": {
    "collapsed": false
   },
   "outputs": [
    {
     "name": "stdout",
     "output_type": "stream",
     "text": [
      "missingInToOut: {}\n",
      "missingOutToIn: {}\n",
      "['COMMUNITY']\n"
     ]
    }
   ],
   "source": [
    "\n",
    "cleanMissingTransfers, missingInToOutD, missingOutToInD = cleanTransferTbl({'COMMUNITY': missingD},\n",
    "                                                                          'noRealFile', obsoleteNameD)\n",
    "print 'missingInToOut: %s' % {k:v for k,v in missingInToOutD.values()}\n",
    "print 'missingOutToIn: %s' % {k:v for k,v in missingOutToInD.values()}\n",
    "print cleanMissingTransfers.keys()"
   ]
  },
  {
   "cell_type": "markdown",
   "metadata": {},
   "source": [
    "## Tables We Have, And What To Do With Them ##\n",
    "\n",
    "| src tier  | dest tier  | via home? | name | notes |\n",
    "|-----------|------------|-----------|------|-------|\n",
    "| any | any  |  no  | cleanDirectTransfers | |\n",
    "| non-NH | non-NH | yes | cleanHospIndirectTransfers | |\n",
    "| | |  | cleanNHReadmitTransfers | empty |\n",
    "| NH | non-NH | yes | nh_readmit_fake_transfer_counts | made from hosp_indirect etc below |\n",
    "| None | any | yes | com_to_fac_marginalized_indirect | made from hosp_indirect etc below |\n",
    "| NH | non-NH | yes | nh_to_cat_fake_indirect | made from cleanHospIndirectTransfers |\n",
    "\n",
    "* directInToOutD : This would be discharges to community.  If we regenerate direct_transfer_counts from cleanDirectTransfers we could then regenerate the facility files with updated discharge info.  facility_data_manipulator.ipynb can reconstruct those, but it depends on all the .yaml files this notebook is producing, including the marginalized versions.\n",
    "\n",
    "* directOutToInD : This would be flow from community to facilities.  It would increase the admission counts of the destination facilities, and we would have to increase the community get-sick rate to compensate.\n",
    "\n",
    "* cleanMissingTransfers : This would be flow from community to facilities.  Can we just merge it with directOutToInD?\n",
    "\n",
    "* cleanHospIndirectTransfers + cleanNHReadmitTransfers :\n",
    "\n",
    "* hospIndirectOutToInD : empty. If there were any, they would look like admissions with history None.\n",
    "\n",
    "* hospIndirectInToOutD : entries look like people who do not return to the health care system\n",
    "\n",
    "* cleanNHReadmitTransfers : empty\n",
    "\n",
    "* nhReadmitOutToInD: empty\n",
    "\n",
    "* nhReadmitInToOutD: empty\n",
    "\n",
    "After we have these, we have to marginalize destinations to facility categories to provide input for community getStatusChangeTree.\n",
    " \n"
   ]
  },
  {
   "cell_type": "markdown",
   "metadata": {},
   "source": [
    "## Check main yaml files against internal representation and optionally rewrite them ##\n",
    "\n",
    "This step will finally create the com_to_fac_missing_patients_indirect table if it does not already exist"
   ]
  },
  {
   "cell_type": "code",
   "execution_count": 46,
   "metadata": {
    "collapsed": false
   },
   "outputs": [
    {
     "name": "stdout",
     "output_type": "stream",
     "text": [
      "Old and new versions of $(MODELDIR)/direct_transfer_counts.yaml differ\n",
      "overwrite? [yN]y\n",
      "overwriting old version of $(MODELDIR)/direct_transfer_counts.yaml\n",
      "Old and new versions of $(MODELDIR)/hosp_indirect_transfer_counts.yaml match\n",
      "Old and new versions of $(MODELDIR)/nh_readmit_transfer_counts.yaml match\n",
      "Old and new versions of $(MODELDIR)/com_to_fac_missing_patients_indirect.yaml match\n"
     ]
    }
   ],
   "source": [
    "\n",
    "checkAndMaybeRewrite('$(MODELDIR)/direct_transfer_counts.yaml', cleanDirectTransfers,\n",
    "                    createOnlyThese=allNeededYamlTables)\n",
    "checkAndMaybeRewrite('$(MODELDIR)/hosp_indirect_transfer_counts.yaml', cleanHospIndirectTransfers,\n",
    "                    createOnlyThese=allNeededYamlTables)\n",
    "checkAndMaybeRewrite('$(MODELDIR)/nh_readmit_transfer_counts.yaml', cleanNHReadmitTransfers,\n",
    "                    createOnlyThese=allNeededYamlTables)\n",
    "checkAndMaybeRewrite('$(MODELDIR)/com_to_fac_missing_patients_indirect.yaml', cleanMissingTransfers,\n",
    "                    comment=(\"This file was generated from the MISSING entries of the\"\n",
    "                            \"direct transfer table\"),\n",
    "                    createOnlyThese=allNeededYamlTables)"
   ]
  },
  {
   "cell_type": "code",
   "execution_count": 48,
   "metadata": {
    "collapsed": false
   },
   "outputs": [
    {
     "name": "stdout",
     "output_type": "stream",
     "text": [
      "$(MODELDIR)/missing_indirect_transfer_counts.yaml did not exist and was not created\n"
     ]
    }
   ],
   "source": [
    "# Irrespective of their history, some fraction of newly sick COM patients need to follow missingD.  \n",
    "# Respecting their history, some need to follow hosp_indirect_transfer_counts and nh_readmit_transfer_counts.\n",
    "cleanMissing = {fac: cleanMissingTransfers['COMMUNITY'].copy() for fac in facDict\n",
    "               if facDict[fac]['category'] != 'COMMUNITY'}\n",
    "checkAndMaybeRewrite('$(MODELDIR)/missing_indirect_transfer_counts.yaml', cleanMissing,\n",
    "                    comment=(\"This file was generated by taking the 'missing' arrival count for\"\n",
    "                            \" all facilities as incoming transfers and replicating the resulting\"\n",
    "                            \" transfers across all facilities\"),\n",
    "                    createOnlyThese=allNeededYamlTables)\n"
   ]
  },
  {
   "cell_type": "code",
   "execution_count": 49,
   "metadata": {
    "collapsed": false
   },
   "outputs": [
    {
     "name": "stdout",
     "output_type": "stream",
     "text": [
      "56716.0\n",
      "{'HOSPITAL': 0.9813280203117286, 'LTAC': 0.018671979688271386}\n",
      "Old and new versions of $(MODELDIR)/nh_to_cat_fake_indirect.yaml match\n"
     ]
    }
   ],
   "source": [
    "# We need to provide a table of indirect transfer destination categories originating from NHs,\n",
    "# but that data is not included in the available tables.  A fair solution is probably to use\n",
    "# the indirect transfers from hospitals averaged over hospitals, and apply it to all NHs.\n",
    "catCtD = defaultdict(lambda: 0)\n",
    "allSrcTbl = defaultdict(lambda: 0)\n",
    "srcCatCtD = defaultdict(lambda: defaultdict(lambda: 0))\n",
    "for srcName, rec in cleanHospIndirectTransfers.items():\n",
    "    for dstName, ct in rec.items():\n",
    "        dstCategory = facDict[dstName]['category']\n",
    "        catCtD[dstCategory] += float(ct)\n",
    "        allSrcTbl[dstName] += float(ct)\n",
    "        srcCatCtD[srcName][dstCategory] += float(ct)\n",
    "tot = sum(catCtD.values())\n",
    "print tot\n",
    "netRec = {cat: float(ct)/float(tot) for cat, ct in catCtD.items()}\n",
    "print netRec\n",
    "fakeD = {}\n",
    "for abbrev in facDict:\n",
    "    if facDict[abbrev]['category'] == 'NURSINGHOME':\n",
    "        fakeD[abbrev] = netRec.copy()\n",
    "checkAndMaybeRewrite('$(MODELDIR)/nh_to_cat_fake_indirect.yaml', fakeD,\n",
    "                    comment=(\"This table was generated by finding the overall fraction of\"\n",
    "                            \" indirect transfers originating from any HOSP or LTAC to\"\n",
    "                            \" facilities of the given category and replicating that ratio\"\n",
    "                            \" for all NURSINGHOMES.\"),\n",
    "                    createOnlyThese=allNeededYamlTables)\n"
   ]
  },
  {
   "cell_type": "code",
   "execution_count": 50,
   "metadata": {
    "collapsed": false
   },
   "outputs": [
    {
     "name": "stdout",
     "output_type": "stream",
     "text": [
      "Old and new versions of $(MODELDIR)/com_to_cat_missing_patients_indirect.yaml match\n"
     ]
    }
   ],
   "source": [
    "# We need a table of missing transfer information marginalized across destination categories\n",
    "# to serve as the upstream end for the com_to_fac_missing_patients_indirect table.\n",
    "tmpD = defaultdict(lambda: defaultdict(lambda: 0))\n",
    "for srcName, rec in cleanMissingTransfers.items():\n",
    "    for dstName, ct in rec.items():\n",
    "        dstCategory = facDict[dstName]['category']\n",
    "        tmpD[srcName][dstCategory] += float(ct)\n",
    "        #print '%s %s' % (srcName, dstCategory)\n",
    "comCatMissingD = {}\n",
    "for srcName, rec in tmpD.items():\n",
    "    tot = sum(rec.values())\n",
    "    comCatMissingD[srcName] = {}\n",
    "    for dstCat, ct in rec.items():\n",
    "        comCatMissingD[srcName][dstCat] = float(ct)/float(tot)\n",
    "checkAndMaybeRewrite('$(MODELDIR)/com_to_cat_missing_patients_indirect.yaml', comCatMissingD,\n",
    "                    comment=(\"This table was generated by summing com_to_fac_missing_patients_indirect\"\n",
    "                            \" over destination category\"),\n",
    "                    createOnlyThese=allNeededYamlTables)\n"
   ]
  },
  {
   "cell_type": "code",
   "execution_count": 51,
   "metadata": {
    "collapsed": false
   },
   "outputs": [
    {
     "name": "stdout",
     "output_type": "stream",
     "text": [
      "Old and new versions of $(MODELDIR)/nh_readmit_fake_transfer_counts.yaml match\n"
     ]
    }
   ],
   "source": [
    "# We also need a table mapping from NHs to destination HOSPs to substitute for the missing information\n",
    "# on indirect transfers originating from NHs.  This is essentially the second half of the routing\n",
    "# provided by nh_to_cat_fake_indirect.yaml created above.\n",
    "totCt = sum(allSrcTbl.values())\n",
    "normAllSrcTbl = {dst: float(ct)/float(totCt) for dst, ct in allSrcTbl.iteritems()}\n",
    "fakeD = {}\n",
    "for abbrev in facDict:\n",
    "    if facDict[abbrev]['category'] == 'NURSINGHOME':\n",
    "        fakeD[abbrev] = {key:val for key,val in normAllSrcTbl.items()}  # get rid of defaultdict\n",
    "checkAndMaybeRewrite('$(MODELDIR)/nh_readmit_fake_transfer_counts.yaml', fakeD,\n",
    "                    comment=(\"This was generated by summing hosp_indirect_transfer_counts.yaml\"\n",
    "                            \" and nh_readmit_transfer_counts.yaml over source locations and\"\n",
    "                            \" normalizing, then replicating the resulting map for all NHs\"),\n",
    "                    createOnlyThese=allNeededYamlTables)\n"
   ]
  },
  {
   "cell_type": "code",
   "execution_count": 52,
   "metadata": {
    "collapsed": false
   },
   "outputs": [
    {
     "name": "stdout",
     "output_type": "stream",
     "text": [
      "Old and new versions of $(MODELDIR)/fac_to_cat_marginalized_indirect.yaml match\n"
     ]
    }
   ],
   "source": [
    "normSrcCatCtD = {}\n",
    "for src, catD in srcCatCtD.items():\n",
    "    tot = sum(catD.values())\n",
    "    normCatCtD = {cat: ct/tot for cat, ct in catD.items()}\n",
    "    normSrcCatCtD[src] = normCatCtD\n",
    "checkAndMaybeRewrite('$(MODELDIR)/fac_to_cat_marginalized_indirect.yaml', normSrcCatCtD,\n",
    "                    comment=(\"This was generated by summing hosp_indirect_transfer_counts.yaml\"\n",
    "                            \" and nh_readmit_transfer_counts.yaml across destination facility\"\n",
    "                            \" by category and then normalizing the resulting counts by source\"\n",
    "                            \" facility\"),\n",
    "                    createOnlyThese=allNeededYamlTables)"
   ]
  },
  {
   "cell_type": "code",
   "execution_count": 53,
   "metadata": {
    "collapsed": false
   },
   "outputs": [
    {
     "name": "stdout",
     "output_type": "stream",
     "text": [
      "defaultdict(<function <lambda> at 0x7f41b3a0e500>, {'HOSPITAL': 3037.0, 'LTAC': 21.0})\n",
      "{'HOSPITAL': 0.9931327665140615, 'LTAC': 0.0068672334859385216}\n"
     ]
    }
   ],
   "source": [
    "print srcCatCtD['SJUD']\n",
    "print normSrcCatCtD['SJUD']\n"
   ]
  },
  {
   "cell_type": "code",
   "execution_count": 54,
   "metadata": {
    "collapsed": false
   },
   "outputs": [
    {
     "name": "stdout",
     "output_type": "stream",
     "text": [
      "Old and new versions of $(MODELDIR)/com_to_fac_indirect.yaml match\n",
      "Old and new versions of $(MODELDIR)/com_to_fac_marginalized_indirect.yaml match\n"
     ]
    }
   ],
   "source": [
    "oD = {}\n",
    "oD['COMMUNITY'] = {key:val for key,val in allSrcTbl.items()}  # get rid of defaultdict\n",
    "checkAndMaybeRewrite('$(MODELDIR)/com_to_fac_indirect.yaml', oD,\n",
    "                    comment=(\"This was generated by summing hosp_indirect_transfer_counts.yaml\"\n",
    "                            \" and nh_readmit_transfer_counts.yaml over source locations\"),\n",
    "                    createOnlyThese=allNeededYamlTables)\n",
    "oD = {}\n",
    "oD['COMMUNITY'] = {key:val for key,val in normAllSrcTbl.items()}  # get rid of defaultdict\n",
    "checkAndMaybeRewrite('$(MODELDIR)/com_to_fac_marginalized_indirect.yaml', oD,\n",
    "                    comment=(\"This was generated by summing hosp_indirect_transfer_counts.yaml\"\n",
    "                            \" and nh_readmit_transfer_counts.yaml over source locations and\"\n",
    "                            \" normalizing\"),\n",
    "                    createOnlyThese=allNeededYamlTables)\n",
    "comToFacMarginalizedIndirectD = oD  # turns out we need it later\n",
    "#kL = allSrcTbl.keys()[:]\n",
    "#kL.sort()\n",
    "#for k in kL:\n",
    "    #print '%s: %s' % (k, allSrcTbl[k])"
   ]
  },
  {
   "cell_type": "code",
   "execution_count": 65,
   "metadata": {
    "collapsed": false
   },
   "outputs": [
    {
     "name": "stdout",
     "output_type": "stream",
     "text": [
      "defaultdict(<type 'int'>, {'HOSPITAL': 0.9813280203117288, 'LTAC': 0.018671979688271386})\n"
     ]
    }
   ],
   "source": [
    "dct = defaultdict(int)\n",
    "for key, val in oD['COMMUNITY'].items():\n",
    "    dct[facDict[key]['category']] += val\n",
    "print dct"
   ]
  },
  {
   "cell_type": "code",
   "execution_count": 55,
   "metadata": {
    "collapsed": false
   },
   "outputs": [
    {
     "name": "stdout",
     "output_type": "stream",
     "text": [
      "goHomeInToOutD: {}\n",
      "goHomeOutToInD: {}\n",
      "Old and new versions of $(MODELDIR)/com_to_fac_from_discharge_rate.yaml match\n"
     ]
    }
   ],
   "source": [
    "goHomeRec = {}\n",
    "for fac in [f for f in facDict if facDict[f]['category'] != 'COMMUNITY']:\n",
    "    nDischarged = facDict[fac]['totalDischarges']['value']\n",
    "    nTransOut = sum(srcCatCtD[fac].values())\n",
    "    goHomeRec[fac] = nDischarged - nTransOut\n",
    "goHomeD= {'COMMUNITY': goHomeRec}\n",
    "cleanGoHomeD, goHomeInToOutD, goHomeOutToInD = cleanTransferTbl(goHomeD, 'NoRealFile', obsoleteNameD)\n",
    "print 'goHomeInToOutD: %s' % {k: v for k, v in goHomeInToOutD.items()}\n",
    "print 'goHomeOutToInD: %s' % {k: v for k, v in goHomeOutToInD.items()}\n",
    "checkAndMaybeRewrite('$(MODELDIR)/com_to_fac_from_discharge_rate.yaml', cleanGoHomeD,\n",
    "                    comment=(\"The flow given here for each facility is the total discharge\"\n",
    "                            \" rate for the facility minus total direct transfers out of the\"\n",
    "                            \" facility\"),\n",
    "                    createOnlyThese=allNeededYamlTables)"
   ]
  },
  {
   "cell_type": "code",
   "execution_count": 56,
   "metadata": {
    "collapsed": false
   },
   "outputs": [
    {
     "name": "stdout",
     "output_type": "stream",
     "text": [
      "sum of cleanGoHomeD:  208267.0\n",
      "sum of cleanHospIndirectTransfers:  56716.0\n",
      "sum of cleanNHReadmitTransfers:  0\n",
      "sum of cleanMissingTransfers:  7965.01\n",
      "total community population:  2728818\n",
      "old rate:  191733.574725\n",
      "16533.425275\n",
      "cleanGoHomeD categories:  {'NURSINGHOME': 35082, 'HOSPITAL': 168942.0, 'LTAC': 4243.0}\n"
     ]
    }
   ],
   "source": [
    "print 'sum of cleanGoHomeD: ', sumOfTableValues(cleanGoHomeD)\n",
    "print 'sum of cleanHospIndirectTransfers: ', sumOfTableValues(cleanHospIndirectTransfers)\n",
    "print 'sum of cleanNHReadmitTransfers: ', sumOfTableValues(cleanNHReadmitTransfers)\n",
    "print 'sum of cleanMissingTransfers: ', sumOfTableValues(cleanMissingTransfers)\n",
    "totComPop = 0\n",
    "for fac, rec in facDict.items():\n",
    "    if rec['category'] == 'COMMUNITY':\n",
    "        totComPop += rec['meanPop']['value']\n",
    "print 'total community population: ', totComPop\n",
    "oldRate = 365*1.925e-4*totComPop\n",
    "print 'old rate: ', oldRate\n",
    "print sumOfTableValues(cleanGoHomeD) - oldRate\n",
    "d = defaultdict(lambda: 0)\n",
    "for src, ct in cleanGoHomeD['COMMUNITY'].items():\n",
    "    if src in facDict:\n",
    "        d[facDict[src]['category']] += ct\n",
    "d = {k:v for k,v in d.iteritems()}\n",
    "print 'cleanGoHomeD categories: ', d\n"
   ]
  },
  {
   "cell_type": "code",
   "execution_count": 57,
   "metadata": {
    "collapsed": false
   },
   "outputs": [
    {
     "name": "stdout",
     "output_type": "stream",
     "text": [
      "3058.0\n",
      "SJUD (HOSPITAL) 1216.0 12335.0 3058.0 2443.6384 0.0\n",
      "PACI (NURSINGHOME) 25.0 407.5 0.0 145.992 82.0\n",
      "82.0\n",
      "311.5\n",
      "420\n",
      "108.5\n",
      "HOAG 968.0 996.5\n",
      "GGMC 550.0 552.0\n",
      "SCGL 303.0 366.0\n",
      "SJUD 888.0 1324.0\n",
      "FVRH 929.5 939.0\n",
      "SMMC 657.5 677.0\n",
      "HGOR 58.0 58.5\n",
      "WAMC 805.5 842.0\n",
      "MSLG 107.0 252.5\n",
      "CHAP 123.5 194.0\n",
      "KAIA 791.0 814.5\n",
      "UCIM 731.5 1062.0\n",
      "OCGB 387.0 391.5\n",
      "LAMC 405.5 496.5\n",
      "ANRG 748.5 766.0\n",
      "LPIH 244.0 286.5\n",
      "MISS 468.5 792.0\n",
      "ANGL 344.5 409.5\n",
      "OCMM 468.5 492.0\n",
      "SJOS 755.5 876.5\n",
      "PLAC 149.5 151.5\n",
      "HBHO 339.5 506.5\n"
     ]
    }
   ],
   "source": [
    "deltaD = {}\n",
    "aveD = {}\n",
    "itD = {}\n",
    "dtD = {}\n",
    "print sum(cleanHospIndirectTransfers['SJUD'].values())\n",
    "for fac, rec in facDict.items():\n",
    "    if facDict[fac]['category'] != 'COMMUNITY':\n",
    "        nDischarged = facDict[fac]['totalDischarges']['value']\n",
    "        nDirectTrans = sum([r['count']['value'] for r in facDict[fac]['totalTransfersOut']])\n",
    "        nIndirectTrans = (sum(cleanHospIndirectTransfers[fac].values())\n",
    "                          if fac in cleanHospIndirectTransfers else 0.0)\n",
    "        nAdmitted = facDict[fac]['totalAdmissions']['value']\n",
    "        deltaD[fac] = nDischarged - nAdmitted\n",
    "        aveD[fac] = 0.5*(nDischarged + nAdmitted)\n",
    "        itD[fac] = nIndirectTrans\n",
    "        dtD[fac] = nDirectTrans\n",
    "\n",
    "def printTbl(facL = None):\n",
    "    if facL is None:\n",
    "        facL = [fac for fac in facDict if facDict[fac]['category'] != 'COMMUNITY']\n",
    "        facL.sort()\n",
    "    for fac in facL:\n",
    "        dv = deltaD[fac] if fac in deltaD else 0.0\n",
    "        av = aveD[fac] if fac in aveD else 0.0\n",
    "        itv = itD[fac] if fac in itD else 0.0 \n",
    "        dtv = dtD[fac] if fac in dtD else 0.0\n",
    "        mv = cleanMissingTransfers['COMMUNITY'][fac] if fac in cleanMissingTransfers['COMMUNITY'] else 0.0\n",
    "        print '%s (%s) %s %s %s %s %s' % (fac, facDict[fac]['category'], dv, av, itv, dtv, mv)\n",
    "#printTbl()\n",
    "printTbl(['SJUD', 'PACI'])\n",
    "print cleanMissingTransfers['COMMUNITY']['PACI']\n",
    "print facDict['PACI']['totalTransfersIn']['value']\n",
    "print facDict['PACI']['totalDischarges']['value']\n",
    "print facDict['PACI']['totalDischarges']['value'] - facDict['PACI']['totalTransfersIn']['value']\n",
    "tot = 0.0\n",
    "for fac in facDict:\n",
    "    if facDict[fac]['category'] == 'HOSPITAL':\n",
    "        v1 = cleanMissingTransfers['COMMUNITY'][fac] if fac in cleanMissingTransfers['COMMUNITY'] else 0.0\n",
    "        #v2 = facDict[fac]['totalDischarges']['value'] - (facDict[fac]['totalTransfersIn']['value'] + allSrcTbl[fac])\n",
    "        v2 = facDict[fac]['totalDischarges']['value']\n",
    "        v3 = sum(r['count']['value'] for r in facDict[fac]['totalTransfersOut'])\n",
    "        v4 = sum(cleanDirectTransfers[fac].values())\n",
    "        v5 = facDict[fac]['totalTransfersIn']['value']\n",
    "        v6 = 0.0\n",
    "        for src in cleanDirectTransfers:\n",
    "            if fac in cleanDirectTransfers[src]:\n",
    "                v6 += cleanDirectTransfers[src][fac]\n",
    "        #print fac, v1, v2, v3, v4, sum(srcCatCtD[fac].values())\n",
    "        print fac, v5, v6\n"
   ]
  },
  {
   "cell_type": "markdown",
   "metadata": {},
   "source": [
    "cleanGoHomeD is (all discharges - HOSP_indirect), so it represents counts that are not expected to return.\n",
    "\n",
    "Balanced numbers: everyone gets (totalDischarges - totalTransfersIn) regardless of source\n",
    "\n",
    "Obeying indirect transfer matrix: everyone gets sum(cleanIndirect[?][dst=fac]) + cleanGoHomeD[fac]\n",
    "\n",
    "actualMissing = (balanced numbers) - (obeying indirect transfer matrix)\n",
    "\n",
    "I can use \n",
    "```\n",
    "sum(cleanDirectTransfers[fac].values())\n",
    "```\n",
    "in lieu of \n",
    "```\n",
    "sum(r['count']['value'] for r in facDict[fac]['totalTransfersOut'])\n",
    "```\n",
    "to get the total number of direct transfers out\n",
    "\n",
    "I can use\n",
    "```\n",
    "        for src in cleanDirectTransfers:\n",
    "            if fac in cleanDirectTransfers[src]:\n",
    "                v6 += cleanDirectTransfers[src][fac]\n",
    "```\n",
    "in lieu of\n",
    "```\n",
    "    facDict[fac]['totalTransfersIn']['value']\n",
    "```"
   ]
  },
  {
   "cell_type": "code",
   "execution_count": 58,
   "metadata": {
    "collapsed": false
   },
   "outputs": [
    {
     "name": "stdout",
     "output_type": "stream",
     "text": [
      "$(MODELDIR)/com_to_fac_to_balance_discharges.yaml did not exist and was not created\n"
     ]
    }
   ],
   "source": [
    "balancedFromCommunityD = {}\n",
    "for fac in facDict:\n",
    "    if facDict[fac]['category'] == 'COMMUNITY':\n",
    "        continue\n",
    "    nOut = facDict[fac]['totalDischarges']['value']\n",
    "    nInByDirectTransfer = 0.0\n",
    "    for src in cleanDirectTransfers:\n",
    "        if fac in cleanDirectTransfers[src]:\n",
    "            nInByDirectTransfer += cleanDirectTransfers[src][fac]\n",
    "    nFromCommunity = nOut - nInByDirectTransfer\n",
    "    #print fac, nInByDirectTransfer, nOut, nFromCommunity\n",
    "    balancedFromCommunityD[fac] = nFromCommunity\n",
    "checkAndMaybeRewrite('$(MODELDIR)/com_to_fac_to_balance_discharges.yaml',\n",
    "                     {'COMMUNITY': balancedFromCommunityD},\n",
    "                    comment=(\"The flow given here is the discharge rate minus the\"\n",
    "                            \"total direct transfers arriving at the facility\"),\n",
    "                    createOnlyThese=allNeededYamlTables)"
   ]
  },
  {
   "cell_type": "code",
   "execution_count": 59,
   "metadata": {
    "collapsed": false
   },
   "outputs": [
    {
     "name": "stdout",
     "output_type": "stream",
     "text": [
      "$(MODELDIR)/com_to_cat_to_balance_discharges.yaml did not exist and was not created\n"
     ]
    }
   ],
   "source": [
    "balancedFromCommunityToCatD = defaultdict(lambda: 0.0)\n",
    "for fac, ct in balancedFromCommunityD.items():\n",
    "    balancedFromCommunityToCatD[facDict[fac]['category']] += ct\n",
    "balancedFromCommunityToCatD = {k: v for k, v in balancedFromCommunityToCatD.iteritems()}\n",
    "#print balancedFromCommunityToCatD\n",
    "checkAndMaybeRewrite('$(MODELDIR)/com_to_cat_to_balance_discharges.yaml',\n",
    "                    {'COMMUNITY': balancedFromCommunityToCatD},\n",
    "                    comment=('The flow given here is com_to_fac_to_balance_discharges.yaml'\n",
    "                            ' marginalized over destination categories'),\n",
    "                    createOnlyThese=allNeededYamlTables)"
   ]
  },
  {
   "cell_type": "code",
   "execution_count": 60,
   "metadata": {
    "collapsed": false
   },
   "outputs": [
    {
     "name": "stdout",
     "output_type": "stream",
     "text": [
      "HOAG 24394 996.5 23397.5 5448.0 17949.5\n",
      "224826.0 0.000225724707121\n",
      "199637.5\n",
      "total thaws per year:  224826.0\n",
      "base thaw rate is:  0.000225724707121\n",
      "bypass fraction is:  0.112035529699\n",
      "This idea fails because discharges may be less than admissions due to sampling error\n",
      "0.0960575498977\n",
      "21596.2347133\n",
      "23397.5\n"
     ]
    }
   ],
   "source": [
    "indirectFromCommunityD = {}\n",
    "for fac in facDict:\n",
    "    if facDict[fac]['category'] == 'COMMUNITY':\n",
    "        continue\n",
    "    nFromIndirect = 0.0\n",
    "    for src in cleanHospIndirectTransfers:\n",
    "        if fac in cleanHospIndirectTransfers[src]:\n",
    "            nFromIndirect += cleanHospIndirectTransfers[src][fac]\n",
    "    indirectFromCommunityD[fac] = nFromIndirect\n",
    "    #if facDict[fac]['category'] == 'NURSINGHOME':\n",
    "    #    print fac, nFromIndirect, balancedFromCommunityD[fac], (cleanMissingTransfers['COMMUNITY'][fac] \n",
    "    #                                                     if fac in cleanMissingTransfers['COMMUNITY'] else 0.0)\n",
    "realDeficitD = {}\n",
    "for fac in balancedFromCommunityD:\n",
    "    nFromCommunity = balancedFromCommunityD[fac]\n",
    "    nFromIndirect = indirectFromCommunityD[fac] if fac in indirectFromCommunityD else 0.0\n",
    "    realDeficitD[fac] = nFromCommunity - nFromIndirect\n",
    "    #if facDict[fac]['category'] != 'NURSINGHOME':\n",
    "    #    print (fac, facDict[fac]['totalAdmissions']['value'], facDict[fac]['totalDischarges']['value'],\n",
    "    #          realDeficitD[fac], \n",
    "    #           (cleanMissingTransfers['COMMUNITY'][fac] if fac in cleanMissingTransfers['COMMUNITY'] else 0.0))\n",
    "fac = 'HOAG'\n",
    "nInByDirectTransfer = 0.0\n",
    "for src in cleanDirectTransfers:\n",
    "    if fac in cleanDirectTransfers[src]:\n",
    "        nInByDirectTransfer += cleanDirectTransfers[src][fac]\n",
    "nOut = facDict[fac]['totalDischarges']['value']\n",
    "nFromIndirect = indirectFromCommunityD[fac] if fac in indirectFromCommunityD else 0.0\n",
    "realDeficit = realDeficitD[fac]\n",
    "print fac, nOut, nInByDirectTransfer, balancedFromCommunityD[fac], nFromIndirect, realDeficit\n",
    "# realDeficit here is the number of thaws which go to fac *beyond* those necessary to cover indirect transfers\n",
    "# Total thaws going to this fac should be nFromIndirect + realDeficit == balancedFromCommunity[fac]\n",
    "# Total thaws should equal sum(balancedFromCommunity.values())\n",
    "# Total thaws excluding 'corrected missing' should be sum(admissions - directTransfersIn)\n",
    "#                                                   = sum(admissions) - sum(cleanDirectTransfers)\n",
    "totPerYear = sum(balancedFromCommunityD.values())\n",
    "totRate = totPerYear/(365.0 * totComPop)\n",
    "print totPerYear, totRate\n",
    "totAdmissions = 0.0\n",
    "for fac in facDict:\n",
    "    if facDict[fac]['category'] != 'COMMUNITY':\n",
    "        totAdmissions += facDict[fac]['totalAdmissions']['value']\n",
    "nonBypassPerYear = totAdmissions - sumOfTableValues(cleanDirectTransfers)\n",
    "print nonBypassPerYear\n",
    "bypassFrac = (totPerYear - nonBypassPerYear)/totPerYear\n",
    "print 'total thaws per year: ', totPerYear\n",
    "print 'base thaw rate is: ', totRate\n",
    "print 'bypass fraction is: ', bypassFrac\n",
    "\n",
    "# total thaws going to fac should be balancedFromCommunityD[fac]\n",
    "# total thaws which actually go there are totPerYear * fraction to the given fac\n",
    "# the best estimate of fraction to the given fac is probably from com_to_fac_marginalized_indirect\n",
    "trueMissingD = {}\n",
    "for fac in facDict:\n",
    "    if facDict[fac]['category'] != 'COMMUNITY':\n",
    "        nPerYear = (totPerYear * comToFacMarginalizedIndirectD['COMMUNITY'][fac]\n",
    "                    if fac in comToFacMarginalizedIndirectD['COMMUNITY'] else 0.0)\n",
    "        trueMissingD[fac] = (balancedFromCommunityD[fac] - nPerYear)\n",
    "if tableNonNeg({'COMMUNITY': trueMissingD}):\n",
    "    checkAndMaybeRewrite('$(MODELDIR)/com_to_fac_true_missing.yaml',\n",
    "                        {'COMMUNITY': trueMissingD},\n",
    "                        comment=(\"This table gives an estimate of the number of discharges not\"\n",
    "                                \" accounted for by direct transfers, indirect transfers, and\"\n",
    "                                \" admissions from the community which are neither direct nor indirect\"),\n",
    "                        createOnlyThese=allNeededYamlTables)\n",
    "else:\n",
    "    print 'This idea fails because discharges may be less than admissions due to sampling error'\n",
    "print comToFacMarginalizedIndirectD['COMMUNITY']['HOAG']\n",
    "print (totPerYear * comToFacMarginalizedIndirectD['COMMUNITY']['HOAG'])\n",
    "print balancedFromCommunityD['HOAG']"
   ]
  },
  {
   "cell_type": "code",
   "execution_count": 61,
   "metadata": {
    "collapsed": false
   },
   "outputs": [
    {
     "name": "stdout",
     "output_type": "stream",
     "text": [
      "$(MODELDIR)/com_to_cat_from_discharge_rate.yaml did not exist and was not created\n"
     ]
    }
   ],
   "source": [
    "toCatD = defaultdict(lambda: 0)\n",
    "for fac, ct in cleanGoHomeD['COMMUNITY'].items():\n",
    "    toCatD[facDict[fac]['category']] += ct\n",
    "comToCatD = {'COMMUNITY': {k: v for k, v in toCatD.items()}}\n",
    "checkAndMaybeRewrite('$(MODELDIR)/com_to_cat_from_discharge_rate.yaml', comToCatD,\n",
    "                    comment=(\"These values were generated by summing com_to_fac_from_discharge_rate.yaml\"\n",
    "                            \" by destination category\"),\n",
    "                    createOnlyThese=allNeededYamlTables)\n"
   ]
  },
  {
   "cell_type": "code",
   "execution_count": 62,
   "metadata": {
    "collapsed": false
   },
   "outputs": [
    {
     "name": "stdout",
     "output_type": "stream",
     "text": [
      "['SCGL', 'HOAG', 'COLL', 'OCMM', 'HGOR', 'OCGB', 'KINB', 'MISS', 'KINW', 'MSLG', 'SMMC', 'GGMC', 'KAIA', 'SJUD', 'WAMC', 'SJOS', 'FVRH', 'PLAC', 'HBHO', 'HSOU', 'ANRG', 'LAMC', 'ANGL', 'CHAP', 'LPIH', 'UCIM']\n",
      "[]\n",
      "['CSNC', 'HOAG', 'LPAL', 'EXTW', 'PVIS', 'WAEC', 'GREE', 'GGMC', 'HVCC', 'UCIM', 'MANO', 'ORRH', 'WAMC', 'EDNA', 'LHAB', 'PALM', 'HSOU', 'ANRG', 'BVCC', 'TOWN', 'CVSB', 'LAKE', 'LPIH', 'NNRC', 'BGSJ', 'HELP', 'BGYL', 'COLL', 'GGCH', 'STAN', 'OCGB', 'SJUD', 'KINO', 'KINW', 'SCGL', 'CVLH', 'FPCC', 'ANHC', 'FLAG', 'CAPO', 'GORD', 'ATCC', 'FVRH', 'MISS', 'ROYL', 'ANGL', 'LEIS', 'ACNC', 'ALTA', 'PACI', 'MSLG', 'WINA', 'NSUB', 'ALAM', 'CHAP', 'KNOT', 'HBHO', 'OCMM', 'COCT', 'WLNT', 'SMMC', 'FOCC', 'KAIA', 'RGNT', 'HVAL', 'FREE', 'QUAK', 'CARE', 'VIVA', 'SCRT', 'PREG', 'SNMR', 'EVER', 'NEWO', 'COVI', 'SEAC', 'ELIZ', 'HGOR', 'GPCC', 'CVPL', 'TERR', 'PSUP', 'PANA', 'SJOS', 'PLAC', 'KINB', 'MESA', 'BEAC', 'LAMC', 'BPNC', 'PKVW', 'WINF', 'VICT']\n",
      "['NURSINGHOME', 'HOSPITAL', 'NURSINGHOME', 'NURSINGHOME', 'NURSINGHOME', 'NURSINGHOME', 'NURSINGHOME', 'HOSPITAL', 'NURSINGHOME', 'HOSPITAL', 'NURSINGHOME', 'NURSINGHOME', 'HOSPITAL', 'NURSINGHOME', 'NURSINGHOME', 'NURSINGHOME', 'LTAC', 'HOSPITAL', 'NURSINGHOME', 'NURSINGHOME', 'NURSINGHOME', 'NURSINGHOME', 'HOSPITAL', 'NURSINGHOME', 'NURSINGHOME', 'NURSINGHOME', 'NURSINGHOME', 'LTAC', 'NURSINGHOME', 'NURSINGHOME', 'HOSPITAL', 'HOSPITAL', 'NURSINGHOME', 'LTAC', 'HOSPITAL', 'NURSINGHOME', 'NURSINGHOME', 'NURSINGHOME', 'NURSINGHOME', 'NURSINGHOME', 'NURSINGHOME', 'NURSINGHOME', 'HOSPITAL', 'HOSPITAL', 'NURSINGHOME', 'HOSPITAL', 'NURSINGHOME', 'NURSINGHOME', 'NURSINGHOME', 'NURSINGHOME', 'HOSPITAL', 'NURSINGHOME', 'NURSINGHOME', 'NURSINGHOME', 'HOSPITAL', 'NURSINGHOME', 'HOSPITAL', 'HOSPITAL', 'NURSINGHOME', 'NURSINGHOME', 'HOSPITAL', 'NURSINGHOME', 'HOSPITAL', 'NURSINGHOME', 'NURSINGHOME', 'NURSINGHOME', 'NURSINGHOME', 'NURSINGHOME', 'NURSINGHOME', 'NURSINGHOME', 'NURSINGHOME', 'NURSINGHOME', 'NURSINGHOME', 'NURSINGHOME', 'NURSINGHOME', 'NURSINGHOME', 'NURSINGHOME', 'HOSPITAL', 'NURSINGHOME', 'NURSINGHOME', 'NURSINGHOME', 'NURSINGHOME', 'NURSINGHOME', 'HOSPITAL', 'HOSPITAL', 'LTAC', 'NURSINGHOME', 'NURSINGHOME', 'HOSPITAL', 'NURSINGHOME', 'NURSINGHOME', 'NURSINGHOME', 'NURSINGHOME']\n"
     ]
    }
   ],
   "source": [
    "print cleanHospIndirectTransfers.keys()\n",
    "print cleanNHReadmitTransfers.keys()\n",
    "print cleanMissing.keys()\n",
    "print [facDict[fac]['category'] for fac in cleanMissing.keys()]"
   ]
  },
  {
   "cell_type": "code",
   "execution_count": 63,
   "metadata": {
    "collapsed": false
   },
   "outputs": [
    {
     "name": "stdout",
     "output_type": "stream",
     "text": [
      "Old and new versions of $(MODELDIR)/fac_to_cat_marginalized_direct.yaml differ\n",
      "overwrite? [yN]y\n",
      "overwriting old version of $(MODELDIR)/fac_to_cat_marginalized_direct.yaml\n"
     ]
    }
   ],
   "source": [
    "# We need to provide a table of direct transfer destination categories.\n",
    "srcDCatCtD = defaultdict(lambda: defaultdict(lambda: 0))\n",
    "for srcName, rec in cleanDirectTransfers.items():\n",
    "    for dstName, ct in rec.items():\n",
    "        dstCategory = facDict[dstName]['category']\n",
    "        srcDCatCtD[srcName][dstCategory] += float(ct)\n",
    "marDD = {}\n",
    "for srcName, rec in srcDCatCtD.items():\n",
    "    tot = sum(rec.values())\n",
    "    marDD[srcName] = {key: val/tot for key, val in rec.items()}\n",
    "checkAndMaybeRewrite('$(MODELDIR)/fac_to_cat_marginalized_direct.yaml', marDD,\n",
    "                    comment=(\"This table was generated by summing each row of direct_transfer_table\"\n",
    "                            \" over destinations by category and then normalizing the destination ratios\"\n",
    "                            \" for each source\"),\n",
    "                    createOnlyThese=allNeededYamlTables)\n"
   ]
  },
  {
   "cell_type": "code",
   "execution_count": null,
   "metadata": {
    "collapsed": true
   },
   "outputs": [],
   "source": []
  }
 ],
 "metadata": {
  "kernelspec": {
   "display_name": "Python 2",
   "language": "python",
   "name": "python2"
  },
  "language_info": {
   "codemirror_mode": {
    "name": "ipython",
    "version": 2
   },
   "file_extension": ".py",
   "mimetype": "text/x-python",
   "name": "python",
   "nbconvert_exporter": "python",
   "pygments_lexer": "ipython2",
   "version": "2.7.12"
  }
 },
 "nbformat": 4,
 "nbformat_minor": 1
}
