{
 "cells": [
  {
   "cell_type": "code",
   "execution_count": null,
   "metadata": {
    "collapsed": false
   },
   "outputs": [],
   "source": [
    "#! /usr/bin/env python\n",
    "\n",
    "###################################################################################\n",
    "# Copyright   2015, Pittsburgh Supercomputing Center (PSC).  All Rights Reserved. #\n",
    "# =============================================================================== #\n",
    "#                                                                                 #\n",
    "# Permission to use, copy, and modify this software and its documentation without #\n",
    "# fee for personal use within your organization is hereby granted, provided that  #\n",
    "# the above copyright notice is preserved in all copies and that the copyright    #\n",
    "# and this permission notice appear in supporting documentation.  All other       #\n",
    "# restrictions and obligations are defined in the GNU Affero General Public       #\n",
    "# License v3 (AGPL-3.0) located at http://www.gnu.org/licenses/agpl-3.0.html  A   #\n",
    "# copy of the license is also provided in the top level of the source directory,  #\n",
    "# in the file LICENSE.txt.                                                        #\n",
    "#                                                                                 #\n",
    "###################################################################################\n",
    "\n",
    "import logging\n",
    "\n",
    "import os.path\n",
    "from phacsl.utils.collections.phacollections import SingletonMetaClass\n",
    "import pyrheautils\n",
    "import random\n",
    "from collections import deque, defaultdict\n",
    "from policybase import TransferDestinationPolicy as BaseTransferDestinationPolicy\n",
    "from facilitybase import CareTier, tierToQueueMap\n",
    "from map_transfer_matrix import parseFacilityData\n",
    "import schemautils\n",
    "import yaml\n",
    "\n",
    "_validator = None\n",
    "_constants_values = '$(MODELDIR)/constants/transferbydrawwithreplacement_constants.yaml'\n",
    "_constants_schema = 'transferbydrawwithreplacement_constants_schema.yaml'\n",
    "_constants = None\n",
    "\n",
    "\n",
    "schemautils.setSchemaBasePath('/home/welling/git/pyRHEA_github/src/schemata')\n",
    "    \n",
    "pyrheautils.PATH_STRING_MAP['MODELDIR'] = '/home/welling/git/pyRHEA_github/models/OrangeCounty2013'\n",
    "_constants = pyrheautils.importConstants(_constants_values,\n",
    "                                         _constants_schema)\n",
    "_constants['transferFilePaths']=['$(MODELDIR)/direct_transfer_counts.yaml']\n",
    "\n",
    "print _constants\n",
    "nmDict = CareTier.names\n",
    "#tierFacSets = {tier: set(self.getTierAddrMap(tier).keys()) for tier in nmDict.keys()}\n",
    "tbl = {}\n",
    "pairsSeen = set()\n",
    "for transferMatrixFilePath in _constants['transferFilePaths']:\n",
    "    print 'Importing the weight data file %s' % transferMatrixFilePath\n",
    "    rawTbl = pyrheautils.importConstants(transferMatrixFilePath,\n",
    "                                         _constants['transferFileSchema'])\n",
    "    for srcName, rec in rawTbl.items():\n",
    "        if srcName not in tbl:\n",
    "            tbl[srcName] = {}\n",
    "        for destName, ct in rec.items():\n",
    "            if (srcName, destName) in pairsSeen:\n",
    "                raise RuntimeError('Duplicate weight table entries for %s -> %s' %\n",
    "                                    (srcName, destName))\n",
    "            else:\n",
    "                pairsSeen.add((srcName, destName))\n",
    "                tbl[srcName][destName] = float(ct)\n",
    "facDict = parseFacilityData(pyrheautils.pathTranslate('$(MODELDIR)/facilityfactsCurrent2013'))\n",
    "#print 'IMPLEMENTING SPECIAL PATCH FOR WAUK_2615_H'\n",
    "#facDict['WAUK_2615_H'] = {'category':'HOSPITAL'}\n",
    "#print 'FIND OUT THE REAL ANSWER AND DELETE THIS!'\n",
    "facDict.update(parseFacilityData(pyrheautils.pathTranslate('$(MODELDIR)/facilityfacts_excluded')))\n",
    "\n",
    "\n",
    "totCt = 0.0\n",
    "for src, rec in tbl.items():\n",
    "    for dst, ct in rec.items():\n",
    "        totCt += float(ct)\n",
    "print 'totCt is %s' % totCt\n",
    "#for key, val in catCtD.items():\n",
    "#    print 'category %s: %s' % (key, val)\n",
    "allSrcTbl = defaultdict(lambda: 0)\n",
    "catCtD = defaultdict(lambda: 0)\n",
    "srcCatCtD = defaultdict(lambda: defaultdict(lambda: 0)) # a defaultdict of defaultdicts\n",
    "for srcName in tbl.keys():\n",
    "    for destName, ct in tbl[srcName].items():\n",
    "        allSrcTbl[destName] += ct\n",
    "        destCategory = facDict[destName]['category']\n",
    "        catCtD[destCategory] += float(ct)\n",
    "        srcCatCtD[srcName][destCategory] += float(ct)\n",
    "totCt = sum(allSrcTbl.values())\n",
    "print 'totCt after gather: %s' % totCt\n",
    "for destName, ct in allSrcTbl.items():\n",
    "    allSrcTbl[destName] /= totCt\n",
    "\n",
    "        \n",
    "#        for tier in nmDict.keys():\n",
    "#            if tier not in tbl[srcName]:\n",
    "#                tbl[srcName][tier] = []\n",
    "#                totTbl[srcName][tier] = 0.0\n",
    "#            wtL = tbl[srcName][tier]\n",
    "#            wtSum = totTbl[srcName][tier]\n",
    "#            for destName, ct in rec.items():\n",
    "#                if destName in tierFacSets[tier]:\n",
    "#                    wtL.append((ct, (destName, self.getTierAddrMap(tier)[destName])))\n",
    "#                    wtSum += ct\n",
    "#            totTbl[srcName][tier] = wtSum\n",
    "print 'Import complete.'\n"
   ]
  },
  {
   "cell_type": "code",
   "execution_count": null,
   "metadata": {
    "collapsed": false
   },
   "outputs": [],
   "source": [
    "print 'totals check: %s vs %s' % (sum(catCtD.values()), totCt)\n",
    "print 'Fractions:'\n",
    "for key, val in catCtD.items():\n",
    "    print '  %s: %s' % (key, (val/totCt))"
   ]
  },
  {
   "cell_type": "code",
   "execution_count": null,
   "metadata": {
    "collapsed": false
   },
   "outputs": [],
   "source": [
    "srcL = tbl.keys()[:]\n",
    "srcL.sort()\n",
    "oD = {}\n",
    "oD['COMMUNITY'] = {key:val for key,val in allSrcTbl.items()}  # get rid of defaultdict\n",
    "with open('com_to_fac_marginalized_direct.yaml', 'w') as f:\n",
    "    yaml.safe_dump(oD, f, default_flow_style=True, indent=4,\n",
    "                    encoding='utf-8', width=130, explicit_start=True)\n"
   ]
  },
  {
   "cell_type": "code",
   "execution_count": null,
   "metadata": {
    "collapsed": false
   },
   "outputs": [],
   "source": [
    "print srcCatCtD['LPAL']"
   ]
  },
  {
   "cell_type": "code",
   "execution_count": null,
   "metadata": {
    "collapsed": true
   },
   "outputs": [],
   "source": [
    "newSrcCatCtD = {}\n",
    "for src, catD in srcCatCtD.items():\n",
    "    tot = sum(catD.values())\n",
    "    newCatCtD = {cat: ct/tot for cat, ct in catD.items()}\n",
    "    newSrcCatCtD[src] = newCatCtD\n",
    "srcCatCtD = newSrcCatCtD"
   ]
  },
  {
   "cell_type": "code",
   "execution_count": null,
   "metadata": {
    "collapsed": false
   },
   "outputs": [],
   "source": [
    "print srcCatCtD['LPAL']"
   ]
  },
  {
   "cell_type": "code",
   "execution_count": null,
   "metadata": {
    "collapsed": true
   },
   "outputs": [],
   "source": [
    "with open('fac_to_cat_marginalized_direct.yaml', 'w') as f:\n",
    "    yaml.safe_dump(srcCatCtD, f, default_flow_style=True, indent=4,\n",
    "                    encoding='utf-8', width=130, explicit_start=True)"
   ]
  },
  {
   "cell_type": "code",
   "execution_count": null,
   "metadata": {
    "collapsed": true
   },
   "outputs": [],
   "source": []
  }
 ],
 "metadata": {
  "kernelspec": {
   "display_name": "Python 2",
   "language": "python",
   "name": "python2"
  },
  "language_info": {
   "codemirror_mode": {
    "name": "ipython",
    "version": 2
   },
   "file_extension": ".py",
   "mimetype": "text/x-python",
   "name": "python",
   "nbconvert_exporter": "python",
   "pygments_lexer": "ipython2",
   "version": "2.7.12"
  }
 },
 "nbformat": 4,
 "nbformat_minor": 1
}
